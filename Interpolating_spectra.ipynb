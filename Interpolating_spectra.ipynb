{
 "cells": [
  {
   "cell_type": "code",
   "execution_count": 1,
   "id": "f4c87959-1683-4070-976f-d8804c799ed9",
   "metadata": {},
   "outputs": [],
   "source": [
    "from matplotlib import rc\n",
    "rc(\"font\",**{\"family\":\"serif\",\"serif\":[\"Times\"]})\n",
    "rc(\"text\", usetex=True)"
   ]
  },
  {
   "cell_type": "code",
   "execution_count": 2,
   "id": "fe204808-8b25-466c-a4a8-f4d008257a20",
   "metadata": {},
   "outputs": [],
   "source": [
    "import matplotlib.pyplot as plt\n",
    "import numpy as np\n",
    "import pandas as pd\n",
    "import glob\n",
    "import sncosmo\n",
    "from tqdm import tqdm\n",
    "from matplotlib.ticker import ScalarFormatter\n",
    "from matplotlib.backends.backend_pdf import PdfPages\n",
    "from scipy.interpolate import interp1d\n",
    "from scipy import signal\n",
    "import pickle\n",
    "import bz2"
   ]
  },
  {
   "cell_type": "code",
   "execution_count": 3,
   "id": "eda5c1fa-5d3e-4db7-b78f-6303bf4e3008",
   "metadata": {},
   "outputs": [],
   "source": [
    "plt.rcParams[\"font.size\"] = 22."
   ]
  },
  {
   "cell_type": "code",
   "execution_count": 4,
   "id": "c7a7ff95-07e3-4a4d-9256-8fedeb3c5ff2",
   "metadata": {},
   "outputs": [],
   "source": [
    "w_grid=np.arange(3305.,8590.,5.)    # wavelength grid. NEW VALUES!"
   ]
  },
  {
   "cell_type": "code",
   "execution_count": 5,
   "id": "4c1a9d2b-53a0-4f5f-81f2-0a0b79544ab9",
   "metadata": {},
   "outputs": [
    {
     "data": {
      "text/plain": [
       "1057"
      ]
     },
     "execution_count": 5,
     "metadata": {},
     "output_type": "execute_result"
    }
   ],
   "source": [
    "len(w_grid)"
   ]
  },
  {
   "cell_type": "code",
   "execution_count": 6,
   "id": "2604fc60-df4f-4af9-883d-6335b5176039",
   "metadata": {},
   "outputs": [],
   "source": [
    "class ScalarFormatterClass1(ScalarFormatter):\n",
    "    def _set_format(self):\n",
    "        self.format = \"%1.1f\""
   ]
  },
  {
   "cell_type": "markdown",
   "id": "cfc824e9-6ed8-4454-8d43-34a84d2d6b9a",
   "metadata": {},
   "source": [
    "## Retrieving the spectras"
   ]
  },
  {
   "cell_type": "code",
   "execution_count": 7,
   "id": "3518a8cc-0de8-47f9-92b7-10738d28d590",
   "metadata": {},
   "outputs": [],
   "source": [
    "file_names=glob.glob(\"./data/spectras/*.dat\")   # unit: W/m^2/nm times offset, equivalently 10^2 erg/s/cm^2/Angstrom times offset"
   ]
  },
  {
   "cell_type": "code",
   "execution_count": 8,
   "id": "15b64b26-a7e5-4a7d-9fcb-6bf8fc149040",
   "metadata": {},
   "outputs": [],
   "source": [
    "catalog = pd.read_csv(\"./data/list.dat\", names=[\"name\", \"phase\", \"path\"], sep=\"\\\\s+\")"
   ]
  },
  {
   "cell_type": "code",
   "execution_count": 9,
   "id": "6c8a7b04-f1df-4fe2-aaa1-52ce8aa69956",
   "metadata": {},
   "outputs": [
    {
     "data": {
      "text/plain": [
       "2474"
      ]
     },
     "execution_count": 9,
     "metadata": {},
     "output_type": "execute_result"
    }
   ],
   "source": [
    "len(catalog)"
   ]
  },
  {
   "cell_type": "code",
   "execution_count": 10,
   "id": "68ca8634-378a-4941-9461-0ad156f64b04",
   "metadata": {},
   "outputs": [],
   "source": [
    "sne_list=catalog[\"name\"].unique() # 171 objects"
   ]
  },
  {
   "cell_type": "code",
   "execution_count": 11,
   "id": "a7b9d2ff-d25a-49df-bb82-f00bb9f4562e",
   "metadata": {},
   "outputs": [
    {
     "data": {
      "text/plain": [
       "100"
      ]
     },
     "execution_count": 11,
     "metadata": {},
     "output_type": "execute_result"
    }
   ],
   "source": [
    "len(catalog[\"name\"].value_counts(sort=True).loc[lambda x : x<=15])"
   ]
  },
  {
   "cell_type": "code",
   "execution_count": 12,
   "id": "05127a2e-c226-44db-8c87-dfcaf816b98d",
   "metadata": {},
   "outputs": [
    {
     "data": {
      "text/plain": [
       "171"
      ]
     },
     "execution_count": 12,
     "metadata": {},
     "output_type": "execute_result"
    }
   ],
   "source": [
    "len(catalog[\"name\"].value_counts(sort=True))"
   ]
  },
  {
   "cell_type": "code",
   "execution_count": 13,
   "id": "4ffdd7a9-a49f-4236-a734-6c42b82695da",
   "metadata": {},
   "outputs": [],
   "source": [
    "# max: 32 spectras\n",
    "# min: 5 spectras\n",
    "# 21% with less or equal 10\n",
    "# 58% with less or equal 15"
   ]
  },
  {
   "cell_type": "markdown",
   "id": "5bb55bf4-b0f3-43d5-993e-856d45346b00",
   "metadata": {},
   "source": [
    "We save the figures with the superposition of actual spectra and filtered spectra. And also save 3d figures of the disposition of said spectras in time."
   ]
  },
  {
   "cell_type": "code",
   "execution_count": 14,
   "id": "1425418f-da0d-4cf4-8cae-1dda0e6bed34",
   "metadata": {},
   "outputs": [],
   "source": [
    "rmv_specs={\"Test_SN2\":[25.853,27.738,32.374],\n",
    "           \"Train_SN5\":[20.635],\n",
    "           \"Test_SN12\":[45.809],\n",
    "           \"Train_SN59\":[37.662]}"
   ]
  },
  {
   "cell_type": "code",
   "execution_count": 15,
   "id": "48cf1a65-51e8-494d-92ff-f38627a144cf",
   "metadata": {},
   "outputs": [],
   "source": [
    "interp_data={}"
   ]
  },
  {
   "cell_type": "code",
   "execution_count": 16,
   "id": "27672e47-caf7-4c96-a891-c446db9bf2f2",
   "metadata": {
    "tags": []
   },
   "outputs": [
    {
     "name": "stderr",
     "output_type": "stream",
     "text": [
      "100%|█████████████████████████████████████████| 171/171 [00:03<00:00, 50.92it/s]\n"
     ]
    }
   ],
   "source": [
    "for sn in tqdm(sne_list):\n",
    "    spec_list=catalog[catalog[\"name\"]==sn].reset_index(drop=True)\n",
    "    interp_data[sn]={}\n",
    "    spec_list.sort_values(by=\"phase\",inplace=True,ignore_index=True)\n",
    "    \n",
    "    for i in range(len(spec_list)):\n",
    "        spec_data=sncosmo.read_lc(\"./data/spectras/\"+spec_list[\"path\"][i], format=\"salt2\")\n",
    "               \n",
    "        if (sn in rmv_specs.keys()) and (spec_list[\"phase\"][i] in rmv_specs[sn]):\n",
    "            continue\n",
    "        \n",
    "        # interpolating before appplying the filter\n",
    "        \n",
    "        w_min=np.ceil(np.min(spec_data[\"WAVE\"]))\n",
    "        w_max=np.floor(np.max(spec_data[\"WAVE\"]))\n",
    "        \n",
    "        w_grid_eff=w_grid[(w_grid>=w_min) & (w_grid<=w_max)]\n",
    "\n",
    "        fluxinterp=interp1d(spec_data[\"WAVE\"],spec_data[\"SN_SPEC\"])(w_grid_eff)\n",
    "        einterp=interp1d(spec_data[\"WAVE\"],spec_data[\"SN_ERR\"])(w_grid_eff)\n",
    "       \n",
    "        interp_data[sn][spec_list[\"phase\"][i]]=pd.DataFrame({\"wave\": w_grid_eff, \"flux\": fluxinterp, \"eflux\": einterp})"
   ]
  },
  {
   "cell_type": "code",
   "execution_count": 17,
   "id": "c1c9485f-663b-416a-bb52-fd5e8ec1f610",
   "metadata": {
    "scrolled": true,
    "tags": []
   },
   "outputs": [
    {
     "name": "stderr",
     "output_type": "stream",
     "text": [
      "100%|█████████████████████████████████████████| 171/171 [01:59<00:00,  1.43it/s]\n"
     ]
    }
   ],
   "source": [
    "for sn in tqdm(sne_list):\n",
    "    pp = PdfPages(f\"./plots_interpolated_spectras/{sn}_v2.pdf\")\n",
    "    \n",
    "    for i in interp_data[sn].keys():    \n",
    "\n",
    "        fig,ax=plt.subplots(figsize=(10,8))       \n",
    "\n",
    "        ax.plot(interp_data[sn][i][\"wave\"],interp_data[sn][i][\"flux\"],label=\"Spectra at \"+str(i)+\" days\",lw=2,c=\"C0\",zorder=1)\n",
    "        ax.fill_between(interp_data[sn][i][\"wave\"],interp_data[sn][i][\"flux\"]+2*interp_data[sn][i][\"eflux\"],interp_data[sn][i][\"flux\"]-2*interp_data[sn][i][\"eflux\"],color=\"C0\",alpha=0.7,zorder=2,label=r\"$95\\%$ confidence\")\n",
    "        ax.set_ylabel(r\"Flux (erg/s/cm$^2/\\AA$ $\\times$ offset)\")\n",
    "        ax.set_xlabel(r\"Wavelength ($\\AA$)\")\n",
    "        ax.legend(fontsize=22)                                   \n",
    "        ax.autoscale()\n",
    "        formatter11=ScalarFormatterClass1()\n",
    "        formatter11.set_scientific(True)\n",
    "        formatter11.set_powerlimits((0,0))\n",
    "        ax.yaxis.set_major_formatter(formatter11)\n",
    "                \n",
    "        pp.savefig()\n",
    "        plt.close(fig)\n",
    "        \n",
    "    pp.close()"
   ]
  },
  {
   "cell_type": "code",
   "execution_count": 18,
   "id": "649c1a2a-fd3a-4c2d-9969-5d651da712a3",
   "metadata": {},
   "outputs": [
    {
     "name": "stderr",
     "output_type": "stream",
     "text": [
      "100%|█████████████████████████████████████████| 171/171 [00:25<00:00,  6.78it/s]\n"
     ]
    }
   ],
   "source": [
    "for sn in tqdm(sne_list):\n",
    "    pp = PdfPages(f\"./plots_3d_interpolated_spectras/{sn}_v2.pdf\")\n",
    "\n",
    "    fig = plt.figure(figsize=(15,12))\n",
    "    ax = plt.axes(projection=\"3d\")\n",
    "    \n",
    "    for p in interp_data[sn].keys():\n",
    "        X, Y = np.meshgrid(p,interp_data[sn][p][\"wave\"].values)\n",
    "        Z=interp_data[sn][p][\"flux\"].values.reshape(Y.shape)\n",
    "        ax.plot_wireframe(X,Y,Z,color=\"black\",lw=2)\n",
    "        ax.set_xlabel(r\"Phase (days)\")\n",
    "        ax.set_ylabel(r\"Wavelength ($\\AA$)\")\n",
    "        ax.set_zlabel(r\"Flux (erg/s/cm$^2/\\AA$ $\\times$ offset)\")\n",
    "        ax.yaxis.labelpad=20\n",
    "        ax.xaxis.labelpad=15\n",
    "        ax.zaxis.labelpad=15\n",
    "    #plt.show()\n",
    "    pp.savefig()\n",
    "    plt.close(fig)\n",
    "    pp.close()"
   ]
  },
  {
   "cell_type": "markdown",
   "id": "25f4b9bd-2fc7-4738-88b3-002d858b2c9e",
   "metadata": {
    "tags": []
   },
   "source": [
    "## Saving interpolated spectras"
   ]
  },
  {
   "cell_type": "code",
   "execution_count": 19,
   "id": "1761680e-ebe6-416a-befc-ab029b66cccb",
   "metadata": {},
   "outputs": [
    {
     "name": "stderr",
     "output_type": "stream",
     "text": [
      "100%|█████████████████████████████████████████| 171/171 [00:03<00:00, 44.34it/s]\n"
     ]
    }
   ],
   "source": [
    "for sn in tqdm(sne_list):   \n",
    "\n",
    "    f=bz2.BZ2File(f\"./interpolated_spectras/{sn}_v2.pkl\", \"wb\")\n",
    "    pickle.dump(interp_data[sn], f)\n",
    "    f.close()"
   ]
  },
  {
   "cell_type": "code",
   "execution_count": null,
   "id": "5d19a079-c67a-4f37-9ec4-79415da771b0",
   "metadata": {},
   "outputs": [],
   "source": []
  }
 ],
 "metadata": {
  "kernelspec": {
   "display_name": "Python 3 (ipykernel)",
   "language": "python",
   "name": "python3"
  },
  "language_info": {
   "codemirror_mode": {
    "name": "ipython",
    "version": 3
   },
   "file_extension": ".py",
   "mimetype": "text/x-python",
   "name": "python",
   "nbconvert_exporter": "python",
   "pygments_lexer": "ipython3",
   "version": "3.12.2"
  }
 },
 "nbformat": 4,
 "nbformat_minor": 5
}
