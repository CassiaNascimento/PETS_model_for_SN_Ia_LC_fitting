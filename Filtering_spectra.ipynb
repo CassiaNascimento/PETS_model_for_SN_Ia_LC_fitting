{
 "cells": [
  {
   "cell_type": "code",
   "execution_count": 1,
   "id": "e88f1e67-02c2-469c-a9b4-29da1e895654",
   "metadata": {
    "tags": []
   },
   "outputs": [
    {
     "name": "stderr",
     "output_type": "stream",
     "text": [
      "WARNING: AstropyDeprecationWarning: The update_default_config function is deprecated and may be removed in a future version. [sncosmo]\n"
     ]
    }
   ],
   "source": [
    "import numpy as np\n",
    "import pandas as pd\n",
    "import matplotlib.pyplot as plt\n",
    "import seaborn as sns\n",
    "import glob\n",
    "import sncosmo\n",
    "from scipy import signal\n",
    "from matplotlib.backends.backend_pdf import PdfPages\n",
    "from scipy.optimize import minimize\n",
    "from scipy.interpolate import interp1d\n",
    "from sklearn.gaussian_process.kernels import WhiteKernel, Matern, RBF, RationalQuadratic, ExpSineSquared\n",
    "from sklearn.gaussian_process import GaussianProcessRegressor\n",
    "from matplotlib.ticker import ScalarFormatter\n",
    "from scipy.interpolate import InterpolatedUnivariateSpline as Spline1d\n",
    "from tqdm import tqdm\n",
    "import pickle\n",
    "import bz2\n",
    "from ipywidgets import widgets\n",
    "import PIL\n",
    "\n",
    "sns.set_style(\"whitegrid\", {'axes.grid':'False','xtick.bottom': True,'ytick.left': True})\n",
    "\n",
    "params = {\"text.usetex\" : True,'font.size': 20, 'font.family':'serif', 'font.serif':'Computer Modern'}\n",
    "plt.rcParams.update(params)\n"
   ]
  },
  {
   "cell_type": "code",
   "execution_count": 2,
   "id": "1ca25a1a-226c-4b63-8b67-e97dcbd2e518",
   "metadata": {},
   "outputs": [],
   "source": [
    "p_grid=np.arange(-10,51,1)         # phase (days from maximum, in the SN rest frame) p=(t_obs-t_max)/(1+z)\n",
    "w_grid1=np.arange(3350,8710,10)    # wavelength in the SN rest frame lambda= lambda_obs/(1+z)\n",
    "w_grid2=np.arange(3400,8410,10)"
   ]
  },
  {
   "cell_type": "code",
   "execution_count": 3,
   "id": "862f7a15-f3c2-437e-bf55-3b15d86d75a6",
   "metadata": {},
   "outputs": [],
   "source": [
    "class ScalarFormatterClass1(ScalarFormatter):\n",
    "    def _set_format(self):\n",
    "        self.format = \"%1.1f\""
   ]
  },
  {
   "cell_type": "markdown",
   "id": "57ec8909-df2c-4a30-8aa3-f2964435dc6d",
   "metadata": {},
   "source": [
    "## Applying filter in SN Factoty SNe Spectras"
   ]
  },
  {
   "cell_type": "code",
   "execution_count": 4,
   "id": "62865f60-7ee7-4a42-b9bd-a0da902a4561",
   "metadata": {
    "tags": []
   },
   "outputs": [],
   "source": [
    "file_names=glob.glob('./data/sp/*.dat')   # unit: W/m^2/nm times offset, equivalently 10^2 erg/s/cm^2/Angstrom times offset"
   ]
  },
  {
   "cell_type": "code",
   "execution_count": 5,
   "id": "c2ebcd16-fa29-4927-b73e-d3182765a1c9",
   "metadata": {},
   "outputs": [],
   "source": [
    "catalog = pd.read_csv('./data/list.dat', names=['name', 'phase', 'path'], sep='\\s+')"
   ]
  },
  {
   "cell_type": "code",
   "execution_count": 6,
   "id": "c327de20-c0f2-44cf-8258-888b1e227bb4",
   "metadata": {
    "tags": []
   },
   "outputs": [],
   "source": [
    "sne_list=catalog[\"name\"].unique() # The choice of test sn ou train sn is from SNEMO, we stil havent made this separation"
   ]
  },
  {
   "cell_type": "markdown",
   "id": "6dcf138b-08b2-4146-9e6a-5040a0b493a3",
   "metadata": {},
   "source": [
    "We save the figures with the superposition of actual spectra and filtered spectra. And also save 3d figures of the disposition of said spectras in time."
   ]
  },
  {
   "cell_type": "code",
   "execution_count": 7,
   "id": "59baa739-2361-4f7d-bc75-7327e7833b31",
   "metadata": {},
   "outputs": [],
   "source": [
    "filtered_reg_data={}"
   ]
  },
  {
   "cell_type": "code",
   "execution_count": 8,
   "id": "4cfbbe68-5993-464e-95a6-ca7a35baacf5",
   "metadata": {},
   "outputs": [],
   "source": [
    "# Discutir: Test_SN7, Test_SN8, Train_SN31, Train_SN30"
   ]
  },
  {
   "cell_type": "code",
   "execution_count": 9,
   "id": "85d50ba1-38e6-45fb-a4d1-9cd38a6606bb",
   "metadata": {},
   "outputs": [],
   "source": [
    "rmv_specs={\"Test_SN2\":[25.853,27.738,32.374],\n",
    "           \"Train_SN5\":[20.635],\n",
    "           \"Test_SN12\":[45.809],\n",
    "           \"Train_SN59\":[37.662]}"
   ]
  },
  {
   "cell_type": "code",
   "execution_count": 10,
   "id": "b02edb1b-356d-4e5c-938c-cf7d0aee94c1",
   "metadata": {
    "tags": []
   },
   "outputs": [
    {
     "name": "stderr",
     "output_type": "stream",
     "text": [
      "100%|█████████████████████████████████████████| 171/171 [05:07<00:00,  1.80s/it]\n"
     ]
    }
   ],
   "source": [
    "for sn in tqdm(sne_list):\n",
    "    pp = PdfPages(f\"./plots_filtered_spectras/{sn}.pdf\")\n",
    "    spec_list=catalog[catalog[\"name\"]==sn].reset_index(drop=True)\n",
    "    filtered_reg_data[sn]={}\n",
    "    for i in range(len(spec_list)):\n",
    "        spec_data=sncosmo.read_lc(\"./data/sp/\"+spec_list[\"path\"][i], format='salt2')\n",
    "        if (sn in rmv_specs.keys()) and (spec_list[\"phase\"][i] in rmv_specs[sn]):\n",
    "            continue\n",
    "\n",
    "        fig,ax=plt.subplots(figsize=(10,8))\n",
    "        # Applying filters\n",
    "        nyquist_frequecy=1/25 # Alterei de 1/10 para 1/25 porque o fluxo filtrado estava muito suave, pulando varios detalhes\n",
    "        cutoff=1/100\n",
    "        \n",
    "        b, a = signal.butter(8, cutoff/nyquist_frequecy, analog=False)   \n",
    "        filtered_flux=signal.filtfilt(b, a, spec_data[\"SN_SPEC\"], padlen=0)\n",
    "        #err_filtered_flux_up=signal.filtfilt(b, a, spec_data[\"SN_SPEC\"]+spec_data[\"SN_ERR\"], padlen=0) # Forma aproximada de levar o erro do espectro em conta\n",
    "        #err_filtered_flux_down=signal.filtfilt(b, a, spec_data[\"SN_SPEC\"]-spec_data[\"SN_ERR\"], padlen=0)\n",
    "        cont_error_filtering=(filtered_flux-spec_data[\"SN_SPEC\"])/3  # Nova abordagem para levar em conta o erro na estimativa do espectro filtrado\n",
    "        error_estimative=np.sqrt(cont_error_filtering**2+spec_data[\"SN_ERR\"]**2)\n",
    "\n",
    "        eff_grid=w_grid1[(w_grid1>=spec_data[\"WAVE\"][0]) & (w_grid1<=spec_data[\"WAVE\"][-1]-100)]\n",
    "        \n",
    "        reg_filt_flux=interp1d(spec_data[\"WAVE\"].value,filtered_flux)(eff_grid)\n",
    "        error_flux=interp1d(spec_data[\"WAVE\"].value,error_estimative)(eff_grid)\n",
    "        #err_reg_filt_flux_up=interp1d(spec_data[\"WAVE\"].value,err_filtered_flux_up)(eff_grid)\n",
    "        #err_reg_filt_flux_down=interp1d(spec_data[\"WAVE\"].value,err_filtered_flux_down)(eff_grid)\n",
    "        #fluxerr=err_reg_filt_flux_up-reg_filt_flux\n",
    "\n",
    "        filtered_reg_data[sn][(spec_list[\"phase\"][i])]=pd.DataFrame({\"wave\":eff_grid,\"flux\":reg_filt_flux,\"err_flux\":error_flux})\n",
    "        \n",
    "        ax.plot(spec_data[\"WAVE\"],spec_data[\"SN_SPEC\"],label=\"Spectra at \"+str(spec_list[\"phase\"][i])+\" days\",lw=2,c=\"#1f77b4\",zorder=1)\n",
    "        ax.fill_between(spec_data[\"WAVE\"],spec_data[\"SN_SPEC\"]+2*spec_data[\"SN_ERR\"],spec_data[\"SN_SPEC\"]-2*spec_data[\"SN_ERR\"],color=\"#1f77b4\",alpha=0.7,zorder=2,label=r\"95\\% confidence\")\n",
    "        ax.plot(eff_grid,reg_filt_flux,zorder=3,color=\"#ff7f0e\",label=\"Filtered spectra\",lw=2)\n",
    "        ax.fill_between(eff_grid,reg_filt_flux+2*error_flux,reg_filt_flux-2*error_flux,alpha=0.7,zorder=4,color=\"#ff7f0e\",label=r\"95\\% confidence\")\n",
    "        ax.set_xlabel(r\"Wavelength ($\\AA$)\")\n",
    "        ax.set_ylabel(r\"Flux (erg/s/cm$^2/\\AA$ $\\times$ offset)\") # não substitui o offset por 10^2, pq no mesmo arquivo que tem a unidade\n",
    "        ax.legend(fontsize=20)                                    # eles também escrevem que tem uma multiplicação por \"random offset\", e de fato os valores estariam muito grandes, então há um offset a mais de fato\n",
    "        ax.autoscale()\n",
    "        formatter11=ScalarFormatterClass1()\n",
    "        formatter11.set_scientific(True)\n",
    "        formatter11.set_powerlimits((0,0))\n",
    "        ax.yaxis.set_major_formatter(formatter11)\n",
    "        #plt.show()\n",
    "        pp.savefig()\n",
    "        plt.close(fig)\n",
    "    pp.close()\n",
    "       \n",
    "    pp = PdfPages(f\"./plots_3d_filtered_spectras/{sn}.pdf\")\n",
    "    fig = plt.figure(figsize=(15,12))\n",
    "    ax = plt.axes(projection='3d')\n",
    "    for p in filtered_reg_data[sn].keys():\n",
    "        X, Y = np.meshgrid(p,filtered_reg_data[sn][p][\"wave\"].values)\n",
    "        Z=np.array(filtered_reg_data[sn][p][\"flux\"].values).reshape(Y.shape)\n",
    "        ax.plot_wireframe(X,Y,Z,color=\"black\",lw=2)\n",
    "        ax.set_xlabel(r\"Phase (days)\")\n",
    "        ax.set_ylabel(r\"Wavelength ($\\AA$)\")\n",
    "        ax.set_zlabel(r\"Flux (erg/s/cm$^2/\\AA$ $\\times$ offset)\")\n",
    "        ax.yaxis.labelpad=20\n",
    "        ax.xaxis.labelpad=15\n",
    "        ax.zaxis.labelpad=15\n",
    "    #plt.show()\n",
    "    pp.savefig()\n",
    "    plt.close(fig)\n",
    "    pp.close()"
   ]
  },
  {
   "cell_type": "markdown",
   "id": "8e738900-1207-422e-81f3-9c80ed1041fb",
   "metadata": {},
   "source": [
    "## Saving filtered spectras"
   ]
  },
  {
   "cell_type": "code",
   "execution_count": 11,
   "id": "a7c5fed6-aa86-441d-839a-81b549280fe2",
   "metadata": {},
   "outputs": [],
   "source": [
    "for sn in filtered_reg_data.keys():\n",
    "    f=bz2.BZ2File(f'./filtered_spectras/{sn}.pkl', 'wb')\n",
    "    pickle.dump(filtered_reg_data[sn], f)\n",
    "    f.close()"
   ]
  },
  {
   "cell_type": "code",
   "execution_count": null,
   "id": "c24f8dc9-4db1-4c4d-90ba-4a4b155c54bd",
   "metadata": {},
   "outputs": [],
   "source": []
  }
 ],
 "metadata": {
  "kernelspec": {
   "display_name": "Python 3 (ipykernel)",
   "language": "python",
   "name": "python3"
  },
  "language_info": {
   "codemirror_mode": {
    "name": "ipython",
    "version": 3
   },
   "file_extension": ".py",
   "mimetype": "text/x-python",
   "name": "python",
   "nbconvert_exporter": "python",
   "pygments_lexer": "ipython3",
   "version": "3.10.5"
  }
 },
 "nbformat": 4,
 "nbformat_minor": 5
}
