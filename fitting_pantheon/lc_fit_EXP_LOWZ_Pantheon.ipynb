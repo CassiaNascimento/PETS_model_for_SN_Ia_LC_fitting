{
 "cells": [
  {
   "cell_type": "code",
   "execution_count": 1,
   "id": "6572e158",
   "metadata": {
    "tags": []
   },
   "outputs": [
    {
     "name": "stderr",
     "output_type": "stream",
     "text": [
      "WARNING: AstropyDeprecationWarning: The update_default_config function is deprecated and may be removed in a future version. [sncosmo]\n"
     ]
    }
   ],
   "source": [
    "import seaborn as sns\n",
    "import sncosmo\n",
    "import numpy as np\n",
    "import pandas as pd\n",
    "import matplotlib.pyplot as plt\n",
    "from sncosmo.salt2utils import BicubicInterpolator\n",
    "from scipy.interpolate import (\n",
    "    InterpolatedUnivariateSpline as Spline1d,\n",
    "    RectBivariateSpline as Spline2d\n",
    ")\n",
    "import pickle as pk\n",
    "from matplotlib.backends.backend_pdf import PdfPages\n",
    "import os \n",
    "from matplotlib.offsetbox import AnchoredText\n",
    "import astropy.constants as const\n",
    "import astropy.units as u\n",
    "from matplotlib.ticker import ScalarFormatter\n",
    "\n",
    "H_ERG_S = const.h.cgs.value\n",
    "C_AA_PER_S = const.c.to(u.AA / u.s).value\n",
    "HC_ERG_AA = H_ERG_S * C_AA_PER_S\n",
    "SCALE_FACTOR = 1e-12\n",
    "\n",
    "sns.set_style(\"whitegrid\", {'axes.grid':'False','xtick.bottom': True,'ytick.left': True})\n",
    "\n",
    "params = {\"text.usetex\" : True,'font.size': 20, 'font.family':'serif', 'font.serif':'Computer Modern'}\n",
    "plt.rcParams.update(params)\n"
   ]
  },
  {
   "cell_type": "code",
   "execution_count": 2,
   "id": "b4a1d4d0-fc3f-45c9-8c32-916e2a2cb2d7",
   "metadata": {},
   "outputs": [],
   "source": [
    "class ScalarFormatterClass1(ScalarFormatter):\n",
    "    def _set_format(self):\n",
    "        self.format = \"%1.1f\""
   ]
  },
  {
   "cell_type": "markdown",
   "id": "a67bac7d-8d4c-4021-9cc7-1f8d47e03c19",
   "metadata": {
    "tags": []
   },
   "source": [
    "## Comentários"
   ]
  },
  {
   "cell_type": "code",
   "execution_count": 3,
   "id": "89b674c5-04b7-4fea-9e14-538b5a4bf7e1",
   "metadata": {},
   "outputs": [],
   "source": [
    "#"
   ]
  },
  {
   "cell_type": "markdown",
   "id": "0964b5a7-2af2-42a8-9199-075f65bafe43",
   "metadata": {
    "tags": []
   },
   "source": [
    "## Recuperando curvas de luz"
   ]
  },
  {
   "cell_type": "code",
   "execution_count": 4,
   "id": "63aec6ca",
   "metadata": {},
   "outputs": [],
   "source": [
    "path=\"./light_curves/Pantheon/Pantheon_LOWZ_TEXT/\""
   ]
  },
  {
   "cell_type": "code",
   "execution_count": 5,
   "id": "1e8f3743",
   "metadata": {},
   "outputs": [],
   "source": [
    "l=[]\n",
    "with open(path+\"Pantheon_LOWZ_TEXT.README\",'r') as f:\n",
    "    for line in f:\n",
    "        l.append(line.split())"
   ]
  },
  {
   "cell_type": "code",
   "execution_count": 6,
   "id": "c435ac2e",
   "metadata": {},
   "outputs": [],
   "source": [
    "sne_pass_cut=[l[9:181][i][0] for i in range(0,len(l[9:181]))]"
   ]
  },
  {
   "cell_type": "code",
   "execution_count": 7,
   "id": "5511157a",
   "metadata": {},
   "outputs": [
    {
     "data": {
      "text/plain": [
       "172"
      ]
     },
     "execution_count": 7,
     "metadata": {},
     "output_type": "execute_result"
    }
   ],
   "source": [
    "len(sne_pass_cut)"
   ]
  },
  {
   "cell_type": "markdown",
   "id": "17625c26",
   "metadata": {
    "tags": []
   },
   "source": [
    "## Decodificando filtros"
   ]
  },
  {
   "cell_type": "code",
   "execution_count": 8,
   "id": "3709d01f",
   "metadata": {},
   "outputs": [],
   "source": [
    "filters_dict={\"CFA3S\": {\"a\":\"U\", \"b\":\"B\", \"c\":\"V\", \"d\":\"R\", \"e\":\"I\"},\n",
    "\"CFA3K\": {\"f\":\"U\", \"g\":\"B\", \"h\":\"V\", \"i\":\"r\", \"j\":\"i\"},\n",
    "\"CFA4p1\": {\"k\":\"U\", \"l\":\"B\", \"m\":\"V\", \"n\":\"r\", \"o\":\"i\"},\n",
    "\"CFA4p2\": {\"p\":\"B\", \"q\":\"V\", \"r\":\"r\", \"s\":\"i\"},\n",
    "\"CSP\": {\"t\":\"u\", \"u\":\"B\", \"v\":\"V_LC3009\", \"w\":\"V_LC3014\", \"x\":\"V_LC9844\", \"y\":\"g\", \"z\":\"r\",\"A\":\"i\"},\n",
    "\"CFA1\": {\"B\":\"ux\", \"C\":\"b\", \"D\":\"v\", \"E\":\"r\", \"F\":\"i\"}, \n",
    "\"CFA2\": {\"G\":\"ux\", \"H\":\"b\", \"I\":\"v\", \"J\":\"r\", \"K\":\"i\"}}"
   ]
  },
  {
   "cell_type": "code",
   "execution_count": 9,
   "id": "003f2b4a",
   "metadata": {},
   "outputs": [],
   "source": [
    "def path_filter(f):\n",
    "    path_f=\"/home/cassia/SNANA/snroot/filters/PS1/Pantheon\"\n",
    "    \n",
    "    filters_path={\"CFA3S\": path_f+\"/CFA3_native/SNLS3_4shooter2_\"+f+\".dat\", \n",
    "    # U B V R I ///// unit: COUNT\n",
    "     \n",
    "    \"CFA3K\": path_f+\"/PS1_CFA4/cfa4_\"+f+\"_p1.dat\",              \n",
    "    # U B V r i ///// unit: COUNT\n",
    "                  \n",
    "    \"CFA4p1\": path_f+\"/PS1_CFA4/cfa4_\"+f+\"_p1.dat\", \n",
    "    # U B V r i ///// unit: COUNT\n",
    "                  \n",
    "    \"CFA4p2\": path_f+\"/PS1_CFA4/cfa4_\"+f+\"_p2.dat\", \n",
    "    # B V r i ///// unit: COUNT\n",
    "    \n",
    "    \"CSP\": path_f+\"/CSP_Str11/\"+f+\"_texas_WLcorr_atm.txt\", \n",
    "    # u B V_LC3009 V_LC3014 V_LC9844 g r i ///// unit: COUNT\n",
    "    \n",
    "    \"CFA1\": path_f+\"/SNLS3-Landolt/s\"+f+\"-shifted.dat_5A\", \n",
    "    # ux b v r i  ///// unit: COUNT\n",
    "    \n",
    "    \"CFA2\": path_f+\"/SNLS3-Landolt/s\"+f+\"-shifted.dat_5A\"} \n",
    "    # ux b v r i ///// unit: COUNT\n",
    "    \n",
    "    return filters_path"
   ]
  },
  {
   "cell_type": "markdown",
   "id": "5295a5d4-50ec-4f32-b9a6-be24e563cfe5",
   "metadata": {
    "tags": []
   },
   "source": [
    "## Registrando filtros e criando sistema de magnitude composto"
   ]
  },
  {
   "cell_type": "code",
   "execution_count": 10,
   "id": "237f06be-7368-4a24-b534-37609af5a302",
   "metadata": {},
   "outputs": [],
   "source": [
    "for surv in filters_dict:\n",
    "    for filt in filters_dict[surv].values():\n",
    "\n",
    "        wave = pd.read_csv(path_filter(filt)[surv],header=None,sep=\"\\s+\",comment=\"#\")[0].values\n",
    "        trans = pd.read_csv(path_filter(filt)[surv],header=None,sep=\"\\s+\",comment=\"#\")[1].values\n",
    "        band = sncosmo.Bandpass(wave, trans, name=surv+'_'+filt,trim_level=0.05)\n",
    "        \n",
    "        sncosmo.registry.register(band)"
   ]
  },
  {
   "cell_type": "code",
   "execution_count": 11,
   "id": "0fb57076-b8f6-4740-94a9-7d3bf75c8153",
   "metadata": {},
   "outputs": [],
   "source": [
    "bd17=sncosmo.get_magsystem('bd17')"
   ]
  },
  {
   "cell_type": "code",
   "execution_count": 12,
   "id": "af3f48cf-b1e8-400c-88e6-d8c980ddb6e2",
   "metadata": {
    "tags": []
   },
   "outputs": [],
   "source": [
    "magsystem = {\"CFA3S\":{\"CFA3S_U\":('bd17',9.6930),\n",
    "                      \"CFA3S_B\":('bd17',9.87400-0.0345),\n",
    "                      \"CFA3S_V\":('bd17',9.47900-0.0087),\n",
    "                      \"CFA3S_R\":('bd17',9.15500-0.021),\n",
    "                      \"CFA3S_I\":('bd17',8.85100-0.0136)},\n",
    "             \"CFA3K\":{\"CFA3K_U\":('bd17',9.724),\n",
    "                      \"CFA3K_B\":('bd17',9.88605-0.024),\n",
    "                      \"CFA3K_V\":('bd17',9.47432-0.0012),\n",
    "                      \"CFA3K_r\":('bd17',9.35252+0.0025 ),\n",
    "                      \"CFA3K_i\":('bd17',9.25465-0.004)},\n",
    "             \"CFA4p1\":{\"CFA4p1_U\":('bd17',9.724),\n",
    "                      \"CFA4p1_B\":('bd17', 9.88605-0.024),\n",
    "                      \"CFA4p1_V\":('bd17',9.47432-0.0012),\n",
    "                      \"CFA4p1_r\":('bd17',9.35252+0.0025),\n",
    "                      \"CFA4p1_i\":('bd17',9.25465-0.004)},\n",
    "             \"CFA4p2\":{\"CFA4p2_B\":('bd17',9.86124+0.0027108700),\n",
    "                      \"CFA4p2_V\":('bd17',9.47432-0.0012322002),\n",
    "                      \"CFA4p2_r\":('bd17',9.35730+0.0058652098),\n",
    "                      \"CFA4p2_i\":('bd17',9.25521-0.0042374653)},\n",
    "             \"CSP\":{\"CSP_u\":('bd17',10.51952),\n",
    "                      \"CSP_B\":('bd17', 9.87643-0.0082722800),\n",
    "                      \"CSP_V_LC3009\":('bd17',9.47663+0.0017663098),\n",
    "                      \"CSP_V_LC3014\":('bd17',9.47128+0.0017663098),\n",
    "                      \"CSP_V_LC9844\":('bd17',9.47748+0.0017663098),\n",
    "                      \"CSP_g\":('bd17',9.64406+0.0088273000),\n",
    "                      \"CSP_r\":('bd17',9.35160+0.0011820498),\n",
    "                      \"CSP_i\":('bd17',9.25000-0.016103720)},\n",
    "             \"CFA1\":{\"CFA1_ux\":('bd17',9.72400),\n",
    "                      \"CFA1_b\":('bd17',9.90700),\n",
    "                      \"CFA1_v\":('bd17',9.46400),\n",
    "                      \"CFA1_r\":('bd17',9.16600),\n",
    "                      \"CFA1_i\":('bd17',8.84600)},\n",
    "             \"CFA2\":{\"CFA2_ux\":('bd17',9.72400),\n",
    "                      \"CFA2_b\":('bd17',9.90700),\n",
    "                      \"CFA2_v\":('bd17',9.46400),\n",
    "                      \"CFA2_r\":('bd17',9.16600),\n",
    "                      \"CFA2_i\":('bd17',8.84600)},\n",
    "            }"
   ]
  },
  {
   "cell_type": "markdown",
   "id": "5b5d83c4-9c37-4b34-81bf-5ad73726e509",
   "metadata": {},
   "source": [
    "## Criando modelo EXP"
   ]
  },
  {
   "cell_type": "code",
   "execution_count": 13,
   "id": "f077ac3f-3d52-49c3-847d-89dc87466679",
   "metadata": {},
   "outputs": [],
   "source": [
    "class EXP_LC(sncosmo.Source):\n",
    "    \n",
    "    _param_names = ['x0', 'x1', 'x2']\n",
    "    param_names_latex = ['x_0', 'x_1', 'x_2']\n",
    "    \n",
    "    \n",
    "    def __init__(self, phase, wave, flux0, flux1, flux2, name='EXP', version='2021'):\n",
    "\n",
    "        self.name = name\n",
    "        self.version = version\n",
    "        self._phase = phase\n",
    "        self._wave = wave\n",
    "        \n",
    "        self._model_flux0  = BicubicInterpolator(phase, wave, flux0.T)\n",
    "        self._model_flux1  = BicubicInterpolator(phase, wave, flux1.T)\n",
    "        self._model_flux2  = BicubicInterpolator(phase, wave, flux2.T)\n",
    "\n",
    "        self._parameters = np.array([1, 0, 0])  # initial guess\n",
    "        \n",
    "\n",
    "    def _flux(self, phase, wave):\n",
    "        \n",
    "        x0, x1, x2= self._parameters\n",
    "        return x0 * (self._model_flux0(phase, wave) +  x1 * self._model_flux1(phase, wave) +  x2 * self._model_flux2(phase, wave))"
   ]
  },
  {
   "cell_type": "code",
   "execution_count": 14,
   "id": "43c7ffcb-4a97-4da9-9e7d-4541b5e91e3b",
   "metadata": {},
   "outputs": [],
   "source": [
    "gridx2 = np.linspace(-10, 50, 50+10+1, dtype=int)\n",
    "gridy2 = np.linspace(3400, 8400, int((8400-3400)/10+1), dtype=int)"
   ]
  },
  {
   "cell_type": "code",
   "execution_count": 15,
   "id": "03a91d97-1cd8-4f05-ab7b-9ebb4699305d",
   "metadata": {},
   "outputs": [],
   "source": [
    "X, Y = np.meshgrid(gridx2,gridy2)"
   ]
  },
  {
   "cell_type": "markdown",
   "id": "10457d7b-e571-4209-b973-3aee8502656c",
   "metadata": {
    "tags": []
   },
   "source": [
    "#### Templates FA"
   ]
  },
  {
   "cell_type": "code",
   "execution_count": 16,
   "id": "884a80bc-a925-4fb5-8750-c8a5f87dc0d3",
   "metadata": {},
   "outputs": [],
   "source": [
    "M_fa=[]\n",
    "for i in range(3):\n",
    "    M_fa.append(np.loadtxt(\"../fa/sk_varimax_M\"+str(i)+\".txt\")*SCALE_FACTOR)"
   ]
  },
  {
   "cell_type": "markdown",
   "id": "d215b117-0e22-4fa6-89d3-365d035c2965",
   "metadata": {
    "tags": []
   },
   "source": [
    "#### Templates PCA"
   ]
  },
  {
   "cell_type": "code",
   "execution_count": 17,
   "id": "cdf02937-ccff-4836-b7e3-d722c3b45471",
   "metadata": {},
   "outputs": [],
   "source": [
    "M_pca=[]\n",
    "for i in range(3):\n",
    "    M_pca.append(np.loadtxt(\"../pca/M\"+str(i)+\"_pca.txt\")*SCALE_FACTOR)"
   ]
  },
  {
   "cell_type": "markdown",
   "id": "ba461da8-d3d3-4805-8189-5af0a884b6f6",
   "metadata": {},
   "source": [
    "### Criando os modelos"
   ]
  },
  {
   "cell_type": "code",
   "execution_count": 18,
   "id": "c77acd69-470c-47fd-9b27-d9385954b7dc",
   "metadata": {},
   "outputs": [],
   "source": [
    "exp_fa = EXP_LC(gridx2, gridy2, M_fa[0], M_fa[1], M_fa[2])\n",
    "exp_pca = EXP_LC(gridx2, gridy2, M_pca[0], M_pca[1], M_pca[2])"
   ]
  },
  {
   "cell_type": "code",
   "execution_count": 19,
   "id": "06fdb723-4703-447b-a5c3-1566bc219cbc",
   "metadata": {},
   "outputs": [],
   "source": [
    "sncosmo.register(exp_fa,name=\"exp_fa_varimax\")\n",
    "sncosmo.register(exp_pca,name=\"exp_pca\")"
   ]
  },
  {
   "cell_type": "markdown",
   "id": "f89b91ed-a7de-4edd-a738-5312e17852e2",
   "metadata": {},
   "source": [
    "## Escolha do modelo"
   ]
  },
  {
   "cell_type": "code",
   "execution_count": 20,
   "id": "d5da5a9b-112a-4cde-b14e-1e4527073045",
   "metadata": {},
   "outputs": [],
   "source": [
    "modelo=\"exp_fa_varimax\""
   ]
  },
  {
   "cell_type": "markdown",
   "id": "410d3848",
   "metadata": {
    "tags": []
   },
   "source": [
    "## Ajustando curvas de luz"
   ]
  },
  {
   "cell_type": "code",
   "execution_count": 21,
   "id": "bc3464a9",
   "metadata": {},
   "outputs": [],
   "source": [
    "def lc_fit(sn):    \n",
    "\n",
    "    if os.path.exists(path+\"CFA3_4SHOOTER2_\"+sn+\".DAT\"):\n",
    "        meta, tables = sncosmo.read_snana_ascii(path+\"CFA3_4SHOOTER2_\"+sn+\".DAT\", default_tablename='OBS') \n",
    "        \n",
    "    elif os.path.exists(path+\"CFA3_KEPLERCAM_\"+sn+\".DAT\"):\n",
    "        meta, tables = sncosmo.read_snana_ascii(path+\"CFA3_KEPLERCAM_\"+sn+\".DAT\", default_tablename='OBS')\n",
    "        \n",
    "    elif os.path.exists(path+\"CFA4_p1_\"+sn+\".dat\"):\n",
    "        meta, tables = sncosmo.read_snana_ascii(path+\"CFA4_p1_\"+sn+\".dat\", default_tablename='OBS')\n",
    "        \n",
    "    elif os.path.exists(path+\"CFA4_p2_\"+sn+\".dat\"):\n",
    "        meta, tables = sncosmo.read_snana_ascii(path+\"CFA4_p2_\"+sn+\".dat\", default_tablename='OBS')\n",
    "        \n",
    "    elif os.path.exists(path+\"CSPDR2_\"+sn+\".dat\"):\n",
    "        meta, tables = sncosmo.read_snana_ascii(path+\"CSPDR2_\"+sn+\".dat\", default_tablename='OBS')\n",
    "        \n",
    "    elif os.path.exists(path+\"LOWZ_JRK07_\"+sn+\".DAT\"):\n",
    "        meta, tables = sncosmo.read_snana_ascii(path+\"LOWZ_JRK07_\"+sn+\".DAT\", default_tablename='OBS')\n",
    "        \n",
    "    else:\n",
    "        print(sn)\n",
    "    \n",
    "    dat=tables[\"OBS\"]\n",
    "    surv=meta[\"SURVEY\"].split(\"(\")[1][:-1]\n",
    "\n",
    "    dat.add_column([surv+\"_\"+filters_dict[surv][f] for f in dat[\"FLT\"]], name='FILTER') # decodificando\n",
    "    dat.remove_column(\"FLT\")\n",
    "    \n",
    "    dat.remove_rows(np.where(dat[\"FILTER\"]==surv+\"_I\")[0])\n",
    "    dat.remove_rows(np.where(dat[\"FILTER\"]==surv+\"_i\")[0])\n",
    "    \n",
    "    if sn in [\"2000fa\",\"2000dk\",\"2000cn\",\"2000B\",\"1999cc\",\"1997E\",\"1996bv\",\"1995ak\",\n",
    "              \"1994M\",\"1993ae\",\"2008hv\",\"2007ca\",\"2006lu\",\"2006eq\",\"2006bh\",\"2005kc\",\n",
    "              \"2005el\",\"2010Y\"]:\n",
    "        dat.remove_rows(np.where(dat[\"FILTER\"]==surv+\"_r\")[0])\n",
    "    \n",
    "    if sn in [\"2008gp\"]:\n",
    "        dat.remove_rows(np.where(dat[\"FILTER\"]==surv+\"_g\")[0])\n",
    "    \n",
    "    dat.remove_rows(np.where(dat[\"FLUXCAL\"]<0)[0])\n",
    "    dat.remove_rows(np.where(np.isnan(dat[\"MAG\"]))[0])\n",
    "\n",
    "    magsys=sncosmo.CompositeMagSystem(bands=magsystem[surv],name=\"magsys\")\n",
    "    sncosmo.register(magsys,force=True)\n",
    "        \n",
    "    dat[\"FLUX\"]=[magsys.band_mag_to_flux(dat[\"MAG\"][i],dat[\"FILTER\"][i]) for i in range(len(dat[\"MAG\"]))]\n",
    "    dat[\"FLUXERR\"]=[abs(0.4*dat[\"FLUX\"][i]*np.log(10.)*dat[\"MAGERR\"][i]) for i in range(len(dat[\"MAG\"]))]\n",
    "    dat.remove_columns([\"FIELD\",\"MAG\",\"MAGERR\"])\n",
    "    \n",
    "    #dat.remove_rows(np.where(dat[\"FLUX\"]/dat[\"FLUXERR\"]<5)[0])\n",
    "\n",
    "    # ref de repouso: (t-t0)/(1+z), no SNANA fazem um corte de -15 a 45 no referencial de repouso. E também tem um corte no \n",
    "    # intervalo de comprimento de onda, eu apliquei esses cortes abaixo em phase_range e wave_range. Porém não tenho certeza\n",
    "    # se o sncosmo corta no ref de repouso ou do observador. Alterando isso, os valores de x1 para 2001ah e 2001az mudam drasticamento\n",
    "    # equivalendo a mesma mudança que ocorre no snana quando fazemos a mesma alteração no TREST_REJECT.    \n",
    "    \n",
    "    dat[\"ZP\"]=[2.5*np.log10(magsys.zpbandflux(f)) for f in dat[\"FILTER\"]]\n",
    "    dat.add_column(\"magsys\", name='ZPSYS')\n",
    "    \n",
    "    dust = sncosmo.F99Dust() \n",
    "\n",
    "    # para algumas sne como 2006bb o chi2 da minimizacao da Nan e não é possível ajustar a sn. A mesma sn no snana é ajustada pelo salt.\n",
    "    # alterando intervalo de dias e comprimento de onda de atuação do ajustador, ainda não é possível evitar o nan já no primeiro passo.\n",
    "      \n",
    "    model = sncosmo.Model(source=modelo,effects=[dust],effect_names=['mw'],effect_frames=['obs'])\n",
    "    model.set(z=meta[\"REDSHIFT_FINAL\"],mwebv=meta[\"MWEBV\"])\n",
    "    try:\n",
    "        result, fitted_model = sncosmo.fit_lc(dat, model, ['t0','x0', 'x1', 'x2'],bounds={\"t0\":(meta[\"SEARCH_PEAKMJD\"]-5,meta[\"SEARCH_PEAKMJD\"]+5)},modelcov=False, phase_range=(-10, 40.), wave_range=(3400.,7000.), verbose=False)\n",
    "        #bounds={\"t0\":(meta[\"SEARCH_PEAKMJD\"]-10,meta[\"SEARCH_PEAKMJD\"]+10),\"x1\":(-5.,5.),\"x2\":(-5.,5.)}\n",
    "    except:\n",
    "        print(f\"SN {sn} fit returns NaN\")\n",
    "        result=None\n",
    "        fitted_model=None\n",
    "    \n",
    "    return meta, surv, dat, result, fitted_model"
   ]
  },
  {
   "cell_type": "code",
   "execution_count": 22,
   "id": "82bdbc39-e372-4c04-832b-29a4e38bcfbb",
   "metadata": {
    "tags": []
   },
   "outputs": [],
   "source": [
    "pp = PdfPages(f\"./lc_fit_plot_{modelo.upper()}_LOWZ_Pantheon.pdf\")"
   ]
  },
  {
   "cell_type": "code",
   "execution_count": 23,
   "id": "8d300101-66d5-481a-b72f-da4d0c9dec59",
   "metadata": {},
   "outputs": [],
   "source": [
    "colors1=[\"#440154\"]\n",
    "colors2=[\"#fde725\",\"#440154\"]\n",
    "colors3=[\"#fde725\",\"#21918c\",\"#440154\"]\n",
    "colors4=[\"#fde725\",\"#35b779\",\"#31688e\",\"#440154\"]"
   ]
  },
  {
   "cell_type": "code",
   "execution_count": 24,
   "id": "d482a851-0617-4dcc-a436-02a1ed1f7f90",
   "metadata": {},
   "outputs": [],
   "source": [
    "def lc_fit_plot(sn, surv,table_data, result, fitted_model):\n",
    "    z=round(result[\"parameters\"][0],2)\n",
    "    t0=round(result[\"parameters\"][1],2)\n",
    "    x1=round(result[\"parameters\"][3],2)\n",
    "    x1err=round(result[\"errors\"][\"x1\"],2)\n",
    "    x2=round(result[\"parameters\"][4],2)\n",
    "    x2err=round(result[\"errors\"][\"x2\"],2)\n",
    "    mwebv=result[\"parameters\"][5]\n",
    "    phase=np.linspace(t0-10.,t0+50.,100)\n",
    "\n",
    "    if result.ndof>0:\n",
    "        fil=[]\n",
    "        for i,f in enumerate(magsystem[surv].keys()): \n",
    "            if len(table_data[table_data[\"FILTER\"]==f])==0:\n",
    "                continue\n",
    "            else:\n",
    "                try:\n",
    "                    fitted_model.bandflux(f, phase)\n",
    "                    fil.append(f)\n",
    "                    continue\n",
    "                except:\n",
    "                    continue\n",
    "        fig, axs=plt.subplots(len(fil),1,figsize=(10,4*len(fil)),sharex=True)\n",
    "        fig.subplots_adjust(hspace=0.1)\n",
    "        if len(fil)==1:\n",
    "            for i,f in enumerate(fil): \n",
    "                colors=eval(\"colors\"+str(len(fil)))\n",
    "                axs.plot(phase-t0,fitted_model.bandflux(f, phase)*10**(-0.4*table_data[table_data[\"FILTER\"]==f][\"ZP\"][0]+11),linewidth=3,color=colors[i],label=f\"{modelo.upper()} fit ($\\chi^2/ndof$={round(result.chisq/result.ndof,2)})\")\n",
    "                axs.errorbar(table_data[table_data[\"FILTER\"]==f][\"MJD\"]-t0,table_data[table_data[\"FILTER\"]==f][\"FLUXCAL\"],yerr=table_data[table_data[\"FILTER\"]==f][\"FLUXCALERR\"],label=f\"Flux through {f} filter\",ls=\"none\", marker='o',markersize=8,color=colors[i])\n",
    "                axs.set_ylabel(r\"FLUX ($Z_{AB}$=27.5)\")\n",
    "                axs.set_xlim(-12,52)\n",
    "                axs.set_title(f\"{sn}({surv}),   z:{z:.2f},   x1={x1:.2f}$\\pm${x1err:.2f},   x2={x2:.2f}$\\pm${x2err:.2f}\")\n",
    "                formatter11=ScalarFormatterClass1()\n",
    "                formatter11.set_scientific(True)\n",
    "                formatter11.set_powerlimits((0,0))\n",
    "                axs.yaxis.set_major_formatter(formatter11)\n",
    "                axs.legend(loc=3)\n",
    "                if i==len(fil)-1:\n",
    "                    axs.set_xlabel(f\"MJD-{t0}\")\n",
    "            #plt.show()\n",
    "            plt.tight_layout()\n",
    "            pp.savefig()\n",
    "            plt.close(fig)\n",
    "        else:\n",
    "            for i,f in enumerate(fil): \n",
    "                colors=eval(\"colors\"+str(len(fil)))\n",
    "                axs[i].plot(phase-t0,fitted_model.bandflux(f, phase)*10**(-0.4*table_data[table_data[\"FILTER\"]==f][\"ZP\"][0]+11),linewidth=3,color=colors[i],label=f\"{modelo.upper()}  fit ($\\chi^2/ndof$={round(result.chisq/result.ndof,2)})\")\n",
    "                axs[i].errorbar(table_data[table_data[\"FILTER\"]==f][\"MJD\"]-t0,table_data[table_data[\"FILTER\"]==f][\"FLUXCAL\"],yerr=table_data[table_data[\"FILTER\"]==f][\"FLUXCALERR\"],label=f\"Flux through {f} filter\",ls=\"none\", marker='o',markersize=8,color=colors[i])\n",
    "                axs[i].set_ylabel(r\"FLUX ($Z_{AB}$=27.5)\")\n",
    "                axs[i].set_xlim(-12,52)\n",
    "                axs[i].set_title(f\"{sn}({surv}),   z:{z:.2f},   x1={x1:.2f}$\\pm${x1err:.2f},   x2={x2:.2f}$\\pm${x2err:.2f}\")\n",
    "                formatter11=ScalarFormatterClass1()\n",
    "                formatter11.set_scientific(True)\n",
    "                formatter11.set_powerlimits((0,0))\n",
    "                axs[i].yaxis.set_major_formatter(formatter11)\n",
    "                axs[i].legend(loc=3)\n",
    "                if i==len(fil)-1:\n",
    "                    axs[i].set_xlabel(f\"MJD-{t0}\")\n",
    "            #plt.show()\n",
    "            plt.tight_layout()\n",
    "            pp.savefig()\n",
    "            plt.close(fig)\n",
    "    else:\n",
    "        pass"
   ]
  },
  {
   "cell_type": "code",
   "execution_count": 25,
   "id": "838b6f33-841f-47b2-96fd-30f5f2ba06c5",
   "metadata": {
    "tags": []
   },
   "outputs": [],
   "source": [
    " def return_fit_data(meta,res,model_name):\n",
    "\n",
    "    return [meta[\"SNID\"], meta[\"SURVEY\"], meta[\"REDSHIFT_FINAL\"], 0., res.parameters[1],\n",
    "           res.errors[\"t0\"], res.parameters[2], res.errors[\"x0\"], res.parameters[3],\n",
    "           res.errors[\"x1\"], res.parameters[4], res.errors[\"x2\"],\n",
    "           res.covariance[1][2], res.covariance[1][3], res.covariance[2][3], \n",
    "           res.chisq/res.ndof, model_name]"
   ]
  },
  {
   "cell_type": "code",
   "execution_count": 26,
   "id": "290d3745",
   "metadata": {
    "tags": []
   },
   "outputs": [
    {
     "name": "stdout",
     "output_type": "stream",
     "text": [
      "2001ah (0/172)\n"
     ]
    },
    {
     "name": "stderr",
     "output_type": "stream",
     "text": [
      "/home/cassia/anaconda3/envs/sne/lib/python3.10/site-packages/sncosmo/fitting.py:187: RuntimeWarning: Dropping following bands from data: CFA3S_B(out of model wavelength range)\n",
      "  warnings.warn(\"Dropping following bands from data: \" +\n",
      "/home/cassia/anaconda3/envs/sne/lib/python3.10/site-packages/iminuit/util.py:143: UserWarning: Assigned errors must be positive. Non-positive values are replaced by a heuristic.\n",
      "  warnings.warn(\n"
     ]
    },
    {
     "name": "stdout",
     "output_type": "stream",
     "text": [
      "2001az (1/172)\n"
     ]
    },
    {
     "name": "stderr",
     "output_type": "stream",
     "text": [
      "/home/cassia/anaconda3/envs/sne/lib/python3.10/site-packages/sncosmo/fitting.py:187: RuntimeWarning: Dropping following bands from data: CFA3S_U(out of model wavelength range)\n",
      "  warnings.warn(\"Dropping following bands from data: \" +\n",
      "/home/cassia/anaconda3/envs/sne/lib/python3.10/site-packages/iminuit/util.py:143: UserWarning: Assigned errors must be positive. Non-positive values are replaced by a heuristic.\n",
      "  warnings.warn(\n"
     ]
    },
    {
     "name": "stdout",
     "output_type": "stream",
     "text": [
      "2001da (2/172)\n"
     ]
    },
    {
     "name": "stderr",
     "output_type": "stream",
     "text": [
      "/home/cassia/anaconda3/envs/sne/lib/python3.10/site-packages/sncosmo/fitting.py:187: RuntimeWarning: Dropping following bands from data: CFA3S_U(out of model wavelength range)\n",
      "  warnings.warn(\"Dropping following bands from data: \" +\n",
      "/home/cassia/anaconda3/envs/sne/lib/python3.10/site-packages/iminuit/util.py:143: UserWarning: Assigned errors must be positive. Non-positive values are replaced by a heuristic.\n",
      "  warnings.warn(\n"
     ]
    },
    {
     "name": "stdout",
     "output_type": "stream",
     "text": [
      "2001en (3/172)\n"
     ]
    },
    {
     "name": "stderr",
     "output_type": "stream",
     "text": [
      "/home/cassia/anaconda3/envs/sne/lib/python3.10/site-packages/sncosmo/fitting.py:187: RuntimeWarning: Dropping following bands from data: CFA3S_U(out of model wavelength range)\n",
      "  warnings.warn(\"Dropping following bands from data: \" +\n",
      "/home/cassia/anaconda3/envs/sne/lib/python3.10/site-packages/iminuit/util.py:143: UserWarning: Assigned errors must be positive. Non-positive values are replaced by a heuristic.\n",
      "  warnings.warn(\n"
     ]
    },
    {
     "name": "stdout",
     "output_type": "stream",
     "text": [
      "2001fe (4/172)\n"
     ]
    },
    {
     "name": "stderr",
     "output_type": "stream",
     "text": [
      "/home/cassia/anaconda3/envs/sne/lib/python3.10/site-packages/sncosmo/fitting.py:187: RuntimeWarning: Dropping following bands from data: CFA3S_U(out of model wavelength range)\n",
      "  warnings.warn(\"Dropping following bands from data: \" +\n",
      "/home/cassia/anaconda3/envs/sne/lib/python3.10/site-packages/iminuit/util.py:143: UserWarning: Assigned errors must be positive. Non-positive values are replaced by a heuristic.\n",
      "  warnings.warn(\n"
     ]
    },
    {
     "name": "stdout",
     "output_type": "stream",
     "text": [
      "2001gb (5/172)\n"
     ]
    },
    {
     "name": "stderr",
     "output_type": "stream",
     "text": [
      "/home/cassia/anaconda3/envs/sne/lib/python3.10/site-packages/iminuit/util.py:143: UserWarning: Assigned errors must be positive. Non-positive values are replaced by a heuristic.\n",
      "  warnings.warn(\n"
     ]
    },
    {
     "name": "stdout",
     "output_type": "stream",
     "text": [
      "2001G (6/172)\n"
     ]
    },
    {
     "name": "stderr",
     "output_type": "stream",
     "text": [
      "/home/cassia/anaconda3/envs/sne/lib/python3.10/site-packages/sncosmo/fitting.py:187: RuntimeWarning: Dropping following bands from data: CFA3S_U(out of model wavelength range)\n",
      "  warnings.warn(\"Dropping following bands from data: \" +\n",
      "/home/cassia/anaconda3/envs/sne/lib/python3.10/site-packages/iminuit/util.py:143: UserWarning: Assigned errors must be positive. Non-positive values are replaced by a heuristic.\n",
      "  warnings.warn(\n"
     ]
    },
    {
     "name": "stdout",
     "output_type": "stream",
     "text": [
      "2001ic (7/172)\n"
     ]
    },
    {
     "name": "stderr",
     "output_type": "stream",
     "text": [
      "/home/cassia/anaconda3/envs/sne/lib/python3.10/site-packages/iminuit/util.py:143: UserWarning: Assigned errors must be positive. Non-positive values are replaced by a heuristic.\n",
      "  warnings.warn(\n"
     ]
    },
    {
     "name": "stdout",
     "output_type": "stream",
     "text": [
      "2001V (8/172)\n"
     ]
    },
    {
     "name": "stderr",
     "output_type": "stream",
     "text": [
      "/home/cassia/anaconda3/envs/sne/lib/python3.10/site-packages/sncosmo/fitting.py:187: RuntimeWarning: Dropping following bands from data: CFA3S_U(out of model wavelength range)\n",
      "  warnings.warn(\"Dropping following bands from data: \" +\n",
      "/home/cassia/anaconda3/envs/sne/lib/python3.10/site-packages/iminuit/util.py:143: UserWarning: Assigned errors must be positive. Non-positive values are replaced by a heuristic.\n",
      "  warnings.warn(\n"
     ]
    },
    {
     "name": "stdout",
     "output_type": "stream",
     "text": [
      "2002bf (9/172)\n"
     ]
    },
    {
     "name": "stderr",
     "output_type": "stream",
     "text": [
      "/home/cassia/anaconda3/envs/sne/lib/python3.10/site-packages/sncosmo/fitting.py:187: RuntimeWarning: Dropping following bands from data: CFA3S_U(out of model wavelength range)\n",
      "  warnings.warn(\"Dropping following bands from data: \" +\n",
      "/home/cassia/anaconda3/envs/sne/lib/python3.10/site-packages/iminuit/util.py:143: UserWarning: Assigned errors must be positive. Non-positive values are replaced by a heuristic.\n",
      "  warnings.warn(\n"
     ]
    },
    {
     "name": "stdout",
     "output_type": "stream",
     "text": [
      "2002bz (10/172)\n"
     ]
    },
    {
     "name": "stderr",
     "output_type": "stream",
     "text": [
      "/home/cassia/anaconda3/envs/sne/lib/python3.10/site-packages/sncosmo/fitting.py:187: RuntimeWarning: Dropping following bands from data: CFA3S_U(out of model wavelength range)\n",
      "  warnings.warn(\"Dropping following bands from data: \" +\n",
      "/home/cassia/anaconda3/envs/sne/lib/python3.10/site-packages/iminuit/util.py:143: UserWarning: Assigned errors must be positive. Non-positive values are replaced by a heuristic.\n",
      "  warnings.warn(\n"
     ]
    },
    {
     "name": "stdout",
     "output_type": "stream",
     "text": [
      "2002ck (11/172)\n"
     ]
    },
    {
     "name": "stderr",
     "output_type": "stream",
     "text": [
      "/home/cassia/anaconda3/envs/sne/lib/python3.10/site-packages/sncosmo/fitting.py:187: RuntimeWarning: Dropping following bands from data: CFA3S_U(out of model wavelength range)\n",
      "  warnings.warn(\"Dropping following bands from data: \" +\n",
      "/home/cassia/anaconda3/envs/sne/lib/python3.10/site-packages/iminuit/util.py:143: UserWarning: Assigned errors must be positive. Non-positive values are replaced by a heuristic.\n",
      "  warnings.warn(\n"
     ]
    },
    {
     "name": "stdout",
     "output_type": "stream",
     "text": [
      "2002cr (12/172)\n"
     ]
    },
    {
     "name": "stderr",
     "output_type": "stream",
     "text": [
      "/home/cassia/anaconda3/envs/sne/lib/python3.10/site-packages/sncosmo/fitting.py:187: RuntimeWarning: Dropping following bands from data: CFA3S_U, CFA3S_R(out of model wavelength range)\n",
      "  warnings.warn(\"Dropping following bands from data: \" +\n",
      "/home/cassia/anaconda3/envs/sne/lib/python3.10/site-packages/iminuit/util.py:143: UserWarning: Assigned errors must be positive. Non-positive values are replaced by a heuristic.\n",
      "  warnings.warn(\n"
     ]
    },
    {
     "name": "stdout",
     "output_type": "stream",
     "text": [
      "2002de (13/172)\n"
     ]
    },
    {
     "name": "stderr",
     "output_type": "stream",
     "text": [
      "/home/cassia/anaconda3/envs/sne/lib/python3.10/site-packages/sncosmo/fitting.py:187: RuntimeWarning: Dropping following bands from data: CFA3S_U(out of model wavelength range)\n",
      "  warnings.warn(\"Dropping following bands from data: \" +\n",
      "/home/cassia/anaconda3/envs/sne/lib/python3.10/site-packages/iminuit/util.py:143: UserWarning: Assigned errors must be positive. Non-positive values are replaced by a heuristic.\n",
      "  warnings.warn(\n"
     ]
    },
    {
     "name": "stdout",
     "output_type": "stream",
     "text": [
      "2002dp (14/172)\n"
     ]
    },
    {
     "name": "stderr",
     "output_type": "stream",
     "text": [
      "/home/cassia/anaconda3/envs/sne/lib/python3.10/site-packages/sncosmo/fitting.py:187: RuntimeWarning: Dropping following bands from data: CFA3S_U, CFA3S_R(out of model wavelength range)\n",
      "  warnings.warn(\"Dropping following bands from data: \" +\n",
      "/home/cassia/anaconda3/envs/sne/lib/python3.10/site-packages/iminuit/util.py:143: UserWarning: Assigned errors must be positive. Non-positive values are replaced by a heuristic.\n",
      "  warnings.warn(\n"
     ]
    },
    {
     "name": "stdout",
     "output_type": "stream",
     "text": [
      "2002eu (15/172)\n"
     ]
    },
    {
     "name": "stderr",
     "output_type": "stream",
     "text": [
      "/home/cassia/anaconda3/envs/sne/lib/python3.10/site-packages/sncosmo/fitting.py:187: RuntimeWarning: Dropping following bands from data: CFA3S_U(out of model wavelength range)\n",
      "  warnings.warn(\"Dropping following bands from data: \" +\n",
      "/home/cassia/anaconda3/envs/sne/lib/python3.10/site-packages/iminuit/util.py:143: UserWarning: Assigned errors must be positive. Non-positive values are replaced by a heuristic.\n",
      "  warnings.warn(\n"
     ]
    },
    {
     "name": "stdout",
     "output_type": "stream",
     "text": [
      "2002G (16/172)\n"
     ]
    },
    {
     "name": "stderr",
     "output_type": "stream",
     "text": [
      "/home/cassia/anaconda3/envs/sne/lib/python3.10/site-packages/iminuit/util.py:143: UserWarning: Assigned errors must be positive. Non-positive values are replaced by a heuristic.\n",
      "  warnings.warn(\n"
     ]
    },
    {
     "name": "stdout",
     "output_type": "stream",
     "text": [
      "2002ha (17/172)\n"
     ]
    },
    {
     "name": "stderr",
     "output_type": "stream",
     "text": [
      "/home/cassia/anaconda3/envs/sne/lib/python3.10/site-packages/sncosmo/fitting.py:187: RuntimeWarning: Dropping following bands from data: CFA3S_U(out of model wavelength range)\n",
      "  warnings.warn(\"Dropping following bands from data: \" +\n",
      "/home/cassia/anaconda3/envs/sne/lib/python3.10/site-packages/iminuit/util.py:143: UserWarning: Assigned errors must be positive. Non-positive values are replaced by a heuristic.\n",
      "  warnings.warn(\n"
     ]
    },
    {
     "name": "stdout",
     "output_type": "stream",
     "text": [
      "2002he (18/172)\n"
     ]
    },
    {
     "name": "stderr",
     "output_type": "stream",
     "text": [
      "/home/cassia/anaconda3/envs/sne/lib/python3.10/site-packages/sncosmo/fitting.py:187: RuntimeWarning: Dropping following bands from data: CFA3S_U(out of model wavelength range)\n",
      "  warnings.warn(\"Dropping following bands from data: \" +\n",
      "/home/cassia/anaconda3/envs/sne/lib/python3.10/site-packages/iminuit/util.py:143: UserWarning: Assigned errors must be positive. Non-positive values are replaced by a heuristic.\n",
      "  warnings.warn(\n"
     ]
    },
    {
     "name": "stdout",
     "output_type": "stream",
     "text": [
      "2002kf (19/172)\n"
     ]
    },
    {
     "name": "stderr",
     "output_type": "stream",
     "text": [
      "/home/cassia/anaconda3/envs/sne/lib/python3.10/site-packages/sncosmo/fitting.py:187: RuntimeWarning: Dropping following bands from data: CFA3S_U(out of model wavelength range)\n",
      "  warnings.warn(\"Dropping following bands from data: \" +\n",
      "/home/cassia/anaconda3/envs/sne/lib/python3.10/site-packages/iminuit/util.py:143: UserWarning: Assigned errors must be positive. Non-positive values are replaced by a heuristic.\n",
      "  warnings.warn(\n"
     ]
    },
    {
     "name": "stdout",
     "output_type": "stream",
     "text": [
      "2003ae (20/172)\n"
     ]
    },
    {
     "name": "stderr",
     "output_type": "stream",
     "text": [
      "/home/cassia/anaconda3/envs/sne/lib/python3.10/site-packages/iminuit/util.py:143: UserWarning: Assigned errors must be positive. Non-positive values are replaced by a heuristic.\n",
      "  warnings.warn(\n"
     ]
    },
    {
     "name": "stdout",
     "output_type": "stream",
     "text": [
      "2003ch (21/172)\n"
     ]
    },
    {
     "name": "stderr",
     "output_type": "stream",
     "text": [
      "/home/cassia/anaconda3/envs/sne/lib/python3.10/site-packages/sncosmo/fitting.py:187: RuntimeWarning: Dropping following bands from data: CFA3S_U(out of model wavelength range)\n",
      "  warnings.warn(\"Dropping following bands from data: \" +\n",
      "/home/cassia/anaconda3/envs/sne/lib/python3.10/site-packages/iminuit/util.py:143: UserWarning: Assigned errors must be positive. Non-positive values are replaced by a heuristic.\n",
      "  warnings.warn(\n"
     ]
    },
    {
     "name": "stdout",
     "output_type": "stream",
     "text": [
      "2003cq (22/172)\n"
     ]
    },
    {
     "name": "stderr",
     "output_type": "stream",
     "text": [
      "/home/cassia/anaconda3/envs/sne/lib/python3.10/site-packages/sncosmo/fitting.py:187: RuntimeWarning: Dropping following bands from data: CFA3S_U(out of model wavelength range)\n",
      "  warnings.warn(\"Dropping following bands from data: \" +\n",
      "/home/cassia/anaconda3/envs/sne/lib/python3.10/site-packages/iminuit/util.py:143: UserWarning: Assigned errors must be positive. Non-positive values are replaced by a heuristic.\n",
      "  warnings.warn(\n"
     ]
    },
    {
     "name": "stdout",
     "output_type": "stream",
     "text": [
      "2003fa (23/172)\n"
     ]
    },
    {
     "name": "stderr",
     "output_type": "stream",
     "text": [
      "/home/cassia/anaconda3/envs/sne/lib/python3.10/site-packages/sncosmo/fitting.py:187: RuntimeWarning: Dropping following bands from data: CFA3S_U(out of model wavelength range)\n",
      "  warnings.warn(\"Dropping following bands from data: \" +\n",
      "/home/cassia/anaconda3/envs/sne/lib/python3.10/site-packages/iminuit/util.py:143: UserWarning: Assigned errors must be positive. Non-positive values are replaced by a heuristic.\n",
      "  warnings.warn(\n"
     ]
    },
    {
     "name": "stdout",
     "output_type": "stream",
     "text": [
      "2003hu (24/172)\n"
     ]
    },
    {
     "name": "stderr",
     "output_type": "stream",
     "text": [
      "/home/cassia/anaconda3/envs/sne/lib/python3.10/site-packages/sncosmo/fitting.py:187: RuntimeWarning: Dropping following bands from data: CFA3S_U, CFA3S_B(out of model wavelength range)\n",
      "  warnings.warn(\"Dropping following bands from data: \" +\n",
      "/home/cassia/anaconda3/envs/sne/lib/python3.10/site-packages/iminuit/util.py:143: UserWarning: Assigned errors must be positive. Non-positive values are replaced by a heuristic.\n",
      "  warnings.warn(\n"
     ]
    },
    {
     "name": "stdout",
     "output_type": "stream",
     "text": [
      "2003ic (25/172)\n"
     ]
    },
    {
     "name": "stderr",
     "output_type": "stream",
     "text": [
      "/home/cassia/anaconda3/envs/sne/lib/python3.10/site-packages/sncosmo/fitting.py:187: RuntimeWarning: Dropping following bands from data: CFA3S_U, CFA3S_B(out of model wavelength range)\n",
      "  warnings.warn(\"Dropping following bands from data: \" +\n",
      "/home/cassia/anaconda3/envs/sne/lib/python3.10/site-packages/iminuit/util.py:143: UserWarning: Assigned errors must be positive. Non-positive values are replaced by a heuristic.\n",
      "  warnings.warn(\n"
     ]
    },
    {
     "name": "stdout",
     "output_type": "stream",
     "text": [
      "2003it (26/172)\n"
     ]
    },
    {
     "name": "stderr",
     "output_type": "stream",
     "text": [
      "/home/cassia/anaconda3/envs/sne/lib/python3.10/site-packages/sncosmo/fitting.py:187: RuntimeWarning: Dropping following bands from data: CFA3S_U(out of model wavelength range)\n",
      "  warnings.warn(\"Dropping following bands from data: \" +\n",
      "/home/cassia/anaconda3/envs/sne/lib/python3.10/site-packages/iminuit/util.py:143: UserWarning: Assigned errors must be positive. Non-positive values are replaced by a heuristic.\n",
      "  warnings.warn(\n"
     ]
    },
    {
     "name": "stdout",
     "output_type": "stream",
     "text": [
      "2003iv (27/172)\n"
     ]
    },
    {
     "name": "stderr",
     "output_type": "stream",
     "text": [
      "/home/cassia/anaconda3/envs/sne/lib/python3.10/site-packages/sncosmo/fitting.py:187: RuntimeWarning: Dropping following bands from data: CFA3S_U(out of model wavelength range)\n",
      "  warnings.warn(\"Dropping following bands from data: \" +\n",
      "/home/cassia/anaconda3/envs/sne/lib/python3.10/site-packages/iminuit/util.py:143: UserWarning: Assigned errors must be positive. Non-positive values are replaced by a heuristic.\n",
      "  warnings.warn(\n"
     ]
    },
    {
     "name": "stdout",
     "output_type": "stream",
     "text": [
      "2003U (28/172)\n"
     ]
    },
    {
     "name": "stderr",
     "output_type": "stream",
     "text": [
      "/home/cassia/anaconda3/envs/sne/lib/python3.10/site-packages/sncosmo/fitting.py:187: RuntimeWarning: Dropping following bands from data: CFA3S_U(out of model wavelength range)\n",
      "  warnings.warn(\"Dropping following bands from data: \" +\n",
      "/home/cassia/anaconda3/envs/sne/lib/python3.10/site-packages/iminuit/util.py:143: UserWarning: Assigned errors must be positive. Non-positive values are replaced by a heuristic.\n",
      "  warnings.warn(\n"
     ]
    },
    {
     "name": "stdout",
     "output_type": "stream",
     "text": [
      "2004as (29/172)\n"
     ]
    },
    {
     "name": "stderr",
     "output_type": "stream",
     "text": [
      "/home/cassia/anaconda3/envs/sne/lib/python3.10/site-packages/sncosmo/fitting.py:187: RuntimeWarning: Dropping following bands from data: CFA3S_U(out of model wavelength range)\n",
      "  warnings.warn(\"Dropping following bands from data: \" +\n",
      "/home/cassia/anaconda3/envs/sne/lib/python3.10/site-packages/iminuit/util.py:143: UserWarning: Assigned errors must be positive. Non-positive values are replaced by a heuristic.\n",
      "  warnings.warn(\n"
     ]
    },
    {
     "name": "stdout",
     "output_type": "stream",
     "text": [
      "2004L (30/172)\n"
     ]
    },
    {
     "name": "stderr",
     "output_type": "stream",
     "text": [
      "/home/cassia/anaconda3/envs/sne/lib/python3.10/site-packages/sncosmo/fitting.py:187: RuntimeWarning: Dropping following bands from data: CFA3S_U(out of model wavelength range)\n",
      "  warnings.warn(\"Dropping following bands from data: \" +\n",
      "/home/cassia/anaconda3/envs/sne/lib/python3.10/site-packages/iminuit/util.py:143: UserWarning: Assigned errors must be positive. Non-positive values are replaced by a heuristic.\n",
      "  warnings.warn(\n"
     ]
    },
    {
     "name": "stdout",
     "output_type": "stream",
     "text": [
      "2004ef (31/172)\n"
     ]
    },
    {
     "name": "stderr",
     "output_type": "stream",
     "text": [
      "/home/cassia/anaconda3/envs/sne/lib/python3.10/site-packages/sncosmo/fitting.py:187: RuntimeWarning: Dropping following bands from data: CFA3K_U(out of model wavelength range)\n",
      "  warnings.warn(\"Dropping following bands from data: \" +\n",
      "/home/cassia/anaconda3/envs/sne/lib/python3.10/site-packages/iminuit/util.py:143: UserWarning: Assigned errors must be positive. Non-positive values are replaced by a heuristic.\n",
      "  warnings.warn(\n"
     ]
    },
    {
     "name": "stdout",
     "output_type": "stream",
     "text": [
      "2005hf (32/172)\n"
     ]
    },
    {
     "name": "stderr",
     "output_type": "stream",
     "text": [
      "/home/cassia/anaconda3/envs/sne/lib/python3.10/site-packages/sncosmo/fitting.py:187: RuntimeWarning: Dropping following bands from data: CFA3K_U(out of model wavelength range)\n",
      "  warnings.warn(\"Dropping following bands from data: \" +\n",
      "/home/cassia/anaconda3/envs/sne/lib/python3.10/site-packages/iminuit/util.py:143: UserWarning: Assigned errors must be positive. Non-positive values are replaced by a heuristic.\n",
      "  warnings.warn(\n"
     ]
    },
    {
     "name": "stdout",
     "output_type": "stream",
     "text": [
      "2005hj (33/172)\n"
     ]
    },
    {
     "name": "stderr",
     "output_type": "stream",
     "text": [
      "/home/cassia/anaconda3/envs/sne/lib/python3.10/site-packages/sncosmo/fitting.py:187: RuntimeWarning: Dropping following bands from data: CFA3K_B, CFA3K_U(out of model wavelength range)\n",
      "  warnings.warn(\"Dropping following bands from data: \" +\n",
      "/home/cassia/anaconda3/envs/sne/lib/python3.10/site-packages/iminuit/util.py:143: UserWarning: Assigned errors must be positive. Non-positive values are replaced by a heuristic.\n",
      "  warnings.warn(\n"
     ]
    },
    {
     "name": "stdout",
     "output_type": "stream",
     "text": [
      "2005lz (34/172)\n"
     ]
    },
    {
     "name": "stderr",
     "output_type": "stream",
     "text": [
      "/home/cassia/anaconda3/envs/sne/lib/python3.10/site-packages/sncosmo/fitting.py:187: RuntimeWarning: Dropping following bands from data: CFA3K_U(out of model wavelength range)\n",
      "  warnings.warn(\"Dropping following bands from data: \" +\n",
      "/home/cassia/anaconda3/envs/sne/lib/python3.10/site-packages/iminuit/util.py:143: UserWarning: Assigned errors must be positive. Non-positive values are replaced by a heuristic.\n",
      "  warnings.warn(\n"
     ]
    },
    {
     "name": "stdout",
     "output_type": "stream",
     "text": [
      "2005mc (35/172)\n"
     ]
    },
    {
     "name": "stderr",
     "output_type": "stream",
     "text": [
      "/home/cassia/anaconda3/envs/sne/lib/python3.10/site-packages/sncosmo/fitting.py:187: RuntimeWarning: Dropping following bands from data: CFA3K_U(out of model wavelength range)\n",
      "  warnings.warn(\"Dropping following bands from data: \" +\n",
      "/home/cassia/anaconda3/envs/sne/lib/python3.10/site-packages/iminuit/util.py:143: UserWarning: Assigned errors must be positive. Non-positive values are replaced by a heuristic.\n",
      "  warnings.warn(\n"
     ]
    },
    {
     "name": "stdout",
     "output_type": "stream",
     "text": [
      "2005ms (36/172)\n"
     ]
    },
    {
     "name": "stderr",
     "output_type": "stream",
     "text": [
      "/home/cassia/anaconda3/envs/sne/lib/python3.10/site-packages/sncosmo/fitting.py:187: RuntimeWarning: Dropping following bands from data: CFA3K_U(out of model wavelength range)\n",
      "  warnings.warn(\"Dropping following bands from data: \" +\n",
      "/home/cassia/anaconda3/envs/sne/lib/python3.10/site-packages/iminuit/util.py:143: UserWarning: Assigned errors must be positive. Non-positive values are replaced by a heuristic.\n",
      "  warnings.warn(\n"
     ]
    },
    {
     "name": "stdout",
     "output_type": "stream",
     "text": [
      "2005na (37/172)\n"
     ]
    },
    {
     "name": "stderr",
     "output_type": "stream",
     "text": [
      "/home/cassia/anaconda3/envs/sne/lib/python3.10/site-packages/sncosmo/fitting.py:187: RuntimeWarning: Dropping following bands from data: CFA3K_U(out of model wavelength range)\n",
      "  warnings.warn(\"Dropping following bands from data: \" +\n",
      "/home/cassia/anaconda3/envs/sne/lib/python3.10/site-packages/iminuit/util.py:143: UserWarning: Assigned errors must be positive. Non-positive values are replaced by a heuristic.\n",
      "  warnings.warn(\n"
     ]
    },
    {
     "name": "stdout",
     "output_type": "stream",
     "text": [
      "2006ac (38/172)\n"
     ]
    },
    {
     "name": "stderr",
     "output_type": "stream",
     "text": [
      "/home/cassia/anaconda3/envs/sne/lib/python3.10/site-packages/sncosmo/fitting.py:187: RuntimeWarning: Dropping following bands from data: CFA3K_U(out of model wavelength range)\n",
      "  warnings.warn(\"Dropping following bands from data: \" +\n",
      "/home/cassia/anaconda3/envs/sne/lib/python3.10/site-packages/iminuit/util.py:143: UserWarning: Assigned errors must be positive. Non-positive values are replaced by a heuristic.\n",
      "  warnings.warn(\n"
     ]
    },
    {
     "name": "stdout",
     "output_type": "stream",
     "text": [
      "2006ah (39/172)\n"
     ]
    },
    {
     "name": "stderr",
     "output_type": "stream",
     "text": [
      "/home/cassia/anaconda3/envs/sne/lib/python3.10/site-packages/sncosmo/fitting.py:187: RuntimeWarning: Dropping following bands from data: CFA3K_B(out of model wavelength range)\n",
      "  warnings.warn(\"Dropping following bands from data: \" +\n",
      "/home/cassia/anaconda3/envs/sne/lib/python3.10/site-packages/iminuit/util.py:143: UserWarning: Assigned errors must be positive. Non-positive values are replaced by a heuristic.\n",
      "  warnings.warn(\n"
     ]
    },
    {
     "name": "stdout",
     "output_type": "stream",
     "text": [
      "2006ak (40/172)\n"
     ]
    },
    {
     "name": "stderr",
     "output_type": "stream",
     "text": [
      "/home/cassia/anaconda3/envs/sne/lib/python3.10/site-packages/iminuit/util.py:143: UserWarning: Assigned errors must be positive. Non-positive values are replaced by a heuristic.\n",
      "  warnings.warn(\n"
     ]
    },
    {
     "name": "stdout",
     "output_type": "stream",
     "text": [
      "2006al (41/172)\n"
     ]
    },
    {
     "name": "stderr",
     "output_type": "stream",
     "text": [
      "/home/cassia/anaconda3/envs/sne/lib/python3.10/site-packages/sncosmo/fitting.py:187: RuntimeWarning: Dropping following bands from data: CFA3K_B(out of model wavelength range)\n",
      "  warnings.warn(\"Dropping following bands from data: \" +\n",
      "/home/cassia/anaconda3/envs/sne/lib/python3.10/site-packages/iminuit/util.py:143: UserWarning: Assigned errors must be positive. Non-positive values are replaced by a heuristic.\n",
      "  warnings.warn(\n"
     ]
    },
    {
     "name": "stdout",
     "output_type": "stream",
     "text": [
      "2006ax (42/172)\n"
     ]
    },
    {
     "name": "stderr",
     "output_type": "stream",
     "text": [
      "/home/cassia/anaconda3/envs/sne/lib/python3.10/site-packages/sncosmo/fitting.py:187: RuntimeWarning: Dropping following bands from data: CFA3K_U(out of model wavelength range)\n",
      "  warnings.warn(\"Dropping following bands from data: \" +\n",
      "/home/cassia/anaconda3/envs/sne/lib/python3.10/site-packages/iminuit/util.py:143: UserWarning: Assigned errors must be positive. Non-positive values are replaced by a heuristic.\n",
      "  warnings.warn(\n"
     ]
    },
    {
     "name": "stdout",
     "output_type": "stream",
     "text": [
      "2006bb (43/172)\n"
     ]
    },
    {
     "name": "stderr",
     "output_type": "stream",
     "text": [
      "/home/cassia/anaconda3/envs/sne/lib/python3.10/site-packages/sncosmo/fitting.py:187: RuntimeWarning: Dropping following bands from data: CFA3K_U(out of model wavelength range)\n",
      "  warnings.warn(\"Dropping following bands from data: \" +\n",
      "/home/cassia/anaconda3/envs/sne/lib/python3.10/site-packages/iminuit/util.py:143: UserWarning: Assigned errors must be positive. Non-positive values are replaced by a heuristic.\n",
      "  warnings.warn(\n"
     ]
    },
    {
     "name": "stdout",
     "output_type": "stream",
     "text": [
      "2006bq (44/172)\n"
     ]
    },
    {
     "name": "stderr",
     "output_type": "stream",
     "text": [
      "/home/cassia/anaconda3/envs/sne/lib/python3.10/site-packages/sncosmo/fitting.py:187: RuntimeWarning: Dropping following bands from data: CFA3K_U(out of model wavelength range)\n",
      "  warnings.warn(\"Dropping following bands from data: \" +\n",
      "/home/cassia/anaconda3/envs/sne/lib/python3.10/site-packages/iminuit/util.py:143: UserWarning: Assigned errors must be positive. Non-positive values are replaced by a heuristic.\n",
      "  warnings.warn(\n"
     ]
    },
    {
     "name": "stdout",
     "output_type": "stream",
     "text": [
      "2006bw (45/172)\n"
     ]
    },
    {
     "name": "stderr",
     "output_type": "stream",
     "text": [
      "/home/cassia/anaconda3/envs/sne/lib/python3.10/site-packages/iminuit/util.py:143: UserWarning: Assigned errors must be positive. Non-positive values are replaced by a heuristic.\n",
      "  warnings.warn(\n"
     ]
    },
    {
     "name": "stdout",
     "output_type": "stream",
     "text": [
      "2006cj (46/172)\n"
     ]
    },
    {
     "name": "stderr",
     "output_type": "stream",
     "text": [
      "/home/cassia/anaconda3/envs/sne/lib/python3.10/site-packages/sncosmo/fitting.py:187: RuntimeWarning: Dropping following bands from data: CFA3K_B, CFA3K_U(out of model wavelength range)\n",
      "  warnings.warn(\"Dropping following bands from data: \" +\n",
      "/home/cassia/anaconda3/envs/sne/lib/python3.10/site-packages/iminuit/util.py:143: UserWarning: Assigned errors must be positive. Non-positive values are replaced by a heuristic.\n",
      "  warnings.warn(\n"
     ]
    },
    {
     "name": "stdout",
     "output_type": "stream",
     "text": [
      "2006cp (47/172)\n"
     ]
    },
    {
     "name": "stderr",
     "output_type": "stream",
     "text": [
      "/home/cassia/anaconda3/envs/sne/lib/python3.10/site-packages/sncosmo/fitting.py:187: RuntimeWarning: Dropping following bands from data: CFA3K_U(out of model wavelength range)\n",
      "  warnings.warn(\"Dropping following bands from data: \" +\n",
      "/home/cassia/anaconda3/envs/sne/lib/python3.10/site-packages/iminuit/util.py:143: UserWarning: Assigned errors must be positive. Non-positive values are replaced by a heuristic.\n",
      "  warnings.warn(\n"
     ]
    },
    {
     "name": "stdout",
     "output_type": "stream",
     "text": [
      "2006cq (48/172)\n"
     ]
    },
    {
     "name": "stderr",
     "output_type": "stream",
     "text": [
      "/home/cassia/anaconda3/envs/sne/lib/python3.10/site-packages/sncosmo/fitting.py:187: RuntimeWarning: Dropping following bands from data: CFA3K_B(out of model wavelength range)\n",
      "  warnings.warn(\"Dropping following bands from data: \" +\n",
      "/home/cassia/anaconda3/envs/sne/lib/python3.10/site-packages/iminuit/util.py:143: UserWarning: Assigned errors must be positive. Non-positive values are replaced by a heuristic.\n",
      "  warnings.warn(\n"
     ]
    },
    {
     "name": "stdout",
     "output_type": "stream",
     "text": [
      "2006en (49/172)\n"
     ]
    },
    {
     "name": "stderr",
     "output_type": "stream",
     "text": [
      "/home/cassia/anaconda3/envs/sne/lib/python3.10/site-packages/iminuit/util.py:143: UserWarning: Assigned errors must be positive. Non-positive values are replaced by a heuristic.\n",
      "  warnings.warn(\n"
     ]
    },
    {
     "name": "stdout",
     "output_type": "stream",
     "text": [
      "2006ev (50/172)\n"
     ]
    },
    {
     "name": "stderr",
     "output_type": "stream",
     "text": [
      "/home/cassia/anaconda3/envs/sne/lib/python3.10/site-packages/iminuit/util.py:143: UserWarning: Assigned errors must be positive. Non-positive values are replaced by a heuristic.\n",
      "  warnings.warn(\n"
     ]
    },
    {
     "name": "stdout",
     "output_type": "stream",
     "text": [
      "2006gr (51/172)\n"
     ]
    },
    {
     "name": "stderr",
     "output_type": "stream",
     "text": [
      "/home/cassia/anaconda3/envs/sne/lib/python3.10/site-packages/sncosmo/fitting.py:187: RuntimeWarning: Dropping following bands from data: CFA3K_U(out of model wavelength range)\n",
      "  warnings.warn(\"Dropping following bands from data: \" +\n",
      "/home/cassia/anaconda3/envs/sne/lib/python3.10/site-packages/iminuit/util.py:143: UserWarning: Assigned errors must be positive. Non-positive values are replaced by a heuristic.\n",
      "  warnings.warn(\n"
     ]
    },
    {
     "name": "stdout",
     "output_type": "stream",
     "text": [
      "2006gt (52/172)\n"
     ]
    },
    {
     "name": "stderr",
     "output_type": "stream",
     "text": [
      "/home/cassia/anaconda3/envs/sne/lib/python3.10/site-packages/iminuit/util.py:143: UserWarning: Assigned errors must be positive. Non-positive values are replaced by a heuristic.\n",
      "  warnings.warn(\n"
     ]
    },
    {
     "name": "stdout",
     "output_type": "stream",
     "text": [
      "2006hb (53/172)\n"
     ]
    },
    {
     "name": "stderr",
     "output_type": "stream",
     "text": [
      "/home/cassia/anaconda3/envs/sne/lib/python3.10/site-packages/sncosmo/fitting.py:187: RuntimeWarning: Dropping following bands from data: CFA3K_U(out of model wavelength range)\n",
      "  warnings.warn(\"Dropping following bands from data: \" +\n",
      "/home/cassia/anaconda3/envs/sne/lib/python3.10/site-packages/iminuit/util.py:143: UserWarning: Assigned errors must be positive. Non-positive values are replaced by a heuristic.\n",
      "  warnings.warn(\n"
     ]
    },
    {
     "name": "stdout",
     "output_type": "stream",
     "text": [
      "2006is (54/172)\n"
     ]
    },
    {
     "name": "stderr",
     "output_type": "stream",
     "text": [
      "/home/cassia/anaconda3/envs/sne/lib/python3.10/site-packages/iminuit/util.py:143: UserWarning: Assigned errors must be positive. Non-positive values are replaced by a heuristic.\n",
      "  warnings.warn(\n"
     ]
    },
    {
     "name": "stdout",
     "output_type": "stream",
     "text": [
      "2006je (55/172)\n"
     ]
    },
    {
     "name": "stderr",
     "output_type": "stream",
     "text": [
      "/home/cassia/anaconda3/envs/sne/lib/python3.10/site-packages/iminuit/util.py:143: UserWarning: Assigned errors must be positive. Non-positive values are replaced by a heuristic.\n",
      "  warnings.warn(\n"
     ]
    },
    {
     "name": "stdout",
     "output_type": "stream",
     "text": [
      "2006mo (56/172)\n"
     ]
    },
    {
     "name": "stderr",
     "output_type": "stream",
     "text": [
      "/home/cassia/anaconda3/envs/sne/lib/python3.10/site-packages/iminuit/util.py:143: UserWarning: Assigned errors must be positive. Non-positive values are replaced by a heuristic.\n",
      "  warnings.warn(\n"
     ]
    },
    {
     "name": "stdout",
     "output_type": "stream",
     "text": [
      "2006mp (57/172)\n"
     ]
    },
    {
     "name": "stderr",
     "output_type": "stream",
     "text": [
      "/home/cassia/anaconda3/envs/sne/lib/python3.10/site-packages/iminuit/util.py:143: UserWarning: Assigned errors must be positive. Non-positive values are replaced by a heuristic.\n",
      "  warnings.warn(\n"
     ]
    },
    {
     "name": "stdout",
     "output_type": "stream",
     "text": [
      "2006N (58/172)\n"
     ]
    },
    {
     "name": "stderr",
     "output_type": "stream",
     "text": [
      "/home/cassia/anaconda3/envs/sne/lib/python3.10/site-packages/sncosmo/fitting.py:187: RuntimeWarning: Dropping following bands from data: CFA3K_U(out of model wavelength range)\n",
      "  warnings.warn(\"Dropping following bands from data: \" +\n",
      "/home/cassia/anaconda3/envs/sne/lib/python3.10/site-packages/iminuit/util.py:143: UserWarning: Assigned errors must be positive. Non-positive values are replaced by a heuristic.\n",
      "  warnings.warn(\n"
     ]
    },
    {
     "name": "stdout",
     "output_type": "stream",
     "text": [
      "2006oa (59/172)\n"
     ]
    },
    {
     "name": "stderr",
     "output_type": "stream",
     "text": [
      "/home/cassia/anaconda3/envs/sne/lib/python3.10/site-packages/sncosmo/fitting.py:187: RuntimeWarning: Dropping following bands from data: CFA3K_B, CFA3K_U(out of model wavelength range)\n",
      "  warnings.warn(\"Dropping following bands from data: \" +\n",
      "/home/cassia/anaconda3/envs/sne/lib/python3.10/site-packages/iminuit/util.py:143: UserWarning: Assigned errors must be positive. Non-positive values are replaced by a heuristic.\n",
      "  warnings.warn(\n"
     ]
    },
    {
     "name": "stdout",
     "output_type": "stream",
     "text": [
      "2006ob (60/172)\n"
     ]
    },
    {
     "name": "stderr",
     "output_type": "stream",
     "text": [
      "/home/cassia/anaconda3/envs/sne/lib/python3.10/site-packages/sncosmo/fitting.py:187: RuntimeWarning: Dropping following bands from data: CFA3K_B, CFA3K_U(out of model wavelength range)\n",
      "  warnings.warn(\"Dropping following bands from data: \" +\n",
      "/home/cassia/anaconda3/envs/sne/lib/python3.10/site-packages/iminuit/util.py:143: UserWarning: Assigned errors must be positive. Non-positive values are replaced by a heuristic.\n",
      "  warnings.warn(\n"
     ]
    },
    {
     "name": "stdout",
     "output_type": "stream",
     "text": [
      "2006on (61/172)\n"
     ]
    },
    {
     "name": "stderr",
     "output_type": "stream",
     "text": [
      "/home/cassia/anaconda3/envs/sne/lib/python3.10/site-packages/sncosmo/fitting.py:187: RuntimeWarning: Dropping following bands from data: CFA3K_B(out of model wavelength range)\n",
      "  warnings.warn(\"Dropping following bands from data: \" +\n",
      "/home/cassia/anaconda3/envs/sne/lib/python3.10/site-packages/iminuit/util.py:143: UserWarning: Assigned errors must be positive. Non-positive values are replaced by a heuristic.\n",
      "  warnings.warn(\n"
     ]
    },
    {
     "name": "stdout",
     "output_type": "stream",
     "text": [
      "2006or (62/172)\n"
     ]
    },
    {
     "name": "stderr",
     "output_type": "stream",
     "text": [
      "/home/cassia/anaconda3/envs/sne/lib/python3.10/site-packages/iminuit/util.py:143: UserWarning: Assigned errors must be positive. Non-positive values are replaced by a heuristic.\n",
      "  warnings.warn(\n"
     ]
    },
    {
     "name": "stdout",
     "output_type": "stream",
     "text": [
      "2006qo (63/172)\n"
     ]
    },
    {
     "name": "stderr",
     "output_type": "stream",
     "text": [
      "/home/cassia/anaconda3/envs/sne/lib/python3.10/site-packages/iminuit/util.py:143: UserWarning: Assigned errors must be positive. Non-positive values are replaced by a heuristic.\n",
      "  warnings.warn(\n"
     ]
    },
    {
     "name": "stdout",
     "output_type": "stream",
     "text": [
      "2006sr (64/172)\n"
     ]
    },
    {
     "name": "stderr",
     "output_type": "stream",
     "text": [
      "/home/cassia/anaconda3/envs/sne/lib/python3.10/site-packages/sncosmo/fitting.py:187: RuntimeWarning: Dropping following bands from data: CFA3K_U(out of model wavelength range)\n",
      "  warnings.warn(\"Dropping following bands from data: \" +\n",
      "/home/cassia/anaconda3/envs/sne/lib/python3.10/site-packages/iminuit/util.py:143: UserWarning: Assigned errors must be positive. Non-positive values are replaced by a heuristic.\n",
      "  warnings.warn(\n"
     ]
    },
    {
     "name": "stdout",
     "output_type": "stream",
     "text": [
      "2006td (65/172)\n"
     ]
    },
    {
     "name": "stderr",
     "output_type": "stream",
     "text": [
      "/home/cassia/anaconda3/envs/sne/lib/python3.10/site-packages/iminuit/util.py:143: UserWarning: Assigned errors must be positive. Non-positive values are replaced by a heuristic.\n",
      "  warnings.warn(\n"
     ]
    },
    {
     "name": "stdout",
     "output_type": "stream",
     "text": [
      "2006te (66/172)\n"
     ]
    },
    {
     "name": "stderr",
     "output_type": "stream",
     "text": [
      "/home/cassia/anaconda3/envs/sne/lib/python3.10/site-packages/iminuit/util.py:143: UserWarning: Assigned errors must be positive. Non-positive values are replaced by a heuristic.\n",
      "  warnings.warn(\n"
     ]
    },
    {
     "name": "stdout",
     "output_type": "stream",
     "text": [
      "2007ae (67/172)\n"
     ]
    },
    {
     "name": "stderr",
     "output_type": "stream",
     "text": [
      "/home/cassia/anaconda3/envs/sne/lib/python3.10/site-packages/sncosmo/fitting.py:187: RuntimeWarning: Dropping following bands from data: CFA3K_B(out of model wavelength range)\n",
      "  warnings.warn(\"Dropping following bands from data: \" +\n",
      "/home/cassia/anaconda3/envs/sne/lib/python3.10/site-packages/iminuit/util.py:143: UserWarning: Assigned errors must be positive. Non-positive values are replaced by a heuristic.\n",
      "  warnings.warn(\n"
     ]
    },
    {
     "name": "stdout",
     "output_type": "stream",
     "text": [
      "2007ap (68/172)\n"
     ]
    },
    {
     "name": "stderr",
     "output_type": "stream",
     "text": [
      "/home/cassia/anaconda3/envs/sne/lib/python3.10/site-packages/iminuit/util.py:143: UserWarning: Assigned errors must be positive. Non-positive values are replaced by a heuristic.\n",
      "  warnings.warn(\n"
     ]
    },
    {
     "name": "stdout",
     "output_type": "stream",
     "text": [
      "2007ar (69/172)\n"
     ]
    },
    {
     "name": "stderr",
     "output_type": "stream",
     "text": [
      "/home/cassia/anaconda3/envs/sne/lib/python3.10/site-packages/sncosmo/fitting.py:187: RuntimeWarning: Dropping following bands from data: CFA3K_B(out of model wavelength range)\n",
      "  warnings.warn(\"Dropping following bands from data: \" +\n",
      "/home/cassia/anaconda3/envs/sne/lib/python3.10/site-packages/iminuit/util.py:143: UserWarning: Assigned errors must be positive. Non-positive values are replaced by a heuristic.\n",
      "  warnings.warn(\n"
     ]
    },
    {
     "name": "stdout",
     "output_type": "stream",
     "text": [
      "2007bd (70/172)\n"
     ]
    },
    {
     "name": "stderr",
     "output_type": "stream",
     "text": [
      "/home/cassia/anaconda3/envs/sne/lib/python3.10/site-packages/iminuit/util.py:143: UserWarning: Assigned errors must be positive. Non-positive values are replaced by a heuristic.\n",
      "  warnings.warn(\n"
     ]
    },
    {
     "name": "stdout",
     "output_type": "stream",
     "text": [
      "2007co (71/172)\n"
     ]
    },
    {
     "name": "stderr",
     "output_type": "stream",
     "text": [
      "/home/cassia/anaconda3/envs/sne/lib/python3.10/site-packages/sncosmo/fitting.py:187: RuntimeWarning: Dropping following bands from data: CFA3K_U(out of model wavelength range)\n",
      "  warnings.warn(\"Dropping following bands from data: \" +\n",
      "/home/cassia/anaconda3/envs/sne/lib/python3.10/site-packages/iminuit/util.py:143: UserWarning: Assigned errors must be positive. Non-positive values are replaced by a heuristic.\n",
      "  warnings.warn(\n"
     ]
    },
    {
     "name": "stdout",
     "output_type": "stream",
     "text": [
      "2007cq (72/172)\n"
     ]
    },
    {
     "name": "stderr",
     "output_type": "stream",
     "text": [
      "/home/cassia/anaconda3/envs/sne/lib/python3.10/site-packages/iminuit/util.py:143: UserWarning: Assigned errors must be positive. Non-positive values are replaced by a heuristic.\n",
      "  warnings.warn(\n"
     ]
    },
    {
     "name": "stdout",
     "output_type": "stream",
     "text": [
      "2007F (73/172)\n"
     ]
    },
    {
     "name": "stderr",
     "output_type": "stream",
     "text": [
      "/home/cassia/anaconda3/envs/sne/lib/python3.10/site-packages/iminuit/util.py:143: UserWarning: Assigned errors must be positive. Non-positive values are replaced by a heuristic.\n",
      "  warnings.warn(\n"
     ]
    },
    {
     "name": "stdout",
     "output_type": "stream",
     "text": [
      "2007O (74/172)\n"
     ]
    },
    {
     "name": "stderr",
     "output_type": "stream",
     "text": [
      "/home/cassia/anaconda3/envs/sne/lib/python3.10/site-packages/iminuit/util.py:143: UserWarning: Assigned errors must be positive. Non-positive values are replaced by a heuristic.\n",
      "  warnings.warn(\n"
     ]
    },
    {
     "name": "stdout",
     "output_type": "stream",
     "text": [
      "2008af (75/172)\n"
     ]
    },
    {
     "name": "stderr",
     "output_type": "stream",
     "text": [
      "/home/cassia/anaconda3/envs/sne/lib/python3.10/site-packages/iminuit/util.py:143: UserWarning: Assigned errors must be positive. Non-positive values are replaced by a heuristic.\n",
      "  warnings.warn(\n"
     ]
    },
    {
     "name": "stdout",
     "output_type": "stream",
     "text": [
      "2008bf (76/172)\n"
     ]
    },
    {
     "name": "stderr",
     "output_type": "stream",
     "text": [
      "/home/cassia/anaconda3/envs/sne/lib/python3.10/site-packages/sncosmo/fitting.py:187: RuntimeWarning: Dropping following bands from data: CFA3K_U(out of model wavelength range)\n",
      "  warnings.warn(\"Dropping following bands from data: \" +\n",
      "/home/cassia/anaconda3/envs/sne/lib/python3.10/site-packages/iminuit/util.py:143: UserWarning: Assigned errors must be positive. Non-positive values are replaced by a heuristic.\n",
      "  warnings.warn(\n"
     ]
    },
    {
     "name": "stdout",
     "output_type": "stream",
     "text": [
      "2008L (77/172)\n"
     ]
    },
    {
     "name": "stderr",
     "output_type": "stream",
     "text": [
      "/home/cassia/anaconda3/envs/sne/lib/python3.10/site-packages/iminuit/util.py:143: UserWarning: Assigned errors must be positive. Non-positive values are replaced by a heuristic.\n",
      "  warnings.warn(\n"
     ]
    },
    {
     "name": "stdout",
     "output_type": "stream",
     "text": [
      "2007A (78/172)\n"
     ]
    },
    {
     "name": "stderr",
     "output_type": "stream",
     "text": [
      "/home/cassia/anaconda3/envs/sne/lib/python3.10/site-packages/iminuit/util.py:143: UserWarning: Assigned errors must be positive. Non-positive values are replaced by a heuristic.\n",
      "  warnings.warn(\n"
     ]
    },
    {
     "name": "stdout",
     "output_type": "stream",
     "text": [
      "2007aj (79/172)\n"
     ]
    },
    {
     "name": "stderr",
     "output_type": "stream",
     "text": [
      "/home/cassia/anaconda3/envs/sne/lib/python3.10/site-packages/iminuit/util.py:143: UserWarning: Assigned errors must be positive. Non-positive values are replaced by a heuristic.\n",
      "  warnings.warn(\n"
     ]
    },
    {
     "name": "stdout",
     "output_type": "stream",
     "text": [
      "2007cb (80/172)\n"
     ]
    },
    {
     "name": "stderr",
     "output_type": "stream",
     "text": [
      "/home/cassia/anaconda3/envs/sne/lib/python3.10/site-packages/iminuit/util.py:143: UserWarning: Assigned errors must be positive. Non-positive values are replaced by a heuristic.\n",
      "  warnings.warn(\n"
     ]
    },
    {
     "name": "stdout",
     "output_type": "stream",
     "text": [
      "2007cc (81/172)\n"
     ]
    },
    {
     "name": "stderr",
     "output_type": "stream",
     "text": [
      "/home/cassia/anaconda3/envs/sne/lib/python3.10/site-packages/iminuit/util.py:143: UserWarning: Assigned errors must be positive. Non-positive values are replaced by a heuristic.\n",
      "  warnings.warn(\n"
     ]
    },
    {
     "name": "stdout",
     "output_type": "stream",
     "text": [
      "2007fb (82/172)\n"
     ]
    },
    {
     "name": "stderr",
     "output_type": "stream",
     "text": [
      "/home/cassia/anaconda3/envs/sne/lib/python3.10/site-packages/iminuit/util.py:143: UserWarning: Assigned errors must be positive. Non-positive values are replaced by a heuristic.\n",
      "  warnings.warn(\n"
     ]
    },
    {
     "name": "stdout",
     "output_type": "stream",
     "text": [
      "2007hu (83/172)\n"
     ]
    },
    {
     "name": "stderr",
     "output_type": "stream",
     "text": [
      "/home/cassia/anaconda3/envs/sne/lib/python3.10/site-packages/iminuit/util.py:143: UserWarning: Assigned errors must be positive. Non-positive values are replaced by a heuristic.\n",
      "  warnings.warn(\n"
     ]
    },
    {
     "name": "stdout",
     "output_type": "stream",
     "text": [
      "2007is (84/172)\n"
     ]
    },
    {
     "name": "stderr",
     "output_type": "stream",
     "text": [
      "/home/cassia/anaconda3/envs/sne/lib/python3.10/site-packages/iminuit/util.py:143: UserWarning: Assigned errors must be positive. Non-positive values are replaced by a heuristic.\n",
      "  warnings.warn(\n"
     ]
    },
    {
     "name": "stdout",
     "output_type": "stream",
     "text": [
      "2007kh (85/172)\n"
     ]
    },
    {
     "name": "stderr",
     "output_type": "stream",
     "text": [
      "/home/cassia/anaconda3/envs/sne/lib/python3.10/site-packages/sncosmo/fitting.py:187: RuntimeWarning: Dropping following bands from data: CFA4p1_B(out of model wavelength range)\n",
      "  warnings.warn(\"Dropping following bands from data: \" +\n",
      "/home/cassia/anaconda3/envs/sne/lib/python3.10/site-packages/iminuit/util.py:143: UserWarning: Assigned errors must be positive. Non-positive values are replaced by a heuristic.\n",
      "  warnings.warn(\n"
     ]
    },
    {
     "name": "stdout",
     "output_type": "stream",
     "text": [
      "2007kk (86/172)\n"
     ]
    },
    {
     "name": "stderr",
     "output_type": "stream",
     "text": [
      "/home/cassia/anaconda3/envs/sne/lib/python3.10/site-packages/iminuit/util.py:143: UserWarning: Assigned errors must be positive. Non-positive values are replaced by a heuristic.\n",
      "  warnings.warn(\n"
     ]
    },
    {
     "name": "stdout",
     "output_type": "stream",
     "text": [
      "2007nq (87/172)\n"
     ]
    },
    {
     "name": "stderr",
     "output_type": "stream",
     "text": [
      "/home/cassia/anaconda3/envs/sne/lib/python3.10/site-packages/iminuit/util.py:143: UserWarning: Assigned errors must be positive. Non-positive values are replaced by a heuristic.\n",
      "  warnings.warn(\n"
     ]
    },
    {
     "name": "stdout",
     "output_type": "stream",
     "text": [
      "2007ob (88/172)\n"
     ]
    },
    {
     "name": "stderr",
     "output_type": "stream",
     "text": [
      "/home/cassia/anaconda3/envs/sne/lib/python3.10/site-packages/iminuit/util.py:143: UserWarning: Assigned errors must be positive. Non-positive values are replaced by a heuristic.\n",
      "  warnings.warn(\n"
     ]
    },
    {
     "name": "stdout",
     "output_type": "stream",
     "text": [
      "2007su (89/172)\n"
     ]
    },
    {
     "name": "stderr",
     "output_type": "stream",
     "text": [
      "/home/cassia/anaconda3/envs/sne/lib/python3.10/site-packages/iminuit/util.py:143: UserWarning: Assigned errors must be positive. Non-positive values are replaced by a heuristic.\n",
      "  warnings.warn(\n"
     ]
    },
    {
     "name": "stdout",
     "output_type": "stream",
     "text": [
      "2007ux (90/172)\n"
     ]
    },
    {
     "name": "stderr",
     "output_type": "stream",
     "text": [
      "/home/cassia/anaconda3/envs/sne/lib/python3.10/site-packages/iminuit/util.py:143: UserWarning: Assigned errors must be positive. Non-positive values are replaced by a heuristic.\n",
      "  warnings.warn(\n"
     ]
    },
    {
     "name": "stdout",
     "output_type": "stream",
     "text": [
      "2008C (91/172)\n"
     ]
    },
    {
     "name": "stderr",
     "output_type": "stream",
     "text": [
      "/home/cassia/anaconda3/envs/sne/lib/python3.10/site-packages/iminuit/util.py:143: UserWarning: Assigned errors must be positive. Non-positive values are replaced by a heuristic.\n",
      "  warnings.warn(\n"
     ]
    },
    {
     "name": "stdout",
     "output_type": "stream",
     "text": [
      "2008Y (92/172)\n"
     ]
    },
    {
     "name": "stderr",
     "output_type": "stream",
     "text": [
      "/home/cassia/anaconda3/envs/sne/lib/python3.10/site-packages/sncosmo/fitting.py:187: RuntimeWarning: Dropping following bands from data: CFA4p1_B(out of model wavelength range)\n",
      "  warnings.warn(\"Dropping following bands from data: \" +\n",
      "/home/cassia/anaconda3/envs/sne/lib/python3.10/site-packages/iminuit/util.py:143: UserWarning: Assigned errors must be positive. Non-positive values are replaced by a heuristic.\n",
      "  warnings.warn(\n"
     ]
    },
    {
     "name": "stdout",
     "output_type": "stream",
     "text": [
      "2008ac (93/172)\n"
     ]
    },
    {
     "name": "stderr",
     "output_type": "stream",
     "text": [
      "/home/cassia/anaconda3/envs/sne/lib/python3.10/site-packages/sncosmo/fitting.py:187: RuntimeWarning: Dropping following bands from data: CFA4p1_B(out of model wavelength range)\n",
      "  warnings.warn(\"Dropping following bands from data: \" +\n",
      "/home/cassia/anaconda3/envs/sne/lib/python3.10/site-packages/iminuit/util.py:143: UserWarning: Assigned errors must be positive. Non-positive values are replaced by a heuristic.\n",
      "  warnings.warn(\n"
     ]
    },
    {
     "name": "stdout",
     "output_type": "stream",
     "text": [
      "2008ar (94/172)\n"
     ]
    },
    {
     "name": "stderr",
     "output_type": "stream",
     "text": [
      "/home/cassia/anaconda3/envs/sne/lib/python3.10/site-packages/iminuit/util.py:143: UserWarning: Assigned errors must be positive. Non-positive values are replaced by a heuristic.\n",
      "  warnings.warn(\n"
     ]
    },
    {
     "name": "stdout",
     "output_type": "stream",
     "text": [
      "2008at (95/172)\n"
     ]
    },
    {
     "name": "stderr",
     "output_type": "stream",
     "text": [
      "/home/cassia/anaconda3/envs/sne/lib/python3.10/site-packages/iminuit/util.py:143: UserWarning: Assigned errors must be positive. Non-positive values are replaced by a heuristic.\n",
      "  warnings.warn(\n"
     ]
    },
    {
     "name": "stdout",
     "output_type": "stream",
     "text": [
      "2008bw (96/172)\n"
     ]
    },
    {
     "name": "stderr",
     "output_type": "stream",
     "text": [
      "/home/cassia/anaconda3/envs/sne/lib/python3.10/site-packages/iminuit/util.py:143: UserWarning: Assigned errors must be positive. Non-positive values are replaced by a heuristic.\n",
      "  warnings.warn(\n"
     ]
    },
    {
     "name": "stdout",
     "output_type": "stream",
     "text": [
      "2008by (97/172)\n"
     ]
    },
    {
     "name": "stderr",
     "output_type": "stream",
     "text": [
      "/home/cassia/anaconda3/envs/sne/lib/python3.10/site-packages/iminuit/util.py:143: UserWarning: Assigned errors must be positive. Non-positive values are replaced by a heuristic.\n",
      "  warnings.warn(\n"
     ]
    },
    {
     "name": "stdout",
     "output_type": "stream",
     "text": [
      "2008bz (98/172)\n"
     ]
    },
    {
     "name": "stderr",
     "output_type": "stream",
     "text": [
      "/home/cassia/anaconda3/envs/sne/lib/python3.10/site-packages/sncosmo/fitting.py:187: RuntimeWarning: Dropping following bands from data: CFA4p1_B(out of model wavelength range)\n",
      "  warnings.warn(\"Dropping following bands from data: \" +\n",
      "/home/cassia/anaconda3/envs/sne/lib/python3.10/site-packages/iminuit/util.py:143: UserWarning: Assigned errors must be positive. Non-positive values are replaced by a heuristic.\n",
      "  warnings.warn(\n"
     ]
    },
    {
     "name": "stdout",
     "output_type": "stream",
     "text": [
      "2008cf (99/172)\n"
     ]
    },
    {
     "name": "stderr",
     "output_type": "stream",
     "text": [
      "/home/cassia/anaconda3/envs/sne/lib/python3.10/site-packages/iminuit/util.py:143: UserWarning: Assigned errors must be positive. Non-positive values are replaced by a heuristic.\n",
      "  warnings.warn(\n"
     ]
    },
    {
     "name": "stdout",
     "output_type": "stream",
     "text": [
      "2008ds (100/172)\n"
     ]
    },
    {
     "name": "stderr",
     "output_type": "stream",
     "text": [
      "/home/cassia/anaconda3/envs/sne/lib/python3.10/site-packages/iminuit/util.py:143: UserWarning: Assigned errors must be positive. Non-positive values are replaced by a heuristic.\n",
      "  warnings.warn(\n"
     ]
    },
    {
     "name": "stdout",
     "output_type": "stream",
     "text": [
      "2008fr (101/172)\n"
     ]
    },
    {
     "name": "stderr",
     "output_type": "stream",
     "text": [
      "/home/cassia/anaconda3/envs/sne/lib/python3.10/site-packages/iminuit/util.py:143: UserWarning: Assigned errors must be positive. Non-positive values are replaced by a heuristic.\n",
      "  warnings.warn(\n"
     ]
    },
    {
     "name": "stdout",
     "output_type": "stream",
     "text": [
      "2008gb (102/172)\n"
     ]
    },
    {
     "name": "stderr",
     "output_type": "stream",
     "text": [
      "/home/cassia/anaconda3/envs/sne/lib/python3.10/site-packages/iminuit/util.py:143: UserWarning: Assigned errors must be positive. Non-positive values are replaced by a heuristic.\n",
      "  warnings.warn(\n"
     ]
    },
    {
     "name": "stdout",
     "output_type": "stream",
     "text": [
      "2008gl (103/172)\n"
     ]
    },
    {
     "name": "stderr",
     "output_type": "stream",
     "text": [
      "/home/cassia/anaconda3/envs/sne/lib/python3.10/site-packages/iminuit/util.py:143: UserWarning: Assigned errors must be positive. Non-positive values are replaced by a heuristic.\n",
      "  warnings.warn(\n"
     ]
    },
    {
     "name": "stdout",
     "output_type": "stream",
     "text": [
      "2009D (104/172)\n"
     ]
    },
    {
     "name": "stderr",
     "output_type": "stream",
     "text": [
      "/home/cassia/anaconda3/envs/sne/lib/python3.10/site-packages/iminuit/util.py:143: UserWarning: Assigned errors must be positive. Non-positive values are replaced by a heuristic.\n",
      "  warnings.warn(\n"
     ]
    },
    {
     "name": "stdout",
     "output_type": "stream",
     "text": [
      "2009ad (105/172)\n"
     ]
    },
    {
     "name": "stderr",
     "output_type": "stream",
     "text": [
      "/home/cassia/anaconda3/envs/sne/lib/python3.10/site-packages/iminuit/util.py:143: UserWarning: Assigned errors must be positive. Non-positive values are replaced by a heuristic.\n",
      "  warnings.warn(\n"
     ]
    },
    {
     "name": "stdout",
     "output_type": "stream",
     "text": [
      "2009an (106/172)\n"
     ]
    },
    {
     "name": "stderr",
     "output_type": "stream",
     "text": [
      "/home/cassia/anaconda3/envs/sne/lib/python3.10/site-packages/iminuit/util.py:143: UserWarning: Assigned errors must be positive. Non-positive values are replaced by a heuristic.\n",
      "  warnings.warn(\n"
     ]
    },
    {
     "name": "stdout",
     "output_type": "stream",
     "text": [
      "2009ds (107/172)\n"
     ]
    },
    {
     "name": "stderr",
     "output_type": "stream",
     "text": [
      "/home/cassia/anaconda3/envs/sne/lib/python3.10/site-packages/iminuit/util.py:143: UserWarning: Assigned errors must be positive. Non-positive values are replaced by a heuristic.\n",
      "  warnings.warn(\n"
     ]
    },
    {
     "name": "stdout",
     "output_type": "stream",
     "text": [
      "2008050 (108/172)\n"
     ]
    },
    {
     "name": "stderr",
     "output_type": "stream",
     "text": [
      "/home/cassia/anaconda3/envs/sne/lib/python3.10/site-packages/iminuit/util.py:143: UserWarning: Assigned errors must be positive. Non-positive values are replaced by a heuristic.\n",
      "  warnings.warn(\n"
     ]
    },
    {
     "name": "stdout",
     "output_type": "stream",
     "text": [
      "2008051 (109/172)\n"
     ]
    },
    {
     "name": "stderr",
     "output_type": "stream",
     "text": [
      "/home/cassia/anaconda3/envs/sne/lib/python3.10/site-packages/iminuit/util.py:143: UserWarning: Assigned errors must be positive. Non-positive values are replaced by a heuristic.\n",
      "  warnings.warn(\n"
     ]
    },
    {
     "name": "stdout",
     "output_type": "stream",
     "text": [
      "2009kk (110/172)\n"
     ]
    },
    {
     "name": "stderr",
     "output_type": "stream",
     "text": [
      "/home/cassia/anaconda3/envs/sne/lib/python3.10/site-packages/iminuit/util.py:143: UserWarning: Assigned errors must be positive. Non-positive values are replaced by a heuristic.\n",
      "  warnings.warn(\n"
     ]
    },
    {
     "name": "stdout",
     "output_type": "stream",
     "text": [
      "2009kq (111/172)\n"
     ]
    },
    {
     "name": "stderr",
     "output_type": "stream",
     "text": [
      "/home/cassia/anaconda3/envs/sne/lib/python3.10/site-packages/iminuit/util.py:143: UserWarning: Assigned errors must be positive. Non-positive values are replaced by a heuristic.\n",
      "  warnings.warn(\n"
     ]
    },
    {
     "name": "stdout",
     "output_type": "stream",
     "text": [
      "2009le (112/172)\n"
     ]
    },
    {
     "name": "stderr",
     "output_type": "stream",
     "text": [
      "/home/cassia/anaconda3/envs/sne/lib/python3.10/site-packages/iminuit/util.py:143: UserWarning: Assigned errors must be positive. Non-positive values are replaced by a heuristic.\n",
      "  warnings.warn(\n"
     ]
    },
    {
     "name": "stdout",
     "output_type": "stream",
     "text": [
      "2009na (113/172)\n"
     ]
    },
    {
     "name": "stderr",
     "output_type": "stream",
     "text": [
      "/home/cassia/anaconda3/envs/sne/lib/python3.10/site-packages/iminuit/util.py:143: UserWarning: Assigned errors must be positive. Non-positive values are replaced by a heuristic.\n",
      "  warnings.warn(\n"
     ]
    },
    {
     "name": "stdout",
     "output_type": "stream",
     "text": [
      "2009nq (114/172)\n"
     ]
    },
    {
     "name": "stderr",
     "output_type": "stream",
     "text": [
      "/home/cassia/anaconda3/envs/sne/lib/python3.10/site-packages/iminuit/util.py:143: UserWarning: Assigned errors must be positive. Non-positive values are replaced by a heuristic.\n",
      "  warnings.warn(\n"
     ]
    },
    {
     "name": "stdout",
     "output_type": "stream",
     "text": [
      "2010A (115/172)\n"
     ]
    },
    {
     "name": "stderr",
     "output_type": "stream",
     "text": [
      "/home/cassia/anaconda3/envs/sne/lib/python3.10/site-packages/iminuit/util.py:143: UserWarning: Assigned errors must be positive. Non-positive values are replaced by a heuristic.\n",
      "  warnings.warn(\n"
     ]
    },
    {
     "name": "stdout",
     "output_type": "stream",
     "text": [
      "2010H (116/172)\n"
     ]
    },
    {
     "name": "stderr",
     "output_type": "stream",
     "text": [
      "/home/cassia/anaconda3/envs/sne/lib/python3.10/site-packages/iminuit/util.py:143: UserWarning: Assigned errors must be positive. Non-positive values are replaced by a heuristic.\n",
      "  warnings.warn(\n"
     ]
    },
    {
     "name": "stdout",
     "output_type": "stream",
     "text": [
      "2010Y (117/172)\n"
     ]
    },
    {
     "name": "stderr",
     "output_type": "stream",
     "text": [
      "/home/cassia/anaconda3/envs/sne/lib/python3.10/site-packages/iminuit/util.py:143: UserWarning: Assigned errors must be positive. Non-positive values are replaced by a heuristic.\n",
      "  warnings.warn(\n"
     ]
    },
    {
     "name": "stdout",
     "output_type": "stream",
     "text": [
      "2010dt (118/172)\n"
     ]
    },
    {
     "name": "stderr",
     "output_type": "stream",
     "text": [
      "/home/cassia/anaconda3/envs/sne/lib/python3.10/site-packages/iminuit/util.py:143: UserWarning: Assigned errors must be positive. Non-positive values are replaced by a heuristic.\n",
      "  warnings.warn(\n"
     ]
    },
    {
     "name": "stdout",
     "output_type": "stream",
     "text": [
      "PTF10bjs (119/172)\n"
     ]
    },
    {
     "name": "stderr",
     "output_type": "stream",
     "text": [
      "/home/cassia/anaconda3/envs/sne/lib/python3.10/site-packages/iminuit/util.py:143: UserWarning: Assigned errors must be positive. Non-positive values are replaced by a heuristic.\n",
      "  warnings.warn(\n"
     ]
    },
    {
     "name": "stdout",
     "output_type": "stream",
     "text": [
      "2004eo (120/172)\n"
     ]
    },
    {
     "name": "stderr",
     "output_type": "stream",
     "text": [
      "/home/cassia/anaconda3/envs/sne/lib/python3.10/site-packages/sncosmo/fitting.py:187: RuntimeWarning: Dropping following bands from data: CSP_u(out of model wavelength range)\n",
      "  warnings.warn(\"Dropping following bands from data: \" +\n",
      "/home/cassia/anaconda3/envs/sne/lib/python3.10/site-packages/iminuit/util.py:143: UserWarning: Assigned errors must be positive. Non-positive values are replaced by a heuristic.\n",
      "  warnings.warn(\n"
     ]
    },
    {
     "name": "stdout",
     "output_type": "stream",
     "text": [
      "2004ey (121/172)\n"
     ]
    },
    {
     "name": "stderr",
     "output_type": "stream",
     "text": [
      "/home/cassia/anaconda3/envs/sne/lib/python3.10/site-packages/sncosmo/fitting.py:187: RuntimeWarning: Dropping following bands from data: CSP_u(out of model wavelength range)\n",
      "  warnings.warn(\"Dropping following bands from data: \" +\n",
      "/home/cassia/anaconda3/envs/sne/lib/python3.10/site-packages/iminuit/util.py:143: UserWarning: Assigned errors must be positive. Non-positive values are replaced by a heuristic.\n",
      "  warnings.warn(\n"
     ]
    },
    {
     "name": "stdout",
     "output_type": "stream",
     "text": [
      "2004gu (122/172)\n"
     ]
    },
    {
     "name": "stderr",
     "output_type": "stream",
     "text": [
      "/home/cassia/anaconda3/envs/sne/lib/python3.10/site-packages/sncosmo/fitting.py:187: RuntimeWarning: Dropping following bands from data: CSP_u(out of model wavelength range)\n",
      "  warnings.warn(\"Dropping following bands from data: \" +\n",
      "/home/cassia/anaconda3/envs/sne/lib/python3.10/site-packages/iminuit/util.py:143: UserWarning: Assigned errors must be positive. Non-positive values are replaced by a heuristic.\n",
      "  warnings.warn(\n"
     ]
    },
    {
     "name": "stdout",
     "output_type": "stream",
     "text": [
      "2005be (123/172)\n"
     ]
    },
    {
     "name": "stderr",
     "output_type": "stream",
     "text": [
      "/home/cassia/anaconda3/envs/sne/lib/python3.10/site-packages/sncosmo/fitting.py:187: RuntimeWarning: Dropping following bands from data: CSP_u(out of model wavelength range)\n",
      "  warnings.warn(\"Dropping following bands from data: \" +\n",
      "/home/cassia/anaconda3/envs/sne/lib/python3.10/site-packages/iminuit/util.py:143: UserWarning: Assigned errors must be positive. Non-positive values are replaced by a heuristic.\n",
      "  warnings.warn(\n"
     ]
    },
    {
     "name": "stdout",
     "output_type": "stream",
     "text": [
      "2005bo (124/172)\n"
     ]
    },
    {
     "name": "stderr",
     "output_type": "stream",
     "text": [
      "/home/cassia/anaconda3/envs/sne/lib/python3.10/site-packages/sncosmo/fitting.py:187: RuntimeWarning: Dropping following bands from data: CSP_u(out of model wavelength range)\n",
      "  warnings.warn(\"Dropping following bands from data: \" +\n",
      "/home/cassia/anaconda3/envs/sne/lib/python3.10/site-packages/iminuit/util.py:143: UserWarning: Assigned errors must be positive. Non-positive values are replaced by a heuristic.\n",
      "  warnings.warn(\n"
     ]
    },
    {
     "name": "stdout",
     "output_type": "stream",
     "text": [
      "2005el (125/172)\n"
     ]
    },
    {
     "name": "stderr",
     "output_type": "stream",
     "text": [
      "/home/cassia/anaconda3/envs/sne/lib/python3.10/site-packages/sncosmo/fitting.py:187: RuntimeWarning: Dropping following bands from data: CFA3K_U(out of model wavelength range)\n",
      "  warnings.warn(\"Dropping following bands from data: \" +\n",
      "/home/cassia/anaconda3/envs/sne/lib/python3.10/site-packages/iminuit/util.py:143: UserWarning: Assigned errors must be positive. Non-positive values are replaced by a heuristic.\n",
      "  warnings.warn(\n"
     ]
    },
    {
     "name": "stdout",
     "output_type": "stream",
     "text": [
      "2005eq (126/172)\n"
     ]
    },
    {
     "name": "stderr",
     "output_type": "stream",
     "text": [
      "/home/cassia/anaconda3/envs/sne/lib/python3.10/site-packages/sncosmo/fitting.py:187: RuntimeWarning: Dropping following bands from data: CFA3K_U(out of model wavelength range)\n",
      "  warnings.warn(\"Dropping following bands from data: \" +\n",
      "/home/cassia/anaconda3/envs/sne/lib/python3.10/site-packages/iminuit/util.py:143: UserWarning: Assigned errors must be positive. Non-positive values are replaced by a heuristic.\n",
      "  warnings.warn(\n"
     ]
    },
    {
     "name": "stdout",
     "output_type": "stream",
     "text": [
      "2005hc (127/172)\n"
     ]
    },
    {
     "name": "stderr",
     "output_type": "stream",
     "text": [
      "/home/cassia/anaconda3/envs/sne/lib/python3.10/site-packages/sncosmo/fitting.py:187: RuntimeWarning: Dropping following bands from data: CFA3K_U(out of model wavelength range)\n",
      "  warnings.warn(\"Dropping following bands from data: \" +\n",
      "/home/cassia/anaconda3/envs/sne/lib/python3.10/site-packages/iminuit/util.py:143: UserWarning: Assigned errors must be positive. Non-positive values are replaced by a heuristic.\n",
      "  warnings.warn(\n"
     ]
    },
    {
     "name": "stdout",
     "output_type": "stream",
     "text": [
      "2005iq (128/172)\n"
     ]
    },
    {
     "name": "stderr",
     "output_type": "stream",
     "text": [
      "/home/cassia/anaconda3/envs/sne/lib/python3.10/site-packages/sncosmo/fitting.py:187: RuntimeWarning: Dropping following bands from data: CFA3K_U(out of model wavelength range)\n",
      "  warnings.warn(\"Dropping following bands from data: \" +\n",
      "/home/cassia/anaconda3/envs/sne/lib/python3.10/site-packages/iminuit/util.py:143: UserWarning: Assigned errors must be positive. Non-positive values are replaced by a heuristic.\n",
      "  warnings.warn(\n"
     ]
    },
    {
     "name": "stdout",
     "output_type": "stream",
     "text": [
      "2005kc (129/172)\n"
     ]
    },
    {
     "name": "stderr",
     "output_type": "stream",
     "text": [
      "/home/cassia/anaconda3/envs/sne/lib/python3.10/site-packages/sncosmo/fitting.py:187: RuntimeWarning: Dropping following bands from data: CFA3K_U(out of model wavelength range)\n",
      "  warnings.warn(\"Dropping following bands from data: \" +\n",
      "/home/cassia/anaconda3/envs/sne/lib/python3.10/site-packages/iminuit/util.py:143: UserWarning: Assigned errors must be positive. Non-positive values are replaced by a heuristic.\n",
      "  warnings.warn(\n"
     ]
    },
    {
     "name": "stdout",
     "output_type": "stream",
     "text": [
      "2005ki (130/172)\n"
     ]
    },
    {
     "name": "stderr",
     "output_type": "stream",
     "text": [
      "/home/cassia/anaconda3/envs/sne/lib/python3.10/site-packages/sncosmo/fitting.py:187: RuntimeWarning: Dropping following bands from data: CFA3K_U(out of model wavelength range)\n",
      "  warnings.warn(\"Dropping following bands from data: \" +\n",
      "/home/cassia/anaconda3/envs/sne/lib/python3.10/site-packages/iminuit/util.py:143: UserWarning: Assigned errors must be positive. Non-positive values are replaced by a heuristic.\n",
      "  warnings.warn(\n"
     ]
    },
    {
     "name": "stdout",
     "output_type": "stream",
     "text": [
      "2005lu (131/172)\n"
     ]
    },
    {
     "name": "stderr",
     "output_type": "stream",
     "text": [
      "/home/cassia/anaconda3/envs/sne/lib/python3.10/site-packages/sncosmo/fitting.py:187: RuntimeWarning: Dropping following bands from data: CFA3K_U(out of model wavelength range)\n",
      "  warnings.warn(\"Dropping following bands from data: \" +\n",
      "/home/cassia/anaconda3/envs/sne/lib/python3.10/site-packages/iminuit/util.py:143: UserWarning: Assigned errors must be positive. Non-positive values are replaced by a heuristic.\n",
      "  warnings.warn(\n"
     ]
    },
    {
     "name": "stdout",
     "output_type": "stream",
     "text": [
      "2005M (132/172)\n"
     ]
    },
    {
     "name": "stderr",
     "output_type": "stream",
     "text": [
      "/home/cassia/anaconda3/envs/sne/lib/python3.10/site-packages/sncosmo/fitting.py:187: RuntimeWarning: Dropping following bands from data: CFA3K_U(out of model wavelength range)\n",
      "  warnings.warn(\"Dropping following bands from data: \" +\n",
      "/home/cassia/anaconda3/envs/sne/lib/python3.10/site-packages/iminuit/util.py:143: UserWarning: Assigned errors must be positive. Non-positive values are replaced by a heuristic.\n",
      "  warnings.warn(\n"
     ]
    },
    {
     "name": "stdout",
     "output_type": "stream",
     "text": [
      "2006bh (133/172)\n"
     ]
    },
    {
     "name": "stderr",
     "output_type": "stream",
     "text": [
      "/home/cassia/anaconda3/envs/sne/lib/python3.10/site-packages/sncosmo/fitting.py:187: RuntimeWarning: Dropping following bands from data: CSP_u(out of model wavelength range)\n",
      "  warnings.warn(\"Dropping following bands from data: \" +\n",
      "/home/cassia/anaconda3/envs/sne/lib/python3.10/site-packages/iminuit/util.py:143: UserWarning: Assigned errors must be positive. Non-positive values are replaced by a heuristic.\n",
      "  warnings.warn(\n"
     ]
    },
    {
     "name": "stdout",
     "output_type": "stream",
     "text": [
      "2006ef (134/172)\n"
     ]
    },
    {
     "name": "stderr",
     "output_type": "stream",
     "text": [
      "/home/cassia/anaconda3/envs/sne/lib/python3.10/site-packages/iminuit/util.py:143: UserWarning: Assigned errors must be positive. Non-positive values are replaced by a heuristic.\n",
      "  warnings.warn(\n"
     ]
    },
    {
     "name": "stdout",
     "output_type": "stream",
     "text": [
      "2006ej (135/172)\n"
     ]
    },
    {
     "name": "stderr",
     "output_type": "stream",
     "text": [
      "/home/cassia/anaconda3/envs/sne/lib/python3.10/site-packages/iminuit/util.py:143: UserWarning: Assigned errors must be positive. Non-positive values are replaced by a heuristic.\n",
      "  warnings.warn(\n"
     ]
    },
    {
     "name": "stdout",
     "output_type": "stream",
     "text": [
      "2006eq (136/172)\n"
     ]
    },
    {
     "name": "stderr",
     "output_type": "stream",
     "text": [
      "/home/cassia/anaconda3/envs/sne/lib/python3.10/site-packages/sncosmo/fitting.py:187: RuntimeWarning: Dropping following bands from data: CSP_u(out of model wavelength range)\n",
      "  warnings.warn(\"Dropping following bands from data: \" +\n",
      "/home/cassia/anaconda3/envs/sne/lib/python3.10/site-packages/iminuit/util.py:143: UserWarning: Assigned errors must be positive. Non-positive values are replaced by a heuristic.\n",
      "  warnings.warn(\n"
     ]
    },
    {
     "name": "stdout",
     "output_type": "stream",
     "text": [
      "2006et (137/172)\n"
     ]
    },
    {
     "name": "stderr",
     "output_type": "stream",
     "text": [
      "/home/cassia/anaconda3/envs/sne/lib/python3.10/site-packages/iminuit/util.py:143: UserWarning: Assigned errors must be positive. Non-positive values are replaced by a heuristic.\n",
      "  warnings.warn(\n"
     ]
    },
    {
     "name": "stdout",
     "output_type": "stream",
     "text": [
      "2006lu (138/172)\n"
     ]
    },
    {
     "name": "stderr",
     "output_type": "stream",
     "text": [
      "/home/cassia/anaconda3/envs/sne/lib/python3.10/site-packages/sncosmo/fitting.py:187: RuntimeWarning: Dropping following bands from data: CSP_u(out of model wavelength range)\n",
      "  warnings.warn(\"Dropping following bands from data: \" +\n",
      "/home/cassia/anaconda3/envs/sne/lib/python3.10/site-packages/iminuit/util.py:143: UserWarning: Assigned errors must be positive. Non-positive values are replaced by a heuristic.\n",
      "  warnings.warn(\n"
     ]
    },
    {
     "name": "stdout",
     "output_type": "stream",
     "text": [
      "2006py (139/172)\n"
     ]
    },
    {
     "name": "stderr",
     "output_type": "stream",
     "text": [
      "/home/cassia/anaconda3/envs/sne/lib/python3.10/site-packages/sncosmo/fitting.py:187: RuntimeWarning: Dropping following bands from data: CSP_u(out of model wavelength range)\n",
      "  warnings.warn(\"Dropping following bands from data: \" +\n",
      "/home/cassia/anaconda3/envs/sne/lib/python3.10/site-packages/iminuit/util.py:143: UserWarning: Assigned errors must be positive. Non-positive values are replaced by a heuristic.\n",
      "  warnings.warn(\n"
     ]
    },
    {
     "name": "stdout",
     "output_type": "stream",
     "text": [
      "2007bc (140/172)\n"
     ]
    },
    {
     "name": "stderr",
     "output_type": "stream",
     "text": [
      "/home/cassia/anaconda3/envs/sne/lib/python3.10/site-packages/iminuit/util.py:143: UserWarning: Assigned errors must be positive. Non-positive values are replaced by a heuristic.\n",
      "  warnings.warn(\n"
     ]
    },
    {
     "name": "stdout",
     "output_type": "stream",
     "text": [
      "2007ca (141/172)\n"
     ]
    },
    {
     "name": "stderr",
     "output_type": "stream",
     "text": [
      "/home/cassia/anaconda3/envs/sne/lib/python3.10/site-packages/iminuit/util.py:143: UserWarning: Assigned errors must be positive. Non-positive values are replaced by a heuristic.\n",
      "  warnings.warn(\n"
     ]
    },
    {
     "name": "stdout",
     "output_type": "stream",
     "text": [
      "2008bq (142/172)\n"
     ]
    },
    {
     "name": "stderr",
     "output_type": "stream",
     "text": [
      "/home/cassia/anaconda3/envs/sne/lib/python3.10/site-packages/sncosmo/fitting.py:187: RuntimeWarning: Dropping following bands from data: CSP_u(out of model wavelength range)\n",
      "  warnings.warn(\"Dropping following bands from data: \" +\n",
      "/home/cassia/anaconda3/envs/sne/lib/python3.10/site-packages/iminuit/util.py:143: UserWarning: Assigned errors must be positive. Non-positive values are replaced by a heuristic.\n",
      "  warnings.warn(\n"
     ]
    },
    {
     "name": "stdout",
     "output_type": "stream",
     "text": [
      "2008gp (143/172)\n"
     ]
    },
    {
     "name": "stderr",
     "output_type": "stream",
     "text": [
      "/home/cassia/anaconda3/envs/sne/lib/python3.10/site-packages/sncosmo/fitting.py:187: RuntimeWarning: Dropping following bands from data: CSP_u(out of model wavelength range)\n",
      "  warnings.warn(\"Dropping following bands from data: \" +\n",
      "/home/cassia/anaconda3/envs/sne/lib/python3.10/site-packages/iminuit/util.py:143: UserWarning: Assigned errors must be positive. Non-positive values are replaced by a heuristic.\n",
      "  warnings.warn(\n"
     ]
    },
    {
     "name": "stdout",
     "output_type": "stream",
     "text": [
      "2008hv (144/172)\n"
     ]
    },
    {
     "name": "stderr",
     "output_type": "stream",
     "text": [
      "/home/cassia/anaconda3/envs/sne/lib/python3.10/site-packages/iminuit/util.py:143: UserWarning: Assigned errors must be positive. Non-positive values are replaced by a heuristic.\n",
      "  warnings.warn(\n"
     ]
    },
    {
     "name": "stdout",
     "output_type": "stream",
     "text": [
      "1993ac (145/172)\n"
     ]
    },
    {
     "name": "stderr",
     "output_type": "stream",
     "text": [
      "/home/cassia/anaconda3/envs/sne/lib/python3.10/site-packages/iminuit/util.py:143: UserWarning: Assigned errors must be positive. Non-positive values are replaced by a heuristic.\n",
      "  warnings.warn(\n"
     ]
    },
    {
     "name": "stdout",
     "output_type": "stream",
     "text": [
      "1993ae (146/172)\n"
     ]
    },
    {
     "name": "stderr",
     "output_type": "stream",
     "text": [
      "/home/cassia/anaconda3/envs/sne/lib/python3.10/site-packages/iminuit/util.py:143: UserWarning: Assigned errors must be positive. Non-positive values are replaced by a heuristic.\n",
      "  warnings.warn(\n"
     ]
    },
    {
     "name": "stdout",
     "output_type": "stream",
     "text": [
      "1994M (147/172)\n"
     ]
    },
    {
     "name": "stderr",
     "output_type": "stream",
     "text": [
      "/home/cassia/anaconda3/envs/sne/lib/python3.10/site-packages/iminuit/util.py:143: UserWarning: Assigned errors must be positive. Non-positive values are replaced by a heuristic.\n",
      "  warnings.warn(\n"
     ]
    },
    {
     "name": "stdout",
     "output_type": "stream",
     "text": [
      "1994Q (148/172)\n"
     ]
    },
    {
     "name": "stderr",
     "output_type": "stream",
     "text": [
      "/home/cassia/anaconda3/envs/sne/lib/python3.10/site-packages/iminuit/util.py:143: UserWarning: Assigned errors must be positive. Non-positive values are replaced by a heuristic.\n",
      "  warnings.warn(\n"
     ]
    },
    {
     "name": "stdout",
     "output_type": "stream",
     "text": [
      "1994S (149/172)\n"
     ]
    },
    {
     "name": "stderr",
     "output_type": "stream",
     "text": [
      "/home/cassia/anaconda3/envs/sne/lib/python3.10/site-packages/iminuit/util.py:143: UserWarning: Assigned errors must be positive. Non-positive values are replaced by a heuristic.\n",
      "  warnings.warn(\n"
     ]
    },
    {
     "name": "stdout",
     "output_type": "stream",
     "text": [
      "1995ak (150/172)\n"
     ]
    },
    {
     "name": "stderr",
     "output_type": "stream",
     "text": [
      "/home/cassia/anaconda3/envs/sne/lib/python3.10/site-packages/iminuit/util.py:143: UserWarning: Assigned errors must be positive. Non-positive values are replaced by a heuristic.\n",
      "  warnings.warn(\n"
     ]
    },
    {
     "name": "stdout",
     "output_type": "stream",
     "text": [
      "1996bl (151/172)\n"
     ]
    },
    {
     "name": "stderr",
     "output_type": "stream",
     "text": [
      "/home/cassia/anaconda3/envs/sne/lib/python3.10/site-packages/iminuit/util.py:143: UserWarning: Assigned errors must be positive. Non-positive values are replaced by a heuristic.\n",
      "  warnings.warn(\n"
     ]
    },
    {
     "name": "stdout",
     "output_type": "stream",
     "text": [
      "1996bv (152/172)\n"
     ]
    },
    {
     "name": "stderr",
     "output_type": "stream",
     "text": [
      "/home/cassia/anaconda3/envs/sne/lib/python3.10/site-packages/iminuit/util.py:143: UserWarning: Assigned errors must be positive. Non-positive values are replaced by a heuristic.\n",
      "  warnings.warn(\n"
     ]
    },
    {
     "name": "stdout",
     "output_type": "stream",
     "text": [
      "1996C (153/172)\n"
     ]
    },
    {
     "name": "stderr",
     "output_type": "stream",
     "text": [
      "/home/cassia/anaconda3/envs/sne/lib/python3.10/site-packages/iminuit/util.py:143: UserWarning: Assigned errors must be positive. Non-positive values are replaced by a heuristic.\n",
      "  warnings.warn(\n"
     ]
    },
    {
     "name": "stdout",
     "output_type": "stream",
     "text": [
      "1997dg (154/172)\n"
     ]
    },
    {
     "name": "stderr",
     "output_type": "stream",
     "text": [
      "/home/cassia/anaconda3/envs/sne/lib/python3.10/site-packages/sncosmo/fitting.py:187: RuntimeWarning: Dropping following bands from data: CFA2_ux(out of model wavelength range)\n",
      "  warnings.warn(\"Dropping following bands from data: \" +\n",
      "/home/cassia/anaconda3/envs/sne/lib/python3.10/site-packages/iminuit/util.py:143: UserWarning: Assigned errors must be positive. Non-positive values are replaced by a heuristic.\n",
      "  warnings.warn(\n"
     ]
    },
    {
     "name": "stdout",
     "output_type": "stream",
     "text": [
      "1997E (155/172)\n"
     ]
    },
    {
     "name": "stderr",
     "output_type": "stream",
     "text": [
      "/home/cassia/anaconda3/envs/sne/lib/python3.10/site-packages/sncosmo/fitting.py:187: RuntimeWarning: Dropping following bands from data: CFA2_ux(out of model wavelength range)\n",
      "  warnings.warn(\"Dropping following bands from data: \" +\n",
      "/home/cassia/anaconda3/envs/sne/lib/python3.10/site-packages/iminuit/util.py:143: UserWarning: Assigned errors must be positive. Non-positive values are replaced by a heuristic.\n",
      "  warnings.warn(\n"
     ]
    },
    {
     "name": "stdout",
     "output_type": "stream",
     "text": [
      "1997Y (156/172)\n"
     ]
    },
    {
     "name": "stderr",
     "output_type": "stream",
     "text": [
      "/home/cassia/anaconda3/envs/sne/lib/python3.10/site-packages/sncosmo/fitting.py:187: RuntimeWarning: Dropping following bands from data: CFA2_ux(out of model wavelength range)\n",
      "  warnings.warn(\"Dropping following bands from data: \" +\n",
      "/home/cassia/anaconda3/envs/sne/lib/python3.10/site-packages/iminuit/util.py:143: UserWarning: Assigned errors must be positive. Non-positive values are replaced by a heuristic.\n",
      "  warnings.warn(\n"
     ]
    },
    {
     "name": "stdout",
     "output_type": "stream",
     "text": [
      "1998dk (157/172)\n"
     ]
    },
    {
     "name": "stderr",
     "output_type": "stream",
     "text": [
      "/home/cassia/anaconda3/envs/sne/lib/python3.10/site-packages/sncosmo/fitting.py:187: RuntimeWarning: Dropping following bands from data: CFA2_ux(out of model wavelength range)\n",
      "  warnings.warn(\"Dropping following bands from data: \" +\n",
      "/home/cassia/anaconda3/envs/sne/lib/python3.10/site-packages/iminuit/util.py:143: UserWarning: Assigned errors must be positive. Non-positive values are replaced by a heuristic.\n",
      "  warnings.warn(\n"
     ]
    },
    {
     "name": "stdout",
     "output_type": "stream",
     "text": [
      "1998dx (158/172)\n"
     ]
    },
    {
     "name": "stderr",
     "output_type": "stream",
     "text": [
      "/home/cassia/anaconda3/envs/sne/lib/python3.10/site-packages/sncosmo/fitting.py:187: RuntimeWarning: Dropping following bands from data: CFA2_ux(out of model wavelength range)\n",
      "  warnings.warn(\"Dropping following bands from data: \" +\n",
      "/home/cassia/anaconda3/envs/sne/lib/python3.10/site-packages/iminuit/util.py:143: UserWarning: Assigned errors must be positive. Non-positive values are replaced by a heuristic.\n",
      "  warnings.warn(\n"
     ]
    },
    {
     "name": "stdout",
     "output_type": "stream",
     "text": [
      "1998ec (159/172)\n"
     ]
    },
    {
     "name": "stderr",
     "output_type": "stream",
     "text": [
      "/home/cassia/anaconda3/envs/sne/lib/python3.10/site-packages/sncosmo/fitting.py:187: RuntimeWarning: Dropping following bands from data: CFA2_ux(out of model wavelength range)\n",
      "  warnings.warn(\"Dropping following bands from data: \" +\n",
      "/home/cassia/anaconda3/envs/sne/lib/python3.10/site-packages/iminuit/util.py:143: UserWarning: Assigned errors must be positive. Non-positive values are replaced by a heuristic.\n",
      "  warnings.warn(\n"
     ]
    },
    {
     "name": "stdout",
     "output_type": "stream",
     "text": [
      "1998ef (160/172)\n"
     ]
    },
    {
     "name": "stderr",
     "output_type": "stream",
     "text": [
      "/home/cassia/anaconda3/envs/sne/lib/python3.10/site-packages/sncosmo/fitting.py:187: RuntimeWarning: Dropping following bands from data: CFA2_ux(out of model wavelength range)\n",
      "  warnings.warn(\"Dropping following bands from data: \" +\n",
      "/home/cassia/anaconda3/envs/sne/lib/python3.10/site-packages/iminuit/util.py:143: UserWarning: Assigned errors must be positive. Non-positive values are replaced by a heuristic.\n",
      "  warnings.warn(\n"
     ]
    },
    {
     "name": "stdout",
     "output_type": "stream",
     "text": [
      "1998eg (161/172)\n"
     ]
    },
    {
     "name": "stderr",
     "output_type": "stream",
     "text": [
      "/home/cassia/anaconda3/envs/sne/lib/python3.10/site-packages/sncosmo/fitting.py:187: RuntimeWarning: Dropping following bands from data: CFA2_ux(out of model wavelength range)\n",
      "  warnings.warn(\"Dropping following bands from data: \" +\n",
      "/home/cassia/anaconda3/envs/sne/lib/python3.10/site-packages/iminuit/util.py:143: UserWarning: Assigned errors must be positive. Non-positive values are replaced by a heuristic.\n",
      "  warnings.warn(\n"
     ]
    },
    {
     "name": "stdout",
     "output_type": "stream",
     "text": [
      "1999cc (162/172)\n"
     ]
    },
    {
     "name": "stderr",
     "output_type": "stream",
     "text": [
      "/home/cassia/anaconda3/envs/sne/lib/python3.10/site-packages/sncosmo/fitting.py:187: RuntimeWarning: Dropping following bands from data: CFA2_ux(out of model wavelength range)\n",
      "  warnings.warn(\"Dropping following bands from data: \" +\n",
      "/home/cassia/anaconda3/envs/sne/lib/python3.10/site-packages/iminuit/util.py:143: UserWarning: Assigned errors must be positive. Non-positive values are replaced by a heuristic.\n",
      "  warnings.warn(\n"
     ]
    },
    {
     "name": "stdout",
     "output_type": "stream",
     "text": [
      "1999dq (163/172)\n"
     ]
    },
    {
     "name": "stderr",
     "output_type": "stream",
     "text": [
      "/home/cassia/anaconda3/envs/sne/lib/python3.10/site-packages/sncosmo/fitting.py:187: RuntimeWarning: Dropping following bands from data: CFA2_ux(out of model wavelength range)\n",
      "  warnings.warn(\"Dropping following bands from data: \" +\n",
      "/home/cassia/anaconda3/envs/sne/lib/python3.10/site-packages/iminuit/util.py:143: UserWarning: Assigned errors must be positive. Non-positive values are replaced by a heuristic.\n",
      "  warnings.warn(\n"
     ]
    },
    {
     "name": "stdout",
     "output_type": "stream",
     "text": [
      "1999ef (164/172)\n"
     ]
    },
    {
     "name": "stderr",
     "output_type": "stream",
     "text": [
      "/home/cassia/anaconda3/envs/sne/lib/python3.10/site-packages/sncosmo/fitting.py:187: RuntimeWarning: Dropping following bands from data: CFA2_ux(out of model wavelength range)\n",
      "  warnings.warn(\"Dropping following bands from data: \" +\n",
      "/home/cassia/anaconda3/envs/sne/lib/python3.10/site-packages/iminuit/util.py:143: UserWarning: Assigned errors must be positive. Non-positive values are replaced by a heuristic.\n",
      "  warnings.warn(\n"
     ]
    },
    {
     "name": "stdout",
     "output_type": "stream",
     "text": [
      "1999ej (165/172)\n"
     ]
    },
    {
     "name": "stderr",
     "output_type": "stream",
     "text": [
      "/home/cassia/anaconda3/envs/sne/lib/python3.10/site-packages/sncosmo/fitting.py:187: RuntimeWarning: Dropping following bands from data: CFA2_ux(out of model wavelength range)\n",
      "  warnings.warn(\"Dropping following bands from data: \" +\n",
      "/home/cassia/anaconda3/envs/sne/lib/python3.10/site-packages/iminuit/util.py:143: UserWarning: Assigned errors must be positive. Non-positive values are replaced by a heuristic.\n",
      "  warnings.warn(\n"
     ]
    },
    {
     "name": "stdout",
     "output_type": "stream",
     "text": [
      "1999X (166/172)\n"
     ]
    },
    {
     "name": "stderr",
     "output_type": "stream",
     "text": [
      "/home/cassia/anaconda3/envs/sne/lib/python3.10/site-packages/sncosmo/fitting.py:187: RuntimeWarning: Dropping following bands from data: CFA2_ux(out of model wavelength range)\n",
      "  warnings.warn(\"Dropping following bands from data: \" +\n",
      "/home/cassia/anaconda3/envs/sne/lib/python3.10/site-packages/iminuit/util.py:143: UserWarning: Assigned errors must be positive. Non-positive values are replaced by a heuristic.\n",
      "  warnings.warn(\n"
     ]
    },
    {
     "name": "stdout",
     "output_type": "stream",
     "text": [
      "2000B (167/172)\n"
     ]
    },
    {
     "name": "stderr",
     "output_type": "stream",
     "text": [
      "/home/cassia/anaconda3/envs/sne/lib/python3.10/site-packages/sncosmo/fitting.py:187: RuntimeWarning: Dropping following bands from data: CFA2_ux(out of model wavelength range)\n",
      "  warnings.warn(\"Dropping following bands from data: \" +\n",
      "/home/cassia/anaconda3/envs/sne/lib/python3.10/site-packages/iminuit/util.py:143: UserWarning: Assigned errors must be positive. Non-positive values are replaced by a heuristic.\n",
      "  warnings.warn(\n"
     ]
    },
    {
     "name": "stdout",
     "output_type": "stream",
     "text": [
      "2000cf (168/172)\n"
     ]
    },
    {
     "name": "stderr",
     "output_type": "stream",
     "text": [
      "/home/cassia/anaconda3/envs/sne/lib/python3.10/site-packages/sncosmo/fitting.py:187: RuntimeWarning: Dropping following bands from data: CFA2_ux(out of model wavelength range)\n",
      "  warnings.warn(\"Dropping following bands from data: \" +\n",
      "/home/cassia/anaconda3/envs/sne/lib/python3.10/site-packages/iminuit/util.py:143: UserWarning: Assigned errors must be positive. Non-positive values are replaced by a heuristic.\n",
      "  warnings.warn(\n"
     ]
    },
    {
     "name": "stdout",
     "output_type": "stream",
     "text": [
      "2000cn (169/172)\n"
     ]
    },
    {
     "name": "stderr",
     "output_type": "stream",
     "text": [
      "/home/cassia/anaconda3/envs/sne/lib/python3.10/site-packages/sncosmo/fitting.py:187: RuntimeWarning: Dropping following bands from data: CFA2_ux(out of model wavelength range)\n",
      "  warnings.warn(\"Dropping following bands from data: \" +\n",
      "/home/cassia/anaconda3/envs/sne/lib/python3.10/site-packages/iminuit/util.py:143: UserWarning: Assigned errors must be positive. Non-positive values are replaced by a heuristic.\n",
      "  warnings.warn(\n"
     ]
    },
    {
     "name": "stdout",
     "output_type": "stream",
     "text": [
      "2000dk (170/172)\n"
     ]
    },
    {
     "name": "stderr",
     "output_type": "stream",
     "text": [
      "/home/cassia/anaconda3/envs/sne/lib/python3.10/site-packages/sncosmo/fitting.py:187: RuntimeWarning: Dropping following bands from data: CFA2_ux(out of model wavelength range)\n",
      "  warnings.warn(\"Dropping following bands from data: \" +\n",
      "/home/cassia/anaconda3/envs/sne/lib/python3.10/site-packages/iminuit/util.py:143: UserWarning: Assigned errors must be positive. Non-positive values are replaced by a heuristic.\n",
      "  warnings.warn(\n"
     ]
    },
    {
     "name": "stdout",
     "output_type": "stream",
     "text": [
      "2000fa (171/172)\n"
     ]
    },
    {
     "name": "stderr",
     "output_type": "stream",
     "text": [
      "/home/cassia/anaconda3/envs/sne/lib/python3.10/site-packages/sncosmo/fitting.py:187: RuntimeWarning: Dropping following bands from data: CFA2_ux(out of model wavelength range)\n",
      "  warnings.warn(\"Dropping following bands from data: \" +\n",
      "/home/cassia/anaconda3/envs/sne/lib/python3.10/site-packages/iminuit/util.py:143: UserWarning: Assigned errors must be positive. Non-positive values are replaced by a heuristic.\n",
      "  warnings.warn(\n"
     ]
    }
   ],
   "source": [
    "all_fit_data=[]\n",
    "f=open(f\"./lc_failed_fits_{modelo.upper()}_LOWZ_Pantheon.txt\",\"w\")\n",
    "for j,sn in enumerate(sne_pass_cut):\n",
    "    print(sn, f\"({j}/{len(sne_pass_cut)})\")\n",
    "    meta, surv, dat, result, fitted_model=lc_fit(sn) \n",
    "    \n",
    "    if result is None:\n",
    "        f.write(f\"SN {sn} fit returns NaN\\n\")\n",
    "        continue\n",
    "    else:\n",
    "        if result.success and result.ndof>0:\n",
    "            all_fit_data.append(return_fit_data(meta,result,f\"{modelo.upper()}\"))\n",
    "        elif result.success and result.ndof==0:\n",
    "            f.write(\"ndof 0 for SN\"+sn+\"\\n\")\n",
    "        elif not result.success:\n",
    "            f.write(\"Unsuccessful fit of SN\"+sn+\"\\n\")\n",
    "\n",
    "    lc_fit_plot(sn, surv, dat, result, fitted_model)     "
   ]
  },
  {
   "cell_type": "code",
   "execution_count": 27,
   "id": "d1c3f8a0-b9a0-4080-a358-6a39029f8bdf",
   "metadata": {
    "tags": []
   },
   "outputs": [],
   "source": [
    "pp.close()"
   ]
  },
  {
   "cell_type": "code",
   "execution_count": 28,
   "id": "50e90d9d-8b9f-4e56-bc35-38b685bd7099",
   "metadata": {
    "tags": []
   },
   "outputs": [],
   "source": [
    "f.close()"
   ]
  },
  {
   "cell_type": "markdown",
   "id": "00927538-5283-4776-bfac-4b26b16b36f4",
   "metadata": {
    "tags": []
   },
   "source": [
    "## Salvando dados dos ajustes"
   ]
  },
  {
   "cell_type": "code",
   "execution_count": 29,
   "id": "8ea90bd8-e0c9-4915-b7ff-bb3b6851ab2b",
   "metadata": {
    "tags": []
   },
   "outputs": [],
   "source": [
    "df=pd.DataFrame(all_fit_data)"
   ]
  },
  {
   "cell_type": "code",
   "execution_count": 30,
   "id": "d04da509-71b5-4b86-b7e4-6aac084a66ba",
   "metadata": {
    "tags": []
   },
   "outputs": [],
   "source": [
    "df=pd.DataFrame(all_fit_data)\n",
    "df.columns=(\"SNNAME\", \"SURVEY\", \"Z\", \"ZERR\", \"T0\", \"T0ERR\", \"X0\", \"X0ERR\", \"X1\", \"X1ERR\", \"X2/C\", \"X2/CERR\", \"COV_X0_X1\", \"COV_X0_X2/C\", \"COV_X1_X2/C\", \"CHISQ/NDOF\", \"MODEL\")"
   ]
  },
  {
   "cell_type": "code",
   "execution_count": 31,
   "id": "72ad5e00-dbed-44ff-b9a9-9b20f8662f8f",
   "metadata": {
    "tags": []
   },
   "outputs": [],
   "source": [
    "df[\"mB\"]=-2.5*np.log10(df[\"X0\"])\n",
    "df[\"mBERR\"]=np.abs(-2.5*np.log10(np.e)/df[\"X0\"]*df[\"X0ERR\"])\n",
    "df[\"COV_mB_X1\"]=-2.5*np.log10(np.e)/df[\"X0\"]*df[\"COV_X0_X1\"]\n",
    "df[\"COV_mB_X2/C\"]=-2.5*np.log10(np.e)/df[\"X0\"]*df[\"COV_X0_X2/C\"]"
   ]
  },
  {
   "cell_type": "code",
   "execution_count": 32,
   "id": "b6564c17-c39c-47e7-9cee-b0559b5eb2e8",
   "metadata": {
    "tags": []
   },
   "outputs": [],
   "source": [
    "df.to_csv(f\"./lc_fit_results_{modelo.upper()}_LOWZ_Pantheon.txt\", sep=' ', index=False)"
   ]
  },
  {
   "cell_type": "markdown",
   "id": "d1f2ff9d-bd8d-4d03-9f64-36dcf051da90",
   "metadata": {},
   "source": [
    "## Analisando SN que passam nos cortes FA"
   ]
  },
  {
   "cell_type": "code",
   "execution_count": 33,
   "id": "2b87a5a3-8e0c-4545-a4bf-8a17d62ff285",
   "metadata": {},
   "outputs": [],
   "source": [
    "pass_cosm_cuts=['2001ah',\n",
    "       '2001az', '2001da', '2001fe', '2001gb', '2001G', '2001ic', '2001V',\n",
    "       '2002bf', '2002bz', '2002ck', '2002cr', '2002de', '2002dp',\n",
    "       '2002eu', '2002G', '2002he', '2002kf', '2003ae', '2003ch',\n",
    "       '2003cq', '2003fa', '2003hu', '2003ic', '2003it', '2003iv',\n",
    "       '2003U', '2004as', '2004L', '2004ef', '2005hf', '2005hj', '2005lz',\n",
    "       '2005mc', '2005ms', '2005na', '2006ac', '2006ah', '2006ak',\n",
    "       '2006al', '2006ax', '2006bb', '2006bw', '2006cj', '2006cp',\n",
    "       '2006cq', '2006en', '2006ev', '2006gr', '2006hb', '2006is',\n",
    "       '2006mo', '2006mp', '2006N', '2006oa', '2006ob', '2006on',\n",
    "       '2006or', '2006sr', '2006td', '2006te', '2007ae', '2007ap',\n",
    "       '2007ar', '2007bd', '2007co', '2007cq', '2007F', '2007O', '2008af',\n",
    "       '2008bf', '2007A', '2007aj', '2007cb', '2007cc', '2007fb',\n",
    "       '2007hu', '2007is', '2007kh', '2007kk', '2007nq', '2007ob',\n",
    "       '2007su', '2007ux', '2008C', '2008Y', '2008ac', '2008ar', '2008at',\n",
    "       '2008bw', '2008by', '2008bz', '2008cf', '2008ds', '2008fr',\n",
    "       '2008gb', '2008gl', '2009D', '2009ad', '2009an', '2009ds',\n",
    "       '2008050', '2008051', '2009kk', '2009kq', '2009na', '2009nq',\n",
    "       '2010A', '2010H', '2010dt', 'PTF10bjs', '2004eo', '2004gu',\n",
    "       '2005be', '2005bo', '2005eq', '2005hc', '2005iq', '2005kc',\n",
    "       '2005ki', '2005lu', '2006ef', '2006eq', '2006et', '2006lu',\n",
    "       '2006py', '2007bc', '2008bq', '2008hv', '1993ac', '1993ae',\n",
    "       '1994M', '1994Q', '1994S', '1995ak', '1996bl', '1996bv', '1996C',\n",
    "       '1997dg', '1997E', '1997Y', '1998dk', '1998dx', '1998ec', '1998eg',\n",
    "       '1999cc', '1999dq', '1999ef', '1999ej', '1999X', '2000cf',\n",
    "       '2000cn', '2000fa']"
   ]
  },
  {
   "cell_type": "code",
   "execution_count": 34,
   "id": "b444448b-3d28-402d-901e-ee31f9442cab",
   "metadata": {
    "collapsed": true,
    "jupyter": {
     "outputs_hidden": true
    },
    "tags": []
   },
   "outputs": [
    {
     "name": "stderr",
     "output_type": "stream",
     "text": [
      "/home/cassia/anaconda3/envs/sne/lib/python3.10/site-packages/sncosmo/fitting.py:187: RuntimeWarning: Dropping following bands from data: CFA3S_U(out of model wavelength range)\n",
      "  warnings.warn(\"Dropping following bands from data: \" +\n",
      "/home/cassia/anaconda3/envs/sne/lib/python3.10/site-packages/iminuit/util.py:143: UserWarning: Assigned errors must be positive. Non-positive values are replaced by a heuristic.\n",
      "  warnings.warn(\n"
     ]
    },
    {
     "ename": "AttributeError",
     "evalue": "'NoneType' object has no attribute 'endStream'",
     "output_type": "error",
     "traceback": [
      "\u001b[0;31m---------------------------------------------------------------------------\u001b[0m",
      "\u001b[0;31mAttributeError\u001b[0m                            Traceback (most recent call last)",
      "File \u001b[0;32m~/anaconda3/envs/sne/lib/python3.10/site-packages/matplotlib/backends/backend_pdf.py:2780\u001b[0m, in \u001b[0;36mFigureCanvasPdf.print_pdf\u001b[0;34m(self, filename, dpi, bbox_inches_restore, metadata)\u001b[0m\n\u001b[1;32m   2779\u001b[0m \u001b[38;5;28;01mtry\u001b[39;00m:\n\u001b[0;32m-> 2780\u001b[0m     \u001b[43mfile\u001b[49m\u001b[38;5;241;43m.\u001b[39;49m\u001b[43mnewPage\u001b[49m(width, height)\n\u001b[1;32m   2781\u001b[0m     renderer \u001b[38;5;241m=\u001b[39m MixedModeRenderer(\n\u001b[1;32m   2782\u001b[0m         \u001b[38;5;28mself\u001b[39m\u001b[38;5;241m.\u001b[39mfigure, width, height, dpi,\n\u001b[1;32m   2783\u001b[0m         RendererPdf(file, dpi, height, width),\n\u001b[1;32m   2784\u001b[0m         bbox_inches_restore\u001b[38;5;241m=\u001b[39mbbox_inches_restore)\n",
      "\u001b[0;31mAttributeError\u001b[0m: 'NoneType' object has no attribute 'newPage'",
      "\nDuring handling of the above exception, another exception occurred:\n",
      "\u001b[0;31mAttributeError\u001b[0m                            Traceback (most recent call last)",
      "Input \u001b[0;32mIn [34]\u001b[0m, in \u001b[0;36m<cell line: 1>\u001b[0;34m()\u001b[0m\n\u001b[1;32m      2\u001b[0m \u001b[38;5;28;01mif\u001b[39;00m sn \u001b[38;5;129;01mnot\u001b[39;00m \u001b[38;5;129;01min\u001b[39;00m pass_cosm_cuts:\n\u001b[1;32m      4\u001b[0m     meta, surv, dat, result, fitted_model\u001b[38;5;241m=\u001b[39mlc_fit(sn) \n\u001b[0;32m----> 6\u001b[0m     \u001b[43mlc_fit_plot\u001b[49m\u001b[43m(\u001b[49m\u001b[43msn\u001b[49m\u001b[43m,\u001b[49m\u001b[43m \u001b[49m\u001b[43msurv\u001b[49m\u001b[43m,\u001b[49m\u001b[43m \u001b[49m\u001b[43mdat\u001b[49m\u001b[43m,\u001b[49m\u001b[43m \u001b[49m\u001b[43mresult\u001b[49m\u001b[43m,\u001b[49m\u001b[43m \u001b[49m\u001b[43mfitted_model\u001b[49m\u001b[43m)\u001b[49m\n",
      "Input \u001b[0;32mIn [24]\u001b[0m, in \u001b[0;36mlc_fit_plot\u001b[0;34m(sn, surv, table_data, result, fitted_model)\u001b[0m\n\u001b[1;32m     59\u001b[0m         \u001b[38;5;66;03m#plt.show()\u001b[39;00m\n\u001b[1;32m     60\u001b[0m         plt\u001b[38;5;241m.\u001b[39mtight_layout()\n\u001b[0;32m---> 61\u001b[0m         \u001b[43mpp\u001b[49m\u001b[38;5;241;43m.\u001b[39;49m\u001b[43msavefig\u001b[49m\u001b[43m(\u001b[49m\u001b[43m)\u001b[49m\n\u001b[1;32m     62\u001b[0m         plt\u001b[38;5;241m.\u001b[39mclose(fig)\n\u001b[1;32m     63\u001b[0m \u001b[38;5;28;01melse\u001b[39;00m:\n",
      "File \u001b[0;32m~/anaconda3/envs/sne/lib/python3.10/site-packages/matplotlib/backends/backend_pdf.py:2738\u001b[0m, in \u001b[0;36mPdfPages.savefig\u001b[0;34m(self, figure, **kwargs)\u001b[0m\n\u001b[1;32m   2736\u001b[0m     orig_canvas \u001b[38;5;241m=\u001b[39m figure\u001b[38;5;241m.\u001b[39mcanvas\n\u001b[1;32m   2737\u001b[0m     figure\u001b[38;5;241m.\u001b[39mcanvas \u001b[38;5;241m=\u001b[39m FigureCanvasPdf(figure)\n\u001b[0;32m-> 2738\u001b[0m     \u001b[43mfigure\u001b[49m\u001b[38;5;241;43m.\u001b[39;49m\u001b[43msavefig\u001b[49m\u001b[43m(\u001b[49m\u001b[38;5;28;43mself\u001b[39;49m\u001b[43m,\u001b[49m\u001b[43m \u001b[49m\u001b[38;5;28;43mformat\u001b[39;49m\u001b[38;5;241;43m=\u001b[39;49m\u001b[38;5;124;43m\"\u001b[39;49m\u001b[38;5;124;43mpdf\u001b[39;49m\u001b[38;5;124;43m\"\u001b[39;49m\u001b[43m,\u001b[49m\u001b[43m \u001b[49m\u001b[38;5;241;43m*\u001b[39;49m\u001b[38;5;241;43m*\u001b[39;49m\u001b[43mkwargs\u001b[49m\u001b[43m)\u001b[49m\n\u001b[1;32m   2739\u001b[0m \u001b[38;5;28;01mfinally\u001b[39;00m:\n\u001b[1;32m   2740\u001b[0m     figure\u001b[38;5;241m.\u001b[39mcanvas \u001b[38;5;241m=\u001b[39m orig_canvas\n",
      "File \u001b[0;32m~/anaconda3/envs/sne/lib/python3.10/site-packages/matplotlib/figure.py:3019\u001b[0m, in \u001b[0;36mFigure.savefig\u001b[0;34m(self, fname, transparent, **kwargs)\u001b[0m\n\u001b[1;32m   3015\u001b[0m     \u001b[38;5;28;01mfor\u001b[39;00m ax \u001b[38;5;129;01min\u001b[39;00m \u001b[38;5;28mself\u001b[39m\u001b[38;5;241m.\u001b[39maxes:\n\u001b[1;32m   3016\u001b[0m         stack\u001b[38;5;241m.\u001b[39menter_context(\n\u001b[1;32m   3017\u001b[0m             ax\u001b[38;5;241m.\u001b[39mpatch\u001b[38;5;241m.\u001b[39m_cm_set(facecolor\u001b[38;5;241m=\u001b[39m\u001b[38;5;124m'\u001b[39m\u001b[38;5;124mnone\u001b[39m\u001b[38;5;124m'\u001b[39m, edgecolor\u001b[38;5;241m=\u001b[39m\u001b[38;5;124m'\u001b[39m\u001b[38;5;124mnone\u001b[39m\u001b[38;5;124m'\u001b[39m))\n\u001b[0;32m-> 3019\u001b[0m \u001b[38;5;28;43mself\u001b[39;49m\u001b[38;5;241;43m.\u001b[39;49m\u001b[43mcanvas\u001b[49m\u001b[38;5;241;43m.\u001b[39;49m\u001b[43mprint_figure\u001b[49m\u001b[43m(\u001b[49m\u001b[43mfname\u001b[49m\u001b[43m,\u001b[49m\u001b[43m \u001b[49m\u001b[38;5;241;43m*\u001b[39;49m\u001b[38;5;241;43m*\u001b[39;49m\u001b[43mkwargs\u001b[49m\u001b[43m)\u001b[49m\n",
      "File \u001b[0;32m~/anaconda3/envs/sne/lib/python3.10/site-packages/matplotlib/backend_bases.py:2319\u001b[0m, in \u001b[0;36mFigureCanvasBase.print_figure\u001b[0;34m(self, filename, dpi, facecolor, edgecolor, orientation, format, bbox_inches, pad_inches, bbox_extra_artists, backend, **kwargs)\u001b[0m\n\u001b[1;32m   2315\u001b[0m \u001b[38;5;28;01mtry\u001b[39;00m:\n\u001b[1;32m   2316\u001b[0m     \u001b[38;5;66;03m# _get_renderer may change the figure dpi (as vector formats\u001b[39;00m\n\u001b[1;32m   2317\u001b[0m     \u001b[38;5;66;03m# force the figure dpi to 72), so we need to set it again here.\u001b[39;00m\n\u001b[1;32m   2318\u001b[0m     \u001b[38;5;28;01mwith\u001b[39;00m cbook\u001b[38;5;241m.\u001b[39m_setattr_cm(\u001b[38;5;28mself\u001b[39m\u001b[38;5;241m.\u001b[39mfigure, dpi\u001b[38;5;241m=\u001b[39mdpi):\n\u001b[0;32m-> 2319\u001b[0m         result \u001b[38;5;241m=\u001b[39m \u001b[43mprint_method\u001b[49m\u001b[43m(\u001b[49m\n\u001b[1;32m   2320\u001b[0m \u001b[43m            \u001b[49m\u001b[43mfilename\u001b[49m\u001b[43m,\u001b[49m\n\u001b[1;32m   2321\u001b[0m \u001b[43m            \u001b[49m\u001b[43mfacecolor\u001b[49m\u001b[38;5;241;43m=\u001b[39;49m\u001b[43mfacecolor\u001b[49m\u001b[43m,\u001b[49m\n\u001b[1;32m   2322\u001b[0m \u001b[43m            \u001b[49m\u001b[43medgecolor\u001b[49m\u001b[38;5;241;43m=\u001b[39;49m\u001b[43medgecolor\u001b[49m\u001b[43m,\u001b[49m\n\u001b[1;32m   2323\u001b[0m \u001b[43m            \u001b[49m\u001b[43morientation\u001b[49m\u001b[38;5;241;43m=\u001b[39;49m\u001b[43morientation\u001b[49m\u001b[43m,\u001b[49m\n\u001b[1;32m   2324\u001b[0m \u001b[43m            \u001b[49m\u001b[43mbbox_inches_restore\u001b[49m\u001b[38;5;241;43m=\u001b[39;49m\u001b[43m_bbox_inches_restore\u001b[49m\u001b[43m,\u001b[49m\n\u001b[1;32m   2325\u001b[0m \u001b[43m            \u001b[49m\u001b[38;5;241;43m*\u001b[39;49m\u001b[38;5;241;43m*\u001b[39;49m\u001b[43mkwargs\u001b[49m\u001b[43m)\u001b[49m\n\u001b[1;32m   2326\u001b[0m \u001b[38;5;28;01mfinally\u001b[39;00m:\n\u001b[1;32m   2327\u001b[0m     \u001b[38;5;28;01mif\u001b[39;00m bbox_inches \u001b[38;5;129;01mand\u001b[39;00m restore_bbox:\n",
      "File \u001b[0;32m~/anaconda3/envs/sne/lib/python3.10/site-packages/matplotlib/backend_bases.py:1648\u001b[0m, in \u001b[0;36m_check_savefig_extra_args.<locals>.wrapper\u001b[0;34m(*args, **kwargs)\u001b[0m\n\u001b[1;32m   1640\u001b[0m     _api\u001b[38;5;241m.\u001b[39mwarn_deprecated(\n\u001b[1;32m   1641\u001b[0m         \u001b[38;5;124m'\u001b[39m\u001b[38;5;124m3.3\u001b[39m\u001b[38;5;124m'\u001b[39m, name\u001b[38;5;241m=\u001b[39mname, removal\u001b[38;5;241m=\u001b[39m\u001b[38;5;124m'\u001b[39m\u001b[38;5;124m3.6\u001b[39m\u001b[38;5;124m'\u001b[39m,\n\u001b[1;32m   1642\u001b[0m         message\u001b[38;5;241m=\u001b[39m\u001b[38;5;124m'\u001b[39m\u001b[38;5;132;01m%(name)s\u001b[39;00m\u001b[38;5;124m() got unexpected keyword argument \u001b[39m\u001b[38;5;124m\"\u001b[39m\u001b[38;5;124m'\u001b[39m\n\u001b[1;32m   1643\u001b[0m                 \u001b[38;5;241m+\u001b[39m arg \u001b[38;5;241m+\u001b[39m \u001b[38;5;124m'\u001b[39m\u001b[38;5;124m\"\u001b[39m\u001b[38;5;124m which is no longer supported as of \u001b[39m\u001b[38;5;124m'\u001b[39m\n\u001b[1;32m   1644\u001b[0m                 \u001b[38;5;124m'\u001b[39m\u001b[38;5;132;01m%(since)s\u001b[39;00m\u001b[38;5;124m and will become an error \u001b[39m\u001b[38;5;124m'\u001b[39m\n\u001b[1;32m   1645\u001b[0m                 \u001b[38;5;124m'\u001b[39m\u001b[38;5;132;01m%(removal)s\u001b[39;00m\u001b[38;5;124m'\u001b[39m)\n\u001b[1;32m   1646\u001b[0m     kwargs\u001b[38;5;241m.\u001b[39mpop(arg)\n\u001b[0;32m-> 1648\u001b[0m \u001b[38;5;28;01mreturn\u001b[39;00m \u001b[43mfunc\u001b[49m\u001b[43m(\u001b[49m\u001b[38;5;241;43m*\u001b[39;49m\u001b[43margs\u001b[49m\u001b[43m,\u001b[49m\u001b[43m \u001b[49m\u001b[38;5;241;43m*\u001b[39;49m\u001b[38;5;241;43m*\u001b[39;49m\u001b[43mkwargs\u001b[49m\u001b[43m)\u001b[49m\n",
      "File \u001b[0;32m~/anaconda3/envs/sne/lib/python3.10/site-packages/matplotlib/_api/deprecation.py:386\u001b[0m, in \u001b[0;36mdelete_parameter.<locals>.wrapper\u001b[0;34m(*inner_args, **inner_kwargs)\u001b[0m\n\u001b[1;32m    381\u001b[0m \u001b[38;5;129m@functools\u001b[39m\u001b[38;5;241m.\u001b[39mwraps(func)\n\u001b[1;32m    382\u001b[0m \u001b[38;5;28;01mdef\u001b[39;00m \u001b[38;5;21mwrapper\u001b[39m(\u001b[38;5;241m*\u001b[39minner_args, \u001b[38;5;241m*\u001b[39m\u001b[38;5;241m*\u001b[39minner_kwargs):\n\u001b[1;32m    383\u001b[0m     \u001b[38;5;28;01mif\u001b[39;00m \u001b[38;5;28mlen\u001b[39m(inner_args) \u001b[38;5;241m<\u001b[39m\u001b[38;5;241m=\u001b[39m name_idx \u001b[38;5;129;01mand\u001b[39;00m name \u001b[38;5;129;01mnot\u001b[39;00m \u001b[38;5;129;01min\u001b[39;00m inner_kwargs:\n\u001b[1;32m    384\u001b[0m         \u001b[38;5;66;03m# Early return in the simple, non-deprecated case (much faster than\u001b[39;00m\n\u001b[1;32m    385\u001b[0m         \u001b[38;5;66;03m# calling bind()).\u001b[39;00m\n\u001b[0;32m--> 386\u001b[0m         \u001b[38;5;28;01mreturn\u001b[39;00m \u001b[43mfunc\u001b[49m\u001b[43m(\u001b[49m\u001b[38;5;241;43m*\u001b[39;49m\u001b[43minner_args\u001b[49m\u001b[43m,\u001b[49m\u001b[43m \u001b[49m\u001b[38;5;241;43m*\u001b[39;49m\u001b[38;5;241;43m*\u001b[39;49m\u001b[43minner_kwargs\u001b[49m\u001b[43m)\u001b[49m\n\u001b[1;32m    387\u001b[0m     arguments \u001b[38;5;241m=\u001b[39m signature\u001b[38;5;241m.\u001b[39mbind(\u001b[38;5;241m*\u001b[39minner_args, \u001b[38;5;241m*\u001b[39m\u001b[38;5;241m*\u001b[39minner_kwargs)\u001b[38;5;241m.\u001b[39marguments\n\u001b[1;32m    388\u001b[0m     \u001b[38;5;28;01mif\u001b[39;00m is_varargs \u001b[38;5;129;01mand\u001b[39;00m arguments\u001b[38;5;241m.\u001b[39mget(name):\n",
      "File \u001b[0;32m~/anaconda3/envs/sne/lib/python3.10/site-packages/matplotlib/backends/backend_pdf.py:2791\u001b[0m, in \u001b[0;36mFigureCanvasPdf.print_pdf\u001b[0;34m(self, filename, dpi, bbox_inches_restore, metadata)\u001b[0m\n\u001b[1;32m   2789\u001b[0m \u001b[38;5;28;01mfinally\u001b[39;00m:\n\u001b[1;32m   2790\u001b[0m     \u001b[38;5;28;01mif\u001b[39;00m \u001b[38;5;28misinstance\u001b[39m(filename, PdfPages):  \u001b[38;5;66;03m# finish off this page\u001b[39;00m\n\u001b[0;32m-> 2791\u001b[0m         \u001b[43mfile\u001b[49m\u001b[38;5;241;43m.\u001b[39;49m\u001b[43mendStream\u001b[49m()\n\u001b[1;32m   2792\u001b[0m     \u001b[38;5;28;01melse\u001b[39;00m:            \u001b[38;5;66;03m# we opened the file above; now finish it off\u001b[39;00m\n\u001b[1;32m   2793\u001b[0m         file\u001b[38;5;241m.\u001b[39mclose()\n",
      "\u001b[0;31mAttributeError\u001b[0m: 'NoneType' object has no attribute 'endStream'"
     ]
    },
    {
     "data": {
      "image/png": "[encoded data removed]",
      "text/plain": [
       "<Figure size 720x864 with 3 Axes>"
      ]
     },
     "metadata": {},
     "output_type": "display_data"
    }
   ],
   "source": [
    "for j,sn in enumerate(sne_pass_cut):\n",
    "    if sn not in pass_cosm_cuts:\n",
    "        \n",
    "        meta, surv, dat, result, fitted_model=lc_fit(sn) \n",
    "        \n",
    "        lc_fit_plot(sn, surv, dat, result, fitted_model)     "
   ]
  },
  {
   "cell_type": "code",
   "execution_count": null,
   "id": "6ae4f859-aea8-4ef8-858f-2213d84fe6d4",
   "metadata": {},
   "outputs": [],
   "source": []
  }
 ],
 "metadata": {
  "kernelspec": {
   "display_name": "Python 3 (ipykernel)",
   "language": "python",
   "name": "python3"
  },
  "language_info": {
   "codemirror_mode": {
    "name": "ipython",
    "version": 3
   },
   "file_extension": ".py",
   "mimetype": "text/x-python",
   "name": "python",
   "nbconvert_exporter": "python",
   "pygments_lexer": "ipython3",
   "version": "3.10.5"
  }
 },
 "nbformat": 4,
 "nbformat_minor": 5
}
