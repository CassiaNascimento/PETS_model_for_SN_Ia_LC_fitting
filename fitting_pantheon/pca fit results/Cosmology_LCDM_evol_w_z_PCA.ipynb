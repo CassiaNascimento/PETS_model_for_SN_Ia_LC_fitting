{
 "cells": [
  {
   "cell_type": "code",
   "execution_count": 1,
   "id": "0af2b6db-b48d-4ad5-88fc-562a647b8d8d",
   "metadata": {},
   "outputs": [
    {
     "name": "stderr",
     "output_type": "stream",
     "text": [
      "WARNING: AstropyDeprecationWarning: The update_default_config function is deprecated and may be removed in a future version. [sncosmo]\n"
     ]
    }
   ],
   "source": [
    "import numpy as np\n",
    "import matplotlib.pyplot as plt\n",
    "import pandas as pd\n",
    "import sncosmo\n",
    "import emcee\n",
    "from multiprocessing import Pool\n",
    "import glob\n",
    "import quadpy\n",
    "from matplotlib.offsetbox import AnchoredText\n",
    "import getdist\n",
    "from getdist import plots, MCSamples\n",
    "import seaborn as sns\n",
    "from scipy import stats\n",
    "\n",
    "sns.set_style(\"whitegrid\", {'axes.grid':'False','xtick.bottom': True,'ytick.left': True})\n",
    "\n",
    "params = {\"text.usetex\" : True,'font.size': 20, 'font.family':'serif', 'font.serif':'Computer Modern'}\n",
    "plt.rcParams.update(params)\n",
    "\n",
    "gk = quadpy.c1.gauss_kronrod(40)"
   ]
  },
  {
   "cell_type": "code",
   "execution_count": 2,
   "id": "6ef994c0-3f5e-4b1b-a4a5-76e2daf377f4",
   "metadata": {},
   "outputs": [],
   "source": [
    "pantheon_ori_fits=pd.read_csv(\"pantheon_original_fit.txt\",sep=\"\\s+\")"
   ]
  },
  {
   "cell_type": "markdown",
   "id": "81de6eae-33a8-4901-afe6-12e2520661b1",
   "metadata": {
    "tags": []
   },
   "source": [
    "## Carregando dados EXP"
   ]
  },
  {
   "cell_type": "code",
   "execution_count": 3,
   "id": "f960338e-3637-421c-8a6c-08e0d81fccb3",
   "metadata": {
    "tags": []
   },
   "outputs": [
    {
     "data": {
      "text/plain": [
       "['./lc_fit_results_EXP_PCA_LOWZ_Pantheon.txt',\n",
       " './lc_fit_results_EXP_PCA_PS1_Pantheon.txt',\n",
       " './lc_fit_results_EXP_PCA_SDSS_Pantheon.txt',\n",
       " './lc_fit_results_EXP_PCA_HST_Pantheon.txt',\n",
       " './lc_fit_results_EXP_PCA_SNLS_Pantheon.txt']"
      ]
     },
     "execution_count": 3,
     "metadata": {},
     "output_type": "execute_result"
    }
   ],
   "source": [
    "glob.glob(\"./lc_fit_results*.txt\")"
   ]
  },
  {
   "cell_type": "code",
   "execution_count": 4,
   "id": "b9dfa7ba-9d11-46af-ba0a-28ac7ba8c074",
   "metadata": {
    "tags": []
   },
   "outputs": [],
   "source": [
    "SDSS_fits=pd.read_csv(\"./lc_fit_results_EXP_PCA_SDSS_Pantheon.txt\",sep=\"\\s+\")\n",
    "SNLS_fits=pd.read_csv(\"./lc_fit_results_EXP_PCA_SNLS_Pantheon.txt\",sep=\"\\s+\")\n",
    "PS1_fits=pd.read_csv(\"./lc_fit_results_EXP_PCA_PS1_Pantheon.txt\",sep=\"\\s+\")\n",
    "HST_fits=pd.read_csv(\"./lc_fit_results_EXP_PCA_HST_Pantheon.txt\",sep=\"\\s+\")\n",
    "LOWZ_fits=pd.read_csv(\"./lc_fit_results_EXP_PCA_LOWZ_Pantheon.txt\",sep=\"\\s+\")"
   ]
  },
  {
   "cell_type": "code",
   "execution_count": 5,
   "id": "09be3837-5cc1-4c8b-9f3b-ac1ac88d4cd2",
   "metadata": {
    "tags": []
   },
   "outputs": [],
   "source": [
    "df_exp_bf_cuts=pd.concat([PS1_fits,SNLS_fits,SDSS_fits,LOWZ_fits,HST_fits])"
   ]
  },
  {
   "cell_type": "code",
   "execution_count": 6,
   "id": "6edf6b11-7338-416a-8195-97c49d22c759",
   "metadata": {},
   "outputs": [],
   "source": [
    "df_exp=df_exp_bf_cuts[(df_exp_bf_cuts[\"X1\"]>-3.5) & (df_exp_bf_cuts[\"X1\"]<3.) &\n",
    "                      (df_exp_bf_cuts[\"X2/C\"]>-3.) & (df_exp_bf_cuts[\"X2/C\"]<3.) &\n",
    "                      (df_exp_bf_cuts[\"X1ERR\"]>0.) & (df_exp_bf_cuts[\"X1ERR\"]<10.) &\n",
    "                      (df_exp_bf_cuts[\"X2/CERR\"]>0.) & (df_exp_bf_cuts[\"X2/CERR\"]<10.) &\n",
    "                      (df_exp_bf_cuts[\"CHISQ/NDOF\"]<=15.)].reset_index(drop=True)"
   ]
  },
  {
   "cell_type": "markdown",
   "id": "4964507d-1c27-4ff9-8e9c-35b62678cb1d",
   "metadata": {
    "tags": []
   },
   "source": [
    "## Carregando dados SALT2"
   ]
  },
  {
   "cell_type": "code",
   "execution_count": 7,
   "id": "1e84f32d-55e0-4069-8dec-af226adaa439",
   "metadata": {
    "tags": []
   },
   "outputs": [
    {
     "data": {
      "text/plain": [
       "['./fits_SALT2/lc_fit_results_SALT2_LOWZ_Pantheon.txt',\n",
       " './fits_SALT2/lc_fit_results_SALT2_HST_Pantheon.txt',\n",
       " './fits_SALT2/lc_fit_results_SALT2_SNLS_Pantheon.txt',\n",
       " './fits_SALT2/lc_fit_results_SALT2_SDSS_Pantheon.txt',\n",
       " './fits_SALT2/lc_fit_results_SALT2_PS1_Pantheon.txt']"
      ]
     },
     "execution_count": 7,
     "metadata": {},
     "output_type": "execute_result"
    }
   ],
   "source": [
    "glob.glob(\"./fits_SALT2/lc_fit_results*.txt\")"
   ]
  },
  {
   "cell_type": "code",
   "execution_count": 8,
   "id": "9958ece7-f04a-4c2d-81e7-abe3869ed4a3",
   "metadata": {
    "tags": []
   },
   "outputs": [],
   "source": [
    "SDSS_fits_SALT2=pd.read_csv(\"./fits_SALT2/lc_fit_results_SALT2_SDSS_Pantheon.txt\",sep=\"\\s+\")\n",
    "SNLS_fits_SALT2=pd.read_csv(\"./fits_SALT2/lc_fit_results_SALT2_SNLS_Pantheon.txt\",sep=\"\\s+\")\n",
    "PS1_fits_SALT2=pd.read_csv(\"./fits_SALT2/lc_fit_results_SALT2_PS1_Pantheon.txt\",sep=\"\\s+\")\n",
    "HST_fits_SALT2=pd.read_csv(\"./fits_SALT2/lc_fit_results_SALT2_HST_Pantheon.txt\",sep=\"\\s+\")\n",
    "LOWZ_fits_SALT2=pd.read_csv(\"./fits_SALT2/lc_fit_results_SALT2_LOWZ_Pantheon.txt\",sep=\"\\s+\")"
   ]
  },
  {
   "cell_type": "code",
   "execution_count": 9,
   "id": "399fe010-6ea5-4230-a18a-4ad0eb74a7d4",
   "metadata": {
    "tags": []
   },
   "outputs": [],
   "source": [
    "df_salt2_bf_cuts=pd.concat([PS1_fits_SALT2,SNLS_fits_SALT2,SDSS_fits_SALT2,LOWZ_fits_SALT2,HST_fits_SALT2])"
   ]
  },
  {
   "cell_type": "code",
   "execution_count": 10,
   "id": "887fca8e-7b6d-4608-a219-860b5454481b",
   "metadata": {},
   "outputs": [],
   "source": [
    "df_salt2=df_salt2_bf_cuts[(abs(df_salt2_bf_cuts[\"X1\"])<=3.) & (abs(df_salt2_bf_cuts[\"X2/C\"])<=0.3)].reset_index(drop=True)"
   ]
  },
  {
   "cell_type": "markdown",
   "id": "75b7db7b-75df-457f-9fc3-c608233e00c4",
   "metadata": {
    "tags": []
   },
   "source": [
    "## MCMC"
   ]
  },
  {
   "cell_type": "markdown",
   "id": "350aa525-9844-4312-ac7d-9192770d2f5e",
   "metadata": {},
   "source": [
    "#### MCMC EXP"
   ]
  },
  {
   "cell_type": "code",
   "execution_count": 11,
   "id": "3df31dc6-8bc6-4048-bc7f-a19cd5cad583",
   "metadata": {},
   "outputs": [],
   "source": [
    "class cosmo:\n",
    "    def __init__(self, data):\n",
    "        self.data = data\n",
    "        \n",
    "    def dL(self,Ok, integral):\n",
    "        if(Ok[0]>0.):\n",
    "            return 1./np.sqrt(Ok[0])*np.sinh(np.sqrt(Ok[0])*np.array(integral))\n",
    "        elif(Ok[0]==0.):\n",
    "            return integral\n",
    "        elif(Ok[0]<0.):\n",
    "            return 1./np.sqrt(-Ok[0])*np.sin(np.sqrt(-Ok[0])*np.array(integral))\n",
    "    \n",
    "    def log_likelihood_exp(self,theta):\n",
    "        alpha, beta, sigma=theta\n",
    "        Om=0.3404\n",
    "        Ol=0.4831\n",
    "        M=15.8689\n",
    "        deltaM=-0.0296\n",
    "\n",
    "        Ok=1.-Om-Ol\n",
    "        h_inv=lambda x: 1./np.sqrt(Om*(1+x)**3.+Ol+(1.-Om-Ol)*(1+x)**2.)\n",
    "        integral=gk.integrate(h_inv,[np.array([0.]*len(self.data[\"z\"])),np.array(self.data[\"z\"])])\n",
    "\n",
    "        model=5*np.log10((1+self.data[\"z\"])*self.dL(np.array([Ok]*len(integral)),integral))+M\n",
    "        mu=self.data[\"mB\"]-2.5*np.log10(1-self.data[\"x1\"]*alpha+self.data[\"x2\"]*beta)-deltaM*self.data[\"is_log_mass_g_10\"]\n",
    "    \n",
    "        sigmaz=0.0012*(5/np.log(10.))*(1.+self.data[\"z\"])/(self.data[\"z\"]*(1.+self.data[\"z\"]/2.))\n",
    "        \n",
    "        fator=-2.5/(np.log(10.)*(1-self.data[\"x1\"]*alpha+self.data[\"x2\"]*beta))\n",
    "        \n",
    "        cov=-2.*fator*alpha*self.data[\"cov_mB_x1\"]+2.*fator*beta*self.data[\"cov_mB_x2\"]-2.*fator**2*alpha*beta*self.data[\"cov_x1_x2\"]\n",
    "        sigma2=sigma**2+sigmaz**2.+self.data[\"mBerr\"]**2+fator**2*alpha**2.*self.data[\"x1err\"]**2+fator**2*beta**2.*self.data[\"x2err\"]**2.+cov\n",
    "        \n",
    "        lnlike=-0.5*np.sum((mu-model)**2./sigma2 + np.log(2*np.pi*sigma2))\n",
    "        \n",
    "        if not np.isfinite(lnlike):\n",
    "            return -np.inf\n",
    "        return lnlike\n",
    "    \n",
    "    def log_prior_exp(self, theta):\n",
    "        alpha, beta, sigma=theta     \n",
    "        if not (-1. < alpha < 1. and -1.< beta < 1. and 0.<sigma <0.5):\n",
    "            return -np.inf\n",
    "        return 0. \n",
    "        \n",
    "    def log_probability_exp(self,theta):\n",
    "        lp = self.log_prior_exp(theta)\n",
    "        if not np.isfinite(lp):\n",
    "            return -np.inf\n",
    "        return lp + self.log_likelihood_exp(theta)\n"
   ]
  },
  {
   "cell_type": "code",
   "execution_count": 12,
   "id": "c491e892-258d-4a9c-a4da-abb0d8a1090d",
   "metadata": {},
   "outputs": [],
   "source": [
    "exp_data=df_exp[df_exp[\"SNNAME\"].isin(df_salt2[\"SNNAME\"])].reset_index(drop=True)"
   ]
  },
  {
   "cell_type": "code",
   "execution_count": 13,
   "id": "37f319e5-a455-49ea-8ca8-31882c191095",
   "metadata": {},
   "outputs": [],
   "source": [
    "exp_data[\"SNNAME\"]=exp_data[\"SNNAME\"].astype(\"str\")"
   ]
  },
  {
   "cell_type": "code",
   "execution_count": 14,
   "id": "490f8f65-a258-4fb5-8c21-3dfd843fa603",
   "metadata": {},
   "outputs": [],
   "source": [
    "hostmass={}"
   ]
  },
  {
   "cell_type": "code",
   "execution_count": 15,
   "id": "a4db7f55-ce5e-4be8-8d47-d20b4dc63071",
   "metadata": {},
   "outputs": [
    {
     "name": "stdout",
     "output_type": "stream",
     "text": [
      "364 não estão na lista\n",
      "684 estão na lista\n"
     ]
    }
   ],
   "source": [
    "i=0\n",
    "j=0\n",
    "for sn in pantheon_ori_fits[\"CID\"]:\n",
    "    if sn in exp_data[\"SNNAME\"].values:\n",
    "        i+=1\n",
    "        hostmass[sn]=pantheon_ori_fits[pantheon_ori_fits[\"CID\"]==sn][\"HOST_LOGMASS\"].values[0]\n",
    "        continue\n",
    "    else:\n",
    "        try:\n",
    "            sn_int=int(sn)\n",
    "            if str(sn_int) in exp_data[\"SNNAME\"].values:\n",
    "                i+=1\n",
    "                hostmass[str(sn_int)]=pantheon_ori_fits[pantheon_ori_fits[\"CID\"]==sn][\"HOST_LOGMASS\"].values[0]\n",
    "                continue\n",
    "            else:\n",
    "                j+=1\n",
    "                continue\n",
    "        except:\n",
    "            j+=1\n",
    "            continue\n",
    "\n",
    "print(f\"{j} não estão na lista\")\n",
    "print(f\"{i} estão na lista\")"
   ]
  },
  {
   "cell_type": "code",
   "execution_count": 16,
   "id": "45674301-68cb-4de6-8f01-a30902d66a54",
   "metadata": {},
   "outputs": [],
   "source": [
    "reduced_exp_data=exp_data[exp_data[\"SNNAME\"].isin(hostmass.keys())].reset_index(drop=True)"
   ]
  },
  {
   "cell_type": "code",
   "execution_count": 17,
   "id": "9dd45686-f70e-4953-bd3c-100a38b1946b",
   "metadata": {},
   "outputs": [],
   "source": [
    "col_hostmass=[]\n",
    "is_log_mass_g_10=[]\n",
    "for sn in reduced_exp_data[\"SNNAME\"]:\n",
    "    col_hostmass.append(hostmass[sn])\n",
    "    if hostmass[sn]<10.:\n",
    "        is_log_mass_g_10.append(0.)\n",
    "    else:\n",
    "        is_log_mass_g_10.append(1.)"
   ]
  },
  {
   "cell_type": "code",
   "execution_count": 18,
   "id": "93b60c69-d907-4428-8201-775759fadf1b",
   "metadata": {},
   "outputs": [],
   "source": [
    "col_hostmass=pd.DataFrame(col_hostmass)\n",
    "col_hostmass.columns=[\"LOG_HOST_GAL_MASS\"]\n",
    "is_log_mass_g_10=pd.DataFrame(is_log_mass_g_10)\n",
    "is_log_mass_g_10.columns=[\"is_log_mass_g_10\"]"
   ]
  },
  {
   "cell_type": "code",
   "execution_count": 19,
   "id": "485ae410-ccb7-4da2-9aec-3170303df706",
   "metadata": {},
   "outputs": [],
   "source": [
    "final_exp_data=pd.concat((reduced_exp_data,col_hostmass,is_log_mass_g_10),axis=1)"
   ]
  },
  {
   "cell_type": "code",
   "execution_count": 20,
   "id": "53fa768d-bdc7-491b-8875-bca85e8f3e97",
   "metadata": {},
   "outputs": [],
   "source": [
    "data_exp=final_exp_data[[\"SNNAME\",\"LOG_HOST_GAL_MASS\",\"Z\",\"ZERR\",\"mB\",\"mBERR\",\"X1\",\"X1ERR\",\"X2/C\",\"X2/CERR\",\"COV_mB_X1\",\"COV_mB_X2/C\",\"COV_X1_X2/C\",\"is_log_mass_g_10\"]]"
   ]
  },
  {
   "cell_type": "code",
   "execution_count": 21,
   "id": "e812de25-853b-4ca2-8490-525cce1f333e",
   "metadata": {
    "tags": []
   },
   "outputs": [],
   "source": [
    "data_exp.columns=[\"sn\",\"log_hm\",\"z\",\"zerr\",\"mB\",\"mBerr\",\"x1\",\"x1err\",\"x2\",\"x2err\",\"cov_mB_x1\",\"cov_mB_x2\",\"cov_x1_x2\",\"is_log_mass_g_10\"]"
   ]
  },
  {
   "cell_type": "code",
   "execution_count": 22,
   "id": "c449745c-dcd0-4420-8ce0-ee11ff61dcb6",
   "metadata": {},
   "outputs": [
    {
     "data": {
      "text/plain": [
       "684"
      ]
     },
     "execution_count": 22,
     "metadata": {},
     "output_type": "execute_result"
    }
   ],
   "source": [
    "len(data_exp)"
   ]
  },
  {
   "cell_type": "code",
   "execution_count": 23,
   "id": "0ac4a513-134f-4ef2-b67c-619643fdfb38",
   "metadata": {},
   "outputs": [],
   "source": [
    "data_z_sorted=data_exp.sort_values(\"z\").reset_index(drop=True)"
   ]
  },
  {
   "cell_type": "code",
   "execution_count": 24,
   "id": "90c4ec2e-9f0c-4457-baec-813ee62668bc",
   "metadata": {
    "tags": []
   },
   "outputs": [],
   "source": [
    "intervalo1=data_z_sorted[data_z_sorted[\"z\"]<0.025] # 45 sn\n",
    "intervalo2=data_z_sorted[(data_z_sorted[\"z\"]>=0.025) & (data_z_sorted[\"z\"]<0.04)] # 44 sn\n",
    "intervalo3=data_z_sorted[(data_z_sorted[\"z\"]>=0.04) & (data_z_sorted[\"z\"]<0.08)] # 37 sn\n",
    "intervalo4=data_z_sorted[(data_z_sorted[\"z\"]>=0.08) & (data_z_sorted[\"z\"]<0.12)] # 37 sn\n",
    "intervalo5=data_z_sorted[(data_z_sorted[\"z\"]>=0.12) & (data_z_sorted[\"z\"]<0.14)] # 36 sn\n",
    "intervalo6=data_z_sorted[(data_z_sorted[\"z\"]>=0.14) & (data_z_sorted[\"z\"]<0.17)] # 42 sn\n",
    "intervalo7=data_z_sorted[(data_z_sorted[\"z\"]>=0.17) & (data_z_sorted[\"z\"]<0.19)] # 44 sn\n",
    "intervalo8=data_z_sorted[(data_z_sorted[\"z\"]>=0.19) & (data_z_sorted[\"z\"]<0.215)] # 39 sn\n",
    "intervalo9=data_z_sorted[(data_z_sorted[\"z\"]>=0.215) & (data_z_sorted[\"z\"]<0.24)] # 32 sn\n",
    "intervalo10=data_z_sorted[(data_z_sorted[\"z\"]>=0.24) & (data_z_sorted[\"z\"]<0.26)] # 37 sn\n",
    "intervalo11=data_z_sorted[(data_z_sorted[\"z\"]>=0.26) & (data_z_sorted[\"z\"]<0.29)] # 38 sn\n",
    "intervalo12=data_z_sorted[(data_z_sorted[\"z\"]>=0.29) & (data_z_sorted[\"z\"]<0.32)] # 36 sn\n",
    "intervalo13=data_z_sorted[(data_z_sorted[\"z\"]>=0.32) & (data_z_sorted[\"z\"]<0.37)] # 37 sn\n",
    "intervalo14=data_z_sorted[(data_z_sorted[\"z\"]>=0.37) & (data_z_sorted[\"z\"]<0.44)] # 39 sn\n",
    "intervalo15=data_z_sorted[(data_z_sorted[\"z\"]>=0.44) & (data_z_sorted[\"z\"]<0.55)] # 33 sn\n",
    "intervalo16=data_z_sorted[(data_z_sorted[\"z\"]>=0.55) & (data_z_sorted[\"z\"]<0.66)] # 33 sn\n",
    "intervalo17=data_z_sorted[(data_z_sorted[\"z\"]>=0.66) & (data_z_sorted[\"z\"]<0.8)] # 31 sn\n",
    "intervalo18=data_z_sorted[(data_z_sorted[\"z\"]>=0.8) & (data_z_sorted[\"z\"]<1.2)] # 35 sn"
   ]
  },
  {
   "cell_type": "code",
   "execution_count": 25,
   "id": "9821a096-b121-4043-87db-4d565680f98a",
   "metadata": {},
   "outputs": [
    {
     "data": {
      "text/plain": [
       "9"
      ]
     },
     "execution_count": 25,
     "metadata": {},
     "output_type": "execute_result"
    }
   ],
   "source": [
    "len(data_exp[data_exp[\"z\"]>=1.2]) # 9 sn are not considered"
   ]
  },
  {
   "cell_type": "code",
   "execution_count": 26,
   "id": "ea2e5ef6-2819-4a6f-b7ec-1328ebfee07e",
   "metadata": {},
   "outputs": [
    {
     "name": "stdout",
     "output_type": "stream",
     "text": [
      "0.01854853027112422\n",
      "0.03200468457204545\n",
      "0.05618458689567839\n",
      "0.1029105945945946\n",
      "0.13016802777777775\n",
      "0.15349238095238096\n",
      "0.17959975\n",
      "0.20398858974358974\n",
      "0.22626628124999998\n",
      "0.2485844054054054\n",
      "0.272352\n",
      "0.30309025\n",
      "0.34382975675675664\n",
      "0.40232243589743594\n",
      "0.49377575757575765\n",
      "0.5926181818181818\n",
      "0.7409387096774193\n",
      "0.8819142857142858\n"
     ]
    }
   ],
   "source": [
    "for dat in [intervalo1,intervalo2,intervalo3,intervalo4,intervalo5,intervalo6,intervalo7,intervalo8,intervalo9,intervalo10,intervalo11,intervalo12,intervalo13,intervalo14,intervalo15,intervalo16,intervalo17,intervalo18]:\n",
    "    print(np.mean(dat[\"z\"]))"
   ]
  },
  {
   "cell_type": "code",
   "execution_count": null,
   "id": "f85f4934-1ca3-4eb7-8993-09d227616aef",
   "metadata": {
    "collapsed": true,
    "jupyter": {
     "outputs_hidden": true
    },
    "tags": []
   },
   "outputs": [
    {
     "name": "stdout",
     "output_type": "stream",
     "text": [
      "5.849413481289726\n"
     ]
    },
    {
     "name": "stderr",
     "output_type": "stream",
     "text": [
      "  5%|█▉                                      | 298/6000 [00:19<06:07, 15.53it/s]"
     ]
    },
    {
     "name": "stdout",
     "output_type": "stream",
     "text": [
      "emcee: Exception while calling your likelihood function:emcee: Exception while calling your likelihood function:emcee: Exception while calling your likelihood function:emcee: Exception while calling your likelihood function:emcee: Exception while calling your likelihood function:emcee: Exception while calling your likelihood function:emcee: Exception while calling your likelihood function:"
     ]
    },
    {
     "name": "stderr",
     "output_type": "stream",
     "text": [
      "Process ForkPoolWorker-23:\n"
     ]
    },
    {
     "name": "stdout",
     "output_type": "stream",
     "text": [
      "emcee: Exception while calling your likelihood function:emcee: Exception while calling your likelihood function:emcee: Exception while calling your likelihood function:emcee: Exception while calling your likelihood function:emcee: Exception while calling your likelihood function:emcee: Exception while calling your likelihood function:emcee: Exception while calling your likelihood function:emcee: Exception while calling your likelihood function:emcee: Exception while calling your likelihood function:emcee: Exception while calling your likelihood function:emcee: Exception while calling your likelihood function:emcee: Exception while calling your likelihood function:emcee: Exception while calling your likelihood function:emcee: Exception while calling your likelihood function:\n",
      "\n",
      "\n",
      "\n",
      "\n",
      "\n",
      "\n",
      "\n",
      "\n",
      "\n",
      "\n"
     ]
    },
    {
     "name": "stderr",
     "output_type": "stream",
     "text": [
      "Traceback (most recent call last):\n"
     ]
    },
    {
     "name": "stdout",
     "output_type": "stream",
     "text": [
      "\n",
      "\n",
      "\n",
      "\n",
      "\n",
      "\n",
      "\n",
      "  params:\n",
      "\n",
      "  params:  params:  params:  params:  params:  params:  params:  params:  params:  params:  params:"
     ]
    },
    {
     "name": "stderr",
     "output_type": "stream",
     "text": [
      "  File \"/home/cassia/anaconda3/envs/sne/lib/python3.10/multiprocessing/process.py\", line 315, in _bootstrap\n",
      "    self.run()\n"
     ]
    },
    {
     "name": "stdout",
     "output_type": "stream",
     "text": [
      "  params:  params:  params:  params:  params:emcee: Exception while calling your likelihood function:  params:  params:  params:            "
     ]
    },
    {
     "name": "stderr",
     "output_type": "stream",
     "text": [
      "  File \"/home/cassia/anaconda3/envs/sne/lib/python3.10/multiprocessing/process.py\", line 108, in run\n",
      "    self._target(*self._args, **self._kwargs)\n"
     ]
    },
    {
     "name": "stdout",
     "output_type": "stream",
     "text": [
      "        \n",
      "[0.18225132 0.1888872  0.0272468 ][0.17875451 0.18806822 0.1139525 ][0.14548869 0.20234437 0.07225191][0.1809535  0.20002727 0.08351307][0.14022343 0.15399161 0.13886281][0.15271736 0.13661    0.00857287][0.19148018 0.17188121 0.07286762][0.2020353  0.20164133 0.07020935][0.13074861 0.18114804 0.02626716]"
     ]
    },
    {
     "name": "stderr",
     "output_type": "stream",
     "text": [
      "  File \"/home/cassia/anaconda3/envs/sne/lib/python3.10/multiprocessing/pool.py\", line 131, in worker\n",
      "    put((job, i, result))\n"
     ]
    },
    {
     "name": "stdout",
     "output_type": "stream",
     "text": [
      "[0.16823422 0.19416231 0.01510167][0.19811618 0.18649426 0.12104533][0.17880508 0.21338071 0.06646093][0.16597987 0.09532549 0.18122777][0.17126646 0.1922288  0.05350338][0.1718394  0.17674496 0.04711642][0.14572359 0.14043541 0.07286108][0.17664517 0.17389067 0.04119235][0.19731707 0.18866753 0.02133286]  params:[0.17257652 0.16160103 0.03571916]\n",
      "\n",
      "\n",
      "\n",
      "\n",
      "\n",
      "\n",
      "\n",
      "\n",
      "[0.17525781 0.21319824 0.06234632]\n",
      "\n"
     ]
    },
    {
     "name": "stderr",
     "output_type": "stream",
     "text": [
      "  File \"/home/cassia/anaconda3/envs/sne/lib/python3.10/multiprocessing/queues.py\", line 376, in put\n",
      "    with self._wlock:\n"
     ]
    },
    {
     "name": "stdout",
     "output_type": "stream",
     "text": [
      "\n",
      "\n",
      "\n",
      "\n",
      "\n",
      "\n",
      "\n",
      "\n",
      "\n",
      "   args:  args:  args:  params:  args:  args:  args:  args:  args:\n",
      "  args:  args:"
     ]
    },
    {
     "name": "stderr",
     "output_type": "stream",
     "text": [
      "  File \"/home/cassia/anaconda3/envs/sne/lib/python3.10/multiprocessing/synchronize.py\", line 95, in __enter__\n",
      "    return self._semlock.__enter__()\n"
     ]
    },
    {
     "name": "stdout",
     "output_type": "stream",
     "text": [
      "  args:  args:  args:  args:  args:  args:  args:   args: [0.11096151 0.0981003  0.0154015 ]   args:        args:    "
     ]
    },
    {
     "name": "stderr",
     "output_type": "stream",
     "text": [
      "KeyboardInterrupt\n"
     ]
    },
    {
     "name": "stdout",
     "output_type": "stream",
     "text": [
      "      [][] []\n",
      "[][][][0.21483244 0.21364955 0.10361487][] [][][][][][][][][][][]\n",
      "\n",
      "[]\n",
      "  args:\n",
      "\n",
      "\n",
      "\n",
      "\n",
      "[]\n",
      "\n",
      "\n",
      "\n",
      "\n",
      "\n",
      "\n",
      "\n",
      "\n",
      "\n",
      "  kwargs:  kwargs:\n",
      "   kwargs:  kwargs:\n",
      "  kwargs:  kwargs:  kwargs:\n",
      "  kwargs:  kwargs:  args:  kwargs:  kwargs:  kwargs:  kwargs:  kwargs:  kwargs:  kwargs:  kwargs:    kwargs:[]    kwargs:      kwargs:  "
     ]
    },
    {
     "name": "stderr",
     "output_type": "stream",
     "text": [
      "\n"
     ]
    },
    {
     "name": "stdout",
     "output_type": "stream",
     "text": [
      "       {}  {}\n",
      "{}{} {}{}{}{}{} []{}{}{}{}{}{}{}{}\n",
      "{}  kwargs:\n",
      "\n",
      "{}\n",
      "\n",
      "\n",
      "\n",
      "\n",
      "\n",
      "{}\n",
      "\n",
      "\n",
      "\n",
      "\n",
      "\n",
      "\n",
      "  exception:\n",
      "\n",
      "\n",
      "  exception:\n",
      "  exception:   exception:  exception:  exception:  exception:  exception:  exception:  exception:\n",
      "  kwargs:  exception:  exception:  exception:  exception:  exception:  exception:\n",
      "  exception:  exception:\n",
      "\n",
      "{}\n",
      "\n",
      "\n",
      "  exception:\n",
      "\n",
      "  exception:\n",
      "\n",
      " \n",
      "\n",
      "\n",
      "\n",
      "\n",
      "\n",
      "\n",
      "\n",
      "\n",
      "{}\n",
      "\n"
     ]
    },
    {
     "name": "stderr",
     "output_type": "stream",
     "text": [
      "Traceback (most recent call last):\n"
     ]
    },
    {
     "name": "stdout",
     "output_type": "stream",
     "text": [
      "  exception:\n"
     ]
    },
    {
     "name": "stderr",
     "output_type": "stream",
     "text": [
      "Traceback (most recent call last):\n",
      "Traceback (most recent call last):\n",
      "Traceback (most recent call last):\n",
      "Traceback (most recent call last):\n",
      "  File \"/home/cassia/anaconda3/envs/sne/lib/python3.10/site-packages/emcee/ensemble.py\", line 624, in __call__\n",
      "    return self.f(x, *self.args, **self.kwargs)\n",
      "Traceback (most recent call last):\n",
      "Traceback (most recent call last):\n",
      "Traceback (most recent call last):\n"
     ]
    },
    {
     "name": "stdout",
     "output_type": "stream",
     "text": [
      "\n",
      "  exception:"
     ]
    }
   ],
   "source": [
    "for j,dat in enumerate([intervalo1,intervalo2,intervalo3,intervalo4,intervalo5,intervalo6,intervalo7,intervalo8,intervalo9,intervalo10,intervalo11,intervalo12,intervalo13,intervalo14,intervalo15,intervalo16,intervalo17,intervalo18]):\n",
    "    cosmo_exp=cosmo(dat)\n",
    "    print(cosmo_exp.log_probability_exp([0.1,0.1,0.1]))\n",
    "    pos = np.array([0.1,0.1,0.1])+0.01 *np.random.randn(300, 3)\n",
    "    nwalkers, ndim = pos.shape\n",
    "    \n",
    "    with Pool() as pool:\n",
    "        sampler_exp = emcee.EnsembleSampler(nwalkers, ndim, cosmo_exp.log_probability_exp, pool=pool)\n",
    "        sampler_exp.run_mcmc(pos, 6000, progress=True)\n",
    "    \n",
    "    print(np.mean(sampler_exp.get_autocorr_time()))\n",
    "    \n",
    "    print(np.mean(sampler_exp.acceptance_fraction))\n",
    "    \n",
    "    fig, axes = plt.subplots(ndim, figsize=(20, 10), sharex=True)\n",
    "    samples_exp = sampler_exp.get_chain()\n",
    "    labels = [r\"$\\alpha$\",r\"$\\beta$\",r\"$\\sigma_{int}$\"]\n",
    "\n",
    "    for i in range(ndim):\n",
    "        ax = axes[i]\n",
    "        ax.plot(samples_exp[:, :, i], \"k\")\n",
    "        ax.set_xlim(0, len(samples_exp))\n",
    "        ax.set_ylabel(labels[i])\n",
    "        ax.yaxis.set_label_coords(-0.1, 0.5)\n",
    "        ax.grid(False)\n",
    "        if i==0:\n",
    "            ax.set_title(\"Chains EXP PCA\")\n",
    "\n",
    "    \n",
    "    axes[-1].set_xlabel(\"step number\");\n",
    "    \n",
    "    plt.show()\n",
    "    \n",
    "    flat_samples_exp = sampler_exp.get_chain(discard=500, thin=10, flat=True)\n",
    "    \n",
    "    np.savetxt(\"./chains_evol_w_z_PCA/chain_int\"+str(j)+\"_PCA.txt\",flat_samples_exp)"
   ]
  }
 ],
 "metadata": {
  "kernelspec": {
   "display_name": "Python 3 (ipykernel)",
   "language": "python",
   "name": "python3"
  },
  "language_info": {
   "codemirror_mode": {
    "name": "ipython",
    "version": 3
   },
   "file_extension": ".py",
   "mimetype": "text/x-python",
   "name": "python",
   "nbconvert_exporter": "python",
   "pygments_lexer": "ipython3",
   "version": "3.10.5"
  }
 },
 "nbformat": 4,
 "nbformat_minor": 5
}
