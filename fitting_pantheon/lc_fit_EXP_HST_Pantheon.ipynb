{
 "cells": [
  {
   "cell_type": "code",
   "execution_count": 1,
   "id": "6572e158",
   "metadata": {},
   "outputs": [
    {
     "name": "stderr",
     "output_type": "stream",
     "text": [
      "WARNING: AstropyDeprecationWarning: The update_default_config function is deprecated and may be removed in a future version. [sncosmo]\n"
     ]
    }
   ],
   "source": [
    "import sncosmo\n",
    "import numpy as np\n",
    "import pandas as pd\n",
    "import matplotlib.pyplot as plt\n",
    "from sncosmo.salt2utils import BicubicInterpolator\n",
    "from scipy.interpolate import (\n",
    "    InterpolatedUnivariateSpline as Spline1d,\n",
    "    RectBivariateSpline as Spline2d\n",
    ")\n",
    "import pickle as pk\n",
    "from matplotlib.backends.backend_pdf import PdfPages\n",
    "import os \n",
    "from matplotlib.offsetbox import AnchoredText\n",
    "import astropy.constants as const\n",
    "import astropy.units as u\n",
    "import seaborn as sns\n",
    "from matplotlib.ticker import ScalarFormatter\n",
    "\n",
    "sns.set_style(\"whitegrid\", {'axes.grid':'False','xtick.bottom': True,'ytick.left': True})\n",
    "\n",
    "params = {\"text.usetex\" : True,'font.size': 20, 'font.family':'serif', 'font.serif':'Computer Modern'}\n",
    "plt.rcParams.update(params)\n",
    "\n",
    "H_ERG_S = const.h.cgs.value\n",
    "C_AA_PER_S = const.c.to(u.AA / u.s).value\n",
    "HC_ERG_AA = H_ERG_S * C_AA_PER_S\n",
    "SCALE_FACTOR = 1e-12"
   ]
  },
  {
   "cell_type": "code",
   "execution_count": 2,
   "id": "a799c815-3226-4525-9aa6-d543c434e52d",
   "metadata": {},
   "outputs": [],
   "source": [
    "class ScalarFormatterClass1(ScalarFormatter):\n",
    "    def _set_format(self):\n",
    "        self.format = \"%1.1f\""
   ]
  },
  {
   "cell_type": "markdown",
   "id": "a67bac7d-8d4c-4021-9cc7-1f8d47e03c19",
   "metadata": {},
   "source": [
    "## Comentários"
   ]
  },
  {
   "cell_type": "code",
   "execution_count": 3,
   "id": "2620e2ec-819d-4509-855c-e1503f4f4c84",
   "metadata": {},
   "outputs": [],
   "source": [
    "#"
   ]
  },
  {
   "cell_type": "markdown",
   "id": "0964b5a7-2af2-42a8-9199-075f65bafe43",
   "metadata": {
    "tags": []
   },
   "source": [
    "## Recuperando curvas de luz"
   ]
  },
  {
   "cell_type": "code",
   "execution_count": 4,
   "id": "63aec6ca",
   "metadata": {},
   "outputs": [],
   "source": [
    "path=\"./light_curves/Pantheon/Pantheon_HST_TEXT/\""
   ]
  },
  {
   "cell_type": "code",
   "execution_count": 5,
   "id": "1e8f3743",
   "metadata": {},
   "outputs": [],
   "source": [
    "l=[]\n",
    "with open(path+\"Pantheon_HST_TEXT.README\",'r') as f:\n",
    "    for line in f:\n",
    "        l.append(line.split())"
   ]
  },
  {
   "cell_type": "code",
   "execution_count": 6,
   "id": "c435ac2e",
   "metadata": {},
   "outputs": [],
   "source": [
    "sne_pass_cut=[l[8:35][i][0] for i in range(0,len(l[8:35]))]"
   ]
  },
  {
   "cell_type": "code",
   "execution_count": 7,
   "id": "5511157a",
   "metadata": {},
   "outputs": [
    {
     "data": {
      "text/plain": [
       "27"
      ]
     },
     "execution_count": 7,
     "metadata": {},
     "output_type": "execute_result"
    }
   ],
   "source": [
    "len(sne_pass_cut)"
   ]
  },
  {
   "cell_type": "markdown",
   "id": "17625c26",
   "metadata": {
    "tags": []
   },
   "source": [
    "## Decodificando filtros"
   ]
  },
  {
   "cell_type": "markdown",
   "id": "6c4d9421-e87f-4f13-801b-7e3fd05c431f",
   "metadata": {},
   "source": [
    "No SNANA diz que a tramissividade dos filtros está em unidade de fraçao de fótons, que é já é o padrão do SNCOSMO"
   ]
  },
  {
   "cell_type": "code",
   "execution_count": 8,
   "id": "3709d01f",
   "metadata": {},
   "outputs": [],
   "source": [
    "filters_dict={\"candles\":{\"a\":\"ACS_WFC_F435W\",\n",
    "                         \"b\":\"ACS_WFC_F475W\",\n",
    "                         \"c\":\"ACS_WFC_F606W\",\n",
    "                         \"d\":\"ACS_WFC_F625W\",\n",
    "                         \"e\":\"ACS_WFC_F775W\",\n",
    "                         \"f\":\"ACS_WFC_F814W\",\n",
    "                         \"g\":\"ACS_WFC_F850LP\",\n",
    "                         \"h\":\"WFC3_UVIS_F225W\",\n",
    "                         \"i\":\"WFC3_UVIS_F275W\",\n",
    "                         \"j\":\"WFC3_UVIS_F336W\",\n",
    "                         \"k\":\"WFC3_UVIS_F390W\",\n",
    "                         \"l\":\"WFC3_UVIS_F350LP\",\n",
    "                         \"m\":\"WFC3_IR_F105W\",\n",
    "                         \"n\":\"WFC3_IR_F110W\",\n",
    "                         \"o\":\"WFC3_IR_F125W\",\n",
    "                         \"p\":\"WFC3_IR_F140W\",\n",
    "                         \"q\":\"WFC3_IR_F160W\",\n",
    "                         \"r\":\"WFC3_IR_F098M\",\n",
    "                         \"s\":\"WFC3_IR_F127M\",\n",
    "                         \"t\":\"WFC3_IR_F139M\",\n",
    "                         \"u\":\"WFC3_IR_F153M\"},\n",
    "                \"goods\":{\"v\":\"F110W_NIC2\",\n",
    "                         \"w\":\"F160W_NIC2\",\n",
    "                         \"x\":\"F606W_ACS\",\n",
    "                         \"y\":\"F675W_WFPC2\",\n",
    "                         \"z\":\"F775W_ACS\",\n",
    "                         \"A\":\"F814W_WFPC2\",\n",
    "                         \"B\":\"F850LP_ACS\",\n",
    "                          \"C\":\"F110W_NIC2\",\n",
    "                          \"D\":\"F775W_ACS\",\n",
    "                          \"E\":\"F850LP_ACS\",\n",
    "                          \"F\":\"NIC3.F110r\", # n tem .dat\n",
    "                          \"G\":\"NIC3.F160r\", # n tem .dat\n",
    "                          \"H\":\"wfpc2.f814w.092003r\",\n",
    "                          \"I\":\"F110W_NIC2\",\n",
    "                          \"J\":\"newh_nirc2\",\n",
    "                          \"K\":\"F775W_ACS\",\n",
    "                          \"L\":\"F850LP_ACS\"}}"
   ]
  },
  {
   "cell_type": "code",
   "execution_count": 9,
   "id": "0cc27eee-9697-487b-854b-53c050dc405a",
   "metadata": {},
   "outputs": [],
   "source": [
    "path_f_can=\"/home/cassia/SNANA/snroot/filters/PS1/Pantheon/HST/HST_Candles/\"\n",
    "path_f_goods=\"/home/cassia/SNANA/snroot/filters/PS1/Pantheon/HST/HST_GOODS/\""
   ]
  },
  {
   "cell_type": "markdown",
   "id": "5295a5d4-50ec-4f32-b9a6-be24e563cfe5",
   "metadata": {
    "tags": []
   },
   "source": [
    "## Registrando filtros e criando sistema de magnitude composto"
   ]
  },
  {
   "cell_type": "code",
   "execution_count": 10,
   "id": "b68664cc-14ca-4eb1-b2c4-cfc4395256c8",
   "metadata": {},
   "outputs": [],
   "source": [
    "ab = sncosmo.get_magsystem('ab')"
   ]
  },
  {
   "cell_type": "code",
   "execution_count": 11,
   "id": "237f06be-7368-4a24-b534-37609af5a302",
   "metadata": {},
   "outputs": [],
   "source": [
    "for surv in filters_dict:\n",
    "    if surv==\"candles\":\n",
    "        for filt in filters_dict[surv].values():\n",
    "            wave = pd.read_csv(path_f_can+filt+\".dat\",header=None,sep=\"\\s+\",comment=\"#\")[0].values\n",
    "            trans = pd.read_csv(path_f_can+filt+\".dat\",header=None,sep=\"\\s+\",comment=\"#\")[1].values\n",
    "            band = sncosmo.Bandpass(wave, trans, name=surv+'_'+filt,trim_level=0.05)\n",
    "        \n",
    "            sncosmo.registry.register(band,force=True)\n",
    "    if surv==\"goods\":\n",
    "        for filt in filters_dict[surv].values():\n",
    "            if filt in [\"NIC3.F110r\",\"NIC3.F160r\"]:\n",
    "                wave = pd.read_csv(path_f_goods+filt,header=None,sep=\"\\s+\",comment=\"#\")[0].values\n",
    "                trans = pd.read_csv(path_f_goods+filt,header=None,sep=\"\\s+\",comment=\"#\")[1].values\n",
    "                band = sncosmo.Bandpass(wave, trans, name=surv+'_'+filt,trim_level=0.05)\n",
    "        \n",
    "                sncosmo.registry.register(band,force=True)\n",
    "            else:\n",
    "                wave = pd.read_csv(path_f_goods+filt+\".dat\",header=None,sep=\"\\s+\",comment=\"#\")[0].values\n",
    "                trans = pd.read_csv(path_f_goods+filt+\".dat\",header=None,sep=\"\\s+\",comment=\"#\")[1].values\n",
    "                band = sncosmo.Bandpass(wave, trans, name=surv+'_'+filt,trim_level=0.05)\n",
    "        \n",
    "                sncosmo.registry.register(band,force=True)"
   ]
  },
  {
   "cell_type": "code",
   "execution_count": 12,
   "id": "af3f48cf-b1e8-400c-88e6-d8c980ddb6e2",
   "metadata": {
    "tags": []
   },
   "outputs": [],
   "source": [
    "magsystem = {\"candles\":{\"candles_ACS_WFC_F435W\":('ab',0.),\n",
    "                      \"candles_ACS_WFC_F475W\":('ab',0.),\n",
    "                      \"candles_ACS_WFC_F606W\":('ab',0.),\n",
    "                      \"candles_ACS_WFC_F625W\":('ab',0.),\n",
    "                      \"candles_ACS_WFC_F775W\":('ab',0.),\n",
    "                      \"candles_ACS_WFC_F775W\":('ab',0.),\n",
    "                      \"candles_ACS_WFC_F814W\":('ab',0.),\n",
    "                      \"candles_ACS_WFC_F850LP\":('ab',0.),\n",
    "                      \"candles_WFC3_UVIS_F225W\":('ab',0.),\n",
    "                      \"candles_WFC3_UVIS_F275W\":('ab',0.),\n",
    "                      \"candles_WFC3_UVIS_F336W\":('ab',0.),\n",
    "                      \"candles_WFC3_UVIS_F390W\":('ab',0.),\n",
    "                      \"candles_WFC3_UVIS_F350LP\":('ab',0.),\n",
    "                      \"candles_WFC3_IR_F105W\":('ab',0.),\n",
    "                      \"candles_WFC3_IR_F110W\":('ab',0.),\n",
    "                      \"candles_WFC3_IR_F125W\":('ab',0.),\n",
    "                      \"candles_WFC3_IR_F140W\":('ab',0.),\n",
    "                      \"candles_WFC3_IR_F160W\":('ab',0.),\n",
    "                      \"candles_WFC3_IR_F098M\":('ab',0.),\n",
    "                      \"candles_WFC3_IR_F127M\":('ab',0.),\n",
    "                      \"candles_WFC3_IR_F139M\":('ab',0.),\n",
    "                      \"candles_WFC3_IR_F153M\":('ab',0.)},\n",
    "             \"goods\":{\"goods_F110W_NIC2\":('ab',0.),\n",
    "                      \"goods_F160W_NIC2\":('ab',0.),\n",
    "                      \"goods_F606W_ACS\":('ab',0.),\n",
    "                      \"goods_F675W_WFPC2\":('ab',0.),\n",
    "                      \"goods_F775W_ACS\":('ab',0.),\n",
    "                      \"goods_F814W_WFPC2\":('ab',0.),\n",
    "                      \"goods_F850LP_ACS\":('ab',0.),\n",
    "                      \"goods_NIC3.F110r\":('ab',0.),\n",
    "                      \"goods_NIC3.F160r\":('ab',0.),\n",
    "                      \"goods_wfpc2.f814w.092003r\":('ab',0.),\n",
    "                      \"goods_newh_nirc2\":('ab',0.)}}"
   ]
  },
  {
   "cell_type": "markdown",
   "id": "58058907-9212-4ec5-9801-eb5c390bc802",
   "metadata": {},
   "source": [
    "## Criando modelo EXP"
   ]
  },
  {
   "cell_type": "code",
   "execution_count": 13,
   "id": "1234be04-76c5-4c79-b5d3-e64fc2c4180e",
   "metadata": {},
   "outputs": [],
   "source": [
    "class EXP_LC(sncosmo.Source):\n",
    "    \n",
    "    _param_names = ['x0', 'x1', 'x2']\n",
    "    param_names_latex = ['x_0', 'x_1', 'x_2']\n",
    "    \n",
    "    \n",
    "    def __init__(self, phase, wave, flux0, flux1, flux2, name='EXP', version='2021'):\n",
    "\n",
    "        self.name = name\n",
    "        self.version = version\n",
    "        self._phase = phase\n",
    "        self._wave = wave\n",
    "        \n",
    "        self._model_flux0  = BicubicInterpolator(phase, wave, flux0.T)\n",
    "        self._model_flux1  = BicubicInterpolator(phase, wave, flux1.T)\n",
    "        self._model_flux2  = BicubicInterpolator(phase, wave, flux2.T)\n",
    "\n",
    "        self._parameters = np.array([1, 0, 0])  # initial guess\n",
    "        \n",
    "\n",
    "    def _flux(self, phase, wave):\n",
    "        \n",
    "        x0, x1, x2= self._parameters\n",
    "        return x0 * (self._model_flux0(phase, wave) +  x1 * self._model_flux1(phase, wave) +  x2 * self._model_flux2(phase, wave))"
   ]
  },
  {
   "cell_type": "code",
   "execution_count": 14,
   "id": "e5067965-0f6d-438b-82ea-9f95fc43fd22",
   "metadata": {},
   "outputs": [],
   "source": [
    "gridx2 = np.linspace(-10, 50, 50+10+1, dtype=int)\n",
    "gridy2 = np.linspace(3400, 8400, int((8400-3400)/10+1), dtype=int)"
   ]
  },
  {
   "cell_type": "code",
   "execution_count": 15,
   "id": "46767ed5-78f3-47b4-8bba-10ba9c6a9394",
   "metadata": {},
   "outputs": [],
   "source": [
    "X, Y = np.meshgrid(gridx2,gridy2)"
   ]
  },
  {
   "cell_type": "markdown",
   "id": "08b56a10-d1ea-4a52-ad1b-b591ae21fd04",
   "metadata": {
    "tags": []
   },
   "source": [
    "#### Templates FA"
   ]
  },
  {
   "cell_type": "code",
   "execution_count": 16,
   "id": "66e3f4a0-ef50-48dc-ab6c-7af02b4fae8a",
   "metadata": {},
   "outputs": [],
   "source": [
    "M_fa=[]\n",
    "for i in range(3):\n",
    "    M_fa.append(np.loadtxt(\"../fa/sk_varimax_M\"+str(i)+\".txt\")*SCALE_FACTOR)"
   ]
  },
  {
   "cell_type": "markdown",
   "id": "a15bd93d-b039-4519-8cf2-a92699948a5f",
   "metadata": {},
   "source": [
    "#### Templates PCA"
   ]
  },
  {
   "cell_type": "code",
   "execution_count": 17,
   "id": "b86c1a55-7e26-408a-ab1a-62f813f83746",
   "metadata": {},
   "outputs": [],
   "source": [
    "M_pca=[]\n",
    "for i in range(3):\n",
    "    M_pca.append(np.loadtxt(\"../pca/M\"+str(i)+\"_pca.txt\")*SCALE_FACTOR)"
   ]
  },
  {
   "cell_type": "markdown",
   "id": "21ff8979-a371-46de-a224-a9320c803a6b",
   "metadata": {},
   "source": [
    "### Criando os modelos"
   ]
  },
  {
   "cell_type": "code",
   "execution_count": 18,
   "id": "6c34bfbb-b3a6-4457-a817-abf1d10ea070",
   "metadata": {},
   "outputs": [],
   "source": [
    "exp_fa = EXP_LC(gridx2, gridy2, M_fa[0], M_fa[1], M_fa[2])\n",
    "exp_pca = EXP_LC(gridx2, gridy2, M_pca[0], M_pca[1], M_pca[2])"
   ]
  },
  {
   "cell_type": "code",
   "execution_count": 19,
   "id": "16e35794-3875-4bb1-b5a6-d0c7e41d4e14",
   "metadata": {},
   "outputs": [],
   "source": [
    "sncosmo.register(exp_fa,name=\"exp_fa_varimax\")\n",
    "sncosmo.register(exp_pca,name=\"exp_pca\")"
   ]
  },
  {
   "cell_type": "markdown",
   "id": "39adb297-3c7a-4273-91c2-04516cf86b44",
   "metadata": {},
   "source": [
    "## Escolha do modelo"
   ]
  },
  {
   "cell_type": "code",
   "execution_count": 20,
   "id": "84b2a01d-2396-4391-b04b-cfc45a1a68bc",
   "metadata": {},
   "outputs": [],
   "source": [
    "modelo=\"exp_fa_varimax\""
   ]
  },
  {
   "cell_type": "markdown",
   "id": "410d3848",
   "metadata": {
    "tags": []
   },
   "source": [
    "## Ajustando curvas de luz"
   ]
  },
  {
   "cell_type": "code",
   "execution_count": 21,
   "id": "bc3464a9",
   "metadata": {},
   "outputs": [],
   "source": [
    "def lc_fit(sn):    \n",
    "\n",
    "    if os.path.exists(path+\"HST_\"+sn+\".DAT\")==True:\n",
    "        meta, tables = sncosmo.read_snana_ascii(path+\"HST_\"+sn+\".DAT\", default_tablename='OBS') \n",
    "        surv=\"goods\"\n",
    "    elif os.path.exists(path+\"htHST_CANDELS1_\"+sn.lower()+\".dat\")==True:\n",
    "        meta, tables = sncosmo.read_snana_ascii(path+\"htHST_CANDELS1_\"+sn.lower()+\".dat\", default_tablename='OBS') \n",
    "        surv=\"candles\"\n",
    "    else:\n",
    "        return print(f\"File not found for SN {sn}\")\n",
    "    \n",
    "    dat=tables[\"OBS\"]\n",
    "\n",
    "    dat.add_column([surv+\"_\"+filters_dict[surv][f] for f in dat[\"FLT\"]], name='FILTER') # decodificando\n",
    "    dat.remove_column(\"FLT\")\n",
    "\n",
    "    dat.remove_rows(np.where(dat[\"FLUXCAL\"]<0)[0])\n",
    "\n",
    "    magsys=sncosmo.CompositeMagSystem(bands=magsystem[surv],name=\"magsys\")\n",
    "    sncosmo.register(magsys,force=True)\n",
    "        \n",
    "    try:\n",
    "        dat.remove_rows(np.where(np.isnan(dat[\"MAG\"]))[0])\n",
    "        dat[\"FLUX\"]=[magsys.band_mag_to_flux(dat[\"MAG\"][i],dat[\"FILTER\"][i]) for i in range(len(dat[\"MAG\"]))]\n",
    "        dat[\"FLUXERR\"]=[abs(0.4*dat[\"FLUX\"][i]*np.log(10.)*dat[\"MAGERR\"][i]) for i in range(len(dat[\"MAG\"]))]\n",
    "    except:\n",
    "        dat[\"MAG\"]=-2.5*np.log10(dat[\"FLUXCAL\"])+27.5\n",
    "        dat[\"MAGERR\"]=abs(2.5*np.log10(np.e)*dat[\"FLUXCALERR\"]/dat[\"FLUXCAL\"])\n",
    "        dat.remove_rows(np.where(np.isnan(dat[\"MAG\"]))[0])\n",
    "        dat[\"FLUX\"]=[ab.band_mag_to_flux(dat[\"MAG\"][i],dat[\"FILTER\"][i]) for i in range(len(dat[\"MAG\"]))]\n",
    "        dat[\"FLUXERR\"]=[abs(0.4*dat[\"FLUX\"][i]*np.log(10.)*dat[\"MAGERR\"][i]) for i in range(len(dat[\"MAG\"]))]\n",
    "\n",
    "    rm_f=[]\n",
    "    if sn==\"Primo\":\n",
    "        dat.remove_rows(np.where(dat[\"FILTER\"]==\"candles_ACS_WFC_F814W\")[0])\n",
    "        rm_f=[\"candles_ACS_WFC_F814W\"]\n",
    "        \n",
    "    if sn==\"colfax\":\n",
    "        dat.remove_rows(np.where(dat[\"FILTER\"]==\"candles_ACS_WFC_F814W\")[0])\n",
    "        dat.remove_rows(np.where(dat[\"FILTER\"]==\"candles_ACS_WFC_F850LP\")[0])\n",
    "        rm_f=[\"candles_ACS_WFC_F814W\",\"candles_ACS_WFC_F850LP\"]\n",
    "    \n",
    "    if sn==\"Lancaster\":\n",
    "        dat.remove_rows(np.where(dat[\"FILTER\"]==\"F160W_NIC2\")[0])\n",
    "        rm_f=[\"goods_F160W_NIC2\"]\n",
    "\n",
    "    dat.remove_columns([\"FIELD\",\"MAG\",\"MAGERR\"])\n",
    "     \n",
    "    # ref de repouso: (t-t0)/(1+z), no SNANA fazem um corte de -15 a 45 no referencial de repouso. E também tem um corte no \n",
    "    # intervalo de comprimento de onda, eu apliquei esses cortes abaixo em phase_range e wave_range. Porém não tenho certeza\n",
    "    # se o sncosmo corta no ref de repouso ou do observador. Alterando isso, os valores de x1 para 2001ah e 2001az mudam drasticamento\n",
    "    # equivalendo a mesma mudança que ocorre no snana quando fazemos a mesma alteração no TREST_REJECT.    \n",
    "    \n",
    "    dat[\"ZP\"]=[2.5*np.log10(magsys.zpbandflux(f)) for f in dat[\"FILTER\"]]\n",
    "    dat.add_column(\"magsys\", name='ZPSYS')\n",
    "    \n",
    "    dust = sncosmo.F99Dust() \n",
    "\n",
    "    # para algumas sne como 2006bb o chi2 da minimizacao da Nan e não é possível ajustar a sn. A mesma sn no snana é ajustada pelo salt.\n",
    "    # alterando intervalo de dias e comprimento de onda de atuação do ajustador, ainda não é possível evitar o nan já no primeiro passo.\n",
    "    \n",
    "    model = sncosmo.Model(source=modelo,effects=[dust],effect_names=['mw'],effect_frames=['obs'])\n",
    "    model.set(z=meta[\"REDSHIFT_FINAL\"],mwebv=meta[\"MWEBV\"]) \n",
    "    \n",
    "    try:\n",
    "        result, fitted_model = sncosmo.fit_lc(dat, model, ['t0', 'x0', 'x1', 'x2'],modelcov=False, phase_range=(-10, 40.), wave_range=(3400.,7000.), verbose=False)\n",
    "    except:\n",
    "        print(f\"SN {sn} fit returns NaN\")\n",
    "        result=None\n",
    "        fitted_model=None\n",
    "    \n",
    "    return meta, surv, dat, result, fitted_model"
   ]
  },
  {
   "cell_type": "code",
   "execution_count": 22,
   "id": "82bdbc39-e372-4c04-832b-29a4e38bcfbb",
   "metadata": {
    "tags": []
   },
   "outputs": [],
   "source": [
    "pp = PdfPages(f\"./lc_fit_plot_{modelo.upper()}_HST_Pantheon.pdf\")"
   ]
  },
  {
   "cell_type": "code",
   "execution_count": 23,
   "id": "c77546a7-91cb-4852-871e-5c52269c4904",
   "metadata": {},
   "outputs": [],
   "source": [
    "colors1=[\"#440154\"]\n",
    "colors2=[\"#fde725\",\"#440154\"]\n",
    "colors3=[\"#fde725\",\"#21918c\",\"#440154\"]\n",
    "colors4=[\"#fde725\",\"#35b779\",\"#31688e\",\"#440154\"]\n",
    "colors5=[\"#fde725\",\"#5ec962\",\"#21918c\",\"#3b528b\",\"#440154\"]"
   ]
  },
  {
   "cell_type": "code",
   "execution_count": 24,
   "id": "838b6f33-841f-47b2-96fd-30f5f2ba06c5",
   "metadata": {
    "tags": []
   },
   "outputs": [],
   "source": [
    " def return_fit_data(meta,res,model_name):\n",
    "\n",
    "    return [meta[\"SNID\"], meta[\"SURVEY\"], meta[\"REDSHIFT_FINAL\"], 0., res.parameters[1],\n",
    "           res.errors[\"t0\"], res.parameters[2], res.errors[\"x0\"], res.parameters[3],\n",
    "           res.errors[\"x1\"], res.parameters[4], res.errors[\"x2\"],\n",
    "           res.covariance[1][2], res.covariance[1][3], res.covariance[2][3], \n",
    "           res.chisq/res.ndof, model_name]"
   ]
  },
  {
   "cell_type": "code",
   "execution_count": 25,
   "id": "64c7a83c-dd6f-40f5-8de6-41a9d61ab4af",
   "metadata": {},
   "outputs": [],
   "source": [
    "def lc_fit_plot(sn, surv,table_data, result, fitted_model):\n",
    "    z=round(result[\"parameters\"][0],2)\n",
    "    t0=round(result[\"parameters\"][1],2)\n",
    "    x1=round(result[\"parameters\"][3],2)\n",
    "    x1err=round(result[\"errors\"][\"x1\"],2)\n",
    "    x2=round(result[\"parameters\"][4],2)\n",
    "    x2err=round(result[\"errors\"][\"x2\"],2)\n",
    "    mwebv=result[\"parameters\"][5]\n",
    "    phase=np.linspace(t0-10.,t0+50.,100)\n",
    "\n",
    "    if result.ndof>0:\n",
    "        fil=[]\n",
    "        for i,f in enumerate(magsystem[surv].keys()): \n",
    "            if len(table_data[table_data[\"FILTER\"]==f])==0:\n",
    "                continue\n",
    "            else:\n",
    "                try:\n",
    "                    fitted_model.bandflux(f, phase)\n",
    "                    fil.append(f)\n",
    "                    continue\n",
    "                except:\n",
    "                    continue\n",
    "        fig, axs=plt.subplots(len(fil),1,figsize=(10,4*len(fil)),sharex=True)\n",
    "        fig.subplots_adjust(hspace=0.1)\n",
    "        if len(fil)==1:\n",
    "            for i,f in enumerate(fil): \n",
    "                colors=eval(\"colors\"+str(len(fil)))\n",
    "                axs.plot(phase-t0,fitted_model.bandflux(f, phase)*10**(-0.4*table_data[table_data[\"FILTER\"]==f][\"ZP\"][0]+11),linewidth=3,color=colors[i],label=f\"{modelo.upper()} fit ($\\chi^2/ndof$={round(result.chisq/result.ndof,2)})\")\n",
    "                axs.errorbar(table_data[table_data[\"FILTER\"]==f][\"MJD\"]-t0,table_data[table_data[\"FILTER\"]==f][\"FLUXCAL\"],yerr=table_data[table_data[\"FILTER\"]==f][\"FLUXCALERR\"],label=f\"Flux through {f} filter\",ls=\"none\", marker='o',markersize=8,color=colors[i])\n",
    "                axs.set_ylabel(r\"FLUX ($Z_{AB}$=27.5)\")\n",
    "                axs.set_xlim(-12,52)\n",
    "                axs.set_title(f\"{sn}({surv}),   z:{z:.2f},   x1={x1:.2f}$\\pm${x1err:.2f},   x2={x2:.2f}$\\pm${x2err:.2f}\")\n",
    "                formatter11=ScalarFormatterClass1()\n",
    "                formatter11.set_scientific(True)\n",
    "                formatter11.set_powerlimits((0,0))\n",
    "                axs.yaxis.set_major_formatter(formatter11)\n",
    "                axs.legend(loc=3)\n",
    "                if i==len(fil)-1:\n",
    "                    axs.set_xlabel(f\"MJD-{t0}\")\n",
    "            #plt.show()\n",
    "            plt.tight_layout()\n",
    "            pp.savefig()\n",
    "            plt.close(fig)\n",
    "        else:\n",
    "            for i,f in enumerate(fil): \n",
    "                colors=eval(\"colors\"+str(len(fil)))\n",
    "                axs[i].plot(phase-t0,fitted_model.bandflux(f, phase)*10**(-0.4*table_data[table_data[\"FILTER\"]==f][\"ZP\"][0]+11),linewidth=3,color=colors[i],label=f\"{modelo.upper()} fit ($\\chi^2/ndof$={round(result.chisq/result.ndof,2)})\")\n",
    "                axs[i].errorbar(table_data[table_data[\"FILTER\"]==f][\"MJD\"]-t0,table_data[table_data[\"FILTER\"]==f][\"FLUXCAL\"],yerr=table_data[table_data[\"FILTER\"]==f][\"FLUXCALERR\"],label=f\"Flux through {f} filter\",ls=\"none\", marker='o',markersize=8,color=colors[i])\n",
    "                axs[i].set_ylabel(r\"FLUX ($Z_{AB}$=27.5)\")\n",
    "                axs[i].set_xlim(-12,52)\n",
    "                axs[i].set_title(f\"{sn}({surv}),   z:{z:.2f},   x1={x1:.2f}$\\pm${x1err:.2f},   x2={x2:.2f}$\\pm${x2err:.2f}\")\n",
    "                formatter11=ScalarFormatterClass1()\n",
    "                formatter11.set_scientific(True)\n",
    "                formatter11.set_powerlimits((0,0))\n",
    "                axs[i].yaxis.set_major_formatter(formatter11)\n",
    "                axs[i].legend(loc=3)\n",
    "                if i==len(fil)-1:\n",
    "                    axs[i].set_xlabel(f\"MJD-{t0}\")\n",
    "            #plt.show()\n",
    "            plt.tight_layout()\n",
    "            pp.savefig()\n",
    "            plt.close(fig)\n",
    "    else:\n",
    "        pass"
   ]
  },
  {
   "cell_type": "code",
   "execution_count": 26,
   "id": "9d937e46-f69b-4fe1-b950-467196bcabf1",
   "metadata": {
    "tags": []
   },
   "outputs": [
    {
     "name": "stdout",
     "output_type": "stream",
     "text": [
      "vespesian (0/27)\n"
     ]
    },
    {
     "name": "stderr",
     "output_type": "stream",
     "text": [
      "/home/cassia/anaconda3/envs/sne/lib/python3.10/site-packages/sncosmo/fitting.py:187: RuntimeWarning: Dropping following bands from data: candles_ACS_WFC_F775W(out of model wavelength range)\n",
      "  warnings.warn(\"Dropping following bands from data: \" +\n",
      "/home/cassia/anaconda3/envs/sne/lib/python3.10/site-packages/iminuit/util.py:143: UserWarning: Assigned errors must be positive. Non-positive values are replaced by a heuristic.\n",
      "  warnings.warn(\n"
     ]
    },
    {
     "name": "stdout",
     "output_type": "stream",
     "text": [
      "washington (1/27)\n"
     ]
    },
    {
     "name": "stderr",
     "output_type": "stream",
     "text": [
      "/home/cassia/anaconda3/envs/sne/lib/python3.10/site-packages/sncosmo/fitting.py:187: RuntimeWarning: Dropping following bands from data: candles_ACS_WFC_F814W(out of model wavelength range)\n",
      "  warnings.warn(\"Dropping following bands from data: \" +\n",
      "/home/cassia/anaconda3/envs/sne/lib/python3.10/site-packages/iminuit/util.py:143: UserWarning: Assigned errors must be positive. Non-positive values are replaced by a heuristic.\n",
      "  warnings.warn(\n"
     ]
    },
    {
     "name": "stdout",
     "output_type": "stream",
     "text": [
      "carter (2/27)\n"
     ]
    },
    {
     "name": "stderr",
     "output_type": "stream",
     "text": [
      "/home/cassia/anaconda3/envs/sne/lib/python3.10/site-packages/sncosmo/fitting.py:187: RuntimeWarning: Dropping following bands from data: candles_ACS_WFC_F850LP, candles_ACS_WFC_F606W(out of model wavelength range)\n",
      "  warnings.warn(\"Dropping following bands from data: \" +\n",
      "/home/cassia/anaconda3/envs/sne/lib/python3.10/site-packages/iminuit/util.py:143: UserWarning: Assigned errors must be positive. Non-positive values are replaced by a heuristic.\n",
      "  warnings.warn(\n"
     ]
    },
    {
     "name": "stdout",
     "output_type": "stream",
     "text": [
      "Primo (3/27)\n"
     ]
    },
    {
     "name": "stderr",
     "output_type": "stream",
     "text": [
      "/home/cassia/anaconda3/envs/sne/lib/python3.10/site-packages/sncosmo/fitting.py:187: RuntimeWarning: Dropping following bands from data: candles_ACS_WFC_F850LP(out of model wavelength range)\n",
      "  warnings.warn(\"Dropping following bands from data: \" +\n",
      "/home/cassia/anaconda3/envs/sne/lib/python3.10/site-packages/iminuit/util.py:143: UserWarning: Assigned errors must be positive. Non-positive values are replaced by a heuristic.\n",
      "  warnings.warn(\n"
     ]
    },
    {
     "name": "stdout",
     "output_type": "stream",
     "text": [
      "geta (4/27)\n"
     ]
    },
    {
     "name": "stderr",
     "output_type": "stream",
     "text": [
      "/home/cassia/anaconda3/envs/sne/lib/python3.10/site-packages/iminuit/util.py:143: UserWarning: Assigned errors must be positive. Non-positive values are replaced by a heuristic.\n",
      "  warnings.warn(\n"
     ]
    },
    {
     "name": "stdout",
     "output_type": "stream",
     "text": [
      "stone (5/27)\n"
     ]
    },
    {
     "name": "stderr",
     "output_type": "stream",
     "text": [
      "/home/cassia/anaconda3/envs/sne/lib/python3.10/site-packages/sncosmo/fitting.py:187: RuntimeWarning: Dropping following bands from data: candles_ACS_WFC_F814W(out of model wavelength range)\n",
      "  warnings.warn(\"Dropping following bands from data: \" +\n",
      "/home/cassia/anaconda3/envs/sne/lib/python3.10/site-packages/iminuit/util.py:143: UserWarning: Assigned errors must be positive. Non-positive values are replaced by a heuristic.\n",
      "  warnings.warn(\n"
     ]
    },
    {
     "name": "stdout",
     "output_type": "stream",
     "text": [
      "colfax (6/27)\n"
     ]
    },
    {
     "name": "stderr",
     "output_type": "stream",
     "text": [
      "/home/cassia/anaconda3/envs/sne/lib/python3.10/site-packages/sncosmo/fitting.py:187: RuntimeWarning: Dropping following bands from data: candles_WFC3_IR_F125W(out of model wavelength range)\n",
      "  warnings.warn(\"Dropping following bands from data: \" +\n",
      "/home/cassia/anaconda3/envs/sne/lib/python3.10/site-packages/iminuit/util.py:143: UserWarning: Assigned errors must be positive. Non-positive values are replaced by a heuristic.\n",
      "  warnings.warn(\n"
     ]
    },
    {
     "name": "stdout",
     "output_type": "stream",
     "text": [
      "wilson (7/27)\n"
     ]
    },
    {
     "name": "stderr",
     "output_type": "stream",
     "text": [
      "/home/cassia/anaconda3/envs/sne/lib/python3.10/site-packages/iminuit/util.py:143: UserWarning: Assigned errors must be positive. Non-positive values are replaced by a heuristic.\n",
      "  warnings.warn(\n"
     ]
    },
    {
     "name": "stdout",
     "output_type": "stream",
     "text": [
      "rutledge (8/27)\n"
     ]
    },
    {
     "name": "stderr",
     "output_type": "stream",
     "text": [
      "/home/cassia/anaconda3/envs/sne/lib/python3.10/site-packages/sncosmo/fitting.py:187: RuntimeWarning: Dropping following bands from data: candles_ACS_WFC_F814W(out of model wavelength range)\n",
      "  warnings.warn(\"Dropping following bands from data: \" +\n",
      "/home/cassia/anaconda3/envs/sne/lib/python3.10/site-packages/iminuit/util.py:143: UserWarning: Assigned errors must be positive. Non-positive values are replaced by a heuristic.\n",
      "  warnings.warn(\n"
     ]
    },
    {
     "name": "stdout",
     "output_type": "stream",
     "text": [
      "Aphrodite (9/27)\n"
     ]
    },
    {
     "name": "stderr",
     "output_type": "stream",
     "text": [
      "/home/cassia/anaconda3/envs/sne/lib/python3.10/site-packages/sncosmo/fitting.py:187: RuntimeWarning: Dropping following bands from data: goods_F775W_ACS(out of model wavelength range)\n",
      "  warnings.warn(\"Dropping following bands from data: \" +\n",
      "/home/cassia/anaconda3/envs/sne/lib/python3.10/site-packages/iminuit/util.py:143: UserWarning: Assigned errors must be positive. Non-positive values are replaced by a heuristic.\n",
      "  warnings.warn(\n"
     ]
    },
    {
     "name": "stdout",
     "output_type": "stream",
     "text": [
      "Borg (10/27)\n"
     ]
    },
    {
     "name": "stderr",
     "output_type": "stream",
     "text": [
      "/home/cassia/anaconda3/envs/sne/lib/python3.10/site-packages/sncosmo/fitting.py:187: RuntimeWarning: Dropping following bands from data: goods_F775W_ACS, goods_F110W_NIC2(out of model wavelength range)\n",
      "  warnings.warn(\"Dropping following bands from data: \" +\n",
      "/home/cassia/anaconda3/envs/sne/lib/python3.10/site-packages/iminuit/util.py:143: UserWarning: Assigned errors must be positive. Non-positive values are replaced by a heuristic.\n",
      "  warnings.warn(\n"
     ]
    },
    {
     "name": "stdout",
     "output_type": "stream",
     "text": [
      "Eagle (11/27)\n"
     ]
    },
    {
     "name": "stderr",
     "output_type": "stream",
     "text": [
      "/home/cassia/anaconda3/envs/sne/lib/python3.10/site-packages/sncosmo/fitting.py:187: RuntimeWarning: Dropping following bands from data: goods_F775W_ACS(out of model wavelength range)\n",
      "  warnings.warn(\"Dropping following bands from data: \" +\n",
      "/home/cassia/anaconda3/envs/sne/lib/python3.10/site-packages/iminuit/util.py:143: UserWarning: Assigned errors must be positive. Non-positive values are replaced by a heuristic.\n",
      "  warnings.warn(\n"
     ]
    },
    {
     "name": "stdout",
     "output_type": "stream",
     "text": [
      "Frodo (12/27)\n"
     ]
    },
    {
     "name": "stderr",
     "output_type": "stream",
     "text": [
      "/home/cassia/anaconda3/envs/sne/lib/python3.10/site-packages/sncosmo/fitting.py:187: RuntimeWarning: Dropping following bands from data: goods_F606W_ACS(out of model wavelength range)\n",
      "  warnings.warn(\"Dropping following bands from data: \" +\n",
      "/home/cassia/anaconda3/envs/sne/lib/python3.10/site-packages/iminuit/util.py:143: UserWarning: Assigned errors must be positive. Non-positive values are replaced by a heuristic.\n",
      "  warnings.warn(\n"
     ]
    },
    {
     "name": "stdout",
     "output_type": "stream",
     "text": [
      "Gabi (13/27)\n"
     ]
    },
    {
     "name": "stderr",
     "output_type": "stream",
     "text": [
      "/home/cassia/anaconda3/envs/sne/lib/python3.10/site-packages/sncosmo/fitting.py:187: RuntimeWarning: Dropping following bands from data: goods_F775W_ACS(out of model wavelength range)\n",
      "  warnings.warn(\"Dropping following bands from data: \" +\n",
      "/home/cassia/anaconda3/envs/sne/lib/python3.10/site-packages/iminuit/util.py:143: UserWarning: Assigned errors must be positive. Non-positive values are replaced by a heuristic.\n",
      "  warnings.warn(\n"
     ]
    },
    {
     "name": "stdout",
     "output_type": "stream",
     "text": [
      "Koekemoer (14/27)\n"
     ]
    },
    {
     "name": "stderr",
     "output_type": "stream",
     "text": [
      "/home/cassia/anaconda3/envs/sne/lib/python3.10/site-packages/sncosmo/fitting.py:187: RuntimeWarning: Dropping following bands from data: goods_F775W_ACS(out of model wavelength range)\n",
      "  warnings.warn(\"Dropping following bands from data: \" +\n",
      "/home/cassia/anaconda3/envs/sne/lib/python3.10/site-packages/iminuit/util.py:143: UserWarning: Assigned errors must be positive. Non-positive values are replaced by a heuristic.\n",
      "  warnings.warn(\n"
     ]
    },
    {
     "name": "stdout",
     "output_type": "stream",
     "text": [
      "Lancaster (15/27)\n"
     ]
    },
    {
     "name": "stderr",
     "output_type": "stream",
     "text": [
      "/home/cassia/anaconda3/envs/sne/lib/python3.10/site-packages/sncosmo/fitting.py:187: RuntimeWarning: Dropping following bands from data: goods_F775W_ACS(out of model wavelength range)\n",
      "  warnings.warn(\"Dropping following bands from data: \" +\n",
      "/home/cassia/anaconda3/envs/sne/lib/python3.10/site-packages/iminuit/util.py:143: UserWarning: Assigned errors must be positive. Non-positive values are replaced by a heuristic.\n",
      "  warnings.warn(\n"
     ]
    },
    {
     "name": "stdout",
     "output_type": "stream",
     "text": [
      "Manipogo (16/27)\n"
     ]
    },
    {
     "name": "stderr",
     "output_type": "stream",
     "text": [
      "/home/cassia/anaconda3/envs/sne/lib/python3.10/site-packages/iminuit/util.py:143: UserWarning: Assigned errors must be positive. Non-positive values are replaced by a heuristic.\n",
      "  warnings.warn(\n"
     ]
    },
    {
     "name": "stdout",
     "output_type": "stream",
     "text": [
      "Mcguire (17/27)\n"
     ]
    },
    {
     "name": "stderr",
     "output_type": "stream",
     "text": [
      "/home/cassia/anaconda3/envs/sne/lib/python3.10/site-packages/sncosmo/fitting.py:187: RuntimeWarning: Dropping following bands from data: goods_F775W_ACS, goods_F110W_NIC2(out of model wavelength range)\n",
      "  warnings.warn(\"Dropping following bands from data: \" +\n",
      "/home/cassia/anaconda3/envs/sne/lib/python3.10/site-packages/iminuit/util.py:143: UserWarning: Assigned errors must be positive. Non-positive values are replaced by a heuristic.\n",
      "  warnings.warn(\n"
     ]
    },
    {
     "name": "stdout",
     "output_type": "stream",
     "text": [
      "Ombo (18/27)\n"
     ]
    },
    {
     "name": "stderr",
     "output_type": "stream",
     "text": [
      "/home/cassia/anaconda3/envs/sne/lib/python3.10/site-packages/iminuit/util.py:143: UserWarning: Assigned errors must be positive. Non-positive values are replaced by a heuristic.\n",
      "  warnings.warn(\n"
     ]
    },
    {
     "name": "stdout",
     "output_type": "stream",
     "text": [
      "Patuxent (19/27)\n"
     ]
    },
    {
     "name": "stderr",
     "output_type": "stream",
     "text": [
      "/home/cassia/anaconda3/envs/sne/lib/python3.10/site-packages/iminuit/util.py:143: UserWarning: Assigned errors must be positive. Non-positive values are replaced by a heuristic.\n",
      "  warnings.warn(\n"
     ]
    },
    {
     "name": "stdout",
     "output_type": "stream",
     "text": [
      "Rakke (20/27)\n"
     ]
    },
    {
     "name": "stderr",
     "output_type": "stream",
     "text": [
      "/home/cassia/anaconda3/envs/sne/lib/python3.10/site-packages/sncosmo/fitting.py:187: RuntimeWarning: Dropping following bands from data: goods_F606W_ACS(out of model wavelength range)\n",
      "  warnings.warn(\"Dropping following bands from data: \" +\n",
      "/home/cassia/anaconda3/envs/sne/lib/python3.10/site-packages/iminuit/util.py:143: UserWarning: Assigned errors must be positive. Non-positive values are replaced by a heuristic.\n",
      "  warnings.warn(\n"
     ]
    },
    {
     "name": "stdout",
     "output_type": "stream",
     "text": [
      "Sasquatch (21/27)\n",
      "Thoth (22/27)\n"
     ]
    },
    {
     "name": "stderr",
     "output_type": "stream",
     "text": [
      "/home/cassia/anaconda3/envs/sne/lib/python3.10/site-packages/sncosmo/fitting.py:187: RuntimeWarning: Dropping following bands from data: goods_F775W_ACS, goods_F110W_NIC2, goods_F850LP_ACS(out of model wavelength range)\n",
      "  warnings.warn(\"Dropping following bands from data: \" +\n",
      "/home/cassia/anaconda3/envs/sne/lib/python3.10/site-packages/iminuit/util.py:143: UserWarning: Assigned errors must be positive. Non-positive values are replaced by a heuristic.\n",
      "  warnings.warn(\n",
      "/home/cassia/anaconda3/envs/sne/lib/python3.10/site-packages/iminuit/util.py:143: UserWarning: Assigned errors must be positive. Non-positive values are replaced by a heuristic.\n",
      "  warnings.warn(\n"
     ]
    },
    {
     "name": "stdout",
     "output_type": "stream",
     "text": [
      "Vilas (23/27)\n"
     ]
    },
    {
     "name": "stderr",
     "output_type": "stream",
     "text": [
      "/home/cassia/anaconda3/envs/sne/lib/python3.10/site-packages/sncosmo/fitting.py:187: RuntimeWarning: Dropping following bands from data: goods_F606W_ACS(out of model wavelength range)\n",
      "  warnings.warn(\"Dropping following bands from data: \" +\n",
      "/home/cassia/anaconda3/envs/sne/lib/python3.10/site-packages/iminuit/util.py:143: UserWarning: Assigned errors must be positive. Non-positive values are replaced by a heuristic.\n",
      "  warnings.warn(\n"
     ]
    },
    {
     "name": "stdout",
     "output_type": "stream",
     "text": [
      "SCP05D0 (24/27)\n"
     ]
    },
    {
     "name": "stderr",
     "output_type": "stream",
     "text": [
      "/home/cassia/anaconda3/envs/sne/lib/python3.10/site-packages/iminuit/util.py:143: UserWarning: Assigned errors must be positive. Non-positive values are replaced by a heuristic.\n",
      "  warnings.warn(\n"
     ]
    },
    {
     "name": "stdout",
     "output_type": "stream",
     "text": [
      "SCP05D6 (25/27)\n"
     ]
    },
    {
     "name": "stderr",
     "output_type": "stream",
     "text": [
      "/home/cassia/anaconda3/envs/sne/lib/python3.10/site-packages/sncosmo/fitting.py:187: RuntimeWarning: Dropping following bands from data: goods_F775W_ACS(out of model wavelength range)\n",
      "  warnings.warn(\"Dropping following bands from data: \" +\n",
      "/home/cassia/anaconda3/envs/sne/lib/python3.10/site-packages/iminuit/util.py:143: UserWarning: Assigned errors must be positive. Non-positive values are replaced by a heuristic.\n",
      "  warnings.warn(\n"
     ]
    },
    {
     "name": "stdout",
     "output_type": "stream",
     "text": [
      "SCP06C0 (26/27)\n"
     ]
    },
    {
     "name": "stderr",
     "output_type": "stream",
     "text": [
      "/home/cassia/anaconda3/envs/sne/lib/python3.10/site-packages/sncosmo/fitting.py:187: RuntimeWarning: Dropping following bands from data: goods_F775W_ACS(out of model wavelength range)\n",
      "  warnings.warn(\"Dropping following bands from data: \" +\n",
      "/home/cassia/anaconda3/envs/sne/lib/python3.10/site-packages/iminuit/util.py:143: UserWarning: Assigned errors must be positive. Non-positive values are replaced by a heuristic.\n",
      "  warnings.warn(\n"
     ]
    }
   ],
   "source": [
    "all_fit_data=[]\n",
    "f=open(f\"./lc_failed_fits_{modelo.upper()}_HST_Pantheon.txt\",\"w\")\n",
    "for j,sn in enumerate(sne_pass_cut):\n",
    "    print(sn, f\"({j}/{len(sne_pass_cut)})\")\n",
    "    meta, surv, dat, result, fitted_model=lc_fit(sn) \n",
    "    \n",
    "    if result is None:\n",
    "        f.write(f\"SN {sn} fit returns NaN\\n\")\n",
    "        continue\n",
    "    else:\n",
    "        if result.success and result.ndof>0:\n",
    "            all_fit_data.append(return_fit_data(meta,result,f\"{modelo.upper()}\"))\n",
    "        elif result.success and result.ndof==0:\n",
    "            f.write(\"ndof 0 for SN\"+sn+\"\\n\")\n",
    "        elif not result.success:\n",
    "            f.write(\"Unsuccessful fit of SN\"+sn+\"\\n\")\n",
    "\n",
    "    lc_fit_plot(sn, surv, dat, result, fitted_model)     "
   ]
  },
  {
   "cell_type": "code",
   "execution_count": 27,
   "id": "d1c3f8a0-b9a0-4080-a358-6a39029f8bdf",
   "metadata": {
    "tags": []
   },
   "outputs": [],
   "source": [
    "pp.close()"
   ]
  },
  {
   "cell_type": "code",
   "execution_count": 28,
   "id": "50e90d9d-8b9f-4e56-bc35-38b685bd7099",
   "metadata": {
    "tags": []
   },
   "outputs": [],
   "source": [
    "f.close()"
   ]
  },
  {
   "cell_type": "markdown",
   "id": "00927538-5283-4776-bfac-4b26b16b36f4",
   "metadata": {
    "tags": []
   },
   "source": [
    "## Salvando dados dos ajustes"
   ]
  },
  {
   "cell_type": "code",
   "execution_count": 29,
   "id": "8ea90bd8-e0c9-4915-b7ff-bb3b6851ab2b",
   "metadata": {
    "tags": []
   },
   "outputs": [],
   "source": [
    "df=pd.DataFrame(all_fit_data)"
   ]
  },
  {
   "cell_type": "code",
   "execution_count": 30,
   "id": "d04da509-71b5-4b86-b7e4-6aac084a66ba",
   "metadata": {
    "tags": []
   },
   "outputs": [],
   "source": [
    "df=pd.DataFrame(all_fit_data)\n",
    "df.columns=(\"SNNAME\", \"SURVEY\", \"Z\", \"ZERR\", \"T0\", \"T0ERR\", \"X0\", \"X0ERR\", \"X1\", \"X1ERR\", \"X2/C\", \"X2/CERR\", \"COV_X0_X1\", \"COV_X0_X2/C\", \"COV_X1_X2/C\", \"CHISQ/NDOF\", \"MODEL\")"
   ]
  },
  {
   "cell_type": "code",
   "execution_count": 31,
   "id": "72ad5e00-dbed-44ff-b9a9-9b20f8662f8f",
   "metadata": {
    "tags": []
   },
   "outputs": [],
   "source": [
    "df[\"mB\"]=-2.5*np.log10(df[\"X0\"])\n",
    "df[\"mBERR\"]=np.abs(-2.5*np.log10(np.e)/df[\"X0\"]*df[\"X0ERR\"])\n",
    "df[\"COV_mB_X1\"]=-2.5*np.log10(np.e)/df[\"X0\"]*df[\"COV_X0_X1\"]\n",
    "df[\"COV_mB_X2/C\"]=-2.5*np.log10(np.e)/df[\"X0\"]*df[\"COV_X0_X2/C\"]"
   ]
  },
  {
   "cell_type": "code",
   "execution_count": 32,
   "id": "b6564c17-c39c-47e7-9cee-b0559b5eb2e8",
   "metadata": {
    "tags": []
   },
   "outputs": [],
   "source": [
    "df.to_csv(f\"./lc_fit_results_{modelo.upper()}_HST_Pantheon.txt\", sep=' ', index=False)"
   ]
  },
  {
   "cell_type": "markdown",
   "id": "9fec63f7-3817-451e-b65f-b10e2e5d3d03",
   "metadata": {
    "tags": []
   },
   "source": [
    "## Analisando SN que passam nos cortes PCA"
   ]
  },
  {
   "cell_type": "code",
   "execution_count": 33,
   "id": "ead2c6bb-f5d2-45be-b837-920a19b96936",
   "metadata": {},
   "outputs": [],
   "source": [
    "pass_cosm_cuts=['washington',\n",
    "       'Primo', 'stone', 'wilson', 'rutledge', 'Aphrodite', 'Frodo',\n",
    "       'Gabi', 'Lancaster', 'Manipogo', 'Mcguire', 'Rakke', 'Thoth',\n",
    "       'Vilas', 'SCP05D6']"
   ]
  },
  {
   "cell_type": "code",
   "execution_count": 34,
   "id": "77cbef15-84db-435e-9e10-d72a85310756",
   "metadata": {
    "tags": []
   },
   "outputs": [
    {
     "name": "stderr",
     "output_type": "stream",
     "text": [
      "/home/cassia/anaconda3/envs/sne/lib/python3.10/site-packages/sncosmo/fitting.py:187: RuntimeWarning: Dropping following bands from data: candles_ACS_WFC_F775W(out of model wavelength range)\n",
      "  warnings.warn(\"Dropping following bands from data: \" +\n",
      "/home/cassia/anaconda3/envs/sne/lib/python3.10/site-packages/iminuit/util.py:143: UserWarning: Assigned errors must be positive. Non-positive values are replaced by a heuristic.\n",
      "  warnings.warn(\n"
     ]
    },
    {
     "ename": "AttributeError",
     "evalue": "'NoneType' object has no attribute 'endStream'",
     "output_type": "error",
     "traceback": [
      "\u001b[0;31m---------------------------------------------------------------------------\u001b[0m",
      "\u001b[0;31mAttributeError\u001b[0m                            Traceback (most recent call last)",
      "File \u001b[0;32m~/anaconda3/envs/sne/lib/python3.10/site-packages/matplotlib/backends/backend_pdf.py:2780\u001b[0m, in \u001b[0;36mFigureCanvasPdf.print_pdf\u001b[0;34m(self, filename, dpi, bbox_inches_restore, metadata)\u001b[0m\n\u001b[1;32m   2779\u001b[0m \u001b[38;5;28;01mtry\u001b[39;00m:\n\u001b[0;32m-> 2780\u001b[0m     \u001b[43mfile\u001b[49m\u001b[38;5;241;43m.\u001b[39;49m\u001b[43mnewPage\u001b[49m(width, height)\n\u001b[1;32m   2781\u001b[0m     renderer \u001b[38;5;241m=\u001b[39m MixedModeRenderer(\n\u001b[1;32m   2782\u001b[0m         \u001b[38;5;28mself\u001b[39m\u001b[38;5;241m.\u001b[39mfigure, width, height, dpi,\n\u001b[1;32m   2783\u001b[0m         RendererPdf(file, dpi, height, width),\n\u001b[1;32m   2784\u001b[0m         bbox_inches_restore\u001b[38;5;241m=\u001b[39mbbox_inches_restore)\n",
      "\u001b[0;31mAttributeError\u001b[0m: 'NoneType' object has no attribute 'newPage'",
      "\nDuring handling of the above exception, another exception occurred:\n",
      "\u001b[0;31mAttributeError\u001b[0m                            Traceback (most recent call last)",
      "Input \u001b[0;32mIn [34]\u001b[0m, in \u001b[0;36m<cell line: 1>\u001b[0;34m()\u001b[0m\n\u001b[1;32m      2\u001b[0m \u001b[38;5;28;01mif\u001b[39;00m sn \u001b[38;5;129;01mnot\u001b[39;00m \u001b[38;5;129;01min\u001b[39;00m pass_cosm_cuts:\n\u001b[1;32m      4\u001b[0m     meta, surv, dat, result, fitted_model\u001b[38;5;241m=\u001b[39mlc_fit(sn) \n\u001b[0;32m----> 6\u001b[0m     \u001b[43mlc_fit_plot\u001b[49m\u001b[43m(\u001b[49m\u001b[43msn\u001b[49m\u001b[43m,\u001b[49m\u001b[43m \u001b[49m\u001b[43msurv\u001b[49m\u001b[43m,\u001b[49m\u001b[43m \u001b[49m\u001b[43mdat\u001b[49m\u001b[43m,\u001b[49m\u001b[43m \u001b[49m\u001b[43mresult\u001b[49m\u001b[43m,\u001b[49m\u001b[43m \u001b[49m\u001b[43mfitted_model\u001b[49m\u001b[43m)\u001b[49m\n",
      "Input \u001b[0;32mIn [25]\u001b[0m, in \u001b[0;36mlc_fit_plot\u001b[0;34m(sn, surv, table_data, result, fitted_model)\u001b[0m\n\u001b[1;32m     40\u001b[0m     \u001b[38;5;66;03m#plt.show()\u001b[39;00m\n\u001b[1;32m     41\u001b[0m     plt\u001b[38;5;241m.\u001b[39mtight_layout()\n\u001b[0;32m---> 42\u001b[0m     \u001b[43mpp\u001b[49m\u001b[38;5;241;43m.\u001b[39;49m\u001b[43msavefig\u001b[49m\u001b[43m(\u001b[49m\u001b[43m)\u001b[49m\n\u001b[1;32m     43\u001b[0m     plt\u001b[38;5;241m.\u001b[39mclose(fig)\n\u001b[1;32m     44\u001b[0m \u001b[38;5;28;01melse\u001b[39;00m:\n",
      "File \u001b[0;32m~/anaconda3/envs/sne/lib/python3.10/site-packages/matplotlib/backends/backend_pdf.py:2738\u001b[0m, in \u001b[0;36mPdfPages.savefig\u001b[0;34m(self, figure, **kwargs)\u001b[0m\n\u001b[1;32m   2736\u001b[0m     orig_canvas \u001b[38;5;241m=\u001b[39m figure\u001b[38;5;241m.\u001b[39mcanvas\n\u001b[1;32m   2737\u001b[0m     figure\u001b[38;5;241m.\u001b[39mcanvas \u001b[38;5;241m=\u001b[39m FigureCanvasPdf(figure)\n\u001b[0;32m-> 2738\u001b[0m     \u001b[43mfigure\u001b[49m\u001b[38;5;241;43m.\u001b[39;49m\u001b[43msavefig\u001b[49m\u001b[43m(\u001b[49m\u001b[38;5;28;43mself\u001b[39;49m\u001b[43m,\u001b[49m\u001b[43m \u001b[49m\u001b[38;5;28;43mformat\u001b[39;49m\u001b[38;5;241;43m=\u001b[39;49m\u001b[38;5;124;43m\"\u001b[39;49m\u001b[38;5;124;43mpdf\u001b[39;49m\u001b[38;5;124;43m\"\u001b[39;49m\u001b[43m,\u001b[49m\u001b[43m \u001b[49m\u001b[38;5;241;43m*\u001b[39;49m\u001b[38;5;241;43m*\u001b[39;49m\u001b[43mkwargs\u001b[49m\u001b[43m)\u001b[49m\n\u001b[1;32m   2739\u001b[0m \u001b[38;5;28;01mfinally\u001b[39;00m:\n\u001b[1;32m   2740\u001b[0m     figure\u001b[38;5;241m.\u001b[39mcanvas \u001b[38;5;241m=\u001b[39m orig_canvas\n",
      "File \u001b[0;32m~/anaconda3/envs/sne/lib/python3.10/site-packages/matplotlib/figure.py:3019\u001b[0m, in \u001b[0;36mFigure.savefig\u001b[0;34m(self, fname, transparent, **kwargs)\u001b[0m\n\u001b[1;32m   3015\u001b[0m     \u001b[38;5;28;01mfor\u001b[39;00m ax \u001b[38;5;129;01min\u001b[39;00m \u001b[38;5;28mself\u001b[39m\u001b[38;5;241m.\u001b[39maxes:\n\u001b[1;32m   3016\u001b[0m         stack\u001b[38;5;241m.\u001b[39menter_context(\n\u001b[1;32m   3017\u001b[0m             ax\u001b[38;5;241m.\u001b[39mpatch\u001b[38;5;241m.\u001b[39m_cm_set(facecolor\u001b[38;5;241m=\u001b[39m\u001b[38;5;124m'\u001b[39m\u001b[38;5;124mnone\u001b[39m\u001b[38;5;124m'\u001b[39m, edgecolor\u001b[38;5;241m=\u001b[39m\u001b[38;5;124m'\u001b[39m\u001b[38;5;124mnone\u001b[39m\u001b[38;5;124m'\u001b[39m))\n\u001b[0;32m-> 3019\u001b[0m \u001b[38;5;28;43mself\u001b[39;49m\u001b[38;5;241;43m.\u001b[39;49m\u001b[43mcanvas\u001b[49m\u001b[38;5;241;43m.\u001b[39;49m\u001b[43mprint_figure\u001b[49m\u001b[43m(\u001b[49m\u001b[43mfname\u001b[49m\u001b[43m,\u001b[49m\u001b[43m \u001b[49m\u001b[38;5;241;43m*\u001b[39;49m\u001b[38;5;241;43m*\u001b[39;49m\u001b[43mkwargs\u001b[49m\u001b[43m)\u001b[49m\n",
      "File \u001b[0;32m~/anaconda3/envs/sne/lib/python3.10/site-packages/matplotlib/backend_bases.py:2319\u001b[0m, in \u001b[0;36mFigureCanvasBase.print_figure\u001b[0;34m(self, filename, dpi, facecolor, edgecolor, orientation, format, bbox_inches, pad_inches, bbox_extra_artists, backend, **kwargs)\u001b[0m\n\u001b[1;32m   2315\u001b[0m \u001b[38;5;28;01mtry\u001b[39;00m:\n\u001b[1;32m   2316\u001b[0m     \u001b[38;5;66;03m# _get_renderer may change the figure dpi (as vector formats\u001b[39;00m\n\u001b[1;32m   2317\u001b[0m     \u001b[38;5;66;03m# force the figure dpi to 72), so we need to set it again here.\u001b[39;00m\n\u001b[1;32m   2318\u001b[0m     \u001b[38;5;28;01mwith\u001b[39;00m cbook\u001b[38;5;241m.\u001b[39m_setattr_cm(\u001b[38;5;28mself\u001b[39m\u001b[38;5;241m.\u001b[39mfigure, dpi\u001b[38;5;241m=\u001b[39mdpi):\n\u001b[0;32m-> 2319\u001b[0m         result \u001b[38;5;241m=\u001b[39m \u001b[43mprint_method\u001b[49m\u001b[43m(\u001b[49m\n\u001b[1;32m   2320\u001b[0m \u001b[43m            \u001b[49m\u001b[43mfilename\u001b[49m\u001b[43m,\u001b[49m\n\u001b[1;32m   2321\u001b[0m \u001b[43m            \u001b[49m\u001b[43mfacecolor\u001b[49m\u001b[38;5;241;43m=\u001b[39;49m\u001b[43mfacecolor\u001b[49m\u001b[43m,\u001b[49m\n\u001b[1;32m   2322\u001b[0m \u001b[43m            \u001b[49m\u001b[43medgecolor\u001b[49m\u001b[38;5;241;43m=\u001b[39;49m\u001b[43medgecolor\u001b[49m\u001b[43m,\u001b[49m\n\u001b[1;32m   2323\u001b[0m \u001b[43m            \u001b[49m\u001b[43morientation\u001b[49m\u001b[38;5;241;43m=\u001b[39;49m\u001b[43morientation\u001b[49m\u001b[43m,\u001b[49m\n\u001b[1;32m   2324\u001b[0m \u001b[43m            \u001b[49m\u001b[43mbbox_inches_restore\u001b[49m\u001b[38;5;241;43m=\u001b[39;49m\u001b[43m_bbox_inches_restore\u001b[49m\u001b[43m,\u001b[49m\n\u001b[1;32m   2325\u001b[0m \u001b[43m            \u001b[49m\u001b[38;5;241;43m*\u001b[39;49m\u001b[38;5;241;43m*\u001b[39;49m\u001b[43mkwargs\u001b[49m\u001b[43m)\u001b[49m\n\u001b[1;32m   2326\u001b[0m \u001b[38;5;28;01mfinally\u001b[39;00m:\n\u001b[1;32m   2327\u001b[0m     \u001b[38;5;28;01mif\u001b[39;00m bbox_inches \u001b[38;5;129;01mand\u001b[39;00m restore_bbox:\n",
      "File \u001b[0;32m~/anaconda3/envs/sne/lib/python3.10/site-packages/matplotlib/backend_bases.py:1648\u001b[0m, in \u001b[0;36m_check_savefig_extra_args.<locals>.wrapper\u001b[0;34m(*args, **kwargs)\u001b[0m\n\u001b[1;32m   1640\u001b[0m     _api\u001b[38;5;241m.\u001b[39mwarn_deprecated(\n\u001b[1;32m   1641\u001b[0m         \u001b[38;5;124m'\u001b[39m\u001b[38;5;124m3.3\u001b[39m\u001b[38;5;124m'\u001b[39m, name\u001b[38;5;241m=\u001b[39mname, removal\u001b[38;5;241m=\u001b[39m\u001b[38;5;124m'\u001b[39m\u001b[38;5;124m3.6\u001b[39m\u001b[38;5;124m'\u001b[39m,\n\u001b[1;32m   1642\u001b[0m         message\u001b[38;5;241m=\u001b[39m\u001b[38;5;124m'\u001b[39m\u001b[38;5;132;01m%(name)s\u001b[39;00m\u001b[38;5;124m() got unexpected keyword argument \u001b[39m\u001b[38;5;124m\"\u001b[39m\u001b[38;5;124m'\u001b[39m\n\u001b[1;32m   1643\u001b[0m                 \u001b[38;5;241m+\u001b[39m arg \u001b[38;5;241m+\u001b[39m \u001b[38;5;124m'\u001b[39m\u001b[38;5;124m\"\u001b[39m\u001b[38;5;124m which is no longer supported as of \u001b[39m\u001b[38;5;124m'\u001b[39m\n\u001b[1;32m   1644\u001b[0m                 \u001b[38;5;124m'\u001b[39m\u001b[38;5;132;01m%(since)s\u001b[39;00m\u001b[38;5;124m and will become an error \u001b[39m\u001b[38;5;124m'\u001b[39m\n\u001b[1;32m   1645\u001b[0m                 \u001b[38;5;124m'\u001b[39m\u001b[38;5;132;01m%(removal)s\u001b[39;00m\u001b[38;5;124m'\u001b[39m)\n\u001b[1;32m   1646\u001b[0m     kwargs\u001b[38;5;241m.\u001b[39mpop(arg)\n\u001b[0;32m-> 1648\u001b[0m \u001b[38;5;28;01mreturn\u001b[39;00m \u001b[43mfunc\u001b[49m\u001b[43m(\u001b[49m\u001b[38;5;241;43m*\u001b[39;49m\u001b[43margs\u001b[49m\u001b[43m,\u001b[49m\u001b[43m \u001b[49m\u001b[38;5;241;43m*\u001b[39;49m\u001b[38;5;241;43m*\u001b[39;49m\u001b[43mkwargs\u001b[49m\u001b[43m)\u001b[49m\n",
      "File \u001b[0;32m~/anaconda3/envs/sne/lib/python3.10/site-packages/matplotlib/_api/deprecation.py:386\u001b[0m, in \u001b[0;36mdelete_parameter.<locals>.wrapper\u001b[0;34m(*inner_args, **inner_kwargs)\u001b[0m\n\u001b[1;32m    381\u001b[0m \u001b[38;5;129m@functools\u001b[39m\u001b[38;5;241m.\u001b[39mwraps(func)\n\u001b[1;32m    382\u001b[0m \u001b[38;5;28;01mdef\u001b[39;00m \u001b[38;5;21mwrapper\u001b[39m(\u001b[38;5;241m*\u001b[39minner_args, \u001b[38;5;241m*\u001b[39m\u001b[38;5;241m*\u001b[39minner_kwargs):\n\u001b[1;32m    383\u001b[0m     \u001b[38;5;28;01mif\u001b[39;00m \u001b[38;5;28mlen\u001b[39m(inner_args) \u001b[38;5;241m<\u001b[39m\u001b[38;5;241m=\u001b[39m name_idx \u001b[38;5;129;01mand\u001b[39;00m name \u001b[38;5;129;01mnot\u001b[39;00m \u001b[38;5;129;01min\u001b[39;00m inner_kwargs:\n\u001b[1;32m    384\u001b[0m         \u001b[38;5;66;03m# Early return in the simple, non-deprecated case (much faster than\u001b[39;00m\n\u001b[1;32m    385\u001b[0m         \u001b[38;5;66;03m# calling bind()).\u001b[39;00m\n\u001b[0;32m--> 386\u001b[0m         \u001b[38;5;28;01mreturn\u001b[39;00m \u001b[43mfunc\u001b[49m\u001b[43m(\u001b[49m\u001b[38;5;241;43m*\u001b[39;49m\u001b[43minner_args\u001b[49m\u001b[43m,\u001b[49m\u001b[43m \u001b[49m\u001b[38;5;241;43m*\u001b[39;49m\u001b[38;5;241;43m*\u001b[39;49m\u001b[43minner_kwargs\u001b[49m\u001b[43m)\u001b[49m\n\u001b[1;32m    387\u001b[0m     arguments \u001b[38;5;241m=\u001b[39m signature\u001b[38;5;241m.\u001b[39mbind(\u001b[38;5;241m*\u001b[39minner_args, \u001b[38;5;241m*\u001b[39m\u001b[38;5;241m*\u001b[39minner_kwargs)\u001b[38;5;241m.\u001b[39marguments\n\u001b[1;32m    388\u001b[0m     \u001b[38;5;28;01mif\u001b[39;00m is_varargs \u001b[38;5;129;01mand\u001b[39;00m arguments\u001b[38;5;241m.\u001b[39mget(name):\n",
      "File \u001b[0;32m~/anaconda3/envs/sne/lib/python3.10/site-packages/matplotlib/backends/backend_pdf.py:2791\u001b[0m, in \u001b[0;36mFigureCanvasPdf.print_pdf\u001b[0;34m(self, filename, dpi, bbox_inches_restore, metadata)\u001b[0m\n\u001b[1;32m   2789\u001b[0m \u001b[38;5;28;01mfinally\u001b[39;00m:\n\u001b[1;32m   2790\u001b[0m     \u001b[38;5;28;01mif\u001b[39;00m \u001b[38;5;28misinstance\u001b[39m(filename, PdfPages):  \u001b[38;5;66;03m# finish off this page\u001b[39;00m\n\u001b[0;32m-> 2791\u001b[0m         \u001b[43mfile\u001b[49m\u001b[38;5;241;43m.\u001b[39;49m\u001b[43mendStream\u001b[49m()\n\u001b[1;32m   2792\u001b[0m     \u001b[38;5;28;01melse\u001b[39;00m:            \u001b[38;5;66;03m# we opened the file above; now finish it off\u001b[39;00m\n\u001b[1;32m   2793\u001b[0m         file\u001b[38;5;241m.\u001b[39mclose()\n",
      "\u001b[0;31mAttributeError\u001b[0m: 'NoneType' object has no attribute 'endStream'"
     ]
    },
    {
     "data": {
      "image/png": "[encoded data removed]",
      "text/plain": [
       "<Figure size 720x288 with 1 Axes>"
      ]
     },
     "metadata": {},
     "output_type": "display_data"
    }
   ],
   "source": [
    "for j,sn in enumerate(sne_pass_cut):\n",
    "    if sn not in pass_cosm_cuts:\n",
    "        \n",
    "        meta, surv, dat, result, fitted_model=lc_fit(sn) \n",
    "        \n",
    "        lc_fit_plot(sn, surv, dat, result, fitted_model)     "
   ]
  },
  {
   "cell_type": "code",
   "execution_count": null,
   "id": "84bb91a8-e9dc-4d36-995a-bc771747bd5f",
   "metadata": {},
   "outputs": [],
   "source": []
  }
 ],
 "metadata": {
  "kernelspec": {
   "display_name": "Python 3 (ipykernel)",
   "language": "python",
   "name": "python3"
  },
  "language_info": {
   "codemirror_mode": {
    "name": "ipython",
    "version": 3
   },
   "file_extension": ".py",
   "mimetype": "text/x-python",
   "name": "python",
   "nbconvert_exporter": "python",
   "pygments_lexer": "ipython3",
   "version": "3.10.5"
  }
 },
 "nbformat": 4,
 "nbformat_minor": 5
}
