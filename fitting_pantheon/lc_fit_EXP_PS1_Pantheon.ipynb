{
 "cells": [
  {
   "cell_type": "code",
   "execution_count": 1,
   "id": "6572e158",
   "metadata": {},
   "outputs": [
    {
     "name": "stderr",
     "output_type": "stream",
     "text": [
      "WARNING: AstropyDeprecationWarning: The update_default_config function is deprecated and may be removed in a future version. [sncosmo]\n"
     ]
    }
   ],
   "source": [
    "import sncosmo\n",
    "import numpy as np\n",
    "import pandas as pd\n",
    "import matplotlib.pyplot as plt\n",
    "from sncosmo.salt2utils import BicubicInterpolator\n",
    "from scipy.interpolate import (\n",
    "    InterpolatedUnivariateSpline as Spline1d,\n",
    "    RectBivariateSpline as Spline2d\n",
    ")\n",
    "import pickle as pk\n",
    "from matplotlib.backends.backend_pdf import PdfPages\n",
    "import os \n",
    "from matplotlib.offsetbox import AnchoredText\n",
    "import astropy.constants as const\n",
    "import astropy.units as u\n",
    "import seaborn as sns\n",
    "from matplotlib.ticker import ScalarFormatter\n",
    "import glob\n",
    "sns.set_style(\"whitegrid\", {'axes.grid':'False','xtick.bottom': True,'ytick.left': True})\n",
    "\n",
    "params = {\"text.usetex\" : True,'font.size': 20, 'font.family':'serif', 'font.serif':'Computer Modern'}\n",
    "plt.rcParams.update(params)\n",
    "\n",
    "H_ERG_S = const.h.cgs.value\n",
    "C_AA_PER_S = const.c.to(u.AA / u.s).value\n",
    "HC_ERG_AA = H_ERG_S * C_AA_PER_S\n",
    "SCALE_FACTOR = 1e-12"
   ]
  },
  {
   "cell_type": "code",
   "execution_count": 2,
   "id": "b7edbff5-00cc-47f0-ac4c-f21c527ec02b",
   "metadata": {},
   "outputs": [],
   "source": [
    "class ScalarFormatterClass1(ScalarFormatter):\n",
    "    def _set_format(self):\n",
    "        self.format = \"%1.1f\""
   ]
  },
  {
   "cell_type": "markdown",
   "id": "a67bac7d-8d4c-4021-9cc7-1f8d47e03c19",
   "metadata": {},
   "source": [
    "## Comentários"
   ]
  },
  {
   "cell_type": "code",
   "execution_count": 3,
   "id": "4109dfe5-9a53-4f01-b1c8-1be5a2ea12fd",
   "metadata": {},
   "outputs": [],
   "source": [
    "#"
   ]
  },
  {
   "cell_type": "markdown",
   "id": "0964b5a7-2af2-42a8-9199-075f65bafe43",
   "metadata": {
    "tags": []
   },
   "source": [
    "## Recuperando curvas de luz"
   ]
  },
  {
   "cell_type": "code",
   "execution_count": 4,
   "id": "63aec6ca",
   "metadata": {},
   "outputs": [],
   "source": [
    "path=\"./light_curves/Pantheon/Pantheon_PS1MD_TEXT/\""
   ]
  },
  {
   "cell_type": "code",
   "execution_count": 5,
   "id": "1e8f3743",
   "metadata": {},
   "outputs": [],
   "source": [
    "l=[]\n",
    "with open(path+\"Pantheon_PS1MD_TEXT.README\",'r') as f:\n",
    "    for line in f:\n",
    "        l.append(line.split())"
   ]
  },
  {
   "cell_type": "code",
   "execution_count": 6,
   "id": "c435ac2e",
   "metadata": {},
   "outputs": [],
   "source": [
    "sne_pass_cut=[l[8:][i][0] for i in range(0,len(l[8:]))]"
   ]
  },
  {
   "cell_type": "code",
   "execution_count": 7,
   "id": "5511157a",
   "metadata": {},
   "outputs": [
    {
     "data": {
      "text/plain": [
       "282"
      ]
     },
     "execution_count": 7,
     "metadata": {},
     "output_type": "execute_result"
    }
   ],
   "source": [
    "len(sne_pass_cut)"
   ]
  },
  {
   "cell_type": "code",
   "execution_count": 8,
   "id": "b9fe638b-74ff-4a9a-bcba-ffa46c8c4ab8",
   "metadata": {},
   "outputs": [],
   "source": [
    "red_err={}"
   ]
  },
  {
   "cell_type": "code",
   "execution_count": 9,
   "id": "bc0655eb-5194-4b2c-bc42-eaba3b679636",
   "metadata": {},
   "outputs": [],
   "source": [
    "for f in glob.glob(path+\"*.txt\"):\n",
    "    file=open(f)\n",
    "    for line in file:\n",
    "        if line.startswith(\"SNID:\"):\n",
    "            cid=str(line[6:-1].strip())\n",
    "        if line.startswith(\"REDSHIFT_FINAL:\"):\n",
    "            try:\n",
    "                red_err[cid]=float(line.split(\"+-\")[1])\n",
    "            except:\n",
    "                red_err[cid]=float(line.split(\"+-\")[1].split(\" \")[1])"
   ]
  },
  {
   "cell_type": "code",
   "execution_count": 10,
   "id": "d8cab001-a08d-4abb-9736-9b2bdd98327f",
   "metadata": {
    "collapsed": true,
    "jupyter": {
     "outputs_hidden": true
    },
    "tags": []
   },
   "outputs": [
    {
     "data": {
      "text/plain": [
       "{'310260': 0.01,\n",
       " '580276': 0.001,\n",
       " '360139': 0.001,\n",
       " '350374': 0.001,\n",
       " '580300': 0.001,\n",
       " '110036': 0.001,\n",
       " '590097': 0.001,\n",
       " '350606': 0.001,\n",
       " '460037': 0.001,\n",
       " '520008': 0.001,\n",
       " '350050': 0.001,\n",
       " '330146': 0.001,\n",
       " '370189': 0.001,\n",
       " '040111': 0.001,\n",
       " '500511': 0.001,\n",
       " '160066': 0.001,\n",
       " '330143': 0.001,\n",
       " '000248': 0.001,\n",
       " '370563': 0.001,\n",
       " '500100': 0.01,\n",
       " '130451': 0.001,\n",
       " '080646': 0.001,\n",
       " '340316': 0.001,\n",
       " '530219': 0.01,\n",
       " '040166': 0.001,\n",
       " '180561': 0.001,\n",
       " '160099': 0.001,\n",
       " '040782': 0.001,\n",
       " '500038': 0.001,\n",
       " '140181': 0.001,\n",
       " '370394': 0.01,\n",
       " '090201': 0.001,\n",
       " '110716': 0.001,\n",
       " '560054': 0.001,\n",
       " '380318': 0.001,\n",
       " '050251': 0.001,\n",
       " '110567': 0.001,\n",
       " '590002': 0.01,\n",
       " '000202': 0.001,\n",
       " '440005': 0.001,\n",
       " '370308': 0.01,\n",
       " '120369': 0.001,\n",
       " '330083': 0.001,\n",
       " '110033': 0.001,\n",
       " '050088': 0.001,\n",
       " '050580': 0.001,\n",
       " '100358': 0.001,\n",
       " '470043': 0.01,\n",
       " '080735': 0.001,\n",
       " '550137': 0.001,\n",
       " '500057': 0.01,\n",
       " '530061': 0.001,\n",
       " '030006': 0.001,\n",
       " '091869': 0.001,\n",
       " '090275': 0.001,\n",
       " '440285': 0.01,\n",
       " '120400': 0.001,\n",
       " '140152': 0.001,\n",
       " '120243': 0.001,\n",
       " '070955': 0.001,\n",
       " '590005': 0.01,\n",
       " '340169': 0.001,\n",
       " '580270': 0.001,\n",
       " '330023': 0.001,\n",
       " '520062': 0.001,\n",
       " '380279': 0.001,\n",
       " '150455': 0.001,\n",
       " '470240': 0.01,\n",
       " '130755': 0.001,\n",
       " '470041': 0.001,\n",
       " '440185': 0.01,\n",
       " '000236': 0.001,\n",
       " '580104': 0.01,\n",
       " '370589': 0.001,\n",
       " '350630': 0.001,\n",
       " '050607': 0.001,\n",
       " '360112': 0.01,\n",
       " '160287': 0.001,\n",
       " '050296': 0.001,\n",
       " '370356': 0.001,\n",
       " '000010': 0.001,\n",
       " '020132': 0.001,\n",
       " '520023': 0.001,\n",
       " '480059': 0.001,\n",
       " '190237': 0.001,\n",
       " '360145': 0.001,\n",
       " '110478': 0.001,\n",
       " '510266': 0.01,\n",
       " '030066': 0.001,\n",
       " '520007': 0.001,\n",
       " '120586': 0.001,\n",
       " '110542': 0.001,\n",
       " '000174': 0.001,\n",
       " '480184': 0.001,\n",
       " '080308': 0.001,\n",
       " '160197': 0.001,\n",
       " '110719': 0.001,\n",
       " '500004': 0.001,\n",
       " '440509': 0.01,\n",
       " '130943': 0.001,\n",
       " '150522': 0.001,\n",
       " '350047': 0.001,\n",
       " '590194': 0.001,\n",
       " '190230': 0.001,\n",
       " '440039': 0.001,\n",
       " '440236': 0.01,\n",
       " '310039': 0.001,\n",
       " '420159': 0.001,\n",
       " '520077': 0.01,\n",
       " '500301': 0.001,\n",
       " '550096': 0.001,\n",
       " '320469': 0.001,\n",
       " '320099': 0.001,\n",
       " '120085': 0.001,\n",
       " '120225': 0.001,\n",
       " '020176': 0.001,\n",
       " '160070': 0.001,\n",
       " '340211': 0.001,\n",
       " '420414': 0.001,\n",
       " '110460': 0.001,\n",
       " '120143': 0.001,\n",
       " '340229': 0.001,\n",
       " '170428': 0.001,\n",
       " '520071': 0.001,\n",
       " '130308': 0.001,\n",
       " '510578': 0.01,\n",
       " '570025': 0.01,\n",
       " '560087': 0.001,\n",
       " '050201': 0.001,\n",
       " '110734': 0.001,\n",
       " '550218': 0.001,\n",
       " '200132': 0.01,\n",
       " '330089': 0.001,\n",
       " '330128': 0.001,\n",
       " '310188': 0.01,\n",
       " '090034': 0.001,\n",
       " '120585': 0.001,\n",
       " '430003': 0.001,\n",
       " '151425': 0.001,\n",
       " '520016': 0.01,\n",
       " '370566': 0.001,\n",
       " '050596': 0.001,\n",
       " '310051': 0.001,\n",
       " '340222': 0.001,\n",
       " '510457': 0.001,\n",
       " '340276': 0.001,\n",
       " '530086': 0.001,\n",
       " '350027': 0.001,\n",
       " '330112': 0.001,\n",
       " '100020': 0.001,\n",
       " '050005': 0.001,\n",
       " '500504': 0.001,\n",
       " '510251': 0.01,\n",
       " '480464': 0.01,\n",
       " '340334': 0.001,\n",
       " '470001': 0.001,\n",
       " '530249': 0.01,\n",
       " '340218': 0.001,\n",
       " '550155': 0.001,\n",
       " '160046': 0.001,\n",
       " '480058': 0.001,\n",
       " '510638': 0.01,\n",
       " '320258': 0.001,\n",
       " '010043': 0.001,\n",
       " '110536': 0.001,\n",
       " '150457': 0.001,\n",
       " '420100': 0.001,\n",
       " '460064': 0.001,\n",
       " '000137': 0.001,\n",
       " '560152': 0.01,\n",
       " '100405': 0.001,\n",
       " '420258': 0.001,\n",
       " '370595': 0.01,\n",
       " '350080': 0.001,\n",
       " '120336': 0.001,\n",
       " '510113': 0.01,\n",
       " '050601': 0.001,\n",
       " '050291': 0.001,\n",
       " '530240': 0.001,\n",
       " '350233': 0.001,\n",
       " '420417': 0.001,\n",
       " '350316': 0.001,\n",
       " '580275': 0.001,\n",
       " '020027': 0.001,\n",
       " '510082': 0.001,\n",
       " '480162': 0.01,\n",
       " '010010': 0.001,\n",
       " '000215': 0.001,\n",
       " '510597': 0.01,\n",
       " '500065': 0.001,\n",
       " '520041': 0.001,\n",
       " '190209': 0.001,\n",
       " '370333': 0.001,\n",
       " '300179': 0.001,\n",
       " '050303': 0.001,\n",
       " '370369': 0.01,\n",
       " '050577': 0.001,\n",
       " '100206': 0.001,\n",
       " '300105': 0.001,\n",
       " '310091': 0.001,\n",
       " '000006': 0.001,\n",
       " '460105': 0.01,\n",
       " '370367': 0.001,\n",
       " '110484': 0.001,\n",
       " '110024': 0.001,\n",
       " '490037': 0.001,\n",
       " '040137': 0.001,\n",
       " '310073': 0.01,\n",
       " '100090': 0.001,\n",
       " '170532': 0.001,\n",
       " '110721': 0.001,\n",
       " '160200': 0.001,\n",
       " '440162': 0.001,\n",
       " '470244': 0.01,\n",
       " '000091': 0.001,\n",
       " '350607': 0.001,\n",
       " '110031': 0.001,\n",
       " '340232': 0.001,\n",
       " '150254': 0.001,\n",
       " '180313': 0.001,\n",
       " '470047': 0.01,\n",
       " '330022': 0.001,\n",
       " '480064': 0.001,\n",
       " '050003': 0.001,\n",
       " '370329': 0.001,\n",
       " '040201': 0.001,\n",
       " '110425': 0.001,\n",
       " '570062': 0.001,\n",
       " '350192': 0.01,\n",
       " '470232': 0.01,\n",
       " '560027': 0.001,\n",
       " '520022': 0.001,\n",
       " '450020': 0.001,\n",
       " '020090': 0.001,\n",
       " '310238': 0.001,\n",
       " '000220': 0.001,\n",
       " '130862': 0.001,\n",
       " '000199': 0.001,\n",
       " '560033': 0.01,\n",
       " '110431': 0.001,\n",
       " '490563': 0.001,\n",
       " '530175': 0.001,\n",
       " '420407': 0.001,\n",
       " '440050': 0.001,\n",
       " '350083': 0.001,\n",
       " '580327': 0.001,\n",
       " '050044': 0.001,\n",
       " '010454': 0.001,\n",
       " '390627': 0.01,\n",
       " '000034': 0.001,\n",
       " '310574': 0.001,\n",
       " '050293': 0.001,\n",
       " '120444': 0.001,\n",
       " '560121': 0.001,\n",
       " '460004': 0.01,\n",
       " '100101': 0.001,\n",
       " '360156': 0.001,\n",
       " '570022': 0.001,\n",
       " '100163': 0.001,\n",
       " '550197': 0.001,\n",
       " '450082': 0.01,\n",
       " '470015': 0.001,\n",
       " '000014': 0.001,\n",
       " '130945': 0.001,\n",
       " '350733': 0.01,\n",
       " '310090': 0.001,\n",
       " '050301': 0.001,\n",
       " '390471': 0.001,\n",
       " '110034': 0.001,\n",
       " '470008': 0.01,\n",
       " '440264': 0.01,\n",
       " '310042': 0.001,\n",
       " '310161': 0.001,\n",
       " '530112': 0.001,\n",
       " '180166': 0.001,\n",
       " '340242': 0.001,\n",
       " '160126': 0.001,\n",
       " '450175': 0.001,\n",
       " '160198': 0.001,\n",
       " '460003': 0.001,\n",
       " '420136': 0.001,\n",
       " '120086': 0.001,\n",
       " '580235': 0.01,\n",
       " '000142': 0.001,\n",
       " '380040': 0.001,\n",
       " '151034': 0.001,\n",
       " '440008': 0.001,\n",
       " '360140': 0.01,\n",
       " '570056': 0.001,\n",
       " '310025': 0.001,\n",
       " '430004': 0.001,\n",
       " '080064': 0.001,\n",
       " '150509': 0.001,\n",
       " '390259': 0.001,\n",
       " '450339': 0.001,\n",
       " '000038': 0.001,\n",
       " '490521': 0.001,\n",
       " '000011': 0.001,\n",
       " '190260': 0.001,\n",
       " '050203': 0.001,\n",
       " '580312': 0.001,\n",
       " '590031': 0.001,\n",
       " '550005': 0.001,\n",
       " '040301': 0.001,\n",
       " '190340': 0.001,\n",
       " '120044': 0.001,\n",
       " '120094': 0.001,\n",
       " '040780': 0.001,\n",
       " '370344': 0.001,\n",
       " '350180': 0.01,\n",
       " '100213': 0.001,\n",
       " '110030': 0.001,\n",
       " '520188': 0.001,\n",
       " '370098': 0.001,\n",
       " '020021': 0.001,\n",
       " '490008': 0.01,\n",
       " '470110': 0.001,\n",
       " '330075': 0.001,\n",
       " '070242': 0.001,\n",
       " '420196': 0.01,\n",
       " '390264': 0.001,\n",
       " '560116': 0.001,\n",
       " '160214': 0.001,\n",
       " '160039': 0.001,\n",
       " '050221': 0.001,\n",
       " '440042': 0.01,\n",
       " '420352': 0.01,\n",
       " '420087': 0.01,\n",
       " '540163': 0.001,\n",
       " '550041': 0.01,\n",
       " '550059': 0.001,\n",
       " '020096': 0.001,\n",
       " '350235': 0.001,\n",
       " '340272': 0.001,\n",
       " '000190': 0.001,\n",
       " '170078': 0.001,\n",
       " '440643': 0.01,\n",
       " '550154': 0.001,\n",
       " '000196': 0.001,\n",
       " '370066': 0.001,\n",
       " '350078': 0.001,\n",
       " '390449': 0.01,\n",
       " '530037': 0.01,\n",
       " '010026': 0.001,\n",
       " '310146': 0.01,\n",
       " '390314': 0.001,\n",
       " '330107': 0.001,\n",
       " '560150': 0.001,\n",
       " '000420': 0.001,\n",
       " '130514': 0.001,\n",
       " '370498': 0.01,\n",
       " '380046': 0.001,\n",
       " '380199': 0.01,\n",
       " '590287': 0.001,\n",
       " '550202': 0.001,\n",
       " '110430': 0.001,\n",
       " '090037': 0.001,\n",
       " '350548': 0.001,\n",
       " '080723': 0.001,\n",
       " '520001': 0.001,\n",
       " '330106': 0.001,\n",
       " '520107': 0.001,\n",
       " '530251': 0.001,\n",
       " '520019': 0.001,\n",
       " '490007': 0.001,\n",
       " '370428': 0.001,\n",
       " '040150': 0.001,\n",
       " '510550': 0.001,\n",
       " '380378': 0.001,\n",
       " '110426': 0.001}"
      ]
     },
     "execution_count": 10,
     "metadata": {},
     "output_type": "execute_result"
    }
   ],
   "source": [
    "red_err"
   ]
  },
  {
   "cell_type": "markdown",
   "id": "17625c26",
   "metadata": {
    "tags": []
   },
   "source": [
    "## Decodificando filtros"
   ]
  },
  {
   "cell_type": "code",
   "execution_count": 11,
   "id": "3709d01f",
   "metadata": {},
   "outputs": [],
   "source": [
    "filters=[\"g\",\"r\",\"i\",\"z\",\"y\"]"
   ]
  },
  {
   "cell_type": "code",
   "execution_count": 12,
   "id": "003f2b4a",
   "metadata": {},
   "outputs": [],
   "source": [
    "def path_filter(f):\n",
    "    return \"/home/cassia/SNANA/snroot/filters/PS1/Pantheon/PS1/\"+f+\"_filt_tonry.txt\""
   ]
  },
  {
   "cell_type": "markdown",
   "id": "5295a5d4-50ec-4f32-b9a6-be24e563cfe5",
   "metadata": {
    "tags": []
   },
   "source": [
    "## Registrando filtros e criando sistema de magnitude composto"
   ]
  },
  {
   "cell_type": "code",
   "execution_count": 13,
   "id": "237f06be-7368-4a24-b534-37609af5a302",
   "metadata": {},
   "outputs": [],
   "source": [
    "for f in filters:\n",
    "    wave = pd.read_csv(path_filter(f),header=None,sep=\"\\s+\",comment=\"#\")[0].values\n",
    "    trans = pd.read_csv(path_filter(f),header=None,sep=\"\\s+\",comment=\"#\")[1].values\n",
    "    band = sncosmo.Bandpass(wave, trans, name='PS1_'+f,trim_level=0.05)\n",
    "        \n",
    "    sncosmo.registry.register(band)"
   ]
  },
  {
   "cell_type": "code",
   "execution_count": 14,
   "id": "0fb57076-b8f6-4740-94a9-7d3bf75c8153",
   "metadata": {},
   "outputs": [],
   "source": [
    "ab=sncosmo.get_magsystem('ab')"
   ]
  },
  {
   "cell_type": "code",
   "execution_count": 15,
   "id": "af3f48cf-b1e8-400c-88e6-d8c980ddb6e2",
   "metadata": {
    "tags": []
   },
   "outputs": [],
   "source": [
    "magsystem = {\"PS1_g\":('ab',-0.023-0.0037),\n",
    "             \"PS1_r\":('ab',-0.033-0.0066),\n",
    "             \"PS1_i\":('ab',-0.024-0.0043),\n",
    "             \"PS1_z\":('ab',-0.024+.008),\n",
    "             \"PS1_y\":('ab',0.)}"
   ]
  },
  {
   "cell_type": "markdown",
   "id": "fff65eae-e7d7-44a3-a478-a9c081682d10",
   "metadata": {},
   "source": [
    "## Criando modelo EXP"
   ]
  },
  {
   "cell_type": "code",
   "execution_count": 16,
   "id": "a4a0ca97-802e-4567-b3a0-07a408bedbbd",
   "metadata": {},
   "outputs": [],
   "source": [
    "class EXP_LC(sncosmo.Source):\n",
    "    \n",
    "    _param_names = ['x0', 'x1', 'x2']\n",
    "    param_names_latex = ['x_0', 'x_1', 'x_2']\n",
    "    \n",
    "    \n",
    "    def __init__(self, phase, wave, flux0, flux1, flux2, name='EXP', version='2021'):\n",
    "\n",
    "        self.name = name\n",
    "        self.version = version\n",
    "        self._phase = phase\n",
    "        self._wave = wave\n",
    "        \n",
    "        self._model_flux0  = BicubicInterpolator(phase, wave, flux0.T)\n",
    "        self._model_flux1  = BicubicInterpolator(phase, wave, flux1.T)\n",
    "        self._model_flux2  = BicubicInterpolator(phase, wave, flux2.T)\n",
    "\n",
    "        self._parameters = np.array([1, 0, 0])  # initial guess\n",
    "        \n",
    "\n",
    "    def _flux(self, phase, wave):\n",
    "        \n",
    "        x0, x1, x2= self._parameters\n",
    "        #print('flux!')\n",
    "        return x0 * (self._model_flux0(phase, wave) +  x1 * self._model_flux1(phase, wave) +  x2 * self._model_flux2(phase, wave))"
   ]
  },
  {
   "cell_type": "code",
   "execution_count": 17,
   "id": "59f546a2-d3fc-470e-8af5-b1f966d64ea0",
   "metadata": {},
   "outputs": [],
   "source": [
    "gridx2 = np.linspace(-10, 50, 50+10+1, dtype=int)\n",
    "gridy2 = np.linspace(3400, 8400, int((8400-3400)/10+1), dtype=int)"
   ]
  },
  {
   "cell_type": "code",
   "execution_count": 18,
   "id": "d0113ad9-7850-433f-969f-0f2862358c69",
   "metadata": {},
   "outputs": [],
   "source": [
    "X, Y = np.meshgrid(gridx2,gridy2)"
   ]
  },
  {
   "cell_type": "markdown",
   "id": "811571a2-364b-4c4b-9276-81cd33dc5d73",
   "metadata": {
    "tags": []
   },
   "source": [
    "#### Templates FA"
   ]
  },
  {
   "cell_type": "code",
   "execution_count": 19,
   "id": "5b2f6378-2c1c-48d9-be94-d37f3b89292f",
   "metadata": {},
   "outputs": [],
   "source": [
    "M_fa=[]\n",
    "for i in range(3):\n",
    "    M_fa.append(np.loadtxt(\"../fa/sk_varimax_M\"+str(i)+\".txt\")*SCALE_FACTOR)"
   ]
  },
  {
   "cell_type": "markdown",
   "id": "e3fcdbc0-2cb5-44c3-b123-f1dea6ba76a8",
   "metadata": {},
   "source": [
    "#### Templates PCA"
   ]
  },
  {
   "cell_type": "code",
   "execution_count": 20,
   "id": "3e269fde-d94a-418e-b0a1-30fa8caa0129",
   "metadata": {},
   "outputs": [],
   "source": [
    "M_pca=[]\n",
    "for i in range(3):\n",
    "    M_pca.append(np.loadtxt(\"../pca/M\"+str(i)+\"_pca.txt\")*SCALE_FACTOR)"
   ]
  },
  {
   "cell_type": "markdown",
   "id": "700871f5-8c16-4083-836f-b817b632013c",
   "metadata": {},
   "source": [
    "### Criando os modelos"
   ]
  },
  {
   "cell_type": "code",
   "execution_count": 21,
   "id": "c43cd160-35d1-452d-a4db-fa1ea3451675",
   "metadata": {},
   "outputs": [],
   "source": [
    "exp_fa = EXP_LC(gridx2, gridy2, M_fa[0], M_fa[1], M_fa[2])\n",
    "exp_pca = EXP_LC(gridx2, gridy2, M_pca[0], M_pca[1], M_pca[2])"
   ]
  },
  {
   "cell_type": "code",
   "execution_count": 22,
   "id": "294823a5-4a03-4b64-a805-0801fa9a5fcf",
   "metadata": {},
   "outputs": [],
   "source": [
    "sncosmo.register(exp_fa,name=\"exp_fa_varimax\")\n",
    "sncosmo.register(exp_pca,name=\"exp_pca\")"
   ]
  },
  {
   "cell_type": "markdown",
   "id": "9b0b765d-28c7-47b8-bf24-d18f0e24b4c6",
   "metadata": {},
   "source": [
    "## Escolha do modelo"
   ]
  },
  {
   "cell_type": "code",
   "execution_count": 23,
   "id": "720826e2-62d6-4c01-962a-5a9c4ea731e1",
   "metadata": {},
   "outputs": [],
   "source": [
    "modelo=\"exp_pca\"\n",
    "offset=8.065 # additive term from mb"
   ]
  },
  {
   "cell_type": "markdown",
   "id": "410d3848",
   "metadata": {
    "tags": []
   },
   "source": [
    "## Ajustando curvas de luz"
   ]
  },
  {
   "cell_type": "code",
   "execution_count": 24,
   "id": "bc3464a9",
   "metadata": {},
   "outputs": [],
   "source": [
    "def lc_fit(sn):    \n",
    "\n",
    "    meta, tables = sncosmo.read_snana_ascii(path+\"PS1_PSc\"+sn+\".txt\", default_tablename='OBS')\n",
    "    \n",
    "    dat=tables[\"OBS\"]\n",
    "    surv=\"PS1\"\n",
    "\n",
    "    dat.add_column([surv+\"_\"+f for f in dat[\"FLT\"]], name='FILTER') \n",
    "    dat.remove_column(\"FLT\")\n",
    "    \n",
    "    dat.remove_rows(np.where(dat[\"FLUXCAL\"]<0)[0])\n",
    "    dat.remove_rows(np.where(np.isnan(dat[\"MAG\"]))[0])\n",
    "    dat.remove_columns([\"FIELD\",\"MAG\",\"MAGERR\"])\n",
    "\n",
    "    magsys=sncosmo.CompositeMagSystem(bands=magsystem,name=\"magsys\")\n",
    "    sncosmo.register(magsys,force=True)\n",
    "    \n",
    "    dat.remove_rows(np.where(dat[\"FILTER\"]==surv+\"_z\")[0])\n",
    "\n",
    "    if sn in [\"500038\",\"490008\",\"350316\",\"010026\"]:\n",
    "        dat.remove_rows(np.where(dat[\"FILTER\"]==surv+\"_g\")[0])\n",
    "    \n",
    "    if sn in [\"590194\",\"550005\",\"530086\",\"520022\",\"490007\",\"470043\",\"370566\",\"370066\",\n",
    "              \"070242\",\"080064\",\"000137\",\"420100\",\"370356\",\"370333\",\"360156\",\"300105\",\n",
    "              \"140181\",\"110567\",\"100405\",\"100163\"]:\n",
    "        dat.remove_rows(np.where(dat[\"FILTER\"]==surv+\"_i\")[0])\n",
    "\n",
    "    \n",
    "    dat[\"MAG\"]=-2.5*np.log10(dat[\"FLUXCAL\"])+27.5\n",
    "    dat[\"MAGERR\"]=abs(2.5*np.log10(np.e)*dat[\"FLUXCALERR\"]/dat[\"FLUXCAL\"])\n",
    "\n",
    "    dat[\"FLUX\"]=[magsys.band_mag_to_flux(dat[\"MAG\"][i],dat[\"FILTER\"][i]) for i in range(len(dat[\"MAG\"]))]\n",
    "    dat[\"FLUXERR\"]=[abs(0.4*dat[\"FLUX\"][i]*np.log(10.)*dat[\"MAGERR\"][i]) for i in range(len(dat[\"MAG\"]))]\n",
    "  \n",
    "    # ref de repouso: (t-t0)/(1+z), no SNANA fazem um corte de -15 a 45 no referencial de repouso. E também tem um corte no \n",
    "    # intervalo de comprimento de onda, eu apliquei esses cortes abaixo em phase_range e wave_range. Porém não tenho certeza\n",
    "    # se o sncosmo corta no ref de repouso ou do observador. Alterando isso, os valores de x1 para 2001ah e 2001az mudam drasticamento\n",
    "    # equivalendo a mesma mudança que ocorre no snana quando fazemos a mesma alteração no TREST_REJECT.    \n",
    "    \n",
    "    dat[\"ZP\"]=[2.5*np.log10(magsys.zpbandflux(f)) for f in dat[\"FILTER\"]]\n",
    "    dat.add_column(\"magsys\", name='ZPSYS')\n",
    "    \n",
    "    dust = sncosmo.F99Dust() \n",
    "    \n",
    "    # para algumas sne como 2006bb o chi2 da minimizacao da Nan e não é possível ajustar a sn. A mesma sn no snana é ajustada pelo salt.\n",
    "    # alterando intervalo de dias e comprimento de onda de atuação do ajustador, ainda não é possível evitar o nan já no primeiro passo.\n",
    "    \n",
    "    model = sncosmo.Model(source=modelo,effects=[dust],effect_names=['mw'],effect_frames=['obs'])\n",
    "    model.set(mwebv=meta[\"MWEBV\"],z=meta[\"REDSHIFT_FINAL\"]) \n",
    "    try:\n",
    "        result, fitted_model = sncosmo.fit_lc(dat, model, ['t0', 'x0', 'x1', 'x2'],modelcov=False,phase_range=(-10, 40.), wave_range=(3400.,7000.), verbose=False)\n",
    "    except:\n",
    "        print(f\"SN {sn} fit returns NaN\")\n",
    "        result=None\n",
    "        fitted_model=None\n",
    "    \n",
    "    return meta, surv, dat, result, fitted_model"
   ]
  },
  {
   "cell_type": "code",
   "execution_count": 25,
   "id": "82bdbc39-e372-4c04-832b-29a4e38bcfbb",
   "metadata": {
    "tags": []
   },
   "outputs": [],
   "source": [
    "pp = PdfPages(f\"./lc_fit_plot_{modelo.upper()}_PS1_Pantheon.pdf\")"
   ]
  },
  {
   "cell_type": "code",
   "execution_count": 26,
   "id": "d86426bf-e8b0-460b-89c0-2dedf2d34891",
   "metadata": {},
   "outputs": [],
   "source": [
    "colors1=[\"#440154\"]\n",
    "colors2=[\"#fde725\",\"#440154\"]\n",
    "colors3=[\"#fde725\",\"#21918c\",\"#440154\"]\n",
    "colors4=[\"#fde725\",\"#35b779\",\"#31688e\",\"#440154\"]"
   ]
  },
  {
   "cell_type": "code",
   "execution_count": 27,
   "id": "838b6f33-841f-47b2-96fd-30f5f2ba06c5",
   "metadata": {
    "tags": []
   },
   "outputs": [],
   "source": [
    "def return_fit_data(sn,meta,res,model_name):\n",
    "\n",
    "    return [meta[\"SNID\"], meta[\"SURVEY\"], meta[\"REDSHIFT_FINAL\"], red_err[sn], res.parameters[1],\n",
    "           res.errors[\"t0\"], res.parameters[2], res.errors[\"x0\"], res.parameters[3],\n",
    "           res.errors[\"x1\"], res.parameters[4], res.errors[\"x2\"],\n",
    "           res.covariance[1][2], res.covariance[1][3], res.covariance[2][3], \n",
    "           res.chisq/res.ndof, model_name]"
   ]
  },
  {
   "cell_type": "code",
   "execution_count": 28,
   "id": "ee433a66-42a7-4f5d-a022-6d81fa498e48",
   "metadata": {},
   "outputs": [],
   "source": [
    "def lc_fit_plot(sn, surv,table_data, result, fitted_model):\n",
    "    z=round(result[\"parameters\"][0],2)\n",
    "    t0=round(result[\"parameters\"][1],2)\n",
    "    x1=round(result[\"parameters\"][3],2)\n",
    "    x1err=round(result[\"errors\"][\"x1\"],2)\n",
    "    x2=round(result[\"parameters\"][4],2)\n",
    "    x2err=round(result[\"errors\"][\"x2\"],2)\n",
    "    mwebv=result[\"parameters\"][5]\n",
    "    phase=np.linspace(t0-10.,t0+50.,100)\n",
    "\n",
    "    if result.ndof>0:\n",
    "        fil=[]\n",
    "        for i,f in enumerate(magsystem.keys()): \n",
    "            if len(table_data[table_data[\"FILTER\"]==f])==0:\n",
    "                continue\n",
    "            else:\n",
    "                try:\n",
    "                    fitted_model.bandflux(f, phase)\n",
    "                    fil.append(f)\n",
    "                    continue\n",
    "                except:\n",
    "                    continue\n",
    "        fig, axs=plt.subplots(len(fil),1,figsize=(10,4*len(fil)),sharex=True)\n",
    "        fig.subplots_adjust(hspace=0.1)\n",
    "        if len(fil)==1:\n",
    "            for i,f in enumerate(fil): \n",
    "                colors=eval(\"colors\"+str(len(fil)))\n",
    "                axs.plot(phase-t0,fitted_model.bandflux(f, phase)*10**(-0.4*table_data[table_data[\"FILTER\"]==f][\"ZP\"][0]+11),linewidth=3,color=colors[i],label=f\"{modelo.upper()} fit ($\\chi^2/ndof$={round(result.chisq/result.ndof,2)})\")\n",
    "                axs.errorbar(table_data[table_data[\"FILTER\"]==f][\"MJD\"]-t0,table_data[table_data[\"FILTER\"]==f][\"FLUXCAL\"],yerr=table_data[table_data[\"FILTER\"]==f][\"FLUXCALERR\"],label=f\"Flux through {f} filter\",ls=\"none\", marker='o',markersize=8,color=colors[i])\n",
    "                axs.set_ylabel(r\"FLUX ($Z_{AB}$=27.5)\")\n",
    "                axs.set_xlim(-12,52)\n",
    "                axs.set_title(f\"{sn}({surv}),   z:{z:.2f},   x1={x1:.2f}$\\pm${x1err:.2f},   x2={x2:.2f}$\\pm${x2err:.2f}\")\n",
    "                formatter11=ScalarFormatterClass1()\n",
    "                formatter11.set_scientific(True)\n",
    "                formatter11.set_powerlimits((0,0))\n",
    "                axs.yaxis.set_major_formatter(formatter11)\n",
    "                axs.legend(loc=3)\n",
    "                if i==len(fil)-1:\n",
    "                    axs.set_xlabel(f\"MJD-{t0}\")\n",
    "            #plt.show()\n",
    "            plt.tight_layout()\n",
    "            pp.savefig()\n",
    "            plt.close(fig)\n",
    "        else:\n",
    "            for i,f in enumerate(fil): \n",
    "                colors=eval(\"colors\"+str(len(fil)))\n",
    "                axs[i].plot(phase-t0,fitted_model.bandflux(f, phase)*10**(-0.4*table_data[table_data[\"FILTER\"]==f][\"ZP\"][0]+11),linewidth=3,color=colors[i],label=f\"{modelo.upper()} fit ($\\chi^2/ndof$={round(result.chisq/result.ndof,2)})\")\n",
    "                axs[i].errorbar(table_data[table_data[\"FILTER\"]==f][\"MJD\"]-t0,table_data[table_data[\"FILTER\"]==f][\"FLUXCAL\"],yerr=table_data[table_data[\"FILTER\"]==f][\"FLUXCALERR\"],label=f\"Flux through {f} filter\",ls=\"none\", marker='o',markersize=8,color=colors[i])\n",
    "                axs[i].set_ylabel(r\"FLUX ($Z_{AB}$=27.5)\")\n",
    "                axs[i].set_xlim(-12,52)\n",
    "                axs[i].set_title(f\"{sn}({surv}),   z:{z:.2f},   x1={x1:.2f}$\\pm${x1err:.2f},   x2={x2:.2f}$\\pm${x2err:.2f}\")\n",
    "                formatter11=ScalarFormatterClass1()\n",
    "                formatter11.set_scientific(True)\n",
    "                formatter11.set_powerlimits((0,0))\n",
    "                axs[i].yaxis.set_major_formatter(formatter11)\n",
    "                axs[i].legend(loc=3)\n",
    "                if i==len(fil)-1:\n",
    "                    axs[i].set_xlabel(f\"MJD-{t0}\")\n",
    "            #plt.show()\n",
    "            plt.tight_layout()\n",
    "            pp.savefig()\n",
    "            plt.close(fig)\n",
    "    else:\n",
    "        pass"
   ]
  },
  {
   "cell_type": "code",
   "execution_count": 29,
   "id": "290d3745",
   "metadata": {
    "tags": []
   },
   "outputs": [
    {
     "name": "stdout",
     "output_type": "stream",
     "text": [
      "000006 (0/282)\n"
     ]
    },
    {
     "name": "stderr",
     "output_type": "stream",
     "text": [
      "/home/cassia/anaconda3/envs/sne/lib/python3.10/site-packages/sncosmo/fitting.py:187: RuntimeWarning: Dropping following bands from data: PS1_g(out of model wavelength range)\n",
      "  warnings.warn(\"Dropping following bands from data: \" +\n",
      "/home/cassia/anaconda3/envs/sne/lib/python3.10/site-packages/iminuit/util.py:143: UserWarning: Assigned errors must be positive. Non-positive values are replaced by a heuristic.\n",
      "  warnings.warn(\n"
     ]
    },
    {
     "name": "stdout",
     "output_type": "stream",
     "text": [
      "000011 (1/282)\n"
     ]
    },
    {
     "name": "stderr",
     "output_type": "stream",
     "text": [
      "/home/cassia/anaconda3/envs/sne/lib/python3.10/site-packages/sncosmo/fitting.py:187: RuntimeWarning: Dropping following bands from data: PS1_g(out of model wavelength range)\n",
      "  warnings.warn(\"Dropping following bands from data: \" +\n",
      "/home/cassia/anaconda3/envs/sne/lib/python3.10/site-packages/iminuit/util.py:143: UserWarning: Assigned errors must be positive. Non-positive values are replaced by a heuristic.\n",
      "  warnings.warn(\n"
     ]
    },
    {
     "name": "stdout",
     "output_type": "stream",
     "text": [
      "000034 (2/282)\n"
     ]
    },
    {
     "name": "stderr",
     "output_type": "stream",
     "text": [
      "/home/cassia/anaconda3/envs/sne/lib/python3.10/site-packages/sncosmo/fitting.py:187: RuntimeWarning: Dropping following bands from data: PS1_g(out of model wavelength range)\n",
      "  warnings.warn(\"Dropping following bands from data: \" +\n",
      "/home/cassia/anaconda3/envs/sne/lib/python3.10/site-packages/iminuit/util.py:143: UserWarning: Assigned errors must be positive. Non-positive values are replaced by a heuristic.\n",
      "  warnings.warn(\n"
     ]
    },
    {
     "name": "stdout",
     "output_type": "stream",
     "text": [
      "000091 (3/282)\n"
     ]
    },
    {
     "name": "stderr",
     "output_type": "stream",
     "text": [
      "/home/cassia/anaconda3/envs/sne/lib/python3.10/site-packages/iminuit/util.py:143: UserWarning: Assigned errors must be positive. Non-positive values are replaced by a heuristic.\n",
      "  warnings.warn(\n"
     ]
    },
    {
     "name": "stdout",
     "output_type": "stream",
     "text": [
      "000142 (4/282)\n"
     ]
    },
    {
     "name": "stderr",
     "output_type": "stream",
     "text": [
      "/home/cassia/anaconda3/envs/sne/lib/python3.10/site-packages/sncosmo/fitting.py:187: RuntimeWarning: Dropping following bands from data: PS1_g(out of model wavelength range)\n",
      "  warnings.warn(\"Dropping following bands from data: \" +\n",
      "/home/cassia/anaconda3/envs/sne/lib/python3.10/site-packages/iminuit/util.py:143: UserWarning: Assigned errors must be positive. Non-positive values are replaced by a heuristic.\n",
      "  warnings.warn(\n"
     ]
    },
    {
     "name": "stdout",
     "output_type": "stream",
     "text": [
      "000190 (5/282)\n"
     ]
    },
    {
     "name": "stderr",
     "output_type": "stream",
     "text": [
      "/home/cassia/anaconda3/envs/sne/lib/python3.10/site-packages/iminuit/util.py:143: UserWarning: Assigned errors must be positive. Non-positive values are replaced by a heuristic.\n",
      "  warnings.warn(\n"
     ]
    },
    {
     "name": "stdout",
     "output_type": "stream",
     "text": [
      "000199 (6/282)\n"
     ]
    },
    {
     "name": "stderr",
     "output_type": "stream",
     "text": [
      "/home/cassia/anaconda3/envs/sne/lib/python3.10/site-packages/sncosmo/fitting.py:187: RuntimeWarning: Dropping following bands from data: PS1_g(out of model wavelength range)\n",
      "  warnings.warn(\"Dropping following bands from data: \" +\n",
      "/home/cassia/anaconda3/envs/sne/lib/python3.10/site-packages/iminuit/util.py:143: UserWarning: Assigned errors must be positive. Non-positive values are replaced by a heuristic.\n",
      "  warnings.warn(\n"
     ]
    },
    {
     "name": "stdout",
     "output_type": "stream",
     "text": [
      "000215 (7/282)\n"
     ]
    },
    {
     "name": "stderr",
     "output_type": "stream",
     "text": [
      "/home/cassia/anaconda3/envs/sne/lib/python3.10/site-packages/sncosmo/fitting.py:187: RuntimeWarning: Dropping following bands from data: PS1_g(out of model wavelength range)\n",
      "  warnings.warn(\"Dropping following bands from data: \" +\n",
      "/home/cassia/anaconda3/envs/sne/lib/python3.10/site-packages/iminuit/util.py:143: UserWarning: Assigned errors must be positive. Non-positive values are replaced by a heuristic.\n",
      "  warnings.warn(\n"
     ]
    },
    {
     "name": "stdout",
     "output_type": "stream",
     "text": [
      "000236 (8/282)\n"
     ]
    },
    {
     "name": "stderr",
     "output_type": "stream",
     "text": [
      "/home/cassia/anaconda3/envs/sne/lib/python3.10/site-packages/sncosmo/fitting.py:187: RuntimeWarning: Dropping following bands from data: PS1_g(out of model wavelength range)\n",
      "  warnings.warn(\"Dropping following bands from data: \" +\n",
      "/home/cassia/anaconda3/envs/sne/lib/python3.10/site-packages/iminuit/util.py:143: UserWarning: Assigned errors must be positive. Non-positive values are replaced by a heuristic.\n",
      "  warnings.warn(\n"
     ]
    },
    {
     "name": "stdout",
     "output_type": "stream",
     "text": [
      "000420 (9/282)\n"
     ]
    },
    {
     "name": "stderr",
     "output_type": "stream",
     "text": [
      "/home/cassia/anaconda3/envs/sne/lib/python3.10/site-packages/sncosmo/fitting.py:187: RuntimeWarning: Dropping following bands from data: PS1_g(out of model wavelength range)\n",
      "  warnings.warn(\"Dropping following bands from data: \" +\n",
      "/home/cassia/anaconda3/envs/sne/lib/python3.10/site-packages/iminuit/util.py:143: UserWarning: Assigned errors must be positive. Non-positive values are replaced by a heuristic.\n",
      "  warnings.warn(\n"
     ]
    },
    {
     "name": "stdout",
     "output_type": "stream",
     "text": [
      "010026 (10/282)\n"
     ]
    },
    {
     "name": "stderr",
     "output_type": "stream",
     "text": [
      "/home/cassia/anaconda3/envs/sne/lib/python3.10/site-packages/iminuit/util.py:143: UserWarning: Assigned errors must be positive. Non-positive values are replaced by a heuristic.\n",
      "  warnings.warn(\n"
     ]
    },
    {
     "name": "stdout",
     "output_type": "stream",
     "text": [
      "020027 (11/282)\n"
     ]
    },
    {
     "name": "stderr",
     "output_type": "stream",
     "text": [
      "/home/cassia/anaconda3/envs/sne/lib/python3.10/site-packages/iminuit/util.py:143: UserWarning: Assigned errors must be positive. Non-positive values are replaced by a heuristic.\n",
      "  warnings.warn(\n"
     ]
    },
    {
     "name": "stdout",
     "output_type": "stream",
     "text": [
      "020096 (12/282)\n"
     ]
    },
    {
     "name": "stderr",
     "output_type": "stream",
     "text": [
      "/home/cassia/anaconda3/envs/sne/lib/python3.10/site-packages/sncosmo/fitting.py:187: RuntimeWarning: Dropping following bands from data: PS1_g(out of model wavelength range)\n",
      "  warnings.warn(\"Dropping following bands from data: \" +\n",
      "/home/cassia/anaconda3/envs/sne/lib/python3.10/site-packages/iminuit/util.py:143: UserWarning: Assigned errors must be positive. Non-positive values are replaced by a heuristic.\n",
      "  warnings.warn(\n"
     ]
    },
    {
     "name": "stdout",
     "output_type": "stream",
     "text": [
      "020176 (13/282)\n"
     ]
    },
    {
     "name": "stderr",
     "output_type": "stream",
     "text": [
      "/home/cassia/anaconda3/envs/sne/lib/python3.10/site-packages/sncosmo/fitting.py:187: RuntimeWarning: Dropping following bands from data: PS1_g(out of model wavelength range)\n",
      "  warnings.warn(\"Dropping following bands from data: \" +\n",
      "/home/cassia/anaconda3/envs/sne/lib/python3.10/site-packages/iminuit/util.py:143: UserWarning: Assigned errors must be positive. Non-positive values are replaced by a heuristic.\n",
      "  warnings.warn(\n"
     ]
    },
    {
     "name": "stdout",
     "output_type": "stream",
     "text": [
      "030066 (14/282)\n"
     ]
    },
    {
     "name": "stderr",
     "output_type": "stream",
     "text": [
      "/home/cassia/anaconda3/envs/sne/lib/python3.10/site-packages/sncosmo/fitting.py:187: RuntimeWarning: Dropping following bands from data: PS1_g(out of model wavelength range)\n",
      "  warnings.warn(\"Dropping following bands from data: \" +\n",
      "/home/cassia/anaconda3/envs/sne/lib/python3.10/site-packages/iminuit/util.py:143: UserWarning: Assigned errors must be positive. Non-positive values are replaced by a heuristic.\n",
      "  warnings.warn(\n"
     ]
    },
    {
     "name": "stdout",
     "output_type": "stream",
     "text": [
      "040137 (15/282)\n"
     ]
    },
    {
     "name": "stderr",
     "output_type": "stream",
     "text": [
      "/home/cassia/anaconda3/envs/sne/lib/python3.10/site-packages/sncosmo/fitting.py:187: RuntimeWarning: Dropping following bands from data: PS1_g(out of model wavelength range)\n",
      "  warnings.warn(\"Dropping following bands from data: \" +\n",
      "/home/cassia/anaconda3/envs/sne/lib/python3.10/site-packages/iminuit/util.py:143: UserWarning: Assigned errors must be positive. Non-positive values are replaced by a heuristic.\n",
      "  warnings.warn(\n"
     ]
    },
    {
     "name": "stdout",
     "output_type": "stream",
     "text": [
      "040166 (16/282)\n"
     ]
    },
    {
     "name": "stderr",
     "output_type": "stream",
     "text": [
      "/home/cassia/anaconda3/envs/sne/lib/python3.10/site-packages/sncosmo/fitting.py:187: RuntimeWarning: Dropping following bands from data: PS1_g(out of model wavelength range)\n",
      "  warnings.warn(\"Dropping following bands from data: \" +\n",
      "/home/cassia/anaconda3/envs/sne/lib/python3.10/site-packages/iminuit/util.py:143: UserWarning: Assigned errors must be positive. Non-positive values are replaced by a heuristic.\n",
      "  warnings.warn(\n"
     ]
    },
    {
     "name": "stdout",
     "output_type": "stream",
     "text": [
      "040782 (17/282)\n"
     ]
    },
    {
     "name": "stderr",
     "output_type": "stream",
     "text": [
      "/home/cassia/anaconda3/envs/sne/lib/python3.10/site-packages/sncosmo/fitting.py:187: RuntimeWarning: Dropping following bands from data: PS1_g(out of model wavelength range)\n",
      "  warnings.warn(\"Dropping following bands from data: \" +\n",
      "/home/cassia/anaconda3/envs/sne/lib/python3.10/site-packages/iminuit/util.py:143: UserWarning: Assigned errors must be positive. Non-positive values are replaced by a heuristic.\n",
      "  warnings.warn(\n"
     ]
    },
    {
     "name": "stdout",
     "output_type": "stream",
     "text": [
      "050005 (18/282)\n"
     ]
    },
    {
     "name": "stderr",
     "output_type": "stream",
     "text": [
      "/home/cassia/anaconda3/envs/sne/lib/python3.10/site-packages/sncosmo/fitting.py:187: RuntimeWarning: Dropping following bands from data: PS1_g(out of model wavelength range)\n",
      "  warnings.warn(\"Dropping following bands from data: \" +\n",
      "/home/cassia/anaconda3/envs/sne/lib/python3.10/site-packages/iminuit/util.py:143: UserWarning: Assigned errors must be positive. Non-positive values are replaced by a heuristic.\n",
      "  warnings.warn(\n"
     ]
    },
    {
     "name": "stdout",
     "output_type": "stream",
     "text": [
      "050203 (19/282)\n"
     ]
    },
    {
     "name": "stderr",
     "output_type": "stream",
     "text": [
      "/home/cassia/anaconda3/envs/sne/lib/python3.10/site-packages/sncosmo/fitting.py:187: RuntimeWarning: Dropping following bands from data: PS1_g(out of model wavelength range)\n",
      "  warnings.warn(\"Dropping following bands from data: \" +\n",
      "/home/cassia/anaconda3/envs/sne/lib/python3.10/site-packages/iminuit/util.py:143: UserWarning: Assigned errors must be positive. Non-positive values are replaced by a heuristic.\n",
      "  warnings.warn(\n"
     ]
    },
    {
     "name": "stdout",
     "output_type": "stream",
     "text": [
      "050251 (20/282)\n"
     ]
    },
    {
     "name": "stderr",
     "output_type": "stream",
     "text": [
      "/home/cassia/anaconda3/envs/sne/lib/python3.10/site-packages/sncosmo/fitting.py:187: RuntimeWarning: Dropping following bands from data: PS1_g(out of model wavelength range)\n",
      "  warnings.warn(\"Dropping following bands from data: \" +\n",
      "/home/cassia/anaconda3/envs/sne/lib/python3.10/site-packages/iminuit/util.py:143: UserWarning: Assigned errors must be positive. Non-positive values are replaced by a heuristic.\n",
      "  warnings.warn(\n"
     ]
    },
    {
     "name": "stdout",
     "output_type": "stream",
     "text": [
      "050293 (21/282)\n"
     ]
    },
    {
     "name": "stderr",
     "output_type": "stream",
     "text": [
      "/home/cassia/anaconda3/envs/sne/lib/python3.10/site-packages/sncosmo/fitting.py:187: RuntimeWarning: Dropping following bands from data: PS1_g(out of model wavelength range)\n",
      "  warnings.warn(\"Dropping following bands from data: \" +\n",
      "/home/cassia/anaconda3/envs/sne/lib/python3.10/site-packages/iminuit/util.py:143: UserWarning: Assigned errors must be positive. Non-positive values are replaced by a heuristic.\n",
      "  warnings.warn(\n"
     ]
    },
    {
     "name": "stdout",
     "output_type": "stream",
     "text": [
      "050301 (22/282)\n"
     ]
    },
    {
     "name": "stderr",
     "output_type": "stream",
     "text": [
      "/home/cassia/anaconda3/envs/sne/lib/python3.10/site-packages/sncosmo/fitting.py:187: RuntimeWarning: Dropping following bands from data: PS1_g(out of model wavelength range)\n",
      "  warnings.warn(\"Dropping following bands from data: \" +\n",
      "/home/cassia/anaconda3/envs/sne/lib/python3.10/site-packages/iminuit/util.py:143: UserWarning: Assigned errors must be positive. Non-positive values are replaced by a heuristic.\n",
      "  warnings.warn(\n"
     ]
    },
    {
     "name": "stdout",
     "output_type": "stream",
     "text": [
      "050607 (23/282)\n"
     ]
    },
    {
     "name": "stderr",
     "output_type": "stream",
     "text": [
      "/home/cassia/anaconda3/envs/sne/lib/python3.10/site-packages/sncosmo/fitting.py:187: RuntimeWarning: Dropping following bands from data: PS1_g(out of model wavelength range)\n",
      "  warnings.warn(\"Dropping following bands from data: \" +\n",
      "/home/cassia/anaconda3/envs/sne/lib/python3.10/site-packages/iminuit/util.py:143: UserWarning: Assigned errors must be positive. Non-positive values are replaced by a heuristic.\n",
      "  warnings.warn(\n"
     ]
    },
    {
     "name": "stdout",
     "output_type": "stream",
     "text": [
      "070955 (24/282)\n"
     ]
    },
    {
     "name": "stderr",
     "output_type": "stream",
     "text": [
      "/home/cassia/anaconda3/envs/sne/lib/python3.10/site-packages/sncosmo/fitting.py:187: RuntimeWarning: Dropping following bands from data: PS1_g(out of model wavelength range)\n",
      "  warnings.warn(\"Dropping following bands from data: \" +\n",
      "/home/cassia/anaconda3/envs/sne/lib/python3.10/site-packages/iminuit/util.py:143: UserWarning: Assigned errors must be positive. Non-positive values are replaced by a heuristic.\n",
      "  warnings.warn(\n"
     ]
    },
    {
     "name": "stdout",
     "output_type": "stream",
     "text": [
      "080723 (25/282)\n"
     ]
    },
    {
     "name": "stderr",
     "output_type": "stream",
     "text": [
      "/home/cassia/anaconda3/envs/sne/lib/python3.10/site-packages/sncosmo/fitting.py:187: RuntimeWarning: Dropping following bands from data: PS1_g(out of model wavelength range)\n",
      "  warnings.warn(\"Dropping following bands from data: \" +\n",
      "/home/cassia/anaconda3/envs/sne/lib/python3.10/site-packages/iminuit/util.py:143: UserWarning: Assigned errors must be positive. Non-positive values are replaced by a heuristic.\n",
      "  warnings.warn(\n"
     ]
    },
    {
     "name": "stdout",
     "output_type": "stream",
     "text": [
      "090201 (26/282)\n"
     ]
    },
    {
     "name": "stderr",
     "output_type": "stream",
     "text": [
      "/home/cassia/anaconda3/envs/sne/lib/python3.10/site-packages/sncosmo/fitting.py:187: RuntimeWarning: Dropping following bands from data: PS1_g(out of model wavelength range)\n",
      "  warnings.warn(\"Dropping following bands from data: \" +\n",
      "/home/cassia/anaconda3/envs/sne/lib/python3.10/site-packages/iminuit/util.py:143: UserWarning: Assigned errors must be positive. Non-positive values are replaced by a heuristic.\n",
      "  warnings.warn(\n"
     ]
    },
    {
     "name": "stdout",
     "output_type": "stream",
     "text": [
      "091869 (27/282)\n"
     ]
    },
    {
     "name": "stderr",
     "output_type": "stream",
     "text": [
      "/home/cassia/anaconda3/envs/sne/lib/python3.10/site-packages/sncosmo/fitting.py:187: RuntimeWarning: Dropping following bands from data: PS1_g(out of model wavelength range)\n",
      "  warnings.warn(\"Dropping following bands from data: \" +\n",
      "/home/cassia/anaconda3/envs/sne/lib/python3.10/site-packages/iminuit/util.py:143: UserWarning: Assigned errors must be positive. Non-positive values are replaced by a heuristic.\n",
      "  warnings.warn(\n"
     ]
    },
    {
     "name": "stdout",
     "output_type": "stream",
     "text": [
      "100090 (28/282)\n"
     ]
    },
    {
     "name": "stderr",
     "output_type": "stream",
     "text": [
      "/home/cassia/anaconda3/envs/sne/lib/python3.10/site-packages/sncosmo/fitting.py:187: RuntimeWarning: Dropping following bands from data: PS1_g(out of model wavelength range)\n",
      "  warnings.warn(\"Dropping following bands from data: \" +\n",
      "/home/cassia/anaconda3/envs/sne/lib/python3.10/site-packages/iminuit/util.py:143: UserWarning: Assigned errors must be positive. Non-positive values are replaced by a heuristic.\n",
      "  warnings.warn(\n"
     ]
    },
    {
     "name": "stdout",
     "output_type": "stream",
     "text": [
      "100163 (29/282)\n",
      "100213 (30/282)\n"
     ]
    },
    {
     "name": "stderr",
     "output_type": "stream",
     "text": [
      "/home/cassia/anaconda3/envs/sne/lib/python3.10/site-packages/sncosmo/fitting.py:187: RuntimeWarning: Dropping following bands from data: PS1_g(out of model wavelength range)\n",
      "  warnings.warn(\"Dropping following bands from data: \" +\n",
      "/home/cassia/anaconda3/envs/sne/lib/python3.10/site-packages/iminuit/util.py:143: UserWarning: Assigned errors must be positive. Non-positive values are replaced by a heuristic.\n",
      "  warnings.warn(\n",
      "/home/cassia/anaconda3/envs/sne/lib/python3.10/site-packages/sncosmo/fitting.py:187: RuntimeWarning: Dropping following bands from data: PS1_g(out of model wavelength range)\n",
      "  warnings.warn(\"Dropping following bands from data: \" +\n",
      "/home/cassia/anaconda3/envs/sne/lib/python3.10/site-packages/iminuit/util.py:143: UserWarning: Assigned errors must be positive. Non-positive values are replaced by a heuristic.\n",
      "  warnings.warn(\n"
     ]
    },
    {
     "name": "stdout",
     "output_type": "stream",
     "text": [
      "100405 (31/282)\n"
     ]
    },
    {
     "name": "stderr",
     "output_type": "stream",
     "text": [
      "/home/cassia/anaconda3/envs/sne/lib/python3.10/site-packages/iminuit/util.py:143: UserWarning: Assigned errors must be positive. Non-positive values are replaced by a heuristic.\n",
      "  warnings.warn(\n"
     ]
    },
    {
     "name": "stdout",
     "output_type": "stream",
     "text": [
      "110033 (32/282)\n"
     ]
    },
    {
     "name": "stderr",
     "output_type": "stream",
     "text": [
      "/home/cassia/anaconda3/envs/sne/lib/python3.10/site-packages/sncosmo/fitting.py:187: RuntimeWarning: Dropping following bands from data: PS1_g(out of model wavelength range)\n",
      "  warnings.warn(\"Dropping following bands from data: \" +\n",
      "/home/cassia/anaconda3/envs/sne/lib/python3.10/site-packages/iminuit/util.py:143: UserWarning: Assigned errors must be positive. Non-positive values are replaced by a heuristic.\n",
      "  warnings.warn(\n"
     ]
    },
    {
     "name": "stdout",
     "output_type": "stream",
     "text": [
      "110478 (33/282)\n"
     ]
    },
    {
     "name": "stderr",
     "output_type": "stream",
     "text": [
      "/home/cassia/anaconda3/envs/sne/lib/python3.10/site-packages/sncosmo/fitting.py:187: RuntimeWarning: Dropping following bands from data: PS1_g(out of model wavelength range)\n",
      "  warnings.warn(\"Dropping following bands from data: \" +\n",
      "/home/cassia/anaconda3/envs/sne/lib/python3.10/site-packages/iminuit/util.py:143: UserWarning: Assigned errors must be positive. Non-positive values are replaced by a heuristic.\n",
      "  warnings.warn(\n"
     ]
    },
    {
     "name": "stdout",
     "output_type": "stream",
     "text": [
      "110536 (34/282)\n"
     ]
    },
    {
     "name": "stderr",
     "output_type": "stream",
     "text": [
      "/home/cassia/anaconda3/envs/sne/lib/python3.10/site-packages/sncosmo/fitting.py:187: RuntimeWarning: Dropping following bands from data: PS1_g(out of model wavelength range)\n",
      "  warnings.warn(\"Dropping following bands from data: \" +\n",
      "/home/cassia/anaconda3/envs/sne/lib/python3.10/site-packages/iminuit/util.py:143: UserWarning: Assigned errors must be positive. Non-positive values are replaced by a heuristic.\n",
      "  warnings.warn(\n"
     ]
    },
    {
     "name": "stdout",
     "output_type": "stream",
     "text": [
      "110567 (35/282)\n",
      "110719 (36/282)\n"
     ]
    },
    {
     "name": "stderr",
     "output_type": "stream",
     "text": [
      "/home/cassia/anaconda3/envs/sne/lib/python3.10/site-packages/sncosmo/fitting.py:187: RuntimeWarning: Dropping following bands from data: PS1_g(out of model wavelength range)\n",
      "  warnings.warn(\"Dropping following bands from data: \" +\n",
      "/home/cassia/anaconda3/envs/sne/lib/python3.10/site-packages/iminuit/util.py:143: UserWarning: Assigned errors must be positive. Non-positive values are replaced by a heuristic.\n",
      "  warnings.warn(\n",
      "/home/cassia/anaconda3/envs/sne/lib/python3.10/site-packages/sncosmo/fitting.py:187: RuntimeWarning: Dropping following bands from data: PS1_g(out of model wavelength range)\n",
      "  warnings.warn(\"Dropping following bands from data: \" +\n",
      "/home/cassia/anaconda3/envs/sne/lib/python3.10/site-packages/iminuit/util.py:143: UserWarning: Assigned errors must be positive. Non-positive values are replaced by a heuristic.\n",
      "  warnings.warn(\n"
     ]
    },
    {
     "name": "stdout",
     "output_type": "stream",
     "text": [
      "110734 (37/282)\n"
     ]
    },
    {
     "name": "stderr",
     "output_type": "stream",
     "text": [
      "/home/cassia/anaconda3/envs/sne/lib/python3.10/site-packages/sncosmo/fitting.py:187: RuntimeWarning: Dropping following bands from data: PS1_g(out of model wavelength range)\n",
      "  warnings.warn(\"Dropping following bands from data: \" +\n",
      "/home/cassia/anaconda3/envs/sne/lib/python3.10/site-packages/iminuit/util.py:143: UserWarning: Assigned errors must be positive. Non-positive values are replaced by a heuristic.\n",
      "  warnings.warn(\n"
     ]
    },
    {
     "name": "stdout",
     "output_type": "stream",
     "text": [
      "120085 (38/282)\n"
     ]
    },
    {
     "name": "stderr",
     "output_type": "stream",
     "text": [
      "/home/cassia/anaconda3/envs/sne/lib/python3.10/site-packages/sncosmo/fitting.py:187: RuntimeWarning: Dropping following bands from data: PS1_g(out of model wavelength range)\n",
      "  warnings.warn(\"Dropping following bands from data: \" +\n",
      "/home/cassia/anaconda3/envs/sne/lib/python3.10/site-packages/iminuit/util.py:143: UserWarning: Assigned errors must be positive. Non-positive values are replaced by a heuristic.\n",
      "  warnings.warn(\n"
     ]
    },
    {
     "name": "stdout",
     "output_type": "stream",
     "text": [
      "120094 (39/282)\n"
     ]
    },
    {
     "name": "stderr",
     "output_type": "stream",
     "text": [
      "/home/cassia/anaconda3/envs/sne/lib/python3.10/site-packages/sncosmo/fitting.py:187: RuntimeWarning: Dropping following bands from data: PS1_g(out of model wavelength range)\n",
      "  warnings.warn(\"Dropping following bands from data: \" +\n",
      "/home/cassia/anaconda3/envs/sne/lib/python3.10/site-packages/iminuit/util.py:143: UserWarning: Assigned errors must be positive. Non-positive values are replaced by a heuristic.\n",
      "  warnings.warn(\n"
     ]
    },
    {
     "name": "stdout",
     "output_type": "stream",
     "text": [
      "120336 (40/282)\n"
     ]
    },
    {
     "name": "stderr",
     "output_type": "stream",
     "text": [
      "/home/cassia/anaconda3/envs/sne/lib/python3.10/site-packages/iminuit/util.py:143: UserWarning: Assigned errors must be positive. Non-positive values are replaced by a heuristic.\n",
      "  warnings.warn(\n"
     ]
    },
    {
     "name": "stdout",
     "output_type": "stream",
     "text": [
      "120400 (41/282)\n"
     ]
    },
    {
     "name": "stderr",
     "output_type": "stream",
     "text": [
      "/home/cassia/anaconda3/envs/sne/lib/python3.10/site-packages/sncosmo/fitting.py:187: RuntimeWarning: Dropping following bands from data: PS1_g(out of model wavelength range)\n",
      "  warnings.warn(\"Dropping following bands from data: \" +\n",
      "/home/cassia/anaconda3/envs/sne/lib/python3.10/site-packages/iminuit/util.py:143: UserWarning: Assigned errors must be positive. Non-positive values are replaced by a heuristic.\n",
      "  warnings.warn(\n"
     ]
    },
    {
     "name": "stdout",
     "output_type": "stream",
     "text": [
      "120585 (42/282)\n"
     ]
    },
    {
     "name": "stderr",
     "output_type": "stream",
     "text": [
      "/home/cassia/anaconda3/envs/sne/lib/python3.10/site-packages/sncosmo/fitting.py:187: RuntimeWarning: Dropping following bands from data: PS1_g(out of model wavelength range)\n",
      "  warnings.warn(\"Dropping following bands from data: \" +\n",
      "/home/cassia/anaconda3/envs/sne/lib/python3.10/site-packages/iminuit/util.py:143: UserWarning: Assigned errors must be positive. Non-positive values are replaced by a heuristic.\n",
      "  warnings.warn(\n"
     ]
    },
    {
     "name": "stdout",
     "output_type": "stream",
     "text": [
      "130308 (43/282)\n"
     ]
    },
    {
     "name": "stderr",
     "output_type": "stream",
     "text": [
      "/home/cassia/anaconda3/envs/sne/lib/python3.10/site-packages/iminuit/util.py:143: UserWarning: Assigned errors must be positive. Non-positive values are replaced by a heuristic.\n",
      "  warnings.warn(\n"
     ]
    },
    {
     "name": "stdout",
     "output_type": "stream",
     "text": [
      "130514 (44/282)\n"
     ]
    },
    {
     "name": "stderr",
     "output_type": "stream",
     "text": [
      "/home/cassia/anaconda3/envs/sne/lib/python3.10/site-packages/iminuit/util.py:143: UserWarning: Assigned errors must be positive. Non-positive values are replaced by a heuristic.\n",
      "  warnings.warn(\n"
     ]
    },
    {
     "name": "stdout",
     "output_type": "stream",
     "text": [
      "130862 (45/282)\n"
     ]
    },
    {
     "name": "stderr",
     "output_type": "stream",
     "text": [
      "/home/cassia/anaconda3/envs/sne/lib/python3.10/site-packages/sncosmo/fitting.py:187: RuntimeWarning: Dropping following bands from data: PS1_g(out of model wavelength range)\n",
      "  warnings.warn(\"Dropping following bands from data: \" +\n",
      "/home/cassia/anaconda3/envs/sne/lib/python3.10/site-packages/iminuit/util.py:143: UserWarning: Assigned errors must be positive. Non-positive values are replaced by a heuristic.\n",
      "  warnings.warn(\n"
     ]
    },
    {
     "name": "stdout",
     "output_type": "stream",
     "text": [
      "140181 (46/282)\n"
     ]
    },
    {
     "name": "stderr",
     "output_type": "stream",
     "text": [
      "/home/cassia/anaconda3/envs/sne/lib/python3.10/site-packages/iminuit/util.py:143: UserWarning: Assigned errors must be positive. Non-positive values are replaced by a heuristic.\n",
      "  warnings.warn(\n"
     ]
    },
    {
     "name": "stdout",
     "output_type": "stream",
     "text": [
      "150509 (47/282)\n"
     ]
    },
    {
     "name": "stderr",
     "output_type": "stream",
     "text": [
      "/home/cassia/anaconda3/envs/sne/lib/python3.10/site-packages/sncosmo/fitting.py:187: RuntimeWarning: Dropping following bands from data: PS1_g(out of model wavelength range)\n",
      "  warnings.warn(\"Dropping following bands from data: \" +\n",
      "/home/cassia/anaconda3/envs/sne/lib/python3.10/site-packages/iminuit/util.py:143: UserWarning: Assigned errors must be positive. Non-positive values are replaced by a heuristic.\n",
      "  warnings.warn(\n"
     ]
    },
    {
     "name": "stdout",
     "output_type": "stream",
     "text": [
      "151034 (48/282)\n"
     ]
    },
    {
     "name": "stderr",
     "output_type": "stream",
     "text": [
      "/home/cassia/anaconda3/envs/sne/lib/python3.10/site-packages/iminuit/util.py:143: UserWarning: Assigned errors must be positive. Non-positive values are replaced by a heuristic.\n",
      "  warnings.warn(\n"
     ]
    },
    {
     "name": "stdout",
     "output_type": "stream",
     "text": [
      "160039 (49/282)\n"
     ]
    },
    {
     "name": "stderr",
     "output_type": "stream",
     "text": [
      "/home/cassia/anaconda3/envs/sne/lib/python3.10/site-packages/sncosmo/fitting.py:187: RuntimeWarning: Dropping following bands from data: PS1_g(out of model wavelength range)\n",
      "  warnings.warn(\"Dropping following bands from data: \" +\n",
      "/home/cassia/anaconda3/envs/sne/lib/python3.10/site-packages/iminuit/util.py:143: UserWarning: Assigned errors must be positive. Non-positive values are replaced by a heuristic.\n",
      "  warnings.warn(\n"
     ]
    },
    {
     "name": "stdout",
     "output_type": "stream",
     "text": [
      "160099 (50/282)\n"
     ]
    },
    {
     "name": "stderr",
     "output_type": "stream",
     "text": [
      "/home/cassia/anaconda3/envs/sne/lib/python3.10/site-packages/iminuit/util.py:143: UserWarning: Assigned errors must be positive. Non-positive values are replaced by a heuristic.\n",
      "  warnings.warn(\n"
     ]
    },
    {
     "name": "stdout",
     "output_type": "stream",
     "text": [
      "160197 (51/282)\n"
     ]
    },
    {
     "name": "stderr",
     "output_type": "stream",
     "text": [
      "/home/cassia/anaconda3/envs/sne/lib/python3.10/site-packages/sncosmo/fitting.py:187: RuntimeWarning: Dropping following bands from data: PS1_g(out of model wavelength range)\n",
      "  warnings.warn(\"Dropping following bands from data: \" +\n",
      "/home/cassia/anaconda3/envs/sne/lib/python3.10/site-packages/iminuit/util.py:143: UserWarning: Assigned errors must be positive. Non-positive values are replaced by a heuristic.\n",
      "  warnings.warn(\n"
     ]
    },
    {
     "name": "stdout",
     "output_type": "stream",
     "text": [
      "160200 (52/282)\n"
     ]
    },
    {
     "name": "stderr",
     "output_type": "stream",
     "text": [
      "/home/cassia/anaconda3/envs/sne/lib/python3.10/site-packages/sncosmo/fitting.py:187: RuntimeWarning: Dropping following bands from data: PS1_g(out of model wavelength range)\n",
      "  warnings.warn(\"Dropping following bands from data: \" +\n",
      "/home/cassia/anaconda3/envs/sne/lib/python3.10/site-packages/iminuit/util.py:143: UserWarning: Assigned errors must be positive. Non-positive values are replaced by a heuristic.\n",
      "  warnings.warn(\n"
     ]
    },
    {
     "name": "stdout",
     "output_type": "stream",
     "text": [
      "170428 (53/282)\n"
     ]
    },
    {
     "name": "stderr",
     "output_type": "stream",
     "text": [
      "/home/cassia/anaconda3/envs/sne/lib/python3.10/site-packages/sncosmo/fitting.py:187: RuntimeWarning: Dropping following bands from data: PS1_g(out of model wavelength range)\n",
      "  warnings.warn(\"Dropping following bands from data: \" +\n",
      "/home/cassia/anaconda3/envs/sne/lib/python3.10/site-packages/iminuit/util.py:143: UserWarning: Assigned errors must be positive. Non-positive values are replaced by a heuristic.\n",
      "  warnings.warn(\n"
     ]
    },
    {
     "name": "stdout",
     "output_type": "stream",
     "text": [
      "180166 (54/282)\n"
     ]
    },
    {
     "name": "stderr",
     "output_type": "stream",
     "text": [
      "/home/cassia/anaconda3/envs/sne/lib/python3.10/site-packages/iminuit/util.py:143: UserWarning: Assigned errors must be positive. Non-positive values are replaced by a heuristic.\n",
      "  warnings.warn(\n"
     ]
    },
    {
     "name": "stdout",
     "output_type": "stream",
     "text": [
      "180561 (55/282)\n"
     ]
    },
    {
     "name": "stderr",
     "output_type": "stream",
     "text": [
      "/home/cassia/anaconda3/envs/sne/lib/python3.10/site-packages/sncosmo/fitting.py:187: RuntimeWarning: Dropping following bands from data: PS1_g(out of model wavelength range)\n",
      "  warnings.warn(\"Dropping following bands from data: \" +\n",
      "/home/cassia/anaconda3/envs/sne/lib/python3.10/site-packages/iminuit/util.py:143: UserWarning: Assigned errors must be positive. Non-positive values are replaced by a heuristic.\n",
      "  warnings.warn(\n"
     ]
    },
    {
     "name": "stdout",
     "output_type": "stream",
     "text": [
      "190230 (56/282)\n"
     ]
    },
    {
     "name": "stderr",
     "output_type": "stream",
     "text": [
      "/home/cassia/anaconda3/envs/sne/lib/python3.10/site-packages/iminuit/util.py:143: UserWarning: Assigned errors must be positive. Non-positive values are replaced by a heuristic.\n",
      "  warnings.warn(\n"
     ]
    },
    {
     "name": "stdout",
     "output_type": "stream",
     "text": [
      "190260 (57/282)\n"
     ]
    },
    {
     "name": "stderr",
     "output_type": "stream",
     "text": [
      "/home/cassia/anaconda3/envs/sne/lib/python3.10/site-packages/iminuit/util.py:143: UserWarning: Assigned errors must be positive. Non-positive values are replaced by a heuristic.\n",
      "  warnings.warn(\n"
     ]
    },
    {
     "name": "stdout",
     "output_type": "stream",
     "text": [
      "300105 (58/282)\n"
     ]
    },
    {
     "name": "stderr",
     "output_type": "stream",
     "text": [
      "/home/cassia/anaconda3/envs/sne/lib/python3.10/site-packages/iminuit/util.py:143: UserWarning: Assigned errors must be positive. Non-positive values are replaced by a heuristic.\n",
      "  warnings.warn(\n"
     ]
    },
    {
     "name": "stdout",
     "output_type": "stream",
     "text": [
      "310025 (59/282)\n"
     ]
    },
    {
     "name": "stderr",
     "output_type": "stream",
     "text": [
      "/home/cassia/anaconda3/envs/sne/lib/python3.10/site-packages/iminuit/util.py:143: UserWarning: Assigned errors must be positive. Non-positive values are replaced by a heuristic.\n",
      "  warnings.warn(\n"
     ]
    },
    {
     "name": "stdout",
     "output_type": "stream",
     "text": [
      "310042 (60/282)\n"
     ]
    },
    {
     "name": "stderr",
     "output_type": "stream",
     "text": [
      "/home/cassia/anaconda3/envs/sne/lib/python3.10/site-packages/sncosmo/fitting.py:187: RuntimeWarning: Dropping following bands from data: PS1_g(out of model wavelength range)\n",
      "  warnings.warn(\"Dropping following bands from data: \" +\n",
      "/home/cassia/anaconda3/envs/sne/lib/python3.10/site-packages/iminuit/util.py:143: UserWarning: Assigned errors must be positive. Non-positive values are replaced by a heuristic.\n",
      "  warnings.warn(\n"
     ]
    },
    {
     "name": "stdout",
     "output_type": "stream",
     "text": [
      "310073 (61/282)\n"
     ]
    },
    {
     "name": "stderr",
     "output_type": "stream",
     "text": [
      "/home/cassia/anaconda3/envs/sne/lib/python3.10/site-packages/iminuit/util.py:143: UserWarning: Assigned errors must be positive. Non-positive values are replaced by a heuristic.\n",
      "  warnings.warn(\n"
     ]
    },
    {
     "name": "stdout",
     "output_type": "stream",
     "text": [
      "310091 (62/282)\n"
     ]
    },
    {
     "name": "stderr",
     "output_type": "stream",
     "text": [
      "/home/cassia/anaconda3/envs/sne/lib/python3.10/site-packages/sncosmo/fitting.py:187: RuntimeWarning: Dropping following bands from data: PS1_g(out of model wavelength range)\n",
      "  warnings.warn(\"Dropping following bands from data: \" +\n",
      "/home/cassia/anaconda3/envs/sne/lib/python3.10/site-packages/iminuit/util.py:143: UserWarning: Assigned errors must be positive. Non-positive values are replaced by a heuristic.\n",
      "  warnings.warn(\n"
     ]
    },
    {
     "name": "stdout",
     "output_type": "stream",
     "text": [
      "310161 (63/282)\n"
     ]
    },
    {
     "name": "stderr",
     "output_type": "stream",
     "text": [
      "/home/cassia/anaconda3/envs/sne/lib/python3.10/site-packages/sncosmo/fitting.py:187: RuntimeWarning: Dropping following bands from data: PS1_g(out of model wavelength range)\n",
      "  warnings.warn(\"Dropping following bands from data: \" +\n",
      "/home/cassia/anaconda3/envs/sne/lib/python3.10/site-packages/iminuit/util.py:143: UserWarning: Assigned errors must be positive. Non-positive values are replaced by a heuristic.\n",
      "  warnings.warn(\n"
     ]
    },
    {
     "name": "stdout",
     "output_type": "stream",
     "text": [
      "310238 (64/282)\n"
     ]
    },
    {
     "name": "stderr",
     "output_type": "stream",
     "text": [
      "/home/cassia/anaconda3/envs/sne/lib/python3.10/site-packages/sncosmo/fitting.py:187: RuntimeWarning: Dropping following bands from data: PS1_g(out of model wavelength range)\n",
      "  warnings.warn(\"Dropping following bands from data: \" +\n",
      "/home/cassia/anaconda3/envs/sne/lib/python3.10/site-packages/iminuit/util.py:143: UserWarning: Assigned errors must be positive. Non-positive values are replaced by a heuristic.\n",
      "  warnings.warn(\n"
     ]
    },
    {
     "name": "stdout",
     "output_type": "stream",
     "text": [
      "310574 (65/282)\n"
     ]
    },
    {
     "name": "stderr",
     "output_type": "stream",
     "text": [
      "/home/cassia/anaconda3/envs/sne/lib/python3.10/site-packages/sncosmo/fitting.py:187: RuntimeWarning: Dropping following bands from data: PS1_g(out of model wavelength range)\n",
      "  warnings.warn(\"Dropping following bands from data: \" +\n",
      "/home/cassia/anaconda3/envs/sne/lib/python3.10/site-packages/iminuit/util.py:143: UserWarning: Assigned errors must be positive. Non-positive values are replaced by a heuristic.\n",
      "  warnings.warn(\n"
     ]
    },
    {
     "name": "stdout",
     "output_type": "stream",
     "text": [
      "320258 (66/282)\n"
     ]
    },
    {
     "name": "stderr",
     "output_type": "stream",
     "text": [
      "/home/cassia/anaconda3/envs/sne/lib/python3.10/site-packages/sncosmo/fitting.py:187: RuntimeWarning: Dropping following bands from data: PS1_g(out of model wavelength range)\n",
      "  warnings.warn(\"Dropping following bands from data: \" +\n",
      "/home/cassia/anaconda3/envs/sne/lib/python3.10/site-packages/iminuit/util.py:143: UserWarning: Assigned errors must be positive. Non-positive values are replaced by a heuristic.\n",
      "  warnings.warn(\n"
     ]
    },
    {
     "name": "stdout",
     "output_type": "stream",
     "text": [
      "330022 (67/282)\n"
     ]
    },
    {
     "name": "stderr",
     "output_type": "stream",
     "text": [
      "/home/cassia/anaconda3/envs/sne/lib/python3.10/site-packages/sncosmo/fitting.py:187: RuntimeWarning: Dropping following bands from data: PS1_g(out of model wavelength range)\n",
      "  warnings.warn(\"Dropping following bands from data: \" +\n",
      "/home/cassia/anaconda3/envs/sne/lib/python3.10/site-packages/iminuit/util.py:143: UserWarning: Assigned errors must be positive. Non-positive values are replaced by a heuristic.\n",
      "  warnings.warn(\n"
     ]
    },
    {
     "name": "stdout",
     "output_type": "stream",
     "text": [
      "330089 (68/282)\n"
     ]
    },
    {
     "name": "stderr",
     "output_type": "stream",
     "text": [
      "/home/cassia/anaconda3/envs/sne/lib/python3.10/site-packages/sncosmo/fitting.py:187: RuntimeWarning: Dropping following bands from data: PS1_g(out of model wavelength range)\n",
      "  warnings.warn(\"Dropping following bands from data: \" +\n",
      "/home/cassia/anaconda3/envs/sne/lib/python3.10/site-packages/iminuit/util.py:143: UserWarning: Assigned errors must be positive. Non-positive values are replaced by a heuristic.\n",
      "  warnings.warn(\n"
     ]
    },
    {
     "name": "stdout",
     "output_type": "stream",
     "text": [
      "330128 (69/282)\n"
     ]
    },
    {
     "name": "stderr",
     "output_type": "stream",
     "text": [
      "/home/cassia/anaconda3/envs/sne/lib/python3.10/site-packages/sncosmo/fitting.py:187: RuntimeWarning: Dropping following bands from data: PS1_g(out of model wavelength range)\n",
      "  warnings.warn(\"Dropping following bands from data: \" +\n",
      "/home/cassia/anaconda3/envs/sne/lib/python3.10/site-packages/iminuit/util.py:143: UserWarning: Assigned errors must be positive. Non-positive values are replaced by a heuristic.\n",
      "  warnings.warn(\n"
     ]
    },
    {
     "name": "stdout",
     "output_type": "stream",
     "text": [
      "330146 (70/282)\n"
     ]
    },
    {
     "name": "stderr",
     "output_type": "stream",
     "text": [
      "/home/cassia/anaconda3/envs/sne/lib/python3.10/site-packages/iminuit/util.py:143: UserWarning: Assigned errors must be positive. Non-positive values are replaced by a heuristic.\n",
      "  warnings.warn(\n"
     ]
    },
    {
     "name": "stdout",
     "output_type": "stream",
     "text": [
      "340334 (71/282)\n"
     ]
    },
    {
     "name": "stderr",
     "output_type": "stream",
     "text": [
      "/home/cassia/anaconda3/envs/sne/lib/python3.10/site-packages/sncosmo/fitting.py:187: RuntimeWarning: Dropping following bands from data: PS1_g(out of model wavelength range)\n",
      "  warnings.warn(\"Dropping following bands from data: \" +\n",
      "/home/cassia/anaconda3/envs/sne/lib/python3.10/site-packages/iminuit/util.py:143: UserWarning: Assigned errors must be positive. Non-positive values are replaced by a heuristic.\n",
      "  warnings.warn(\n"
     ]
    },
    {
     "name": "stdout",
     "output_type": "stream",
     "text": [
      "350047 (72/282)\n"
     ]
    },
    {
     "name": "stderr",
     "output_type": "stream",
     "text": [
      "/home/cassia/anaconda3/envs/sne/lib/python3.10/site-packages/sncosmo/fitting.py:187: RuntimeWarning: Dropping following bands from data: PS1_g(out of model wavelength range)\n",
      "  warnings.warn(\"Dropping following bands from data: \" +\n",
      "/home/cassia/anaconda3/envs/sne/lib/python3.10/site-packages/iminuit/util.py:143: UserWarning: Assigned errors must be positive. Non-positive values are replaced by a heuristic.\n",
      "  warnings.warn(\n"
     ]
    },
    {
     "name": "stdout",
     "output_type": "stream",
     "text": [
      "350078 (73/282)\n"
     ]
    },
    {
     "name": "stderr",
     "output_type": "stream",
     "text": [
      "/home/cassia/anaconda3/envs/sne/lib/python3.10/site-packages/sncosmo/fitting.py:187: RuntimeWarning: Dropping following bands from data: PS1_g(out of model wavelength range)\n",
      "  warnings.warn(\"Dropping following bands from data: \" +\n",
      "/home/cassia/anaconda3/envs/sne/lib/python3.10/site-packages/iminuit/util.py:143: UserWarning: Assigned errors must be positive. Non-positive values are replaced by a heuristic.\n",
      "  warnings.warn(\n"
     ]
    },
    {
     "name": "stdout",
     "output_type": "stream",
     "text": [
      "350083 (74/282)\n"
     ]
    },
    {
     "name": "stderr",
     "output_type": "stream",
     "text": [
      "/home/cassia/anaconda3/envs/sne/lib/python3.10/site-packages/sncosmo/fitting.py:187: RuntimeWarning: Dropping following bands from data: PS1_g(out of model wavelength range)\n",
      "  warnings.warn(\"Dropping following bands from data: \" +\n",
      "/home/cassia/anaconda3/envs/sne/lib/python3.10/site-packages/iminuit/util.py:143: UserWarning: Assigned errors must be positive. Non-positive values are replaced by a heuristic.\n",
      "  warnings.warn(\n"
     ]
    },
    {
     "name": "stdout",
     "output_type": "stream",
     "text": [
      "350233 (75/282)\n"
     ]
    },
    {
     "name": "stderr",
     "output_type": "stream",
     "text": [
      "/home/cassia/anaconda3/envs/sne/lib/python3.10/site-packages/sncosmo/fitting.py:187: RuntimeWarning: Dropping following bands from data: PS1_g(out of model wavelength range)\n",
      "  warnings.warn(\"Dropping following bands from data: \" +\n",
      "/home/cassia/anaconda3/envs/sne/lib/python3.10/site-packages/iminuit/util.py:143: UserWarning: Assigned errors must be positive. Non-positive values are replaced by a heuristic.\n",
      "  warnings.warn(\n"
     ]
    },
    {
     "name": "stdout",
     "output_type": "stream",
     "text": [
      "350316 (76/282)\n"
     ]
    },
    {
     "name": "stderr",
     "output_type": "stream",
     "text": [
      "/home/cassia/anaconda3/envs/sne/lib/python3.10/site-packages/iminuit/util.py:143: UserWarning: Assigned errors must be positive. Non-positive values are replaced by a heuristic.\n",
      "  warnings.warn(\n"
     ]
    },
    {
     "name": "stdout",
     "output_type": "stream",
     "text": [
      "350548 (77/282)\n"
     ]
    },
    {
     "name": "stderr",
     "output_type": "stream",
     "text": [
      "/home/cassia/anaconda3/envs/sne/lib/python3.10/site-packages/sncosmo/fitting.py:187: RuntimeWarning: Dropping following bands from data: PS1_g(out of model wavelength range)\n",
      "  warnings.warn(\"Dropping following bands from data: \" +\n",
      "/home/cassia/anaconda3/envs/sne/lib/python3.10/site-packages/iminuit/util.py:143: UserWarning: Assigned errors must be positive. Non-positive values are replaced by a heuristic.\n",
      "  warnings.warn(\n"
     ]
    },
    {
     "name": "stdout",
     "output_type": "stream",
     "text": [
      "360112 (78/282)\n"
     ]
    },
    {
     "name": "stderr",
     "output_type": "stream",
     "text": [
      "/home/cassia/anaconda3/envs/sne/lib/python3.10/site-packages/sncosmo/fitting.py:187: RuntimeWarning: Dropping following bands from data: PS1_g(out of model wavelength range)\n",
      "  warnings.warn(\"Dropping following bands from data: \" +\n",
      "/home/cassia/anaconda3/envs/sne/lib/python3.10/site-packages/iminuit/util.py:143: UserWarning: Assigned errors must be positive. Non-positive values are replaced by a heuristic.\n",
      "  warnings.warn(\n"
     ]
    },
    {
     "name": "stdout",
     "output_type": "stream",
     "text": [
      "360140 (79/282)\n"
     ]
    },
    {
     "name": "stderr",
     "output_type": "stream",
     "text": [
      "/home/cassia/anaconda3/envs/sne/lib/python3.10/site-packages/sncosmo/fitting.py:187: RuntimeWarning: Dropping following bands from data: PS1_g(out of model wavelength range)\n",
      "  warnings.warn(\"Dropping following bands from data: \" +\n",
      "/home/cassia/anaconda3/envs/sne/lib/python3.10/site-packages/iminuit/util.py:143: UserWarning: Assigned errors must be positive. Non-positive values are replaced by a heuristic.\n",
      "  warnings.warn(\n"
     ]
    },
    {
     "name": "stdout",
     "output_type": "stream",
     "text": [
      "360156 (80/282)\n"
     ]
    },
    {
     "name": "stderr",
     "output_type": "stream",
     "text": [
      "/home/cassia/anaconda3/envs/sne/lib/python3.10/site-packages/iminuit/util.py:143: UserWarning: Assigned errors must be positive. Non-positive values are replaced by a heuristic.\n",
      "  warnings.warn(\n"
     ]
    },
    {
     "name": "stdout",
     "output_type": "stream",
     "text": [
      "370098 (81/282)\n"
     ]
    },
    {
     "name": "stderr",
     "output_type": "stream",
     "text": [
      "/home/cassia/anaconda3/envs/sne/lib/python3.10/site-packages/sncosmo/fitting.py:187: RuntimeWarning: Dropping following bands from data: PS1_g(out of model wavelength range)\n",
      "  warnings.warn(\"Dropping following bands from data: \" +\n",
      "/home/cassia/anaconda3/envs/sne/lib/python3.10/site-packages/iminuit/util.py:143: UserWarning: Assigned errors must be positive. Non-positive values are replaced by a heuristic.\n",
      "  warnings.warn(\n"
     ]
    },
    {
     "name": "stdout",
     "output_type": "stream",
     "text": [
      "370308 (82/282)\n",
      "370333 (83/282)\n"
     ]
    },
    {
     "name": "stderr",
     "output_type": "stream",
     "text": [
      "/home/cassia/anaconda3/envs/sne/lib/python3.10/site-packages/sncosmo/fitting.py:187: RuntimeWarning: Dropping following bands from data: PS1_g(out of model wavelength range)\n",
      "  warnings.warn(\"Dropping following bands from data: \" +\n",
      "/home/cassia/anaconda3/envs/sne/lib/python3.10/site-packages/iminuit/util.py:143: UserWarning: Assigned errors must be positive. Non-positive values are replaced by a heuristic.\n",
      "  warnings.warn(\n",
      "/home/cassia/anaconda3/envs/sne/lib/python3.10/site-packages/iminuit/util.py:143: UserWarning: Assigned errors must be positive. Non-positive values are replaced by a heuristic.\n",
      "  warnings.warn(\n"
     ]
    },
    {
     "name": "stdout",
     "output_type": "stream",
     "text": [
      "370356 (84/282)\n"
     ]
    },
    {
     "name": "stderr",
     "output_type": "stream",
     "text": [
      "/home/cassia/anaconda3/envs/sne/lib/python3.10/site-packages/iminuit/util.py:143: UserWarning: Assigned errors must be positive. Non-positive values are replaced by a heuristic.\n",
      "  warnings.warn(\n"
     ]
    },
    {
     "name": "stdout",
     "output_type": "stream",
     "text": [
      "370369 (85/282)\n"
     ]
    },
    {
     "name": "stderr",
     "output_type": "stream",
     "text": [
      "/home/cassia/anaconda3/envs/sne/lib/python3.10/site-packages/sncosmo/fitting.py:187: RuntimeWarning: Dropping following bands from data: PS1_g(out of model wavelength range)\n",
      "  warnings.warn(\"Dropping following bands from data: \" +\n",
      "/home/cassia/anaconda3/envs/sne/lib/python3.10/site-packages/iminuit/util.py:143: UserWarning: Assigned errors must be positive. Non-positive values are replaced by a heuristic.\n",
      "  warnings.warn(\n"
     ]
    },
    {
     "name": "stdout",
     "output_type": "stream",
     "text": [
      "370428 (86/282)\n"
     ]
    },
    {
     "name": "stderr",
     "output_type": "stream",
     "text": [
      "/home/cassia/anaconda3/envs/sne/lib/python3.10/site-packages/sncosmo/fitting.py:187: RuntimeWarning: Dropping following bands from data: PS1_g(out of model wavelength range)\n",
      "  warnings.warn(\"Dropping following bands from data: \" +\n",
      "/home/cassia/anaconda3/envs/sne/lib/python3.10/site-packages/iminuit/util.py:143: UserWarning: Assigned errors must be positive. Non-positive values are replaced by a heuristic.\n",
      "  warnings.warn(\n"
     ]
    },
    {
     "name": "stdout",
     "output_type": "stream",
     "text": [
      "370563 (87/282)\n"
     ]
    },
    {
     "name": "stderr",
     "output_type": "stream",
     "text": [
      "/home/cassia/anaconda3/envs/sne/lib/python3.10/site-packages/sncosmo/fitting.py:187: RuntimeWarning: Dropping following bands from data: PS1_g(out of model wavelength range)\n",
      "  warnings.warn(\"Dropping following bands from data: \" +\n",
      "/home/cassia/anaconda3/envs/sne/lib/python3.10/site-packages/iminuit/util.py:143: UserWarning: Assigned errors must be positive. Non-positive values are replaced by a heuristic.\n",
      "  warnings.warn(\n"
     ]
    },
    {
     "name": "stdout",
     "output_type": "stream",
     "text": [
      "380279 (88/282)\n"
     ]
    },
    {
     "name": "stderr",
     "output_type": "stream",
     "text": [
      "/home/cassia/anaconda3/envs/sne/lib/python3.10/site-packages/sncosmo/fitting.py:187: RuntimeWarning: Dropping following bands from data: PS1_g(out of model wavelength range)\n",
      "  warnings.warn(\"Dropping following bands from data: \" +\n",
      "/home/cassia/anaconda3/envs/sne/lib/python3.10/site-packages/iminuit/util.py:143: UserWarning: Assigned errors must be positive. Non-positive values are replaced by a heuristic.\n",
      "  warnings.warn(\n"
     ]
    },
    {
     "name": "stdout",
     "output_type": "stream",
     "text": [
      "380378 (89/282)\n"
     ]
    },
    {
     "name": "stderr",
     "output_type": "stream",
     "text": [
      "/home/cassia/anaconda3/envs/sne/lib/python3.10/site-packages/sncosmo/fitting.py:187: RuntimeWarning: Dropping following bands from data: PS1_g(out of model wavelength range)\n",
      "  warnings.warn(\"Dropping following bands from data: \" +\n",
      "/home/cassia/anaconda3/envs/sne/lib/python3.10/site-packages/iminuit/util.py:143: UserWarning: Assigned errors must be positive. Non-positive values are replaced by a heuristic.\n",
      "  warnings.warn(\n"
     ]
    },
    {
     "name": "stdout",
     "output_type": "stream",
     "text": [
      "390264 (90/282)\n"
     ]
    },
    {
     "name": "stderr",
     "output_type": "stream",
     "text": [
      "/home/cassia/anaconda3/envs/sne/lib/python3.10/site-packages/sncosmo/fitting.py:187: RuntimeWarning: Dropping following bands from data: PS1_g(out of model wavelength range)\n",
      "  warnings.warn(\"Dropping following bands from data: \" +\n",
      "/home/cassia/anaconda3/envs/sne/lib/python3.10/site-packages/iminuit/util.py:143: UserWarning: Assigned errors must be positive. Non-positive values are replaced by a heuristic.\n",
      "  warnings.warn(\n"
     ]
    },
    {
     "name": "stdout",
     "output_type": "stream",
     "text": [
      "390471 (91/282)\n"
     ]
    },
    {
     "name": "stderr",
     "output_type": "stream",
     "text": [
      "/home/cassia/anaconda3/envs/sne/lib/python3.10/site-packages/sncosmo/fitting.py:187: RuntimeWarning: Dropping following bands from data: PS1_g(out of model wavelength range)\n",
      "  warnings.warn(\"Dropping following bands from data: \" +\n",
      "/home/cassia/anaconda3/envs/sne/lib/python3.10/site-packages/iminuit/util.py:143: UserWarning: Assigned errors must be positive. Non-positive values are replaced by a heuristic.\n",
      "  warnings.warn(\n"
     ]
    },
    {
     "name": "stdout",
     "output_type": "stream",
     "text": [
      "420100 (92/282)\n"
     ]
    },
    {
     "name": "stderr",
     "output_type": "stream",
     "text": [
      "/home/cassia/anaconda3/envs/sne/lib/python3.10/site-packages/iminuit/util.py:143: UserWarning: Assigned errors must be positive. Non-positive values are replaced by a heuristic.\n",
      "  warnings.warn(\n"
     ]
    },
    {
     "name": "stdout",
     "output_type": "stream",
     "text": [
      "420159 (93/282)\n"
     ]
    },
    {
     "name": "stderr",
     "output_type": "stream",
     "text": [
      "/home/cassia/anaconda3/envs/sne/lib/python3.10/site-packages/sncosmo/fitting.py:187: RuntimeWarning: Dropping following bands from data: PS1_g(out of model wavelength range)\n",
      "  warnings.warn(\"Dropping following bands from data: \" +\n",
      "/home/cassia/anaconda3/envs/sne/lib/python3.10/site-packages/iminuit/util.py:143: UserWarning: Assigned errors must be positive. Non-positive values are replaced by a heuristic.\n",
      "  warnings.warn(\n"
     ]
    },
    {
     "name": "stdout",
     "output_type": "stream",
     "text": [
      "420258 (94/282)\n"
     ]
    },
    {
     "name": "stderr",
     "output_type": "stream",
     "text": [
      "/home/cassia/anaconda3/envs/sne/lib/python3.10/site-packages/sncosmo/fitting.py:187: RuntimeWarning: Dropping following bands from data: PS1_g(out of model wavelength range)\n",
      "  warnings.warn(\"Dropping following bands from data: \" +\n",
      "/home/cassia/anaconda3/envs/sne/lib/python3.10/site-packages/iminuit/util.py:143: UserWarning: Assigned errors must be positive. Non-positive values are replaced by a heuristic.\n",
      "  warnings.warn(\n"
     ]
    },
    {
     "name": "stdout",
     "output_type": "stream",
     "text": [
      "420407 (95/282)\n"
     ]
    },
    {
     "name": "stderr",
     "output_type": "stream",
     "text": [
      "/home/cassia/anaconda3/envs/sne/lib/python3.10/site-packages/sncosmo/fitting.py:187: RuntimeWarning: Dropping following bands from data: PS1_g(out of model wavelength range)\n",
      "  warnings.warn(\"Dropping following bands from data: \" +\n",
      "/home/cassia/anaconda3/envs/sne/lib/python3.10/site-packages/iminuit/util.py:143: UserWarning: Assigned errors must be positive. Non-positive values are replaced by a heuristic.\n",
      "  warnings.warn(\n"
     ]
    },
    {
     "name": "stdout",
     "output_type": "stream",
     "text": [
      "420417 (96/282)\n"
     ]
    },
    {
     "name": "stderr",
     "output_type": "stream",
     "text": [
      "/home/cassia/anaconda3/envs/sne/lib/python3.10/site-packages/sncosmo/fitting.py:187: RuntimeWarning: Dropping following bands from data: PS1_g(out of model wavelength range)\n",
      "  warnings.warn(\"Dropping following bands from data: \" +\n",
      "/home/cassia/anaconda3/envs/sne/lib/python3.10/site-packages/iminuit/util.py:143: UserWarning: Assigned errors must be positive. Non-positive values are replaced by a heuristic.\n",
      "  warnings.warn(\n"
     ]
    },
    {
     "name": "stdout",
     "output_type": "stream",
     "text": [
      "430004 (97/282)\n"
     ]
    },
    {
     "name": "stderr",
     "output_type": "stream",
     "text": [
      "/home/cassia/anaconda3/envs/sne/lib/python3.10/site-packages/sncosmo/fitting.py:187: RuntimeWarning: Dropping following bands from data: PS1_g(out of model wavelength range)\n",
      "  warnings.warn(\"Dropping following bands from data: \" +\n",
      "/home/cassia/anaconda3/envs/sne/lib/python3.10/site-packages/iminuit/util.py:143: UserWarning: Assigned errors must be positive. Non-positive values are replaced by a heuristic.\n",
      "  warnings.warn(\n"
     ]
    },
    {
     "name": "stdout",
     "output_type": "stream",
     "text": [
      "440008 (98/282)\n"
     ]
    },
    {
     "name": "stderr",
     "output_type": "stream",
     "text": [
      "/home/cassia/anaconda3/envs/sne/lib/python3.10/site-packages/iminuit/util.py:143: UserWarning: Assigned errors must be positive. Non-positive values are replaced by a heuristic.\n",
      "  warnings.warn(\n"
     ]
    },
    {
     "name": "stdout",
     "output_type": "stream",
     "text": [
      "440042 (99/282)\n"
     ]
    },
    {
     "name": "stderr",
     "output_type": "stream",
     "text": [
      "/home/cassia/anaconda3/envs/sne/lib/python3.10/site-packages/iminuit/util.py:143: UserWarning: Assigned errors must be positive. Non-positive values are replaced by a heuristic.\n",
      "  warnings.warn(\n"
     ]
    },
    {
     "name": "stdout",
     "output_type": "stream",
     "text": [
      "440162 (100/282)\n"
     ]
    },
    {
     "name": "stderr",
     "output_type": "stream",
     "text": [
      "/home/cassia/anaconda3/envs/sne/lib/python3.10/site-packages/sncosmo/fitting.py:187: RuntimeWarning: Dropping following bands from data: PS1_g(out of model wavelength range)\n",
      "  warnings.warn(\"Dropping following bands from data: \" +\n",
      "/home/cassia/anaconda3/envs/sne/lib/python3.10/site-packages/iminuit/util.py:143: UserWarning: Assigned errors must be positive. Non-positive values are replaced by a heuristic.\n",
      "  warnings.warn(\n"
     ]
    },
    {
     "name": "stdout",
     "output_type": "stream",
     "text": [
      "440509 (101/282)\n"
     ]
    },
    {
     "name": "stderr",
     "output_type": "stream",
     "text": [
      "/home/cassia/anaconda3/envs/sne/lib/python3.10/site-packages/sncosmo/fitting.py:187: RuntimeWarning: Dropping following bands from data: PS1_g(out of model wavelength range)\n",
      "  warnings.warn(\"Dropping following bands from data: \" +\n",
      "/home/cassia/anaconda3/envs/sne/lib/python3.10/site-packages/iminuit/util.py:143: UserWarning: Assigned errors must be positive. Non-positive values are replaced by a heuristic.\n",
      "  warnings.warn(\n"
     ]
    },
    {
     "name": "stdout",
     "output_type": "stream",
     "text": [
      "450175 (102/282)\n"
     ]
    },
    {
     "name": "stderr",
     "output_type": "stream",
     "text": [
      "/home/cassia/anaconda3/envs/sne/lib/python3.10/site-packages/sncosmo/fitting.py:187: RuntimeWarning: Dropping following bands from data: PS1_g(out of model wavelength range)\n",
      "  warnings.warn(\"Dropping following bands from data: \" +\n",
      "/home/cassia/anaconda3/envs/sne/lib/python3.10/site-packages/iminuit/util.py:143: UserWarning: Assigned errors must be positive. Non-positive values are replaced by a heuristic.\n",
      "  warnings.warn(\n"
     ]
    },
    {
     "name": "stdout",
     "output_type": "stream",
     "text": [
      "460003 (103/282)\n"
     ]
    },
    {
     "name": "stderr",
     "output_type": "stream",
     "text": [
      "/home/cassia/anaconda3/envs/sne/lib/python3.10/site-packages/iminuit/util.py:143: UserWarning: Assigned errors must be positive. Non-positive values are replaced by a heuristic.\n",
      "  warnings.warn(\n"
     ]
    },
    {
     "name": "stdout",
     "output_type": "stream",
     "text": [
      "460037 (104/282)\n"
     ]
    },
    {
     "name": "stderr",
     "output_type": "stream",
     "text": [
      "/home/cassia/anaconda3/envs/sne/lib/python3.10/site-packages/sncosmo/fitting.py:187: RuntimeWarning: Dropping following bands from data: PS1_g(out of model wavelength range)\n",
      "  warnings.warn(\"Dropping following bands from data: \" +\n",
      "/home/cassia/anaconda3/envs/sne/lib/python3.10/site-packages/iminuit/util.py:143: UserWarning: Assigned errors must be positive. Non-positive values are replaced by a heuristic.\n",
      "  warnings.warn(\n"
     ]
    },
    {
     "name": "stdout",
     "output_type": "stream",
     "text": [
      "460105 (105/282)\n"
     ]
    },
    {
     "name": "stderr",
     "output_type": "stream",
     "text": [
      "/home/cassia/anaconda3/envs/sne/lib/python3.10/site-packages/sncosmo/fitting.py:187: RuntimeWarning: Dropping following bands from data: PS1_g(out of model wavelength range)\n",
      "  warnings.warn(\"Dropping following bands from data: \" +\n",
      "/home/cassia/anaconda3/envs/sne/lib/python3.10/site-packages/iminuit/util.py:143: UserWarning: Assigned errors must be positive. Non-positive values are replaced by a heuristic.\n",
      "  warnings.warn(\n"
     ]
    },
    {
     "name": "stdout",
     "output_type": "stream",
     "text": [
      "470008 (106/282)\n"
     ]
    },
    {
     "name": "stderr",
     "output_type": "stream",
     "text": [
      "/home/cassia/anaconda3/envs/sne/lib/python3.10/site-packages/sncosmo/fitting.py:187: RuntimeWarning: Dropping following bands from data: PS1_g(out of model wavelength range)\n",
      "  warnings.warn(\"Dropping following bands from data: \" +\n",
      "/home/cassia/anaconda3/envs/sne/lib/python3.10/site-packages/iminuit/util.py:143: UserWarning: Assigned errors must be positive. Non-positive values are replaced by a heuristic.\n",
      "  warnings.warn(\n"
     ]
    },
    {
     "name": "stdout",
     "output_type": "stream",
     "text": [
      "470041 (107/282)\n"
     ]
    },
    {
     "name": "stderr",
     "output_type": "stream",
     "text": [
      "/home/cassia/anaconda3/envs/sne/lib/python3.10/site-packages/sncosmo/fitting.py:187: RuntimeWarning: Dropping following bands from data: PS1_g(out of model wavelength range)\n",
      "  warnings.warn(\"Dropping following bands from data: \" +\n",
      "/home/cassia/anaconda3/envs/sne/lib/python3.10/site-packages/iminuit/util.py:143: UserWarning: Assigned errors must be positive. Non-positive values are replaced by a heuristic.\n",
      "  warnings.warn(\n"
     ]
    },
    {
     "name": "stdout",
     "output_type": "stream",
     "text": [
      "470232 (108/282)\n"
     ]
    },
    {
     "name": "stderr",
     "output_type": "stream",
     "text": [
      "/home/cassia/anaconda3/envs/sne/lib/python3.10/site-packages/sncosmo/fitting.py:187: RuntimeWarning: Dropping following bands from data: PS1_g(out of model wavelength range)\n",
      "  warnings.warn(\"Dropping following bands from data: \" +\n",
      "/home/cassia/anaconda3/envs/sne/lib/python3.10/site-packages/iminuit/util.py:143: UserWarning: Assigned errors must be positive. Non-positive values are replaced by a heuristic.\n",
      "  warnings.warn(\n"
     ]
    },
    {
     "name": "stdout",
     "output_type": "stream",
     "text": [
      "470244 (109/282)\n"
     ]
    },
    {
     "name": "stderr",
     "output_type": "stream",
     "text": [
      "/home/cassia/anaconda3/envs/sne/lib/python3.10/site-packages/sncosmo/fitting.py:187: RuntimeWarning: Dropping following bands from data: PS1_g(out of model wavelength range)\n",
      "  warnings.warn(\"Dropping following bands from data: \" +\n",
      "/home/cassia/anaconda3/envs/sne/lib/python3.10/site-packages/iminuit/util.py:143: UserWarning: Assigned errors must be positive. Non-positive values are replaced by a heuristic.\n",
      "  warnings.warn(\n"
     ]
    },
    {
     "name": "stdout",
     "output_type": "stream",
     "text": [
      "480064 (110/282)\n"
     ]
    },
    {
     "name": "stderr",
     "output_type": "stream",
     "text": [
      "/home/cassia/anaconda3/envs/sne/lib/python3.10/site-packages/sncosmo/fitting.py:187: RuntimeWarning: Dropping following bands from data: PS1_g(out of model wavelength range)\n",
      "  warnings.warn(\"Dropping following bands from data: \" +\n",
      "/home/cassia/anaconda3/envs/sne/lib/python3.10/site-packages/iminuit/util.py:143: UserWarning: Assigned errors must be positive. Non-positive values are replaced by a heuristic.\n",
      "  warnings.warn(\n"
     ]
    },
    {
     "name": "stdout",
     "output_type": "stream",
     "text": [
      "480464 (111/282)\n"
     ]
    },
    {
     "name": "stderr",
     "output_type": "stream",
     "text": [
      "/home/cassia/anaconda3/envs/sne/lib/python3.10/site-packages/sncosmo/fitting.py:187: RuntimeWarning: Dropping following bands from data: PS1_g(out of model wavelength range)\n",
      "  warnings.warn(\"Dropping following bands from data: \" +\n",
      "/home/cassia/anaconda3/envs/sne/lib/python3.10/site-packages/iminuit/util.py:143: UserWarning: Assigned errors must be positive. Non-positive values are replaced by a heuristic.\n",
      "  warnings.warn(\n"
     ]
    },
    {
     "name": "stdout",
     "output_type": "stream",
     "text": [
      "490008 (112/282)\n"
     ]
    },
    {
     "name": "stderr",
     "output_type": "stream",
     "text": [
      "/home/cassia/anaconda3/envs/sne/lib/python3.10/site-packages/iminuit/util.py:143: UserWarning: Assigned errors must be positive. Non-positive values are replaced by a heuristic.\n",
      "  warnings.warn(\n"
     ]
    },
    {
     "name": "stdout",
     "output_type": "stream",
     "text": [
      "490521 (113/282)\n"
     ]
    },
    {
     "name": "stderr",
     "output_type": "stream",
     "text": [
      "/home/cassia/anaconda3/envs/sne/lib/python3.10/site-packages/sncosmo/fitting.py:187: RuntimeWarning: Dropping following bands from data: PS1_g(out of model wavelength range)\n",
      "  warnings.warn(\"Dropping following bands from data: \" +\n",
      "/home/cassia/anaconda3/envs/sne/lib/python3.10/site-packages/iminuit/util.py:143: UserWarning: Assigned errors must be positive. Non-positive values are replaced by a heuristic.\n",
      "  warnings.warn(\n"
     ]
    },
    {
     "name": "stdout",
     "output_type": "stream",
     "text": [
      "500004 (114/282)\n"
     ]
    },
    {
     "name": "stderr",
     "output_type": "stream",
     "text": [
      "/home/cassia/anaconda3/envs/sne/lib/python3.10/site-packages/sncosmo/fitting.py:187: RuntimeWarning: Dropping following bands from data: PS1_g(out of model wavelength range)\n",
      "  warnings.warn(\"Dropping following bands from data: \" +\n",
      "/home/cassia/anaconda3/envs/sne/lib/python3.10/site-packages/iminuit/util.py:143: UserWarning: Assigned errors must be positive. Non-positive values are replaced by a heuristic.\n",
      "  warnings.warn(\n"
     ]
    },
    {
     "name": "stdout",
     "output_type": "stream",
     "text": [
      "500057 (115/282)\n"
     ]
    },
    {
     "name": "stderr",
     "output_type": "stream",
     "text": [
      "/home/cassia/anaconda3/envs/sne/lib/python3.10/site-packages/sncosmo/fitting.py:187: RuntimeWarning: Dropping following bands from data: PS1_g(out of model wavelength range)\n",
      "  warnings.warn(\"Dropping following bands from data: \" +\n",
      "/home/cassia/anaconda3/envs/sne/lib/python3.10/site-packages/iminuit/util.py:143: UserWarning: Assigned errors must be positive. Non-positive values are replaced by a heuristic.\n",
      "  warnings.warn(\n"
     ]
    },
    {
     "name": "stdout",
     "output_type": "stream",
     "text": [
      "500100 (116/282)\n"
     ]
    },
    {
     "name": "stderr",
     "output_type": "stream",
     "text": [
      "/home/cassia/anaconda3/envs/sne/lib/python3.10/site-packages/sncosmo/fitting.py:187: RuntimeWarning: Dropping following bands from data: PS1_g(out of model wavelength range)\n",
      "  warnings.warn(\"Dropping following bands from data: \" +\n",
      "/home/cassia/anaconda3/envs/sne/lib/python3.10/site-packages/iminuit/util.py:143: UserWarning: Assigned errors must be positive. Non-positive values are replaced by a heuristic.\n",
      "  warnings.warn(\n"
     ]
    },
    {
     "name": "stdout",
     "output_type": "stream",
     "text": [
      "500504 (117/282)\n"
     ]
    },
    {
     "name": "stderr",
     "output_type": "stream",
     "text": [
      "/home/cassia/anaconda3/envs/sne/lib/python3.10/site-packages/sncosmo/fitting.py:187: RuntimeWarning: Dropping following bands from data: PS1_g(out of model wavelength range)\n",
      "  warnings.warn(\"Dropping following bands from data: \" +\n",
      "/home/cassia/anaconda3/envs/sne/lib/python3.10/site-packages/iminuit/util.py:143: UserWarning: Assigned errors must be positive. Non-positive values are replaced by a heuristic.\n",
      "  warnings.warn(\n"
     ]
    },
    {
     "name": "stdout",
     "output_type": "stream",
     "text": [
      "510251 (118/282)\n"
     ]
    },
    {
     "name": "stderr",
     "output_type": "stream",
     "text": [
      "/home/cassia/anaconda3/envs/sne/lib/python3.10/site-packages/sncosmo/fitting.py:187: RuntimeWarning: Dropping following bands from data: PS1_g(out of model wavelength range)\n",
      "  warnings.warn(\"Dropping following bands from data: \" +\n",
      "/home/cassia/anaconda3/envs/sne/lib/python3.10/site-packages/iminuit/util.py:143: UserWarning: Assigned errors must be positive. Non-positive values are replaced by a heuristic.\n",
      "  warnings.warn(\n"
     ]
    },
    {
     "name": "stdout",
     "output_type": "stream",
     "text": [
      "510457 (119/282)\n"
     ]
    },
    {
     "name": "stderr",
     "output_type": "stream",
     "text": [
      "/home/cassia/anaconda3/envs/sne/lib/python3.10/site-packages/sncosmo/fitting.py:187: RuntimeWarning: Dropping following bands from data: PS1_g(out of model wavelength range)\n",
      "  warnings.warn(\"Dropping following bands from data: \" +\n",
      "/home/cassia/anaconda3/envs/sne/lib/python3.10/site-packages/iminuit/util.py:143: UserWarning: Assigned errors must be positive. Non-positive values are replaced by a heuristic.\n",
      "  warnings.warn(\n"
     ]
    },
    {
     "name": "stdout",
     "output_type": "stream",
     "text": [
      "510578 (120/282)\n"
     ]
    },
    {
     "name": "stderr",
     "output_type": "stream",
     "text": [
      "/home/cassia/anaconda3/envs/sne/lib/python3.10/site-packages/sncosmo/fitting.py:187: RuntimeWarning: Dropping following bands from data: PS1_g(out of model wavelength range)\n",
      "  warnings.warn(\"Dropping following bands from data: \" +\n",
      "/home/cassia/anaconda3/envs/sne/lib/python3.10/site-packages/iminuit/util.py:143: UserWarning: Assigned errors must be positive. Non-positive values are replaced by a heuristic.\n",
      "  warnings.warn(\n"
     ]
    },
    {
     "name": "stdout",
     "output_type": "stream",
     "text": [
      "510638 (121/282)\n"
     ]
    },
    {
     "name": "stderr",
     "output_type": "stream",
     "text": [
      "/home/cassia/anaconda3/envs/sne/lib/python3.10/site-packages/sncosmo/fitting.py:187: RuntimeWarning: Dropping following bands from data: PS1_g(out of model wavelength range)\n",
      "  warnings.warn(\"Dropping following bands from data: \" +\n",
      "/home/cassia/anaconda3/envs/sne/lib/python3.10/site-packages/iminuit/util.py:143: UserWarning: Assigned errors must be positive. Non-positive values are replaced by a heuristic.\n",
      "  warnings.warn(\n"
     ]
    },
    {
     "name": "stdout",
     "output_type": "stream",
     "text": [
      "520019 (122/282)\n"
     ]
    },
    {
     "name": "stderr",
     "output_type": "stream",
     "text": [
      "/home/cassia/anaconda3/envs/sne/lib/python3.10/site-packages/sncosmo/fitting.py:187: RuntimeWarning: Dropping following bands from data: PS1_g(out of model wavelength range)\n",
      "  warnings.warn(\"Dropping following bands from data: \" +\n",
      "/home/cassia/anaconda3/envs/sne/lib/python3.10/site-packages/iminuit/util.py:143: UserWarning: Assigned errors must be positive. Non-positive values are replaced by a heuristic.\n",
      "  warnings.warn(\n"
     ]
    },
    {
     "name": "stdout",
     "output_type": "stream",
     "text": [
      "E VariableMetricBuilder Initial matrix not pos.def.\n",
      "520023 (123/282)\n"
     ]
    },
    {
     "name": "stderr",
     "output_type": "stream",
     "text": [
      "/home/cassia/anaconda3/envs/sne/lib/python3.10/site-packages/sncosmo/fitting.py:187: RuntimeWarning: Dropping following bands from data: PS1_g(out of model wavelength range)\n",
      "  warnings.warn(\"Dropping following bands from data: \" +\n",
      "/home/cassia/anaconda3/envs/sne/lib/python3.10/site-packages/iminuit/util.py:143: UserWarning: Assigned errors must be positive. Non-positive values are replaced by a heuristic.\n",
      "  warnings.warn(\n"
     ]
    },
    {
     "name": "stdout",
     "output_type": "stream",
     "text": [
      "520062 (124/282)\n"
     ]
    },
    {
     "name": "stderr",
     "output_type": "stream",
     "text": [
      "/home/cassia/anaconda3/envs/sne/lib/python3.10/site-packages/sncosmo/fitting.py:187: RuntimeWarning: Dropping following bands from data: PS1_g(out of model wavelength range)\n",
      "  warnings.warn(\"Dropping following bands from data: \" +\n",
      "/home/cassia/anaconda3/envs/sne/lib/python3.10/site-packages/iminuit/util.py:143: UserWarning: Assigned errors must be positive. Non-positive values are replaced by a heuristic.\n",
      "  warnings.warn(\n"
     ]
    },
    {
     "name": "stdout",
     "output_type": "stream",
     "text": [
      "520077 (125/282)\n"
     ]
    },
    {
     "name": "stderr",
     "output_type": "stream",
     "text": [
      "/home/cassia/anaconda3/envs/sne/lib/python3.10/site-packages/sncosmo/fitting.py:187: RuntimeWarning: Dropping following bands from data: PS1_g(out of model wavelength range)\n",
      "  warnings.warn(\"Dropping following bands from data: \" +\n",
      "/home/cassia/anaconda3/envs/sne/lib/python3.10/site-packages/iminuit/util.py:143: UserWarning: Assigned errors must be positive. Non-positive values are replaced by a heuristic.\n",
      "  warnings.warn(\n"
     ]
    },
    {
     "name": "stdout",
     "output_type": "stream",
     "text": [
      "520188 (126/282)\n"
     ]
    },
    {
     "name": "stderr",
     "output_type": "stream",
     "text": [
      "/home/cassia/anaconda3/envs/sne/lib/python3.10/site-packages/sncosmo/fitting.py:187: RuntimeWarning: Dropping following bands from data: PS1_g(out of model wavelength range)\n",
      "  warnings.warn(\"Dropping following bands from data: \" +\n",
      "/home/cassia/anaconda3/envs/sne/lib/python3.10/site-packages/iminuit/util.py:143: UserWarning: Assigned errors must be positive. Non-positive values are replaced by a heuristic.\n",
      "  warnings.warn(\n"
     ]
    },
    {
     "name": "stdout",
     "output_type": "stream",
     "text": [
      "530112 (127/282)\n"
     ]
    },
    {
     "name": "stderr",
     "output_type": "stream",
     "text": [
      "/home/cassia/anaconda3/envs/sne/lib/python3.10/site-packages/sncosmo/fitting.py:187: RuntimeWarning: Dropping following bands from data: PS1_g(out of model wavelength range)\n",
      "  warnings.warn(\"Dropping following bands from data: \" +\n",
      "/home/cassia/anaconda3/envs/sne/lib/python3.10/site-packages/iminuit/util.py:143: UserWarning: Assigned errors must be positive. Non-positive values are replaced by a heuristic.\n",
      "  warnings.warn(\n"
     ]
    },
    {
     "name": "stdout",
     "output_type": "stream",
     "text": [
      "530219 (128/282)\n"
     ]
    },
    {
     "name": "stderr",
     "output_type": "stream",
     "text": [
      "/home/cassia/anaconda3/envs/sne/lib/python3.10/site-packages/sncosmo/fitting.py:187: RuntimeWarning: Dropping following bands from data: PS1_g(out of model wavelength range)\n",
      "  warnings.warn(\"Dropping following bands from data: \" +\n",
      "/home/cassia/anaconda3/envs/sne/lib/python3.10/site-packages/iminuit/util.py:143: UserWarning: Assigned errors must be positive. Non-positive values are replaced by a heuristic.\n",
      "  warnings.warn(\n"
     ]
    },
    {
     "name": "stdout",
     "output_type": "stream",
     "text": [
      "540163 (129/282)\n"
     ]
    },
    {
     "name": "stderr",
     "output_type": "stream",
     "text": [
      "/home/cassia/anaconda3/envs/sne/lib/python3.10/site-packages/sncosmo/fitting.py:187: RuntimeWarning: Dropping following bands from data: PS1_g(out of model wavelength range)\n",
      "  warnings.warn(\"Dropping following bands from data: \" +\n",
      "/home/cassia/anaconda3/envs/sne/lib/python3.10/site-packages/iminuit/util.py:143: UserWarning: Assigned errors must be positive. Non-positive values are replaced by a heuristic.\n",
      "  warnings.warn(\n"
     ]
    },
    {
     "name": "stdout",
     "output_type": "stream",
     "text": [
      "550041 (130/282)\n"
     ]
    },
    {
     "name": "stderr",
     "output_type": "stream",
     "text": [
      "/home/cassia/anaconda3/envs/sne/lib/python3.10/site-packages/sncosmo/fitting.py:187: RuntimeWarning: Dropping following bands from data: PS1_g(out of model wavelength range)\n",
      "  warnings.warn(\"Dropping following bands from data: \" +\n",
      "/home/cassia/anaconda3/envs/sne/lib/python3.10/site-packages/iminuit/util.py:143: UserWarning: Assigned errors must be positive. Non-positive values are replaced by a heuristic.\n",
      "  warnings.warn(\n"
     ]
    },
    {
     "name": "stdout",
     "output_type": "stream",
     "text": [
      "550096 (131/282)\n"
     ]
    },
    {
     "name": "stderr",
     "output_type": "stream",
     "text": [
      "/home/cassia/anaconda3/envs/sne/lib/python3.10/site-packages/sncosmo/fitting.py:187: RuntimeWarning: Dropping following bands from data: PS1_g(out of model wavelength range)\n",
      "  warnings.warn(\"Dropping following bands from data: \" +\n",
      "/home/cassia/anaconda3/envs/sne/lib/python3.10/site-packages/iminuit/util.py:143: UserWarning: Assigned errors must be positive. Non-positive values are replaced by a heuristic.\n",
      "  warnings.warn(\n"
     ]
    },
    {
     "name": "stdout",
     "output_type": "stream",
     "text": [
      "550154 (132/282)\n"
     ]
    },
    {
     "name": "stderr",
     "output_type": "stream",
     "text": [
      "/home/cassia/anaconda3/envs/sne/lib/python3.10/site-packages/sncosmo/fitting.py:187: RuntimeWarning: Dropping following bands from data: PS1_g(out of model wavelength range)\n",
      "  warnings.warn(\"Dropping following bands from data: \" +\n",
      "/home/cassia/anaconda3/envs/sne/lib/python3.10/site-packages/iminuit/util.py:143: UserWarning: Assigned errors must be positive. Non-positive values are replaced by a heuristic.\n",
      "  warnings.warn(\n"
     ]
    },
    {
     "name": "stdout",
     "output_type": "stream",
     "text": [
      "550218 (133/282)\n"
     ]
    },
    {
     "name": "stderr",
     "output_type": "stream",
     "text": [
      "/home/cassia/anaconda3/envs/sne/lib/python3.10/site-packages/sncosmo/fitting.py:187: RuntimeWarning: Dropping following bands from data: PS1_g(out of model wavelength range)\n",
      "  warnings.warn(\"Dropping following bands from data: \" +\n",
      "/home/cassia/anaconda3/envs/sne/lib/python3.10/site-packages/iminuit/util.py:143: UserWarning: Assigned errors must be positive. Non-positive values are replaced by a heuristic.\n",
      "  warnings.warn(\n"
     ]
    },
    {
     "name": "stdout",
     "output_type": "stream",
     "text": [
      "560087 (134/282)\n"
     ]
    },
    {
     "name": "stderr",
     "output_type": "stream",
     "text": [
      "/home/cassia/anaconda3/envs/sne/lib/python3.10/site-packages/sncosmo/fitting.py:187: RuntimeWarning: Dropping following bands from data: PS1_g(out of model wavelength range)\n",
      "  warnings.warn(\"Dropping following bands from data: \" +\n",
      "/home/cassia/anaconda3/envs/sne/lib/python3.10/site-packages/iminuit/util.py:143: UserWarning: Assigned errors must be positive. Non-positive values are replaced by a heuristic.\n",
      "  warnings.warn(\n"
     ]
    },
    {
     "name": "stdout",
     "output_type": "stream",
     "text": [
      "560121 (135/282)\n"
     ]
    },
    {
     "name": "stderr",
     "output_type": "stream",
     "text": [
      "/home/cassia/anaconda3/envs/sne/lib/python3.10/site-packages/sncosmo/fitting.py:187: RuntimeWarning: Dropping following bands from data: PS1_g(out of model wavelength range)\n",
      "  warnings.warn(\"Dropping following bands from data: \" +\n",
      "/home/cassia/anaconda3/envs/sne/lib/python3.10/site-packages/iminuit/util.py:143: UserWarning: Assigned errors must be positive. Non-positive values are replaced by a heuristic.\n",
      "  warnings.warn(\n"
     ]
    },
    {
     "name": "stdout",
     "output_type": "stream",
     "text": [
      "560152 (136/282)\n"
     ]
    },
    {
     "name": "stderr",
     "output_type": "stream",
     "text": [
      "/home/cassia/anaconda3/envs/sne/lib/python3.10/site-packages/sncosmo/fitting.py:187: RuntimeWarning: Dropping following bands from data: PS1_g(out of model wavelength range)\n",
      "  warnings.warn(\"Dropping following bands from data: \" +\n",
      "/home/cassia/anaconda3/envs/sne/lib/python3.10/site-packages/iminuit/util.py:143: UserWarning: Assigned errors must be positive. Non-positive values are replaced by a heuristic.\n",
      "  warnings.warn(\n"
     ]
    },
    {
     "name": "stdout",
     "output_type": "stream",
     "text": [
      "570025 (137/282)\n",
      "570062 (138/282)\n"
     ]
    },
    {
     "name": "stderr",
     "output_type": "stream",
     "text": [
      "/home/cassia/anaconda3/envs/sne/lib/python3.10/site-packages/sncosmo/fitting.py:187: RuntimeWarning: Dropping following bands from data: PS1_g(out of model wavelength range)\n",
      "  warnings.warn(\"Dropping following bands from data: \" +\n",
      "/home/cassia/anaconda3/envs/sne/lib/python3.10/site-packages/iminuit/util.py:143: UserWarning: Assigned errors must be positive. Non-positive values are replaced by a heuristic.\n",
      "  warnings.warn(\n",
      "/home/cassia/anaconda3/envs/sne/lib/python3.10/site-packages/iminuit/util.py:143: UserWarning: Assigned errors must be positive. Non-positive values are replaced by a heuristic.\n",
      "  warnings.warn(\n"
     ]
    },
    {
     "name": "stdout",
     "output_type": "stream",
     "text": [
      "580235 (139/282)\n"
     ]
    },
    {
     "name": "stderr",
     "output_type": "stream",
     "text": [
      "/home/cassia/anaconda3/envs/sne/lib/python3.10/site-packages/sncosmo/fitting.py:187: RuntimeWarning: Dropping following bands from data: PS1_g(out of model wavelength range)\n",
      "  warnings.warn(\"Dropping following bands from data: \" +\n",
      "/home/cassia/anaconda3/envs/sne/lib/python3.10/site-packages/iminuit/util.py:143: UserWarning: Assigned errors must be positive. Non-positive values are replaced by a heuristic.\n",
      "  warnings.warn(\n"
     ]
    },
    {
     "name": "stdout",
     "output_type": "stream",
     "text": [
      "580275 (140/282)\n"
     ]
    },
    {
     "name": "stderr",
     "output_type": "stream",
     "text": [
      "/home/cassia/anaconda3/envs/sne/lib/python3.10/site-packages/sncosmo/fitting.py:187: RuntimeWarning: Dropping following bands from data: PS1_g(out of model wavelength range)\n",
      "  warnings.warn(\"Dropping following bands from data: \" +\n",
      "/home/cassia/anaconda3/envs/sne/lib/python3.10/site-packages/iminuit/util.py:143: UserWarning: Assigned errors must be positive. Non-positive values are replaced by a heuristic.\n",
      "  warnings.warn(\n"
     ]
    },
    {
     "name": "stdout",
     "output_type": "stream",
     "text": [
      "580300 (141/282)\n"
     ]
    },
    {
     "name": "stderr",
     "output_type": "stream",
     "text": [
      "/home/cassia/anaconda3/envs/sne/lib/python3.10/site-packages/sncosmo/fitting.py:187: RuntimeWarning: Dropping following bands from data: PS1_g(out of model wavelength range)\n",
      "  warnings.warn(\"Dropping following bands from data: \" +\n",
      "/home/cassia/anaconda3/envs/sne/lib/python3.10/site-packages/iminuit/util.py:143: UserWarning: Assigned errors must be positive. Non-positive values are replaced by a heuristic.\n",
      "  warnings.warn(\n"
     ]
    },
    {
     "name": "stdout",
     "output_type": "stream",
     "text": [
      "590005 (142/282)\n"
     ]
    },
    {
     "name": "stderr",
     "output_type": "stream",
     "text": [
      "/home/cassia/anaconda3/envs/sne/lib/python3.10/site-packages/sncosmo/fitting.py:187: RuntimeWarning: Dropping following bands from data: PS1_g(out of model wavelength range)\n",
      "  warnings.warn(\"Dropping following bands from data: \" +\n",
      "/home/cassia/anaconda3/envs/sne/lib/python3.10/site-packages/iminuit/util.py:143: UserWarning: Assigned errors must be positive. Non-positive values are replaced by a heuristic.\n",
      "  warnings.warn(\n"
     ]
    },
    {
     "name": "stdout",
     "output_type": "stream",
     "text": [
      "200132 (143/282)\n"
     ]
    },
    {
     "name": "stderr",
     "output_type": "stream",
     "text": [
      "/home/cassia/anaconda3/envs/sne/lib/python3.10/site-packages/sncosmo/fitting.py:187: RuntimeWarning: Dropping following bands from data: PS1_g(out of model wavelength range)\n",
      "  warnings.warn(\"Dropping following bands from data: \" +\n",
      "/home/cassia/anaconda3/envs/sne/lib/python3.10/site-packages/iminuit/util.py:143: UserWarning: Assigned errors must be positive. Non-positive values are replaced by a heuristic.\n",
      "  warnings.warn(\n"
     ]
    },
    {
     "name": "stdout",
     "output_type": "stream",
     "text": [
      "350180 (144/282)\n"
     ]
    },
    {
     "name": "stderr",
     "output_type": "stream",
     "text": [
      "/home/cassia/anaconda3/envs/sne/lib/python3.10/site-packages/sncosmo/fitting.py:187: RuntimeWarning: Dropping following bands from data: PS1_g(out of model wavelength range)\n",
      "  warnings.warn(\"Dropping following bands from data: \" +\n",
      "/home/cassia/anaconda3/envs/sne/lib/python3.10/site-packages/iminuit/util.py:143: UserWarning: Assigned errors must be positive. Non-positive values are replaced by a heuristic.\n",
      "  warnings.warn(\n"
     ]
    },
    {
     "name": "stdout",
     "output_type": "stream",
     "text": [
      "000010 (145/282)\n"
     ]
    },
    {
     "name": "stderr",
     "output_type": "stream",
     "text": [
      "/home/cassia/anaconda3/envs/sne/lib/python3.10/site-packages/sncosmo/fitting.py:187: RuntimeWarning: Dropping following bands from data: PS1_g(out of model wavelength range)\n",
      "  warnings.warn(\"Dropping following bands from data: \" +\n",
      "/home/cassia/anaconda3/envs/sne/lib/python3.10/site-packages/iminuit/util.py:143: UserWarning: Assigned errors must be positive. Non-positive values are replaced by a heuristic.\n",
      "  warnings.warn(\n"
     ]
    },
    {
     "name": "stdout",
     "output_type": "stream",
     "text": [
      "000014 (146/282)\n"
     ]
    },
    {
     "name": "stderr",
     "output_type": "stream",
     "text": [
      "/home/cassia/anaconda3/envs/sne/lib/python3.10/site-packages/iminuit/util.py:143: UserWarning: Assigned errors must be positive. Non-positive values are replaced by a heuristic.\n",
      "  warnings.warn(\n"
     ]
    },
    {
     "name": "stdout",
     "output_type": "stream",
     "text": [
      "000038 (147/282)\n"
     ]
    },
    {
     "name": "stderr",
     "output_type": "stream",
     "text": [
      "/home/cassia/anaconda3/envs/sne/lib/python3.10/site-packages/iminuit/util.py:143: UserWarning: Assigned errors must be positive. Non-positive values are replaced by a heuristic.\n",
      "  warnings.warn(\n"
     ]
    },
    {
     "name": "stdout",
     "output_type": "stream",
     "text": [
      "000137 (148/282)\n"
     ]
    },
    {
     "name": "stderr",
     "output_type": "stream",
     "text": [
      "/home/cassia/anaconda3/envs/sne/lib/python3.10/site-packages/iminuit/util.py:143: UserWarning: Assigned errors must be positive. Non-positive values are replaced by a heuristic.\n",
      "  warnings.warn(\n"
     ]
    },
    {
     "name": "stdout",
     "output_type": "stream",
     "text": [
      "000174 (149/282)\n"
     ]
    },
    {
     "name": "stderr",
     "output_type": "stream",
     "text": [
      "/home/cassia/anaconda3/envs/sne/lib/python3.10/site-packages/sncosmo/fitting.py:187: RuntimeWarning: Dropping following bands from data: PS1_g(out of model wavelength range)\n",
      "  warnings.warn(\"Dropping following bands from data: \" +\n",
      "/home/cassia/anaconda3/envs/sne/lib/python3.10/site-packages/iminuit/util.py:143: UserWarning: Assigned errors must be positive. Non-positive values are replaced by a heuristic.\n",
      "  warnings.warn(\n"
     ]
    },
    {
     "name": "stdout",
     "output_type": "stream",
     "text": [
      "000196 (150/282)\n"
     ]
    },
    {
     "name": "stderr",
     "output_type": "stream",
     "text": [
      "/home/cassia/anaconda3/envs/sne/lib/python3.10/site-packages/sncosmo/fitting.py:187: RuntimeWarning: Dropping following bands from data: PS1_g(out of model wavelength range)\n",
      "  warnings.warn(\"Dropping following bands from data: \" +\n",
      "/home/cassia/anaconda3/envs/sne/lib/python3.10/site-packages/iminuit/util.py:143: UserWarning: Assigned errors must be positive. Non-positive values are replaced by a heuristic.\n",
      "  warnings.warn(\n"
     ]
    },
    {
     "name": "stdout",
     "output_type": "stream",
     "text": [
      "000202 (151/282)\n",
      "000220 (152/282)\n"
     ]
    },
    {
     "name": "stderr",
     "output_type": "stream",
     "text": [
      "/home/cassia/anaconda3/envs/sne/lib/python3.10/site-packages/sncosmo/fitting.py:187: RuntimeWarning: Dropping following bands from data: PS1_r, PS1_g(out of model wavelength range)\n",
      "  warnings.warn(\"Dropping following bands from data: \" +\n",
      "/home/cassia/anaconda3/envs/sne/lib/python3.10/site-packages/iminuit/util.py:143: UserWarning: Assigned errors must be positive. Non-positive values are replaced by a heuristic.\n",
      "  warnings.warn(\n",
      "/home/cassia/anaconda3/envs/sne/lib/python3.10/site-packages/sncosmo/fitting.py:187: RuntimeWarning: Dropping following bands from data: PS1_g(out of model wavelength range)\n",
      "  warnings.warn(\"Dropping following bands from data: \" +\n",
      "/home/cassia/anaconda3/envs/sne/lib/python3.10/site-packages/iminuit/util.py:143: UserWarning: Assigned errors must be positive. Non-positive values are replaced by a heuristic.\n",
      "  warnings.warn(\n"
     ]
    },
    {
     "name": "stdout",
     "output_type": "stream",
     "text": [
      "010010 (153/282)\n"
     ]
    },
    {
     "name": "stderr",
     "output_type": "stream",
     "text": [
      "/home/cassia/anaconda3/envs/sne/lib/python3.10/site-packages/iminuit/util.py:143: UserWarning: Assigned errors must be positive. Non-positive values are replaced by a heuristic.\n",
      "  warnings.warn(\n"
     ]
    },
    {
     "name": "stdout",
     "output_type": "stream",
     "text": [
      "020090 (154/282)\n"
     ]
    },
    {
     "name": "stderr",
     "output_type": "stream",
     "text": [
      "/home/cassia/anaconda3/envs/sne/lib/python3.10/site-packages/sncosmo/fitting.py:187: RuntimeWarning: Dropping following bands from data: PS1_g(out of model wavelength range)\n",
      "  warnings.warn(\"Dropping following bands from data: \" +\n",
      "/home/cassia/anaconda3/envs/sne/lib/python3.10/site-packages/iminuit/util.py:143: UserWarning: Assigned errors must be positive. Non-positive values are replaced by a heuristic.\n",
      "  warnings.warn(\n"
     ]
    },
    {
     "name": "stdout",
     "output_type": "stream",
     "text": [
      "030006 (155/282)\n"
     ]
    },
    {
     "name": "stderr",
     "output_type": "stream",
     "text": [
      "/home/cassia/anaconda3/envs/sne/lib/python3.10/site-packages/sncosmo/fitting.py:187: RuntimeWarning: Dropping following bands from data: PS1_g(out of model wavelength range)\n",
      "  warnings.warn(\"Dropping following bands from data: \" +\n",
      "/home/cassia/anaconda3/envs/sne/lib/python3.10/site-packages/iminuit/util.py:143: UserWarning: Assigned errors must be positive. Non-positive values are replaced by a heuristic.\n",
      "  warnings.warn(\n"
     ]
    },
    {
     "name": "stdout",
     "output_type": "stream",
     "text": [
      "040150 (156/282)\n"
     ]
    },
    {
     "name": "stderr",
     "output_type": "stream",
     "text": [
      "/home/cassia/anaconda3/envs/sne/lib/python3.10/site-packages/sncosmo/fitting.py:187: RuntimeWarning: Dropping following bands from data: PS1_g(out of model wavelength range)\n",
      "  warnings.warn(\"Dropping following bands from data: \" +\n",
      "/home/cassia/anaconda3/envs/sne/lib/python3.10/site-packages/iminuit/util.py:143: UserWarning: Assigned errors must be positive. Non-positive values are replaced by a heuristic.\n",
      "  warnings.warn(\n"
     ]
    },
    {
     "name": "stdout",
     "output_type": "stream",
     "text": [
      "040201 (157/282)\n"
     ]
    },
    {
     "name": "stderr",
     "output_type": "stream",
     "text": [
      "/home/cassia/anaconda3/envs/sne/lib/python3.10/site-packages/sncosmo/fitting.py:187: RuntimeWarning: Dropping following bands from data: PS1_g(out of model wavelength range)\n",
      "  warnings.warn(\"Dropping following bands from data: \" +\n",
      "/home/cassia/anaconda3/envs/sne/lib/python3.10/site-packages/iminuit/util.py:143: UserWarning: Assigned errors must be positive. Non-positive values are replaced by a heuristic.\n",
      "  warnings.warn(\n"
     ]
    },
    {
     "name": "stdout",
     "output_type": "stream",
     "text": [
      "040780 (158/282)\n"
     ]
    },
    {
     "name": "stderr",
     "output_type": "stream",
     "text": [
      "/home/cassia/anaconda3/envs/sne/lib/python3.10/site-packages/sncosmo/fitting.py:187: RuntimeWarning: Dropping following bands from data: PS1_g(out of model wavelength range)\n",
      "  warnings.warn(\"Dropping following bands from data: \" +\n",
      "/home/cassia/anaconda3/envs/sne/lib/python3.10/site-packages/iminuit/util.py:143: UserWarning: Assigned errors must be positive. Non-positive values are replaced by a heuristic.\n",
      "  warnings.warn(\n"
     ]
    },
    {
     "name": "stdout",
     "output_type": "stream",
     "text": [
      "050003 (159/282)\n"
     ]
    },
    {
     "name": "stderr",
     "output_type": "stream",
     "text": [
      "/home/cassia/anaconda3/envs/sne/lib/python3.10/site-packages/sncosmo/fitting.py:187: RuntimeWarning: Dropping following bands from data: PS1_g(out of model wavelength range)\n",
      "  warnings.warn(\"Dropping following bands from data: \" +\n",
      "/home/cassia/anaconda3/envs/sne/lib/python3.10/site-packages/iminuit/util.py:143: UserWarning: Assigned errors must be positive. Non-positive values are replaced by a heuristic.\n",
      "  warnings.warn(\n"
     ]
    },
    {
     "name": "stdout",
     "output_type": "stream",
     "text": [
      "050201 (160/282)\n"
     ]
    },
    {
     "name": "stderr",
     "output_type": "stream",
     "text": [
      "/home/cassia/anaconda3/envs/sne/lib/python3.10/site-packages/sncosmo/fitting.py:187: RuntimeWarning: Dropping following bands from data: PS1_g(out of model wavelength range)\n",
      "  warnings.warn(\"Dropping following bands from data: \" +\n",
      "/home/cassia/anaconda3/envs/sne/lib/python3.10/site-packages/iminuit/util.py:143: UserWarning: Assigned errors must be positive. Non-positive values are replaced by a heuristic.\n",
      "  warnings.warn(\n"
     ]
    },
    {
     "name": "stdout",
     "output_type": "stream",
     "text": [
      "050291 (161/282)\n"
     ]
    },
    {
     "name": "stderr",
     "output_type": "stream",
     "text": [
      "/home/cassia/anaconda3/envs/sne/lib/python3.10/site-packages/sncosmo/fitting.py:187: RuntimeWarning: Dropping following bands from data: PS1_g(out of model wavelength range)\n",
      "  warnings.warn(\"Dropping following bands from data: \" +\n",
      "/home/cassia/anaconda3/envs/sne/lib/python3.10/site-packages/iminuit/util.py:143: UserWarning: Assigned errors must be positive. Non-positive values are replaced by a heuristic.\n",
      "  warnings.warn(\n"
     ]
    },
    {
     "name": "stdout",
     "output_type": "stream",
     "text": [
      "050296 (162/282)\n"
     ]
    },
    {
     "name": "stderr",
     "output_type": "stream",
     "text": [
      "/home/cassia/anaconda3/envs/sne/lib/python3.10/site-packages/sncosmo/fitting.py:187: RuntimeWarning: Dropping following bands from data: PS1_g(out of model wavelength range)\n",
      "  warnings.warn(\"Dropping following bands from data: \" +\n",
      "/home/cassia/anaconda3/envs/sne/lib/python3.10/site-packages/iminuit/util.py:143: UserWarning: Assigned errors must be positive. Non-positive values are replaced by a heuristic.\n",
      "  warnings.warn(\n"
     ]
    },
    {
     "name": "stdout",
     "output_type": "stream",
     "text": [
      "050303 (163/282)\n"
     ]
    },
    {
     "name": "stderr",
     "output_type": "stream",
     "text": [
      "/home/cassia/anaconda3/envs/sne/lib/python3.10/site-packages/sncosmo/fitting.py:187: RuntimeWarning: Dropping following bands from data: PS1_g(out of model wavelength range)\n",
      "  warnings.warn(\"Dropping following bands from data: \" +\n",
      "/home/cassia/anaconda3/envs/sne/lib/python3.10/site-packages/iminuit/util.py:143: UserWarning: Assigned errors must be positive. Non-positive values are replaced by a heuristic.\n",
      "  warnings.warn(\n"
     ]
    },
    {
     "name": "stdout",
     "output_type": "stream",
     "text": [
      "050580 (164/282)\n"
     ]
    },
    {
     "name": "stderr",
     "output_type": "stream",
     "text": [
      "/home/cassia/anaconda3/envs/sne/lib/python3.10/site-packages/sncosmo/fitting.py:187: RuntimeWarning: Dropping following bands from data: PS1_g(out of model wavelength range)\n",
      "  warnings.warn(\"Dropping following bands from data: \" +\n",
      "/home/cassia/anaconda3/envs/sne/lib/python3.10/site-packages/iminuit/util.py:143: UserWarning: Assigned errors must be positive. Non-positive values are replaced by a heuristic.\n",
      "  warnings.warn(\n"
     ]
    },
    {
     "name": "stdout",
     "output_type": "stream",
     "text": [
      "070242 (165/282)\n"
     ]
    },
    {
     "name": "stderr",
     "output_type": "stream",
     "text": [
      "/home/cassia/anaconda3/envs/sne/lib/python3.10/site-packages/iminuit/util.py:143: UserWarning: Assigned errors must be positive. Non-positive values are replaced by a heuristic.\n",
      "  warnings.warn(\n"
     ]
    },
    {
     "name": "stdout",
     "output_type": "stream",
     "text": [
      "080064 (166/282)\n"
     ]
    },
    {
     "name": "stderr",
     "output_type": "stream",
     "text": [
      "/home/cassia/anaconda3/envs/sne/lib/python3.10/site-packages/iminuit/util.py:143: UserWarning: Assigned errors must be positive. Non-positive values are replaced by a heuristic.\n",
      "  warnings.warn(\n"
     ]
    },
    {
     "name": "stdout",
     "output_type": "stream",
     "text": [
      "080646 (167/282)\n"
     ]
    },
    {
     "name": "stderr",
     "output_type": "stream",
     "text": [
      "/home/cassia/anaconda3/envs/sne/lib/python3.10/site-packages/sncosmo/fitting.py:187: RuntimeWarning: Dropping following bands from data: PS1_g(out of model wavelength range)\n",
      "  warnings.warn(\"Dropping following bands from data: \" +\n",
      "/home/cassia/anaconda3/envs/sne/lib/python3.10/site-packages/iminuit/util.py:143: UserWarning: Assigned errors must be positive. Non-positive values are replaced by a heuristic.\n",
      "  warnings.warn(\n"
     ]
    },
    {
     "name": "stdout",
     "output_type": "stream",
     "text": [
      "090037 (168/282)\n"
     ]
    },
    {
     "name": "stderr",
     "output_type": "stream",
     "text": [
      "/home/cassia/anaconda3/envs/sne/lib/python3.10/site-packages/iminuit/util.py:143: UserWarning: Assigned errors must be positive. Non-positive values are replaced by a heuristic.\n",
      "  warnings.warn(\n"
     ]
    },
    {
     "name": "stdout",
     "output_type": "stream",
     "text": [
      "090275 (169/282)\n"
     ]
    },
    {
     "name": "stderr",
     "output_type": "stream",
     "text": [
      "/home/cassia/anaconda3/envs/sne/lib/python3.10/site-packages/iminuit/util.py:143: UserWarning: Assigned errors must be positive. Non-positive values are replaced by a heuristic.\n",
      "  warnings.warn(\n"
     ]
    },
    {
     "name": "stdout",
     "output_type": "stream",
     "text": [
      "100101 (170/282)\n"
     ]
    },
    {
     "name": "stderr",
     "output_type": "stream",
     "text": [
      "/home/cassia/anaconda3/envs/sne/lib/python3.10/site-packages/sncosmo/fitting.py:187: RuntimeWarning: Dropping following bands from data: PS1_g(out of model wavelength range)\n",
      "  warnings.warn(\"Dropping following bands from data: \" +\n",
      "/home/cassia/anaconda3/envs/sne/lib/python3.10/site-packages/iminuit/util.py:143: UserWarning: Assigned errors must be positive. Non-positive values are replaced by a heuristic.\n",
      "  warnings.warn(\n"
     ]
    },
    {
     "name": "stdout",
     "output_type": "stream",
     "text": [
      "100206 (171/282)\n"
     ]
    },
    {
     "name": "stderr",
     "output_type": "stream",
     "text": [
      "/home/cassia/anaconda3/envs/sne/lib/python3.10/site-packages/sncosmo/fitting.py:187: RuntimeWarning: Dropping following bands from data: PS1_g(out of model wavelength range)\n",
      "  warnings.warn(\"Dropping following bands from data: \" +\n",
      "/home/cassia/anaconda3/envs/sne/lib/python3.10/site-packages/iminuit/util.py:143: UserWarning: Assigned errors must be positive. Non-positive values are replaced by a heuristic.\n",
      "  warnings.warn(\n"
     ]
    },
    {
     "name": "stdout",
     "output_type": "stream",
     "text": [
      "100358 (172/282)\n"
     ]
    },
    {
     "name": "stderr",
     "output_type": "stream",
     "text": [
      "/home/cassia/anaconda3/envs/sne/lib/python3.10/site-packages/sncosmo/fitting.py:187: RuntimeWarning: Dropping following bands from data: PS1_g(out of model wavelength range)\n",
      "  warnings.warn(\"Dropping following bands from data: \" +\n",
      "/home/cassia/anaconda3/envs/sne/lib/python3.10/site-packages/iminuit/util.py:143: UserWarning: Assigned errors must be positive. Non-positive values are replaced by a heuristic.\n",
      "  warnings.warn(\n"
     ]
    },
    {
     "name": "stdout",
     "output_type": "stream",
     "text": [
      "110425 (173/282)\n"
     ]
    },
    {
     "name": "stderr",
     "output_type": "stream",
     "text": [
      "/home/cassia/anaconda3/envs/sne/lib/python3.10/site-packages/sncosmo/fitting.py:187: RuntimeWarning: Dropping following bands from data: PS1_g(out of model wavelength range)\n",
      "  warnings.warn(\"Dropping following bands from data: \" +\n",
      "/home/cassia/anaconda3/envs/sne/lib/python3.10/site-packages/iminuit/util.py:143: UserWarning: Assigned errors must be positive. Non-positive values are replaced by a heuristic.\n",
      "  warnings.warn(\n"
     ]
    },
    {
     "name": "stdout",
     "output_type": "stream",
     "text": [
      "110430 (174/282)\n"
     ]
    },
    {
     "name": "stderr",
     "output_type": "stream",
     "text": [
      "/home/cassia/anaconda3/envs/sne/lib/python3.10/site-packages/sncosmo/fitting.py:187: RuntimeWarning: Dropping following bands from data: PS1_g(out of model wavelength range)\n",
      "  warnings.warn(\"Dropping following bands from data: \" +\n",
      "/home/cassia/anaconda3/envs/sne/lib/python3.10/site-packages/iminuit/util.py:143: UserWarning: Assigned errors must be positive. Non-positive values are replaced by a heuristic.\n",
      "  warnings.warn(\n"
     ]
    },
    {
     "name": "stdout",
     "output_type": "stream",
     "text": [
      "110460 (175/282)\n"
     ]
    },
    {
     "name": "stderr",
     "output_type": "stream",
     "text": [
      "/home/cassia/anaconda3/envs/sne/lib/python3.10/site-packages/sncosmo/fitting.py:187: RuntimeWarning: Dropping following bands from data: PS1_g(out of model wavelength range)\n",
      "  warnings.warn(\"Dropping following bands from data: \" +\n",
      "/home/cassia/anaconda3/envs/sne/lib/python3.10/site-packages/iminuit/util.py:143: UserWarning: Assigned errors must be positive. Non-positive values are replaced by a heuristic.\n",
      "  warnings.warn(\n"
     ]
    },
    {
     "name": "stdout",
     "output_type": "stream",
     "text": [
      "110484 (176/282)\n"
     ]
    },
    {
     "name": "stderr",
     "output_type": "stream",
     "text": [
      "/home/cassia/anaconda3/envs/sne/lib/python3.10/site-packages/sncosmo/fitting.py:187: RuntimeWarning: Dropping following bands from data: PS1_g(out of model wavelength range)\n",
      "  warnings.warn(\"Dropping following bands from data: \" +\n",
      "/home/cassia/anaconda3/envs/sne/lib/python3.10/site-packages/iminuit/util.py:143: UserWarning: Assigned errors must be positive. Non-positive values are replaced by a heuristic.\n",
      "  warnings.warn(\n"
     ]
    },
    {
     "name": "stdout",
     "output_type": "stream",
     "text": [
      "110542 (177/282)\n"
     ]
    },
    {
     "name": "stderr",
     "output_type": "stream",
     "text": [
      "/home/cassia/anaconda3/envs/sne/lib/python3.10/site-packages/sncosmo/fitting.py:187: RuntimeWarning: Dropping following bands from data: PS1_g(out of model wavelength range)\n",
      "  warnings.warn(\"Dropping following bands from data: \" +\n",
      "/home/cassia/anaconda3/envs/sne/lib/python3.10/site-packages/iminuit/util.py:143: UserWarning: Assigned errors must be positive. Non-positive values are replaced by a heuristic.\n",
      "  warnings.warn(\n"
     ]
    },
    {
     "name": "stdout",
     "output_type": "stream",
     "text": [
      "110716 (178/282)\n"
     ]
    },
    {
     "name": "stderr",
     "output_type": "stream",
     "text": [
      "/home/cassia/anaconda3/envs/sne/lib/python3.10/site-packages/sncosmo/fitting.py:187: RuntimeWarning: Dropping following bands from data: PS1_g(out of model wavelength range)\n",
      "  warnings.warn(\"Dropping following bands from data: \" +\n",
      "/home/cassia/anaconda3/envs/sne/lib/python3.10/site-packages/iminuit/util.py:143: UserWarning: Assigned errors must be positive. Non-positive values are replaced by a heuristic.\n",
      "  warnings.warn(\n"
     ]
    },
    {
     "name": "stdout",
     "output_type": "stream",
     "text": [
      "110721 (179/282)\n"
     ]
    },
    {
     "name": "stderr",
     "output_type": "stream",
     "text": [
      "/home/cassia/anaconda3/envs/sne/lib/python3.10/site-packages/sncosmo/fitting.py:187: RuntimeWarning: Dropping following bands from data: PS1_g(out of model wavelength range)\n",
      "  warnings.warn(\"Dropping following bands from data: \" +\n",
      "/home/cassia/anaconda3/envs/sne/lib/python3.10/site-packages/iminuit/util.py:143: UserWarning: Assigned errors must be positive. Non-positive values are replaced by a heuristic.\n",
      "  warnings.warn(\n"
     ]
    },
    {
     "name": "stdout",
     "output_type": "stream",
     "text": [
      "120044 (180/282)\n"
     ]
    },
    {
     "name": "stderr",
     "output_type": "stream",
     "text": [
      "/home/cassia/anaconda3/envs/sne/lib/python3.10/site-packages/sncosmo/fitting.py:187: RuntimeWarning: Dropping following bands from data: PS1_g(out of model wavelength range)\n",
      "  warnings.warn(\"Dropping following bands from data: \" +\n",
      "/home/cassia/anaconda3/envs/sne/lib/python3.10/site-packages/iminuit/util.py:143: UserWarning: Assigned errors must be positive. Non-positive values are replaced by a heuristic.\n",
      "  warnings.warn(\n"
     ]
    },
    {
     "name": "stdout",
     "output_type": "stream",
     "text": [
      "120086 (181/282)\n"
     ]
    },
    {
     "name": "stderr",
     "output_type": "stream",
     "text": [
      "/home/cassia/anaconda3/envs/sne/lib/python3.10/site-packages/sncosmo/fitting.py:187: RuntimeWarning: Dropping following bands from data: PS1_g(out of model wavelength range)\n",
      "  warnings.warn(\"Dropping following bands from data: \" +\n",
      "/home/cassia/anaconda3/envs/sne/lib/python3.10/site-packages/iminuit/util.py:143: UserWarning: Assigned errors must be positive. Non-positive values are replaced by a heuristic.\n",
      "  warnings.warn(\n"
     ]
    },
    {
     "name": "stdout",
     "output_type": "stream",
     "text": [
      "120143 (182/282)\n"
     ]
    },
    {
     "name": "stderr",
     "output_type": "stream",
     "text": [
      "/home/cassia/anaconda3/envs/sne/lib/python3.10/site-packages/sncosmo/fitting.py:187: RuntimeWarning: Dropping following bands from data: PS1_g(out of model wavelength range)\n",
      "  warnings.warn(\"Dropping following bands from data: \" +\n",
      "/home/cassia/anaconda3/envs/sne/lib/python3.10/site-packages/iminuit/util.py:143: UserWarning: Assigned errors must be positive. Non-positive values are replaced by a heuristic.\n",
      "  warnings.warn(\n"
     ]
    },
    {
     "name": "stdout",
     "output_type": "stream",
     "text": [
      "120369 (183/282)\n"
     ]
    },
    {
     "name": "stderr",
     "output_type": "stream",
     "text": [
      "/home/cassia/anaconda3/envs/sne/lib/python3.10/site-packages/sncosmo/fitting.py:187: RuntimeWarning: Dropping following bands from data: PS1_g(out of model wavelength range)\n",
      "  warnings.warn(\"Dropping following bands from data: \" +\n",
      "/home/cassia/anaconda3/envs/sne/lib/python3.10/site-packages/iminuit/util.py:143: UserWarning: Assigned errors must be positive. Non-positive values are replaced by a heuristic.\n",
      "  warnings.warn(\n"
     ]
    },
    {
     "name": "stdout",
     "output_type": "stream",
     "text": [
      "120444 (184/282)\n"
     ]
    },
    {
     "name": "stderr",
     "output_type": "stream",
     "text": [
      "/home/cassia/anaconda3/envs/sne/lib/python3.10/site-packages/sncosmo/fitting.py:187: RuntimeWarning: Dropping following bands from data: PS1_g(out of model wavelength range)\n",
      "  warnings.warn(\"Dropping following bands from data: \" +\n",
      "/home/cassia/anaconda3/envs/sne/lib/python3.10/site-packages/iminuit/util.py:143: UserWarning: Assigned errors must be positive. Non-positive values are replaced by a heuristic.\n",
      "  warnings.warn(\n"
     ]
    },
    {
     "name": "stdout",
     "output_type": "stream",
     "text": [
      "120586 (185/282)\n",
      "130755 (186/282)\n"
     ]
    },
    {
     "name": "stderr",
     "output_type": "stream",
     "text": [
      "/home/cassia/anaconda3/envs/sne/lib/python3.10/site-packages/sncosmo/fitting.py:187: RuntimeWarning: Dropping following bands from data: PS1_g(out of model wavelength range)\n",
      "  warnings.warn(\"Dropping following bands from data: \" +\n",
      "/home/cassia/anaconda3/envs/sne/lib/python3.10/site-packages/iminuit/util.py:143: UserWarning: Assigned errors must be positive. Non-positive values are replaced by a heuristic.\n",
      "  warnings.warn(\n",
      "/home/cassia/anaconda3/envs/sne/lib/python3.10/site-packages/sncosmo/fitting.py:187: RuntimeWarning: Dropping following bands from data: PS1_g(out of model wavelength range)\n",
      "  warnings.warn(\"Dropping following bands from data: \" +\n",
      "/home/cassia/anaconda3/envs/sne/lib/python3.10/site-packages/iminuit/util.py:143: UserWarning: Assigned errors must be positive. Non-positive values are replaced by a heuristic.\n",
      "  warnings.warn(\n"
     ]
    },
    {
     "name": "stdout",
     "output_type": "stream",
     "text": [
      "140152 (187/282)\n"
     ]
    },
    {
     "name": "stderr",
     "output_type": "stream",
     "text": [
      "/home/cassia/anaconda3/envs/sne/lib/python3.10/site-packages/sncosmo/fitting.py:187: RuntimeWarning: Dropping following bands from data: PS1_g(out of model wavelength range)\n",
      "  warnings.warn(\"Dropping following bands from data: \" +\n",
      "/home/cassia/anaconda3/envs/sne/lib/python3.10/site-packages/iminuit/util.py:143: UserWarning: Assigned errors must be positive. Non-positive values are replaced by a heuristic.\n",
      "  warnings.warn(\n"
     ]
    },
    {
     "name": "stdout",
     "output_type": "stream",
     "text": [
      "150254 (188/282)\n"
     ]
    },
    {
     "name": "stderr",
     "output_type": "stream",
     "text": [
      "/home/cassia/anaconda3/envs/sne/lib/python3.10/site-packages/sncosmo/fitting.py:187: RuntimeWarning: Dropping following bands from data: PS1_g(out of model wavelength range)\n",
      "  warnings.warn(\"Dropping following bands from data: \" +\n",
      "/home/cassia/anaconda3/envs/sne/lib/python3.10/site-packages/iminuit/util.py:143: UserWarning: Assigned errors must be positive. Non-positive values are replaced by a heuristic.\n",
      "  warnings.warn(\n"
     ]
    },
    {
     "name": "stdout",
     "output_type": "stream",
     "text": [
      "150457 (189/282)\n"
     ]
    },
    {
     "name": "stderr",
     "output_type": "stream",
     "text": [
      "/home/cassia/anaconda3/envs/sne/lib/python3.10/site-packages/sncosmo/fitting.py:187: RuntimeWarning: Dropping following bands from data: PS1_g(out of model wavelength range)\n",
      "  warnings.warn(\"Dropping following bands from data: \" +\n",
      "/home/cassia/anaconda3/envs/sne/lib/python3.10/site-packages/iminuit/util.py:143: UserWarning: Assigned errors must be positive. Non-positive values are replaced by a heuristic.\n",
      "  warnings.warn(\n"
     ]
    },
    {
     "name": "stdout",
     "output_type": "stream",
     "text": [
      "160070 (190/282)\n"
     ]
    },
    {
     "name": "stderr",
     "output_type": "stream",
     "text": [
      "/home/cassia/anaconda3/envs/sne/lib/python3.10/site-packages/sncosmo/fitting.py:187: RuntimeWarning: Dropping following bands from data: PS1_g(out of model wavelength range)\n",
      "  warnings.warn(\"Dropping following bands from data: \" +\n",
      "/home/cassia/anaconda3/envs/sne/lib/python3.10/site-packages/iminuit/util.py:143: UserWarning: Assigned errors must be positive. Non-positive values are replaced by a heuristic.\n",
      "  warnings.warn(\n"
     ]
    },
    {
     "name": "stdout",
     "output_type": "stream",
     "text": [
      "160126 (191/282)\n"
     ]
    },
    {
     "name": "stderr",
     "output_type": "stream",
     "text": [
      "/home/cassia/anaconda3/envs/sne/lib/python3.10/site-packages/sncosmo/fitting.py:187: RuntimeWarning: Dropping following bands from data: PS1_g(out of model wavelength range)\n",
      "  warnings.warn(\"Dropping following bands from data: \" +\n",
      "/home/cassia/anaconda3/envs/sne/lib/python3.10/site-packages/iminuit/util.py:143: UserWarning: Assigned errors must be positive. Non-positive values are replaced by a heuristic.\n",
      "  warnings.warn(\n"
     ]
    },
    {
     "name": "stdout",
     "output_type": "stream",
     "text": [
      "160198 (192/282)\n"
     ]
    },
    {
     "name": "stderr",
     "output_type": "stream",
     "text": [
      "/home/cassia/anaconda3/envs/sne/lib/python3.10/site-packages/sncosmo/fitting.py:187: RuntimeWarning: Dropping following bands from data: PS1_g(out of model wavelength range)\n",
      "  warnings.warn(\"Dropping following bands from data: \" +\n",
      "/home/cassia/anaconda3/envs/sne/lib/python3.10/site-packages/iminuit/util.py:143: UserWarning: Assigned errors must be positive. Non-positive values are replaced by a heuristic.\n",
      "  warnings.warn(\n"
     ]
    },
    {
     "name": "stdout",
     "output_type": "stream",
     "text": [
      "160214 (193/282)\n",
      "170078 (194/282)\n"
     ]
    },
    {
     "name": "stderr",
     "output_type": "stream",
     "text": [
      "/home/cassia/anaconda3/envs/sne/lib/python3.10/site-packages/sncosmo/fitting.py:187: RuntimeWarning: Dropping following bands from data: PS1_r, PS1_g(out of model wavelength range)\n",
      "  warnings.warn(\"Dropping following bands from data: \" +\n",
      "/home/cassia/anaconda3/envs/sne/lib/python3.10/site-packages/iminuit/util.py:143: UserWarning: Assigned errors must be positive. Non-positive values are replaced by a heuristic.\n",
      "  warnings.warn(\n",
      "/home/cassia/anaconda3/envs/sne/lib/python3.10/site-packages/sncosmo/fitting.py:187: RuntimeWarning: Dropping following bands from data: PS1_g(out of model wavelength range)\n",
      "  warnings.warn(\"Dropping following bands from data: \" +\n",
      "/home/cassia/anaconda3/envs/sne/lib/python3.10/site-packages/iminuit/util.py:143: UserWarning: Assigned errors must be positive. Non-positive values are replaced by a heuristic.\n",
      "  warnings.warn(\n"
     ]
    },
    {
     "name": "stdout",
     "output_type": "stream",
     "text": [
      "180313 (195/282)\n"
     ]
    },
    {
     "name": "stderr",
     "output_type": "stream",
     "text": [
      "/home/cassia/anaconda3/envs/sne/lib/python3.10/site-packages/sncosmo/fitting.py:187: RuntimeWarning: Dropping following bands from data: PS1_g(out of model wavelength range)\n",
      "  warnings.warn(\"Dropping following bands from data: \" +\n",
      "/home/cassia/anaconda3/envs/sne/lib/python3.10/site-packages/iminuit/util.py:143: UserWarning: Assigned errors must be positive. Non-positive values are replaced by a heuristic.\n",
      "  warnings.warn(\n"
     ]
    },
    {
     "name": "stdout",
     "output_type": "stream",
     "text": [
      "190209 (196/282)\n"
     ]
    },
    {
     "name": "stderr",
     "output_type": "stream",
     "text": [
      "/home/cassia/anaconda3/envs/sne/lib/python3.10/site-packages/sncosmo/fitting.py:187: RuntimeWarning: Dropping following bands from data: PS1_g(out of model wavelength range)\n",
      "  warnings.warn(\"Dropping following bands from data: \" +\n",
      "/home/cassia/anaconda3/envs/sne/lib/python3.10/site-packages/iminuit/util.py:143: UserWarning: Assigned errors must be positive. Non-positive values are replaced by a heuristic.\n",
      "  warnings.warn(\n"
     ]
    },
    {
     "name": "stdout",
     "output_type": "stream",
     "text": [
      "190340 (197/282)\n"
     ]
    },
    {
     "name": "stderr",
     "output_type": "stream",
     "text": [
      "/home/cassia/anaconda3/envs/sne/lib/python3.10/site-packages/iminuit/util.py:143: UserWarning: Assigned errors must be positive. Non-positive values are replaced by a heuristic.\n",
      "  warnings.warn(\n"
     ]
    },
    {
     "name": "stdout",
     "output_type": "stream",
     "text": [
      "300179 (198/282)\n",
      "310039 (199/282)\n"
     ]
    },
    {
     "name": "stderr",
     "output_type": "stream",
     "text": [
      "/home/cassia/anaconda3/envs/sne/lib/python3.10/site-packages/sncosmo/fitting.py:187: RuntimeWarning: Dropping following bands from data: PS1_g(out of model wavelength range)\n",
      "  warnings.warn(\"Dropping following bands from data: \" +\n",
      "/home/cassia/anaconda3/envs/sne/lib/python3.10/site-packages/iminuit/util.py:143: UserWarning: Assigned errors must be positive. Non-positive values are replaced by a heuristic.\n",
      "  warnings.warn(\n",
      "/home/cassia/anaconda3/envs/sne/lib/python3.10/site-packages/sncosmo/fitting.py:187: RuntimeWarning: Dropping following bands from data: PS1_g(out of model wavelength range)\n",
      "  warnings.warn(\"Dropping following bands from data: \" +\n",
      "/home/cassia/anaconda3/envs/sne/lib/python3.10/site-packages/iminuit/util.py:143: UserWarning: Assigned errors must be positive. Non-positive values are replaced by a heuristic.\n",
      "  warnings.warn(\n"
     ]
    },
    {
     "name": "stdout",
     "output_type": "stream",
     "text": [
      "310051 (200/282)\n"
     ]
    },
    {
     "name": "stderr",
     "output_type": "stream",
     "text": [
      "/home/cassia/anaconda3/envs/sne/lib/python3.10/site-packages/sncosmo/fitting.py:187: RuntimeWarning: Dropping following bands from data: PS1_g(out of model wavelength range)\n",
      "  warnings.warn(\"Dropping following bands from data: \" +\n",
      "/home/cassia/anaconda3/envs/sne/lib/python3.10/site-packages/iminuit/util.py:143: UserWarning: Assigned errors must be positive. Non-positive values are replaced by a heuristic.\n",
      "  warnings.warn(\n"
     ]
    },
    {
     "name": "stdout",
     "output_type": "stream",
     "text": [
      "310090 (201/282)\n"
     ]
    },
    {
     "name": "stderr",
     "output_type": "stream",
     "text": [
      "/home/cassia/anaconda3/envs/sne/lib/python3.10/site-packages/iminuit/util.py:143: UserWarning: Assigned errors must be positive. Non-positive values are replaced by a heuristic.\n",
      "  warnings.warn(\n"
     ]
    },
    {
     "name": "stdout",
     "output_type": "stream",
     "text": [
      "310146 (202/282)\n"
     ]
    },
    {
     "name": "stderr",
     "output_type": "stream",
     "text": [
      "/home/cassia/anaconda3/envs/sne/lib/python3.10/site-packages/sncosmo/fitting.py:187: RuntimeWarning: Dropping following bands from data: PS1_g(out of model wavelength range)\n",
      "  warnings.warn(\"Dropping following bands from data: \" +\n",
      "/home/cassia/anaconda3/envs/sne/lib/python3.10/site-packages/iminuit/util.py:143: UserWarning: Assigned errors must be positive. Non-positive values are replaced by a heuristic.\n",
      "  warnings.warn(\n"
     ]
    },
    {
     "name": "stdout",
     "output_type": "stream",
     "text": [
      "310188 (203/282)\n"
     ]
    },
    {
     "name": "stderr",
     "output_type": "stream",
     "text": [
      "/home/cassia/anaconda3/envs/sne/lib/python3.10/site-packages/sncosmo/fitting.py:187: RuntimeWarning: Dropping following bands from data: PS1_g(out of model wavelength range)\n",
      "  warnings.warn(\"Dropping following bands from data: \" +\n",
      "/home/cassia/anaconda3/envs/sne/lib/python3.10/site-packages/iminuit/util.py:143: UserWarning: Assigned errors must be positive. Non-positive values are replaced by a heuristic.\n",
      "  warnings.warn(\n"
     ]
    },
    {
     "name": "stdout",
     "output_type": "stream",
     "text": [
      "310260 (204/282)\n"
     ]
    },
    {
     "name": "stderr",
     "output_type": "stream",
     "text": [
      "/home/cassia/anaconda3/envs/sne/lib/python3.10/site-packages/sncosmo/fitting.py:187: RuntimeWarning: Dropping following bands from data: PS1_g(out of model wavelength range)\n",
      "  warnings.warn(\"Dropping following bands from data: \" +\n",
      "/home/cassia/anaconda3/envs/sne/lib/python3.10/site-packages/iminuit/util.py:143: UserWarning: Assigned errors must be positive. Non-positive values are replaced by a heuristic.\n",
      "  warnings.warn(\n"
     ]
    },
    {
     "name": "stdout",
     "output_type": "stream",
     "text": [
      "320099 (205/282)\n"
     ]
    },
    {
     "name": "stderr",
     "output_type": "stream",
     "text": [
      "/home/cassia/anaconda3/envs/sne/lib/python3.10/site-packages/sncosmo/fitting.py:187: RuntimeWarning: Dropping following bands from data: PS1_g(out of model wavelength range)\n",
      "  warnings.warn(\"Dropping following bands from data: \" +\n",
      "/home/cassia/anaconda3/envs/sne/lib/python3.10/site-packages/iminuit/util.py:143: UserWarning: Assigned errors must be positive. Non-positive values are replaced by a heuristic.\n",
      "  warnings.warn(\n"
     ]
    },
    {
     "name": "stdout",
     "output_type": "stream",
     "text": [
      "320469 (206/282)\n"
     ]
    },
    {
     "name": "stderr",
     "output_type": "stream",
     "text": [
      "/home/cassia/anaconda3/envs/sne/lib/python3.10/site-packages/sncosmo/fitting.py:187: RuntimeWarning: Dropping following bands from data: PS1_g(out of model wavelength range)\n",
      "  warnings.warn(\"Dropping following bands from data: \" +\n",
      "/home/cassia/anaconda3/envs/sne/lib/python3.10/site-packages/iminuit/util.py:143: UserWarning: Assigned errors must be positive. Non-positive values are replaced by a heuristic.\n",
      "  warnings.warn(\n"
     ]
    },
    {
     "name": "stdout",
     "output_type": "stream",
     "text": [
      "330023 (207/282)\n"
     ]
    },
    {
     "name": "stderr",
     "output_type": "stream",
     "text": [
      "/home/cassia/anaconda3/envs/sne/lib/python3.10/site-packages/sncosmo/fitting.py:187: RuntimeWarning: Dropping following bands from data: PS1_g(out of model wavelength range)\n",
      "  warnings.warn(\"Dropping following bands from data: \" +\n",
      "/home/cassia/anaconda3/envs/sne/lib/python3.10/site-packages/iminuit/util.py:143: UserWarning: Assigned errors must be positive. Non-positive values are replaced by a heuristic.\n",
      "  warnings.warn(\n"
     ]
    },
    {
     "name": "stdout",
     "output_type": "stream",
     "text": [
      "330083 (208/282)\n"
     ]
    },
    {
     "name": "stderr",
     "output_type": "stream",
     "text": [
      "/home/cassia/anaconda3/envs/sne/lib/python3.10/site-packages/sncosmo/fitting.py:187: RuntimeWarning: Dropping following bands from data: PS1_g(out of model wavelength range)\n",
      "  warnings.warn(\"Dropping following bands from data: \" +\n",
      "/home/cassia/anaconda3/envs/sne/lib/python3.10/site-packages/iminuit/util.py:143: UserWarning: Assigned errors must be positive. Non-positive values are replaced by a heuristic.\n",
      "  warnings.warn(\n"
     ]
    },
    {
     "name": "stdout",
     "output_type": "stream",
     "text": [
      "330106 (209/282)\n"
     ]
    },
    {
     "name": "stderr",
     "output_type": "stream",
     "text": [
      "/home/cassia/anaconda3/envs/sne/lib/python3.10/site-packages/sncosmo/fitting.py:187: RuntimeWarning: Dropping following bands from data: PS1_g(out of model wavelength range)\n",
      "  warnings.warn(\"Dropping following bands from data: \" +\n",
      "/home/cassia/anaconda3/envs/sne/lib/python3.10/site-packages/iminuit/util.py:143: UserWarning: Assigned errors must be positive. Non-positive values are replaced by a heuristic.\n",
      "  warnings.warn(\n"
     ]
    },
    {
     "name": "stdout",
     "output_type": "stream",
     "text": [
      "340229 (210/282)\n"
     ]
    },
    {
     "name": "stderr",
     "output_type": "stream",
     "text": [
      "/home/cassia/anaconda3/envs/sne/lib/python3.10/site-packages/iminuit/util.py:143: UserWarning: Assigned errors must be positive. Non-positive values are replaced by a heuristic.\n",
      "  warnings.warn(\n"
     ]
    },
    {
     "name": "stdout",
     "output_type": "stream",
     "text": [
      "350027 (211/282)\n"
     ]
    },
    {
     "name": "stderr",
     "output_type": "stream",
     "text": [
      "/home/cassia/anaconda3/envs/sne/lib/python3.10/site-packages/sncosmo/fitting.py:187: RuntimeWarning: Dropping following bands from data: PS1_g(out of model wavelength range)\n",
      "  warnings.warn(\"Dropping following bands from data: \" +\n",
      "/home/cassia/anaconda3/envs/sne/lib/python3.10/site-packages/iminuit/util.py:143: UserWarning: Assigned errors must be positive. Non-positive values are replaced by a heuristic.\n",
      "  warnings.warn(\n"
     ]
    },
    {
     "name": "stdout",
     "output_type": "stream",
     "text": [
      "350050 (212/282)\n"
     ]
    },
    {
     "name": "stderr",
     "output_type": "stream",
     "text": [
      "/home/cassia/anaconda3/envs/sne/lib/python3.10/site-packages/sncosmo/fitting.py:187: RuntimeWarning: Dropping following bands from data: PS1_g(out of model wavelength range)\n",
      "  warnings.warn(\"Dropping following bands from data: \" +\n",
      "/home/cassia/anaconda3/envs/sne/lib/python3.10/site-packages/iminuit/util.py:143: UserWarning: Assigned errors must be positive. Non-positive values are replaced by a heuristic.\n",
      "  warnings.warn(\n"
     ]
    },
    {
     "name": "stdout",
     "output_type": "stream",
     "text": [
      "350080 (213/282)\n"
     ]
    },
    {
     "name": "stderr",
     "output_type": "stream",
     "text": [
      "/home/cassia/anaconda3/envs/sne/lib/python3.10/site-packages/sncosmo/fitting.py:187: RuntimeWarning: Dropping following bands from data: PS1_g(out of model wavelength range)\n",
      "  warnings.warn(\"Dropping following bands from data: \" +\n",
      "/home/cassia/anaconda3/envs/sne/lib/python3.10/site-packages/iminuit/util.py:143: UserWarning: Assigned errors must be positive. Non-positive values are replaced by a heuristic.\n",
      "  warnings.warn(\n"
     ]
    },
    {
     "name": "stdout",
     "output_type": "stream",
     "text": [
      "350192 (214/282)\n"
     ]
    },
    {
     "name": "stderr",
     "output_type": "stream",
     "text": [
      "/home/cassia/anaconda3/envs/sne/lib/python3.10/site-packages/sncosmo/fitting.py:187: RuntimeWarning: Dropping following bands from data: PS1_g(out of model wavelength range)\n",
      "  warnings.warn(\"Dropping following bands from data: \" +\n",
      "/home/cassia/anaconda3/envs/sne/lib/python3.10/site-packages/iminuit/util.py:143: UserWarning: Assigned errors must be positive. Non-positive values are replaced by a heuristic.\n",
      "  warnings.warn(\n"
     ]
    },
    {
     "name": "stdout",
     "output_type": "stream",
     "text": [
      "350235 (215/282)\n"
     ]
    },
    {
     "name": "stderr",
     "output_type": "stream",
     "text": [
      "/home/cassia/anaconda3/envs/sne/lib/python3.10/site-packages/sncosmo/fitting.py:187: RuntimeWarning: Dropping following bands from data: PS1_g(out of model wavelength range)\n",
      "  warnings.warn(\"Dropping following bands from data: \" +\n",
      "/home/cassia/anaconda3/envs/sne/lib/python3.10/site-packages/iminuit/util.py:143: UserWarning: Assigned errors must be positive. Non-positive values are replaced by a heuristic.\n",
      "  warnings.warn(\n"
     ]
    },
    {
     "name": "stdout",
     "output_type": "stream",
     "text": [
      "350374 (216/282)\n"
     ]
    },
    {
     "name": "stderr",
     "output_type": "stream",
     "text": [
      "/home/cassia/anaconda3/envs/sne/lib/python3.10/site-packages/sncosmo/fitting.py:187: RuntimeWarning: Dropping following bands from data: PS1_g(out of model wavelength range)\n",
      "  warnings.warn(\"Dropping following bands from data: \" +\n",
      "/home/cassia/anaconda3/envs/sne/lib/python3.10/site-packages/iminuit/util.py:143: UserWarning: Assigned errors must be positive. Non-positive values are replaced by a heuristic.\n",
      "  warnings.warn(\n"
     ]
    },
    {
     "name": "stdout",
     "output_type": "stream",
     "text": [
      "350630 (217/282)\n"
     ]
    },
    {
     "name": "stderr",
     "output_type": "stream",
     "text": [
      "/home/cassia/anaconda3/envs/sne/lib/python3.10/site-packages/sncosmo/fitting.py:187: RuntimeWarning: Dropping following bands from data: PS1_g(out of model wavelength range)\n",
      "  warnings.warn(\"Dropping following bands from data: \" +\n",
      "/home/cassia/anaconda3/envs/sne/lib/python3.10/site-packages/iminuit/util.py:143: UserWarning: Assigned errors must be positive. Non-positive values are replaced by a heuristic.\n",
      "  warnings.warn(\n"
     ]
    },
    {
     "name": "stdout",
     "output_type": "stream",
     "text": [
      "360139 (218/282)\n"
     ]
    },
    {
     "name": "stderr",
     "output_type": "stream",
     "text": [
      "/home/cassia/anaconda3/envs/sne/lib/python3.10/site-packages/sncosmo/fitting.py:187: RuntimeWarning: Dropping following bands from data: PS1_g(out of model wavelength range)\n",
      "  warnings.warn(\"Dropping following bands from data: \" +\n",
      "/home/cassia/anaconda3/envs/sne/lib/python3.10/site-packages/iminuit/util.py:143: UserWarning: Assigned errors must be positive. Non-positive values are replaced by a heuristic.\n",
      "  warnings.warn(\n"
     ]
    },
    {
     "name": "stdout",
     "output_type": "stream",
     "text": [
      "360145 (219/282)\n"
     ]
    },
    {
     "name": "stderr",
     "output_type": "stream",
     "text": [
      "/home/cassia/anaconda3/envs/sne/lib/python3.10/site-packages/sncosmo/fitting.py:187: RuntimeWarning: Dropping following bands from data: PS1_g(out of model wavelength range)\n",
      "  warnings.warn(\"Dropping following bands from data: \" +\n",
      "/home/cassia/anaconda3/envs/sne/lib/python3.10/site-packages/iminuit/util.py:143: UserWarning: Assigned errors must be positive. Non-positive values are replaced by a heuristic.\n",
      "  warnings.warn(\n"
     ]
    },
    {
     "name": "stdout",
     "output_type": "stream",
     "text": [
      "370066 (220/282)\n",
      "370329 (221/282)\n"
     ]
    },
    {
     "name": "stderr",
     "output_type": "stream",
     "text": [
      "/home/cassia/anaconda3/envs/sne/lib/python3.10/site-packages/iminuit/util.py:143: UserWarning: Assigned errors must be positive. Non-positive values are replaced by a heuristic.\n",
      "  warnings.warn(\n",
      "/home/cassia/anaconda3/envs/sne/lib/python3.10/site-packages/sncosmo/fitting.py:187: RuntimeWarning: Dropping following bands from data: PS1_g(out of model wavelength range)\n",
      "  warnings.warn(\"Dropping following bands from data: \" +\n",
      "/home/cassia/anaconda3/envs/sne/lib/python3.10/site-packages/iminuit/util.py:143: UserWarning: Assigned errors must be positive. Non-positive values are replaced by a heuristic.\n",
      "  warnings.warn(\n"
     ]
    },
    {
     "name": "stdout",
     "output_type": "stream",
     "text": [
      "370344 (222/282)\n"
     ]
    },
    {
     "name": "stderr",
     "output_type": "stream",
     "text": [
      "/home/cassia/anaconda3/envs/sne/lib/python3.10/site-packages/sncosmo/fitting.py:187: RuntimeWarning: Dropping following bands from data: PS1_g(out of model wavelength range)\n",
      "  warnings.warn(\"Dropping following bands from data: \" +\n",
      "/home/cassia/anaconda3/envs/sne/lib/python3.10/site-packages/iminuit/util.py:143: UserWarning: Assigned errors must be positive. Non-positive values are replaced by a heuristic.\n",
      "  warnings.warn(\n"
     ]
    },
    {
     "name": "stdout",
     "output_type": "stream",
     "text": [
      "370367 (223/282)\n"
     ]
    },
    {
     "name": "stderr",
     "output_type": "stream",
     "text": [
      "/home/cassia/anaconda3/envs/sne/lib/python3.10/site-packages/sncosmo/fitting.py:187: RuntimeWarning: Dropping following bands from data: PS1_g(out of model wavelength range)\n",
      "  warnings.warn(\"Dropping following bands from data: \" +\n",
      "/home/cassia/anaconda3/envs/sne/lib/python3.10/site-packages/iminuit/util.py:143: UserWarning: Assigned errors must be positive. Non-positive values are replaced by a heuristic.\n",
      "  warnings.warn(\n"
     ]
    },
    {
     "name": "stdout",
     "output_type": "stream",
     "text": [
      "370394 (224/282)\n",
      "370498 (225/282)\n"
     ]
    },
    {
     "name": "stderr",
     "output_type": "stream",
     "text": [
      "/home/cassia/anaconda3/envs/sne/lib/python3.10/site-packages/sncosmo/fitting.py:187: RuntimeWarning: Dropping following bands from data: PS1_g(out of model wavelength range)\n",
      "  warnings.warn(\"Dropping following bands from data: \" +\n",
      "/home/cassia/anaconda3/envs/sne/lib/python3.10/site-packages/iminuit/util.py:143: UserWarning: Assigned errors must be positive. Non-positive values are replaced by a heuristic.\n",
      "  warnings.warn(\n",
      "/home/cassia/anaconda3/envs/sne/lib/python3.10/site-packages/sncosmo/fitting.py:187: RuntimeWarning: Dropping following bands from data: PS1_g(out of model wavelength range)\n",
      "  warnings.warn(\"Dropping following bands from data: \" +\n",
      "/home/cassia/anaconda3/envs/sne/lib/python3.10/site-packages/iminuit/util.py:143: UserWarning: Assigned errors must be positive. Non-positive values are replaced by a heuristic.\n",
      "  warnings.warn(\n"
     ]
    },
    {
     "name": "stdout",
     "output_type": "stream",
     "text": [
      "370566 (226/282)\n"
     ]
    },
    {
     "name": "stderr",
     "output_type": "stream",
     "text": [
      "/home/cassia/anaconda3/envs/sne/lib/python3.10/site-packages/iminuit/util.py:143: UserWarning: Assigned errors must be positive. Non-positive values are replaced by a heuristic.\n",
      "  warnings.warn(\n"
     ]
    },
    {
     "name": "stdout",
     "output_type": "stream",
     "text": [
      "370595 (227/282)\n"
     ]
    },
    {
     "name": "stderr",
     "output_type": "stream",
     "text": [
      "/home/cassia/anaconda3/envs/sne/lib/python3.10/site-packages/sncosmo/fitting.py:187: RuntimeWarning: Dropping following bands from data: PS1_g(out of model wavelength range)\n",
      "  warnings.warn(\"Dropping following bands from data: \" +\n",
      "/home/cassia/anaconda3/envs/sne/lib/python3.10/site-packages/iminuit/util.py:143: UserWarning: Assigned errors must be positive. Non-positive values are replaced by a heuristic.\n",
      "  warnings.warn(\n"
     ]
    },
    {
     "name": "stdout",
     "output_type": "stream",
     "text": [
      "380318 (228/282)\n"
     ]
    },
    {
     "name": "stderr",
     "output_type": "stream",
     "text": [
      "/home/cassia/anaconda3/envs/sne/lib/python3.10/site-packages/sncosmo/fitting.py:187: RuntimeWarning: Dropping following bands from data: PS1_g(out of model wavelength range)\n",
      "  warnings.warn(\"Dropping following bands from data: \" +\n",
      "/home/cassia/anaconda3/envs/sne/lib/python3.10/site-packages/iminuit/util.py:143: UserWarning: Assigned errors must be positive. Non-positive values are replaced by a heuristic.\n",
      "  warnings.warn(\n"
     ]
    },
    {
     "name": "stdout",
     "output_type": "stream",
     "text": [
      "390259 (229/282)\n"
     ]
    },
    {
     "name": "stderr",
     "output_type": "stream",
     "text": [
      "/home/cassia/anaconda3/envs/sne/lib/python3.10/site-packages/iminuit/util.py:143: UserWarning: Assigned errors must be positive. Non-positive values are replaced by a heuristic.\n",
      "  warnings.warn(\n"
     ]
    },
    {
     "name": "stdout",
     "output_type": "stream",
     "text": [
      "390449 (230/282)\n"
     ]
    },
    {
     "name": "stderr",
     "output_type": "stream",
     "text": [
      "/home/cassia/anaconda3/envs/sne/lib/python3.10/site-packages/sncosmo/fitting.py:187: RuntimeWarning: Dropping following bands from data: PS1_g(out of model wavelength range)\n",
      "  warnings.warn(\"Dropping following bands from data: \" +\n",
      "/home/cassia/anaconda3/envs/sne/lib/python3.10/site-packages/iminuit/util.py:143: UserWarning: Assigned errors must be positive. Non-positive values are replaced by a heuristic.\n",
      "  warnings.warn(\n"
     ]
    },
    {
     "name": "stdout",
     "output_type": "stream",
     "text": [
      "390627 (231/282)\n"
     ]
    },
    {
     "name": "stderr",
     "output_type": "stream",
     "text": [
      "/home/cassia/anaconda3/envs/sne/lib/python3.10/site-packages/iminuit/util.py:143: UserWarning: Assigned errors must be positive. Non-positive values are replaced by a heuristic.\n",
      "  warnings.warn(\n"
     ]
    },
    {
     "name": "stdout",
     "output_type": "stream",
     "text": [
      "420196 (232/282)\n"
     ]
    },
    {
     "name": "stderr",
     "output_type": "stream",
     "text": [
      "/home/cassia/anaconda3/envs/sne/lib/python3.10/site-packages/sncosmo/fitting.py:187: RuntimeWarning: Dropping following bands from data: PS1_g(out of model wavelength range)\n",
      "  warnings.warn(\"Dropping following bands from data: \" +\n",
      "/home/cassia/anaconda3/envs/sne/lib/python3.10/site-packages/iminuit/util.py:143: UserWarning: Assigned errors must be positive. Non-positive values are replaced by a heuristic.\n",
      "  warnings.warn(\n"
     ]
    },
    {
     "name": "stdout",
     "output_type": "stream",
     "text": [
      "420352 (233/282)\n"
     ]
    },
    {
     "name": "stderr",
     "output_type": "stream",
     "text": [
      "/home/cassia/anaconda3/envs/sne/lib/python3.10/site-packages/sncosmo/fitting.py:187: RuntimeWarning: Dropping following bands from data: PS1_g(out of model wavelength range)\n",
      "  warnings.warn(\"Dropping following bands from data: \" +\n",
      "/home/cassia/anaconda3/envs/sne/lib/python3.10/site-packages/iminuit/util.py:143: UserWarning: Assigned errors must be positive. Non-positive values are replaced by a heuristic.\n",
      "  warnings.warn(\n"
     ]
    },
    {
     "name": "stdout",
     "output_type": "stream",
     "text": [
      "420414 (234/282)\n"
     ]
    },
    {
     "name": "stderr",
     "output_type": "stream",
     "text": [
      "/home/cassia/anaconda3/envs/sne/lib/python3.10/site-packages/sncosmo/fitting.py:187: RuntimeWarning: Dropping following bands from data: PS1_g(out of model wavelength range)\n",
      "  warnings.warn(\"Dropping following bands from data: \" +\n",
      "/home/cassia/anaconda3/envs/sne/lib/python3.10/site-packages/iminuit/util.py:143: UserWarning: Assigned errors must be positive. Non-positive values are replaced by a heuristic.\n",
      "  warnings.warn(\n"
     ]
    },
    {
     "name": "stdout",
     "output_type": "stream",
     "text": [
      "430003 (235/282)\n"
     ]
    },
    {
     "name": "stderr",
     "output_type": "stream",
     "text": [
      "/home/cassia/anaconda3/envs/sne/lib/python3.10/site-packages/sncosmo/fitting.py:187: RuntimeWarning: Dropping following bands from data: PS1_g(out of model wavelength range)\n",
      "  warnings.warn(\"Dropping following bands from data: \" +\n",
      "/home/cassia/anaconda3/envs/sne/lib/python3.10/site-packages/iminuit/util.py:143: UserWarning: Assigned errors must be positive. Non-positive values are replaced by a heuristic.\n",
      "  warnings.warn(\n"
     ]
    },
    {
     "name": "stdout",
     "output_type": "stream",
     "text": [
      "440005 (236/282)\n"
     ]
    },
    {
     "name": "stderr",
     "output_type": "stream",
     "text": [
      "/home/cassia/anaconda3/envs/sne/lib/python3.10/site-packages/sncosmo/fitting.py:187: RuntimeWarning: Dropping following bands from data: PS1_g(out of model wavelength range)\n",
      "  warnings.warn(\"Dropping following bands from data: \" +\n",
      "/home/cassia/anaconda3/envs/sne/lib/python3.10/site-packages/iminuit/util.py:143: UserWarning: Assigned errors must be positive. Non-positive values are replaced by a heuristic.\n",
      "  warnings.warn(\n"
     ]
    },
    {
     "name": "stdout",
     "output_type": "stream",
     "text": [
      "440050 (237/282)\n"
     ]
    },
    {
     "name": "stderr",
     "output_type": "stream",
     "text": [
      "/home/cassia/anaconda3/envs/sne/lib/python3.10/site-packages/sncosmo/fitting.py:187: RuntimeWarning: Dropping following bands from data: PS1_g(out of model wavelength range)\n",
      "  warnings.warn(\"Dropping following bands from data: \" +\n",
      "/home/cassia/anaconda3/envs/sne/lib/python3.10/site-packages/iminuit/util.py:143: UserWarning: Assigned errors must be positive. Non-positive values are replaced by a heuristic.\n",
      "  warnings.warn(\n"
     ]
    },
    {
     "name": "stdout",
     "output_type": "stream",
     "text": [
      "440236 (238/282)\n"
     ]
    },
    {
     "name": "stderr",
     "output_type": "stream",
     "text": [
      "/home/cassia/anaconda3/envs/sne/lib/python3.10/site-packages/sncosmo/fitting.py:187: RuntimeWarning: Dropping following bands from data: PS1_g(out of model wavelength range)\n",
      "  warnings.warn(\"Dropping following bands from data: \" +\n",
      "/home/cassia/anaconda3/envs/sne/lib/python3.10/site-packages/iminuit/util.py:143: UserWarning: Assigned errors must be positive. Non-positive values are replaced by a heuristic.\n",
      "  warnings.warn(\n"
     ]
    },
    {
     "name": "stdout",
     "output_type": "stream",
     "text": [
      "440285 (239/282)\n"
     ]
    },
    {
     "name": "stderr",
     "output_type": "stream",
     "text": [
      "/home/cassia/anaconda3/envs/sne/lib/python3.10/site-packages/sncosmo/fitting.py:187: RuntimeWarning: Dropping following bands from data: PS1_g(out of model wavelength range)\n",
      "  warnings.warn(\"Dropping following bands from data: \" +\n",
      "/home/cassia/anaconda3/envs/sne/lib/python3.10/site-packages/iminuit/util.py:143: UserWarning: Assigned errors must be positive. Non-positive values are replaced by a heuristic.\n",
      "  warnings.warn(\n"
     ]
    },
    {
     "name": "stdout",
     "output_type": "stream",
     "text": [
      "440643 (240/282)\n"
     ]
    },
    {
     "name": "stderr",
     "output_type": "stream",
     "text": [
      "/home/cassia/anaconda3/envs/sne/lib/python3.10/site-packages/sncosmo/fitting.py:187: RuntimeWarning: Dropping following bands from data: PS1_g(out of model wavelength range)\n",
      "  warnings.warn(\"Dropping following bands from data: \" +\n",
      "/home/cassia/anaconda3/envs/sne/lib/python3.10/site-packages/iminuit/util.py:143: UserWarning: Assigned errors must be positive. Non-positive values are replaced by a heuristic.\n",
      "  warnings.warn(\n"
     ]
    },
    {
     "name": "stdout",
     "output_type": "stream",
     "text": [
      "450082 (241/282)\n"
     ]
    },
    {
     "name": "stderr",
     "output_type": "stream",
     "text": [
      "/home/cassia/anaconda3/envs/sne/lib/python3.10/site-packages/sncosmo/fitting.py:187: RuntimeWarning: Dropping following bands from data: PS1_g(out of model wavelength range)\n",
      "  warnings.warn(\"Dropping following bands from data: \" +\n",
      "/home/cassia/anaconda3/envs/sne/lib/python3.10/site-packages/iminuit/util.py:143: UserWarning: Assigned errors must be positive. Non-positive values are replaced by a heuristic.\n",
      "  warnings.warn(\n"
     ]
    },
    {
     "name": "stdout",
     "output_type": "stream",
     "text": [
      "450339 (242/282)\n"
     ]
    },
    {
     "name": "stderr",
     "output_type": "stream",
     "text": [
      "/home/cassia/anaconda3/envs/sne/lib/python3.10/site-packages/sncosmo/fitting.py:187: RuntimeWarning: Dropping following bands from data: PS1_g(out of model wavelength range)\n",
      "  warnings.warn(\"Dropping following bands from data: \" +\n",
      "/home/cassia/anaconda3/envs/sne/lib/python3.10/site-packages/iminuit/util.py:143: UserWarning: Assigned errors must be positive. Non-positive values are replaced by a heuristic.\n",
      "  warnings.warn(\n"
     ]
    },
    {
     "name": "stdout",
     "output_type": "stream",
     "text": [
      "460064 (243/282)\n"
     ]
    },
    {
     "name": "stderr",
     "output_type": "stream",
     "text": [
      "/home/cassia/anaconda3/envs/sne/lib/python3.10/site-packages/sncosmo/fitting.py:187: RuntimeWarning: Dropping following bands from data: PS1_g(out of model wavelength range)\n",
      "  warnings.warn(\"Dropping following bands from data: \" +\n",
      "/home/cassia/anaconda3/envs/sne/lib/python3.10/site-packages/iminuit/util.py:143: UserWarning: Assigned errors must be positive. Non-positive values are replaced by a heuristic.\n",
      "  warnings.warn(\n"
     ]
    },
    {
     "name": "stdout",
     "output_type": "stream",
     "text": [
      "470015 (244/282)\n"
     ]
    },
    {
     "name": "stderr",
     "output_type": "stream",
     "text": [
      "/home/cassia/anaconda3/envs/sne/lib/python3.10/site-packages/sncosmo/fitting.py:187: RuntimeWarning: Dropping following bands from data: PS1_g(out of model wavelength range)\n",
      "  warnings.warn(\"Dropping following bands from data: \" +\n",
      "/home/cassia/anaconda3/envs/sne/lib/python3.10/site-packages/iminuit/util.py:143: UserWarning: Assigned errors must be positive. Non-positive values are replaced by a heuristic.\n",
      "  warnings.warn(\n"
     ]
    },
    {
     "name": "stdout",
     "output_type": "stream",
     "text": [
      "470043 (245/282)\n"
     ]
    },
    {
     "name": "stderr",
     "output_type": "stream",
     "text": [
      "/home/cassia/anaconda3/envs/sne/lib/python3.10/site-packages/iminuit/util.py:143: UserWarning: Assigned errors must be positive. Non-positive values are replaced by a heuristic.\n",
      "  warnings.warn(\n"
     ]
    },
    {
     "name": "stdout",
     "output_type": "stream",
     "text": [
      "470110 (246/282)\n"
     ]
    },
    {
     "name": "stderr",
     "output_type": "stream",
     "text": [
      "/home/cassia/anaconda3/envs/sne/lib/python3.10/site-packages/sncosmo/fitting.py:187: RuntimeWarning: Dropping following bands from data: PS1_g(out of model wavelength range)\n",
      "  warnings.warn(\"Dropping following bands from data: \" +\n",
      "/home/cassia/anaconda3/envs/sne/lib/python3.10/site-packages/iminuit/util.py:143: UserWarning: Assigned errors must be positive. Non-positive values are replaced by a heuristic.\n",
      "  warnings.warn(\n"
     ]
    },
    {
     "name": "stdout",
     "output_type": "stream",
     "text": [
      "480184 (247/282)\n"
     ]
    },
    {
     "name": "stderr",
     "output_type": "stream",
     "text": [
      "/home/cassia/anaconda3/envs/sne/lib/python3.10/site-packages/sncosmo/fitting.py:187: RuntimeWarning: Dropping following bands from data: PS1_g(out of model wavelength range)\n",
      "  warnings.warn(\"Dropping following bands from data: \" +\n",
      "/home/cassia/anaconda3/envs/sne/lib/python3.10/site-packages/iminuit/util.py:143: UserWarning: Assigned errors must be positive. Non-positive values are replaced by a heuristic.\n",
      "  warnings.warn(\n"
     ]
    },
    {
     "name": "stdout",
     "output_type": "stream",
     "text": [
      "490007 (248/282)\n"
     ]
    },
    {
     "name": "stderr",
     "output_type": "stream",
     "text": [
      "/home/cassia/anaconda3/envs/sne/lib/python3.10/site-packages/iminuit/util.py:143: UserWarning: Assigned errors must be positive. Non-positive values are replaced by a heuristic.\n",
      "  warnings.warn(\n"
     ]
    },
    {
     "name": "stdout",
     "output_type": "stream",
     "text": [
      "490037 (249/282)\n"
     ]
    },
    {
     "name": "stderr",
     "output_type": "stream",
     "text": [
      "/home/cassia/anaconda3/envs/sne/lib/python3.10/site-packages/sncosmo/fitting.py:187: RuntimeWarning: Dropping following bands from data: PS1_g(out of model wavelength range)\n",
      "  warnings.warn(\"Dropping following bands from data: \" +\n",
      "/home/cassia/anaconda3/envs/sne/lib/python3.10/site-packages/iminuit/util.py:143: UserWarning: Assigned errors must be positive. Non-positive values are replaced by a heuristic.\n",
      "  warnings.warn(\n"
     ]
    },
    {
     "name": "stdout",
     "output_type": "stream",
     "text": [
      "500038 (250/282)\n"
     ]
    },
    {
     "name": "stderr",
     "output_type": "stream",
     "text": [
      "/home/cassia/anaconda3/envs/sne/lib/python3.10/site-packages/iminuit/util.py:143: UserWarning: Assigned errors must be positive. Non-positive values are replaced by a heuristic.\n",
      "  warnings.warn(\n"
     ]
    },
    {
     "name": "stdout",
     "output_type": "stream",
     "text": [
      "500065 (251/282)\n"
     ]
    },
    {
     "name": "stderr",
     "output_type": "stream",
     "text": [
      "/home/cassia/anaconda3/envs/sne/lib/python3.10/site-packages/sncosmo/fitting.py:187: RuntimeWarning: Dropping following bands from data: PS1_g(out of model wavelength range)\n",
      "  warnings.warn(\"Dropping following bands from data: \" +\n",
      "/home/cassia/anaconda3/envs/sne/lib/python3.10/site-packages/iminuit/util.py:143: UserWarning: Assigned errors must be positive. Non-positive values are replaced by a heuristic.\n",
      "  warnings.warn(\n"
     ]
    },
    {
     "name": "stdout",
     "output_type": "stream",
     "text": [
      "500301 (252/282)\n"
     ]
    },
    {
     "name": "stderr",
     "output_type": "stream",
     "text": [
      "/home/cassia/anaconda3/envs/sne/lib/python3.10/site-packages/sncosmo/fitting.py:187: RuntimeWarning: Dropping following bands from data: PS1_g(out of model wavelength range)\n",
      "  warnings.warn(\"Dropping following bands from data: \" +\n",
      "/home/cassia/anaconda3/envs/sne/lib/python3.10/site-packages/iminuit/util.py:143: UserWarning: Assigned errors must be positive. Non-positive values are replaced by a heuristic.\n",
      "  warnings.warn(\n"
     ]
    },
    {
     "name": "stdout",
     "output_type": "stream",
     "text": [
      "500511 (253/282)\n"
     ]
    },
    {
     "name": "stderr",
     "output_type": "stream",
     "text": [
      "/home/cassia/anaconda3/envs/sne/lib/python3.10/site-packages/sncosmo/fitting.py:187: RuntimeWarning: Dropping following bands from data: PS1_g(out of model wavelength range)\n",
      "  warnings.warn(\"Dropping following bands from data: \" +\n",
      "/home/cassia/anaconda3/envs/sne/lib/python3.10/site-packages/iminuit/util.py:143: UserWarning: Assigned errors must be positive. Non-positive values are replaced by a heuristic.\n",
      "  warnings.warn(\n"
     ]
    },
    {
     "name": "stdout",
     "output_type": "stream",
     "text": [
      "510113 (254/282)\n"
     ]
    },
    {
     "name": "stderr",
     "output_type": "stream",
     "text": [
      "/home/cassia/anaconda3/envs/sne/lib/python3.10/site-packages/sncosmo/fitting.py:187: RuntimeWarning: Dropping following bands from data: PS1_g(out of model wavelength range)\n",
      "  warnings.warn(\"Dropping following bands from data: \" +\n",
      "/home/cassia/anaconda3/envs/sne/lib/python3.10/site-packages/iminuit/util.py:143: UserWarning: Assigned errors must be positive. Non-positive values are replaced by a heuristic.\n",
      "  warnings.warn(\n"
     ]
    },
    {
     "name": "stdout",
     "output_type": "stream",
     "text": [
      "510266 (255/282)\n"
     ]
    },
    {
     "name": "stderr",
     "output_type": "stream",
     "text": [
      "/home/cassia/anaconda3/envs/sne/lib/python3.10/site-packages/sncosmo/fitting.py:187: RuntimeWarning: Dropping following bands from data: PS1_g(out of model wavelength range)\n",
      "  warnings.warn(\"Dropping following bands from data: \" +\n",
      "/home/cassia/anaconda3/envs/sne/lib/python3.10/site-packages/iminuit/util.py:143: UserWarning: Assigned errors must be positive. Non-positive values are replaced by a heuristic.\n",
      "  warnings.warn(\n"
     ]
    },
    {
     "name": "stdout",
     "output_type": "stream",
     "text": [
      "510550 (256/282)\n"
     ]
    },
    {
     "name": "stderr",
     "output_type": "stream",
     "text": [
      "/home/cassia/anaconda3/envs/sne/lib/python3.10/site-packages/sncosmo/fitting.py:187: RuntimeWarning: Dropping following bands from data: PS1_g(out of model wavelength range)\n",
      "  warnings.warn(\"Dropping following bands from data: \" +\n",
      "/home/cassia/anaconda3/envs/sne/lib/python3.10/site-packages/iminuit/util.py:143: UserWarning: Assigned errors must be positive. Non-positive values are replaced by a heuristic.\n",
      "  warnings.warn(\n"
     ]
    },
    {
     "name": "stdout",
     "output_type": "stream",
     "text": [
      "510597 (257/282)\n"
     ]
    },
    {
     "name": "stderr",
     "output_type": "stream",
     "text": [
      "/home/cassia/anaconda3/envs/sne/lib/python3.10/site-packages/sncosmo/fitting.py:187: RuntimeWarning: Dropping following bands from data: PS1_g(out of model wavelength range)\n",
      "  warnings.warn(\"Dropping following bands from data: \" +\n",
      "/home/cassia/anaconda3/envs/sne/lib/python3.10/site-packages/iminuit/util.py:143: UserWarning: Assigned errors must be positive. Non-positive values are replaced by a heuristic.\n",
      "  warnings.warn(\n"
     ]
    },
    {
     "name": "stdout",
     "output_type": "stream",
     "text": [
      "520022 (258/282)\n"
     ]
    },
    {
     "name": "stderr",
     "output_type": "stream",
     "text": [
      "/home/cassia/anaconda3/envs/sne/lib/python3.10/site-packages/iminuit/util.py:143: UserWarning: Assigned errors must be positive. Non-positive values are replaced by a heuristic.\n",
      "  warnings.warn(\n"
     ]
    },
    {
     "name": "stdout",
     "output_type": "stream",
     "text": [
      "520041 (259/282)\n"
     ]
    },
    {
     "name": "stderr",
     "output_type": "stream",
     "text": [
      "/home/cassia/anaconda3/envs/sne/lib/python3.10/site-packages/sncosmo/fitting.py:187: RuntimeWarning: Dropping following bands from data: PS1_g(out of model wavelength range)\n",
      "  warnings.warn(\"Dropping following bands from data: \" +\n",
      "/home/cassia/anaconda3/envs/sne/lib/python3.10/site-packages/iminuit/util.py:143: UserWarning: Assigned errors must be positive. Non-positive values are replaced by a heuristic.\n",
      "  warnings.warn(\n"
     ]
    },
    {
     "name": "stdout",
     "output_type": "stream",
     "text": [
      "520071 (260/282)\n"
     ]
    },
    {
     "name": "stderr",
     "output_type": "stream",
     "text": [
      "/home/cassia/anaconda3/envs/sne/lib/python3.10/site-packages/sncosmo/fitting.py:187: RuntimeWarning: Dropping following bands from data: PS1_g(out of model wavelength range)\n",
      "  warnings.warn(\"Dropping following bands from data: \" +\n",
      "/home/cassia/anaconda3/envs/sne/lib/python3.10/site-packages/iminuit/util.py:143: UserWarning: Assigned errors must be positive. Non-positive values are replaced by a heuristic.\n",
      "  warnings.warn(\n"
     ]
    },
    {
     "name": "stdout",
     "output_type": "stream",
     "text": [
      "530037 (261/282)\n"
     ]
    },
    {
     "name": "stderr",
     "output_type": "stream",
     "text": [
      "/home/cassia/anaconda3/envs/sne/lib/python3.10/site-packages/sncosmo/fitting.py:187: RuntimeWarning: Dropping following bands from data: PS1_g(out of model wavelength range)\n",
      "  warnings.warn(\"Dropping following bands from data: \" +\n",
      "/home/cassia/anaconda3/envs/sne/lib/python3.10/site-packages/iminuit/util.py:143: UserWarning: Assigned errors must be positive. Non-positive values are replaced by a heuristic.\n",
      "  warnings.warn(\n"
     ]
    },
    {
     "name": "stdout",
     "output_type": "stream",
     "text": [
      "530086 (262/282)\n"
     ]
    },
    {
     "name": "stderr",
     "output_type": "stream",
     "text": [
      "/home/cassia/anaconda3/envs/sne/lib/python3.10/site-packages/iminuit/util.py:143: UserWarning: Assigned errors must be positive. Non-positive values are replaced by a heuristic.\n",
      "  warnings.warn(\n"
     ]
    },
    {
     "name": "stdout",
     "output_type": "stream",
     "text": [
      "530251 (263/282)\n"
     ]
    },
    {
     "name": "stderr",
     "output_type": "stream",
     "text": [
      "/home/cassia/anaconda3/envs/sne/lib/python3.10/site-packages/sncosmo/fitting.py:187: RuntimeWarning: Dropping following bands from data: PS1_g(out of model wavelength range)\n",
      "  warnings.warn(\"Dropping following bands from data: \" +\n",
      "/home/cassia/anaconda3/envs/sne/lib/python3.10/site-packages/iminuit/util.py:143: UserWarning: Assigned errors must be positive. Non-positive values are replaced by a heuristic.\n",
      "  warnings.warn(\n"
     ]
    },
    {
     "name": "stdout",
     "output_type": "stream",
     "text": [
      "550005 (264/282)\n",
      "550059 (265/282)\n"
     ]
    },
    {
     "name": "stderr",
     "output_type": "stream",
     "text": [
      "/home/cassia/anaconda3/envs/sne/lib/python3.10/site-packages/iminuit/util.py:143: UserWarning: Assigned errors must be positive. Non-positive values are replaced by a heuristic.\n",
      "  warnings.warn(\n",
      "/home/cassia/anaconda3/envs/sne/lib/python3.10/site-packages/sncosmo/fitting.py:187: RuntimeWarning: Dropping following bands from data: PS1_g(out of model wavelength range)\n",
      "  warnings.warn(\"Dropping following bands from data: \" +\n",
      "/home/cassia/anaconda3/envs/sne/lib/python3.10/site-packages/iminuit/util.py:143: UserWarning: Assigned errors must be positive. Non-positive values are replaced by a heuristic.\n",
      "  warnings.warn(\n"
     ]
    },
    {
     "name": "stdout",
     "output_type": "stream",
     "text": [
      "550137 (266/282)\n"
     ]
    },
    {
     "name": "stderr",
     "output_type": "stream",
     "text": [
      "/home/cassia/anaconda3/envs/sne/lib/python3.10/site-packages/sncosmo/fitting.py:187: RuntimeWarning: Dropping following bands from data: PS1_g(out of model wavelength range)\n",
      "  warnings.warn(\"Dropping following bands from data: \" +\n",
      "/home/cassia/anaconda3/envs/sne/lib/python3.10/site-packages/iminuit/util.py:143: UserWarning: Assigned errors must be positive. Non-positive values are replaced by a heuristic.\n",
      "  warnings.warn(\n"
     ]
    },
    {
     "name": "stdout",
     "output_type": "stream",
     "text": [
      "550155 (267/282)\n"
     ]
    },
    {
     "name": "stderr",
     "output_type": "stream",
     "text": [
      "/home/cassia/anaconda3/envs/sne/lib/python3.10/site-packages/sncosmo/fitting.py:187: RuntimeWarning: Dropping following bands from data: PS1_g(out of model wavelength range)\n",
      "  warnings.warn(\"Dropping following bands from data: \" +\n",
      "/home/cassia/anaconda3/envs/sne/lib/python3.10/site-packages/iminuit/util.py:143: UserWarning: Assigned errors must be positive. Non-positive values are replaced by a heuristic.\n",
      "  warnings.warn(\n"
     ]
    },
    {
     "name": "stdout",
     "output_type": "stream",
     "text": [
      "550202 (268/282)\n"
     ]
    },
    {
     "name": "stderr",
     "output_type": "stream",
     "text": [
      "/home/cassia/anaconda3/envs/sne/lib/python3.10/site-packages/iminuit/util.py:143: UserWarning: Assigned errors must be positive. Non-positive values are replaced by a heuristic.\n",
      "  warnings.warn(\n"
     ]
    },
    {
     "name": "stdout",
     "output_type": "stream",
     "text": [
      "560027 (269/282)\n"
     ]
    },
    {
     "name": "stderr",
     "output_type": "stream",
     "text": [
      "/home/cassia/anaconda3/envs/sne/lib/python3.10/site-packages/sncosmo/fitting.py:187: RuntimeWarning: Dropping following bands from data: PS1_g(out of model wavelength range)\n",
      "  warnings.warn(\"Dropping following bands from data: \" +\n",
      "/home/cassia/anaconda3/envs/sne/lib/python3.10/site-packages/iminuit/util.py:143: UserWarning: Assigned errors must be positive. Non-positive values are replaced by a heuristic.\n",
      "  warnings.warn(\n"
     ]
    },
    {
     "name": "stdout",
     "output_type": "stream",
     "text": [
      "560054 (270/282)\n"
     ]
    },
    {
     "name": "stderr",
     "output_type": "stream",
     "text": [
      "/home/cassia/anaconda3/envs/sne/lib/python3.10/site-packages/sncosmo/fitting.py:187: RuntimeWarning: Dropping following bands from data: PS1_g(out of model wavelength range)\n",
      "  warnings.warn(\"Dropping following bands from data: \" +\n",
      "/home/cassia/anaconda3/envs/sne/lib/python3.10/site-packages/iminuit/util.py:143: UserWarning: Assigned errors must be positive. Non-positive values are replaced by a heuristic.\n",
      "  warnings.warn(\n"
     ]
    },
    {
     "name": "stdout",
     "output_type": "stream",
     "text": [
      "560150 (271/282)\n"
     ]
    },
    {
     "name": "stderr",
     "output_type": "stream",
     "text": [
      "/home/cassia/anaconda3/envs/sne/lib/python3.10/site-packages/sncosmo/fitting.py:187: RuntimeWarning: Dropping following bands from data: PS1_g(out of model wavelength range)\n",
      "  warnings.warn(\"Dropping following bands from data: \" +\n",
      "/home/cassia/anaconda3/envs/sne/lib/python3.10/site-packages/iminuit/util.py:143: UserWarning: Assigned errors must be positive. Non-positive values are replaced by a heuristic.\n",
      "  warnings.warn(\n"
     ]
    },
    {
     "name": "stdout",
     "output_type": "stream",
     "text": [
      "570022 (272/282)\n"
     ]
    },
    {
     "name": "stderr",
     "output_type": "stream",
     "text": [
      "/home/cassia/anaconda3/envs/sne/lib/python3.10/site-packages/sncosmo/fitting.py:187: RuntimeWarning: Dropping following bands from data: PS1_g(out of model wavelength range)\n",
      "  warnings.warn(\"Dropping following bands from data: \" +\n",
      "/home/cassia/anaconda3/envs/sne/lib/python3.10/site-packages/iminuit/util.py:143: UserWarning: Assigned errors must be positive. Non-positive values are replaced by a heuristic.\n",
      "  warnings.warn(\n"
     ]
    },
    {
     "name": "stdout",
     "output_type": "stream",
     "text": [
      "570056 (273/282)\n"
     ]
    },
    {
     "name": "stderr",
     "output_type": "stream",
     "text": [
      "/home/cassia/anaconda3/envs/sne/lib/python3.10/site-packages/sncosmo/fitting.py:187: RuntimeWarning: Dropping following bands from data: PS1_g(out of model wavelength range)\n",
      "  warnings.warn(\"Dropping following bands from data: \" +\n",
      "/home/cassia/anaconda3/envs/sne/lib/python3.10/site-packages/iminuit/util.py:143: UserWarning: Assigned errors must be positive. Non-positive values are replaced by a heuristic.\n",
      "  warnings.warn(\n"
     ]
    },
    {
     "name": "stdout",
     "output_type": "stream",
     "text": [
      "580104 (274/282)\n"
     ]
    },
    {
     "name": "stderr",
     "output_type": "stream",
     "text": [
      "/home/cassia/anaconda3/envs/sne/lib/python3.10/site-packages/sncosmo/fitting.py:187: RuntimeWarning: Dropping following bands from data: PS1_g(out of model wavelength range)\n",
      "  warnings.warn(\"Dropping following bands from data: \" +\n",
      "/home/cassia/anaconda3/envs/sne/lib/python3.10/site-packages/iminuit/util.py:143: UserWarning: Assigned errors must be positive. Non-positive values are replaced by a heuristic.\n",
      "  warnings.warn(\n"
     ]
    },
    {
     "name": "stdout",
     "output_type": "stream",
     "text": [
      "580270 (275/282)\n"
     ]
    },
    {
     "name": "stderr",
     "output_type": "stream",
     "text": [
      "/home/cassia/anaconda3/envs/sne/lib/python3.10/site-packages/sncosmo/fitting.py:187: RuntimeWarning: Dropping following bands from data: PS1_g(out of model wavelength range)\n",
      "  warnings.warn(\"Dropping following bands from data: \" +\n",
      "/home/cassia/anaconda3/envs/sne/lib/python3.10/site-packages/iminuit/util.py:143: UserWarning: Assigned errors must be positive. Non-positive values are replaced by a heuristic.\n",
      "  warnings.warn(\n"
     ]
    },
    {
     "name": "stdout",
     "output_type": "stream",
     "text": [
      "580276 (276/282)\n"
     ]
    },
    {
     "name": "stderr",
     "output_type": "stream",
     "text": [
      "/home/cassia/anaconda3/envs/sne/lib/python3.10/site-packages/sncosmo/fitting.py:187: RuntimeWarning: Dropping following bands from data: PS1_g(out of model wavelength range)\n",
      "  warnings.warn(\"Dropping following bands from data: \" +\n",
      "/home/cassia/anaconda3/envs/sne/lib/python3.10/site-packages/iminuit/util.py:143: UserWarning: Assigned errors must be positive. Non-positive values are replaced by a heuristic.\n",
      "  warnings.warn(\n"
     ]
    },
    {
     "name": "stdout",
     "output_type": "stream",
     "text": [
      "580312 (277/282)\n"
     ]
    },
    {
     "name": "stderr",
     "output_type": "stream",
     "text": [
      "/home/cassia/anaconda3/envs/sne/lib/python3.10/site-packages/sncosmo/fitting.py:187: RuntimeWarning: Dropping following bands from data: PS1_g(out of model wavelength range)\n",
      "  warnings.warn(\"Dropping following bands from data: \" +\n",
      "/home/cassia/anaconda3/envs/sne/lib/python3.10/site-packages/iminuit/util.py:143: UserWarning: Assigned errors must be positive. Non-positive values are replaced by a heuristic.\n",
      "  warnings.warn(\n"
     ]
    },
    {
     "name": "stdout",
     "output_type": "stream",
     "text": [
      "590031 (278/282)\n"
     ]
    },
    {
     "name": "stderr",
     "output_type": "stream",
     "text": [
      "/home/cassia/anaconda3/envs/sne/lib/python3.10/site-packages/sncosmo/fitting.py:187: RuntimeWarning: Dropping following bands from data: PS1_g(out of model wavelength range)\n",
      "  warnings.warn(\"Dropping following bands from data: \" +\n",
      "/home/cassia/anaconda3/envs/sne/lib/python3.10/site-packages/iminuit/util.py:143: UserWarning: Assigned errors must be positive. Non-positive values are replaced by a heuristic.\n",
      "  warnings.warn(\n"
     ]
    },
    {
     "name": "stdout",
     "output_type": "stream",
     "text": [
      "590194 (279/282)\n",
      "520016 (280/282)\n"
     ]
    },
    {
     "name": "stderr",
     "output_type": "stream",
     "text": [
      "/home/cassia/anaconda3/envs/sne/lib/python3.10/site-packages/iminuit/util.py:143: UserWarning: Assigned errors must be positive. Non-positive values are replaced by a heuristic.\n",
      "  warnings.warn(\n",
      "/home/cassia/anaconda3/envs/sne/lib/python3.10/site-packages/sncosmo/fitting.py:187: RuntimeWarning: Dropping following bands from data: PS1_g(out of model wavelength range)\n",
      "  warnings.warn(\"Dropping following bands from data: \" +\n",
      "/home/cassia/anaconda3/envs/sne/lib/python3.10/site-packages/iminuit/util.py:143: UserWarning: Assigned errors must be positive. Non-positive values are replaced by a heuristic.\n",
      "  warnings.warn(\n"
     ]
    },
    {
     "name": "stdout",
     "output_type": "stream",
     "text": [
      "380199 (281/282)\n"
     ]
    },
    {
     "name": "stderr",
     "output_type": "stream",
     "text": [
      "/home/cassia/anaconda3/envs/sne/lib/python3.10/site-packages/sncosmo/fitting.py:187: RuntimeWarning: Dropping following bands from data: PS1_g(out of model wavelength range)\n",
      "  warnings.warn(\"Dropping following bands from data: \" +\n",
      "/home/cassia/anaconda3/envs/sne/lib/python3.10/site-packages/iminuit/util.py:143: UserWarning: Assigned errors must be positive. Non-positive values are replaced by a heuristic.\n",
      "  warnings.warn(\n"
     ]
    }
   ],
   "source": [
    "all_fit_data=[]\n",
    "f=open(f\"./lc_failed_fits_{modelo.upper()}_PS1_Pantheon.txt\",\"w\")\n",
    "for j,sn in enumerate(sne_pass_cut):\n",
    "    print(sn, f\"({j}/{len(sne_pass_cut)})\")\n",
    "    meta, surv, table_data, result, fitted_model=lc_fit(sn) \n",
    "    \n",
    "    if result is None:\n",
    "        f.write(f\"SN {sn} fit returns NaN\\n\")\n",
    "        continue\n",
    "    else:\n",
    "        if result.success and result.ndof>0:\n",
    "            all_fit_data.append(return_fit_data(sn,meta,result,f\"{modelo.upper()}\"))\n",
    "        elif result.success and result.ndof==0:\n",
    "            f.write(\"ndof 0 for SN\"+sn+\"\\n\")\n",
    "        elif not result.success:\n",
    "            f.write(\"Unsuccessful fit of SN\"+sn+\"\\n\")\n",
    "\n",
    "    lc_fit_plot(sn, surv, table_data, result, fitted_model)       "
   ]
  },
  {
   "cell_type": "code",
   "execution_count": 30,
   "id": "d1c3f8a0-b9a0-4080-a358-6a39029f8bdf",
   "metadata": {
    "tags": []
   },
   "outputs": [],
   "source": [
    "pp.close()"
   ]
  },
  {
   "cell_type": "code",
   "execution_count": 31,
   "id": "50e90d9d-8b9f-4e56-bc35-38b685bd7099",
   "metadata": {
    "tags": []
   },
   "outputs": [],
   "source": [
    "f.close()"
   ]
  },
  {
   "cell_type": "markdown",
   "id": "00927538-5283-4776-bfac-4b26b16b36f4",
   "metadata": {
    "tags": []
   },
   "source": [
    "## Salvando dados dos ajustes"
   ]
  },
  {
   "cell_type": "code",
   "execution_count": 32,
   "id": "8ea90bd8-e0c9-4915-b7ff-bb3b6851ab2b",
   "metadata": {
    "tags": []
   },
   "outputs": [],
   "source": [
    "df=pd.DataFrame(all_fit_data)"
   ]
  },
  {
   "cell_type": "code",
   "execution_count": 33,
   "id": "d04da509-71b5-4b86-b7e4-6aac084a66ba",
   "metadata": {
    "tags": []
   },
   "outputs": [],
   "source": [
    "df=pd.DataFrame(all_fit_data)\n",
    "df.columns=(\"SNNAME\", \"SURVEY\", \"Z\", \"ZERR\", \"T0\", \"T0ERR\", \"X0\", \"X0ERR\", \"X1\", \"X1ERR\", \"X2/C\", \"X2/CERR\", \"COV_X0_X1\", \"COV_X0_X2/C\", \"COV_X1_X2/C\", \"CHISQ/NDOF\", \"MODEL\")"
   ]
  },
  {
   "cell_type": "code",
   "execution_count": 34,
   "id": "72ad5e00-dbed-44ff-b9a9-9b20f8662f8f",
   "metadata": {
    "tags": []
   },
   "outputs": [],
   "source": [
    "df[\"mB\"]=-2.5*np.log10(df[\"X0\"])+offset\n",
    "df[\"mBERR\"]=np.abs(-2.5*np.log10(np.e)/df[\"X0\"]*df[\"X0ERR\"])\n",
    "df[\"COV_mB_X1\"]=-2.5*np.log10(np.e)/df[\"X0\"]*df[\"COV_X0_X1\"]\n",
    "df[\"COV_mB_X2/C\"]=-2.5*np.log10(np.e)/df[\"X0\"]*df[\"COV_X0_X2/C\"]"
   ]
  },
  {
   "cell_type": "code",
   "execution_count": 35,
   "id": "b6564c17-c39c-47e7-9cee-b0559b5eb2e8",
   "metadata": {
    "tags": []
   },
   "outputs": [],
   "source": [
    "df.to_csv(f\"./lc_fit_results_{modelo.upper()}_PS1_Pantheon.txt\", sep=' ', index=False)"
   ]
  },
  {
   "cell_type": "raw",
   "id": "98763c9c-4e60-47cb-9162-bff74a926fd4",
   "metadata": {
    "tags": []
   },
   "source": [
    "## Analisando SN que passam nos cortes PCA"
   ]
  },
  {
   "cell_type": "raw",
   "id": "446719f4-593b-4646-a436-8d90f209624f",
   "metadata": {},
   "source": [
    "pass_cosm_cuts=['34', '142', '190', '199', '236', '420', '20027', '20096', '20176',\n",
    "       '30066', '40782', '50293', '70955', '80723', '91869', '100213',\n",
    "       '100405', '110033', '110478', '110536', '110719', '110734',\n",
    "       '120085', '120094', '120336', '130308', '130514', '140181',\n",
    "       '150509', '160039', '160099', '160200', '170428', '180166',\n",
    "       '180561', '190230', '190260', '300105', '310073', '310161',\n",
    "       '310238', '310574', '320258', '330022', '330089', '330128',\n",
    "       '330146', '350047', '350083', '350233', '350548', '360112',\n",
    "       '360140', '370098', '370428', '370563', '380378', '420159',\n",
    "       '420407', '420417', '430004', '440008', '440042', '440162',\n",
    "       '460003', '460037', '470008', '470041', '470232', '470244',\n",
    "       '480064', '480464', '490008', '500057', '500100', '500504',\n",
    "       '510251', '510457', '510578', '510638', '520023', '520062',\n",
    "       '520077', '520188', '530112', '550041', '550096', '550154',\n",
    "       '560121', '560152', '570062', '580235', '580275', '580300',\n",
    "       '590005', '200132', '10', '38', '137', '174', '196', '202', '220',\n",
    "       '10010', '20090', '30006', '40150', '40201', '40780', '50291',\n",
    "       '50296', '80646', '90037', '90275', '100206', '110425', '110430',\n",
    "       '110460', '110716', '120044', '120086', '120143', '120369',\n",
    "       '120444', '130755', '140152', '150254', '150457', '160070',\n",
    "       '160198', '170078', '190340', '300179', '310039', '310051',\n",
    "       '310090', '310146', '310188', '310260', '320099', '330083',\n",
    "       '340229', '350027', '350050', '350080', '350192', '350235',\n",
    "       '350630', '360139', '360145', '370344', '370498', '370566',\n",
    "       '370595', '390259', '390449', '420196', '420414', '440005',\n",
    "       '450082', '460064', '470110', '490007', '500038', '500065',\n",
    "       '500511', '510113', '510266', '510550', '510597', '520041',\n",
    "       '520071', '530037', '530086', '550137', '550202', '560150',\n",
    "       '570022', '570056', '580104', '580270', '580312', '590031',\n",
    "       '380199']"
   ]
  },
  {
   "cell_type": "raw",
   "id": "aaa9ce36-283c-42fe-aa8c-cd5719688502",
   "metadata": {
    "tags": []
   },
   "source": [
    "for j,sn in enumerate(sne_pass_cut):\n",
    "    sn_int=int(sn)\n",
    "    if str(sn_int) in pass_cosm_cuts:\n",
    "        \n",
    "        meta, surv, dat, result, fitted_model=lc_fit(sn) \n",
    "        \n",
    "        lc_fit_plot(sn, surv, dat, result, fitted_model)     "
   ]
  },
  {
   "cell_type": "raw",
   "id": "15a8c885-104f-43d4-a7b3-2f7135fb3a22",
   "metadata": {},
   "source": []
  }
 ],
 "metadata": {
  "kernelspec": {
   "display_name": "Python 3 (ipykernel)",
   "language": "python",
   "name": "python3"
  },
  "language_info": {
   "codemirror_mode": {
    "name": "ipython",
    "version": 3
   },
   "file_extension": ".py",
   "mimetype": "text/x-python",
   "name": "python",
   "nbconvert_exporter": "python",
   "pygments_lexer": "ipython3",
   "version": "3.10.5"
  }
 },
 "nbformat": 4,
 "nbformat_minor": 5
}
