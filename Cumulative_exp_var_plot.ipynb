{
 "cells": [
  {
   "cell_type": "code",
   "execution_count": 1,
   "id": "a74954df-1803-47eb-a66b-e9fbd6127919",
   "metadata": {},
   "outputs": [
    {
     "name": "stderr",
     "output_type": "stream",
     "text": [
      "WARNING: AstropyDeprecationWarning: The update_default_config function is deprecated and may be removed in a future version. [sncosmo]\n"
     ]
    }
   ],
   "source": [
    "import seaborn as sns\n",
    "import pandas as pd\n",
    "import matplotlib.pyplot as plt\n",
    "import numpy as np\n",
    "from sklearn.decomposition import FactorAnalysis\n",
    "import glob\n",
    "from sncosmo.salt2utils import BicubicInterpolator\n",
    "from matplotlib.ticker import ScalarFormatter, FuncFormatter\n",
    "from matplotlib.backends.backend_pdf import PdfPages\n",
    "from sklearn.model_selection import train_test_split\n",
    "import sncosmo\n",
    "from scipy.interpolate import interp1d\n",
    "from numpy import random\n",
    "import pickle as pk\n",
    "from astropy.table import Table\n",
    "from sncosmo.constants import HC_ERG_AA\n",
    "from sklearn import preprocessing\n",
    "\n",
    "SCALE_FACTOR = 1e-12\n",
    "\n",
    "sns.set_style(\"whitegrid\", {'axes.grid':'False','xtick.bottom': True,'ytick.left': True})\n",
    "\n",
    "params = {\"text.usetex\" : True,'font.size': 20, 'font.family':'serif', 'font.serif':'Computer Modern'}\n",
    "plt.rcParams.update(params)"
   ]
  },
  {
   "cell_type": "code",
   "execution_count": 2,
   "id": "a5d8c7a1-caa9-4d87-98ed-bd946bcb0725",
   "metadata": {},
   "outputs": [],
   "source": [
    "class ScalarFormatterClass1(ScalarFormatter):\n",
    "    def _set_format(self):\n",
    "        self.format = \"%1.1f\""
   ]
  },
  {
   "cell_type": "code",
   "execution_count": 3,
   "id": "34dece21-4a99-4c24-a310-d56a8f559acc",
   "metadata": {},
   "outputs": [],
   "source": [
    "p_grid=np.arange(-10,51,1)\n",
    "w_grid1=np.arange(3350,8710,10)\n",
    "w_grid2=np.arange(3400,8410,10)"
   ]
  },
  {
   "cell_type": "code",
   "execution_count": 4,
   "id": "1d8afe98-7b51-4900-b8f7-9dc968dd3412",
   "metadata": {},
   "outputs": [],
   "source": [
    "fname=[]\n",
    "for file in glob.glob(\"./final_SEDs/*.dat\"):\n",
    "    fname.append(file.split(\"/\")[2].split(\".\")[0])"
   ]
  },
  {
   "cell_type": "code",
   "execution_count": 5,
   "id": "4fafcfaf-2ea6-4715-8ace-f0b45678f79a",
   "metadata": {},
   "outputs": [
    {
     "data": {
      "text/plain": [
       "169"
      ]
     },
     "execution_count": 5,
     "metadata": {},
     "output_type": "execute_result"
    }
   ],
   "source": [
    "len(fname)"
   ]
  },
  {
   "cell_type": "code",
   "execution_count": 6,
   "id": "ea539f63-a84d-40c3-bf90-cc942caf2e73",
   "metadata": {},
   "outputs": [],
   "source": [
    "exclude=[\"Train_SN93_SED\",\"Test_SN15_SED\",\"Test_SN26_SED\",\"Train_SN30_SED\",\"Train_SN96_SED\"]"
   ]
  },
  {
   "cell_type": "code",
   "execution_count": 7,
   "id": "39e7bd74-aa96-4b3e-b5d6-85d57a821b1b",
   "metadata": {},
   "outputs": [],
   "source": [
    "data=[]\n",
    "sne_names=[]\n",
    "for sn in fname:\n",
    "    if sn not in exclude:\n",
    "        data.append(pd.read_csv(f\"./final_SEDs/{sn}.dat\")[\"flux\"].values)\n",
    "        sne_names.append(sn)"
   ]
  },
  {
   "cell_type": "code",
   "execution_count": 8,
   "id": "9700349a-1084-4b8a-8411-c7c967a34bd7",
   "metadata": {},
   "outputs": [
    {
     "data": {
      "text/plain": [
       "164"
      ]
     },
     "execution_count": 8,
     "metadata": {},
     "output_type": "execute_result"
    }
   ],
   "source": [
    "len(data)"
   ]
  },
  {
   "cell_type": "markdown",
   "id": "fe6cf8f6-10cc-4068-b5fc-056b6892af58",
   "metadata": {},
   "source": [
    "## Applying FA"
   ]
  },
  {
   "cell_type": "code",
   "execution_count": 9,
   "id": "2beb1b94-2992-44e4-af0f-aaf3f98a89ab",
   "metadata": {},
   "outputs": [],
   "source": [
    "train_data, test_data, train_names, test_names=train_test_split(data,sne_names,test_size=0.1,random_state=0)"
   ]
  },
  {
   "cell_type": "code",
   "execution_count": 10,
   "id": "406c5f5d-27b1-4277-8875-7a698f4905fe",
   "metadata": {},
   "outputs": [],
   "source": [
    "Means=np.mean(train_data,axis=1)"
   ]
  },
  {
   "cell_type": "code",
   "execution_count": 11,
   "id": "e488f574-6639-4c8e-bf0b-0543d1504d9b",
   "metadata": {},
   "outputs": [],
   "source": [
    "mean_cor_data=[train_data[i]-Means[i] for i in range(len(train_data))]"
   ]
  },
  {
   "cell_type": "code",
   "execution_count": 12,
   "id": "07868ec6-40e3-4bce-b0db-8e3455efedc2",
   "metadata": {},
   "outputs": [],
   "source": [
    "training_data=np.array(mean_cor_data).T"
   ]
  },
  {
   "cell_type": "code",
   "execution_count": 13,
   "id": "0322a9d3-99ac-4adb-8e4e-7d04c141887a",
   "metadata": {
    "tags": []
   },
   "outputs": [],
   "source": [
    "fa3_no_rot = FactorAnalysis(10)\n",
    "fa3_quartimax = FactorAnalysis(10,rotation=\"quartimax\")\n",
    "fa3_varimax = FactorAnalysis(10,rotation=\"varimax\")"
   ]
  },
  {
   "cell_type": "code",
   "execution_count": 14,
   "id": "94bc222a-99e8-475b-8835-899be551e0dd",
   "metadata": {},
   "outputs": [],
   "source": [
    "factors_no_rot=fa3_no_rot.fit_transform(training_data)\n",
    "factors_quartimax=fa3_quartimax.fit_transform(training_data)\n",
    "factors_varimax=fa3_varimax.fit_transform(training_data)"
   ]
  },
  {
   "cell_type": "code",
   "execution_count": 15,
   "id": "b11d1017-4c67-4fe2-8dba-dde9fee8f554",
   "metadata": {
    "tags": []
   },
   "outputs": [],
   "source": [
    "fa_loadings_no_rot = fa3_no_rot.components_.T\n",
    "fa_loadings_quartimax = fa3_quartimax.components_.T\n",
    "fa_loadings_varimax = fa3_varimax.components_.T\n",
    "\n",
    "total_var = np.sum(np.var(training_data,axis=0))"
   ]
  },
  {
   "cell_type": "code",
   "execution_count": 16,
   "id": "1c8de8ad-6147-4d16-b944-7a8f6a47075e",
   "metadata": {},
   "outputs": [],
   "source": [
    "var_exp_no_rot = np.sum(fa_loadings_no_rot**2, axis=0)\n",
    "var_exp_quartimax = np.sum(fa_loadings_quartimax**2, axis=0)\n",
    "var_exp_varimax = np.sum(fa_loadings_varimax**2, axis=0)\n",
    "\n",
    "prop_var_exp_no_rot = var_exp_no_rot/total_var\n",
    "prop_var_exp_quartimax = var_exp_quartimax/total_var\n",
    "prop_var_exp_varimax = var_exp_varimax/total_var\n",
    "\n",
    "cum_prop_var_exp_no_rot = np.cumsum(var_exp_no_rot/total_var)\n",
    "cum_prop_var_exp_quartimax = np.cumsum(var_exp_quartimax/total_var)\n",
    "cum_prop_var_exp_varimax = np.cumsum(var_exp_varimax/total_var)"
   ]
  },
  {
   "cell_type": "code",
   "execution_count": 17,
   "id": "31dfc534-90b5-4661-9617-a95dd4d7b669",
   "metadata": {},
   "outputs": [],
   "source": [
    "Mean_transformed_no_rot=fa3_no_rot.transform(Means.reshape(1, -1))\n",
    "Mean_transformed_quartimax=fa3_quartimax.transform(Means.reshape(1, -1))\n",
    "Mean_transformed_varimax=fa3_varimax.transform(Means.reshape(1, -1))"
   ]
  },
  {
   "cell_type": "code",
   "execution_count": 18,
   "id": "163992d2-10a6-40b2-bcb6-368294f742a3",
   "metadata": {},
   "outputs": [
    {
     "data": {
      "text/plain": [
       "array([0.960566  , 0.97292537, 0.97990854, 0.98377678, 0.98578797,\n",
       "       0.98776887, 0.98852618, 0.98927528, 0.99020683, 0.99076818])"
      ]
     },
     "execution_count": 18,
     "metadata": {},
     "output_type": "execute_result"
    }
   ],
   "source": [
    "cum_prop_var_exp_no_rot"
   ]
  },
  {
   "cell_type": "code",
   "execution_count": 19,
   "id": "ecdbaeec-94e6-4152-a19e-0f3a0769e6c1",
   "metadata": {},
   "outputs": [
    {
     "data": {
      "text/plain": [
       "array([0.95644632, 0.97016761, 0.98023999, 0.98427092, 0.98557865,\n",
       "       0.98699656, 0.98796737, 0.98908523, 0.99014133, 0.99076818])"
      ]
     },
     "execution_count": 19,
     "metadata": {},
     "output_type": "execute_result"
    }
   ],
   "source": [
    "cum_prop_var_exp_quartimax"
   ]
  },
  {
   "cell_type": "code",
   "execution_count": 20,
   "id": "2475c694-909e-4f8d-a179-73e6648ce5dd",
   "metadata": {},
   "outputs": [
    {
     "data": {
      "text/plain": [
       "array([0.93573825, 0.936777  , 0.96887512, 0.97377339, 0.98208102,\n",
       "       0.98715118, 0.98869928, 0.98933968, 0.99017794, 0.99076818])"
      ]
     },
     "execution_count": 20,
     "metadata": {},
     "output_type": "execute_result"
    }
   ],
   "source": [
    "cum_prop_var_exp_varimax"
   ]
  },
  {
   "cell_type": "code",
   "execution_count": 21,
   "id": "7fa66c6b-e947-4762-855d-8f9384dee916",
   "metadata": {},
   "outputs": [],
   "source": [
    "pca_exp_var=np.array([9.63007665e-01, 1.26885215e-02, 6.46318317e-03, 3.75066862e-03,\n",
    "       1.87427791e-03, 1.35020458e-03, 1.08028617e-03, 9.00751722e-04,\n",
    "       7.65903724e-04, 6.87471676e-04])"
   ]
  },
  {
   "cell_type": "code",
   "execution_count": 22,
   "id": "bffedb50-34ce-4608-904a-d60ffbb2abc3",
   "metadata": {},
   "outputs": [
    {
     "data": {
      "image/png": "[encoded data removed]",
      "text/plain": [
       "<Figure size 720x576 with 1 Axes>"
      ]
     },
     "metadata": {},
     "output_type": "display_data"
    }
   ],
   "source": [
    "fig,ax = plt.subplots(1,1,figsize=(10,8))\n",
    "ax.plot(np.linspace(1,10,10),np.cumsum(pca_exp_var),\"-o\",c=\"black\",label=\"PCA sklearn\")\n",
    "ax.plot(np.linspace(1,10,10),cum_prop_var_exp_no_rot,\"-o\",c=\"#ff7f0e\",label=\"FA sklearn (no rotation, varimax, quartimax)\")\n",
    "ax.set_xlim(0,11)\n",
    "ax.set_xticks(np.arange(11))\n",
    "ax.yaxis.set_major_formatter(FuncFormatter(lambda y, _: '{:.0%}'.format(y))) \n",
    "ax.set_xlabel(\"Number of components\")\n",
    "ax.set_ylabel(\"Cumulative Explained Variance (\\%)\");\n",
    "ax.legend()\n",
    "\n",
    "fig.tight_layout()\n",
    "plt.savefig('./fa/sk_cumulative_exp_variance_comparison.pdf')  "
   ]
  },
  {
   "cell_type": "code",
   "execution_count": null,
   "id": "afc9c935-c10c-4d1b-ae69-d6aec0972061",
   "metadata": {},
   "outputs": [],
   "source": []
  }
 ],
 "metadata": {
  "kernelspec": {
   "display_name": "Python 3 (ipykernel)",
   "language": "python",
   "name": "python3"
  },
  "language_info": {
   "codemirror_mode": {
    "name": "ipython",
    "version": 3
   },
   "file_extension": ".py",
   "mimetype": "text/x-python",
   "name": "python",
   "nbconvert_exporter": "python",
   "pygments_lexer": "ipython3",
   "version": "3.10.5"
  }
 },
 "nbformat": 4,
 "nbformat_minor": 5
}
